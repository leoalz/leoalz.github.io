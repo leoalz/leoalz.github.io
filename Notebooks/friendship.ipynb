{
 "cells": [
  {
   "cell_type": "markdown",
   "metadata": {},
   "source": [
    "<img style=\"float: left;\" src=\"images/logo.png\" width=200>"
   ]
  },
  {
   "cell_type": "markdown",
   "metadata": {},
   "source": [
    "# Does Mobility Make or Break Friendships? - Data Analysis\n",
    "---\n",
    "## Part 0: Imports and loading\n"
   ]
  },
  {
   "cell_type": "code",
   "execution_count": 483,
   "metadata": {},
   "outputs": [],
   "source": [
    "import pandas as pd\n",
    "import numpy as np\n",
    "import datetime\n",
    "from datetime import timedelta\n",
    "\n",
    "import seaborn as sns\n",
    "import matplotlib\n",
    "import matplotlib.pyplot as plt\n",
    "import plotly\n",
    "import plotly.express as px\n",
    "import plotly.graph_objects as go\n",
    "from plotly.subplots import make_subplots\n",
    "\n",
    "import pycountry\n",
    "import reverse_geocode\n",
    "import pycountry_convert as pc\n",
    "\n",
    "import requests\n",
    "\n",
    "from sklearn.linear_model import LinearRegression\n",
    "from sklearn.model_selection import train_test_split\n",
    "from sklearn.metrics import r2_score\n",
    "from sklearn.metrics.pairwise import cosine_similarity\n",
    "\n",
    "import os\n",
    "import sys\n",
    "sys.path.insert(0, os.path.join(os.getcwd(), 'src'))\n",
    "\n",
    "import functions as fn"
   ]
  },
  {
   "cell_type": "code",
   "execution_count": 484,
   "metadata": {},
   "outputs": [],
   "source": [
    "# Data folder and dataset location\n",
    "DATA_FOLDER = 'data/'\n",
    "FOURSQUARE_FRIENDSHIP_OLD_DATASET = DATA_FOLDER + \"dataset_WWW_friendship_old.txt\"\n",
    "FOURSQUARE_FRIENDSHIP_NEW_DATASET = DATA_FOLDER + \"dataset_WWW_friendship_new.txt\"\n",
    "PREPROCESSED_FRIENDSHIP_DATASET = DATA_FOLDER + \"friendship_df.csv.zip\"\n",
    "PREPROCESSED_CHECKIN_DATASET = DATA_FOLDER + \"checkin_df.csv.zip\"\n",
    "PREPROCESSED_VENUE_DATASET = DATA_FOLDER + \"venue_df.csv.zip\"\n",
    "\n",
    "# Read datasets and create dataframes\n",
    "friendship_old_df = pd.read_csv(FOURSQUARE_FRIENDSHIP_OLD_DATASET, sep='\\t', header=None)\n",
    "friendship_new_df = pd.read_csv(FOURSQUARE_FRIENDSHIP_NEW_DATASET, sep='\\t', header=None)\n",
    "friendship_df = pd.read_csv(PREPROCESSED_FRIENDSHIP_DATASET)\n",
    "checkin_df = pd.read_csv(PREPROCESSED_CHECKIN_DATASET)\n",
    "venue_df = pd.read_csv(PREPROCESSED_VENUE_DATASET)"
   ]
  },
  {
   "cell_type": "code",
   "execution_count": 485,
   "metadata": {},
   "outputs": [],
   "source": [
    "# Convert check-in time to datetime format\n",
    "checkin_df['checkin_time'] = pd.to_datetime(checkin_df['checkin_time'])\n",
    "\n",
    "# Add columns to friendship networks\n",
    "friendship_old_df.columns = ['user_id', 'friendship']\n",
    "friendship_new_df.columns = ['user_id', 'friendship']"
   ]
  },
  {
   "cell_type": "code",
   "execution_count": 525,
   "metadata": {},
   "outputs": [
    {
     "data": {
      "text/plain": [
       "275"
      ]
     },
     "execution_count": 525,
     "metadata": {},
     "output_type": "execute_result"
    }
   ],
   "source": [
    "venue_df.level_1_category.nunique()"
   ]
  },
  {
   "cell_type": "markdown",
   "metadata": {},
   "source": [
    "---\n",
    "\n",
    "## Part 1: Introduction\n",
    "\n",
    "Our data has been cleaned in the 'preprocessing.ipynb' notebook, now it's time for analysis. We have a two snapshot of Foursquare friendships before and after a 22 month period. Our aim is to create an accurate model that will use a user's mobility to predict how many friendships a they will make over this 22 month period.\n",
    "\n",
    "First, we will use the same technique as the \"Friendship and Mobility\" paper. This consists of finding a user's home by dividing the world into 25km x 25km cells, calculating which cell has the most check-ins for each user, and calculating the average position of check-ins within this cell.\n",
    "\n",
    "First we have to merge the venue information and the check-in information dataframes."
   ]
  },
  {
   "cell_type": "code",
   "execution_count": 62,
   "metadata": {},
   "outputs": [
    {
     "data": {
      "text/html": [
       "<div>\n",
       "<style scoped>\n",
       "    .dataframe tbody tr th:only-of-type {\n",
       "        vertical-align: middle;\n",
       "    }\n",
       "\n",
       "    .dataframe tbody tr th {\n",
       "        vertical-align: top;\n",
       "    }\n",
       "\n",
       "    .dataframe thead th {\n",
       "        text-align: right;\n",
       "    }\n",
       "</style>\n",
       "<table border=\"1\" class=\"dataframe\">\n",
       "  <thead>\n",
       "    <tr style=\"text-align: right;\">\n",
       "      <th></th>\n",
       "      <th>user_id</th>\n",
       "      <th>venue_id</th>\n",
       "      <th>checkin_time</th>\n",
       "      <th>latitude</th>\n",
       "      <th>longitude</th>\n",
       "      <th>country_code</th>\n",
       "    </tr>\n",
       "  </thead>\n",
       "  <tbody>\n",
       "    <tr>\n",
       "      <th>18306712</th>\n",
       "      <td>938573</td>\n",
       "      <td>4e65899b62e13e3bcff72c7e</td>\n",
       "      <td>2013-03-21 13:49:26</td>\n",
       "      <td>34.884960</td>\n",
       "      <td>136.996059</td>\n",
       "      <td>JP</td>\n",
       "    </tr>\n",
       "    <tr>\n",
       "      <th>13152133</th>\n",
       "      <td>1117956</td>\n",
       "      <td>4e72e3cb88778d253ae33bed</td>\n",
       "      <td>2012-05-19 19:33:02</td>\n",
       "      <td>56.746783</td>\n",
       "      <td>53.061691</td>\n",
       "      <td>RU</td>\n",
       "    </tr>\n",
       "    <tr>\n",
       "      <th>3218676</th>\n",
       "      <td>1076304</td>\n",
       "      <td>4bed413cbac3c9b65dfbfde9</td>\n",
       "      <td>2012-06-06 19:30:04</td>\n",
       "      <td>35.871912</td>\n",
       "      <td>139.926276</td>\n",
       "      <td>JP</td>\n",
       "    </tr>\n",
       "  </tbody>\n",
       "</table>\n",
       "</div>"
      ],
      "text/plain": [
       "          user_id                  venue_id        checkin_time   latitude  \\\n",
       "18306712   938573  4e65899b62e13e3bcff72c7e 2013-03-21 13:49:26  34.884960   \n",
       "13152133  1117956  4e72e3cb88778d253ae33bed 2012-05-19 19:33:02  56.746783   \n",
       "3218676   1076304  4bed413cbac3c9b65dfbfde9 2012-06-06 19:30:04  35.871912   \n",
       "\n",
       "           longitude country_code  \n",
       "18306712  136.996059           JP  \n",
       "13152133   53.061691           RU  \n",
       "3218676   139.926276           JP  "
      ]
     },
     "execution_count": 62,
     "metadata": {},
     "output_type": "execute_result"
    }
   ],
   "source": [
    "# Merge dataframes\n",
    "merged_df = pd.merge(checkin_df, venue_df, on='venue_id')\n",
    "merged_df = merged_df.drop(['category','level_0_category','level_1_category'], axis=1)\n",
    "merged_df.sample(3)"
   ]
  },
  {
   "cell_type": "markdown",
   "metadata": {},
   "source": [
    "Then we discretise the world into 25km x 25km cells."
   ]
  },
  {
   "cell_type": "code",
   "execution_count": 63,
   "metadata": {},
   "outputs": [
    {
     "data": {
      "text/html": [
       "<div>\n",
       "<style scoped>\n",
       "    .dataframe tbody tr th:only-of-type {\n",
       "        vertical-align: middle;\n",
       "    }\n",
       "\n",
       "    .dataframe tbody tr th {\n",
       "        vertical-align: top;\n",
       "    }\n",
       "\n",
       "    .dataframe thead th {\n",
       "        text-align: right;\n",
       "    }\n",
       "</style>\n",
       "<table border=\"1\" class=\"dataframe\">\n",
       "  <thead>\n",
       "    <tr style=\"text-align: right;\">\n",
       "      <th></th>\n",
       "      <th>user_id</th>\n",
       "      <th>venue_id</th>\n",
       "      <th>checkin_time</th>\n",
       "      <th>latitude</th>\n",
       "      <th>longitude</th>\n",
       "      <th>country_code</th>\n",
       "      <th>discrete_latitude</th>\n",
       "      <th>discrete_longitude</th>\n",
       "      <th>position_id</th>\n",
       "    </tr>\n",
       "  </thead>\n",
       "  <tbody>\n",
       "    <tr>\n",
       "      <th>18370162</th>\n",
       "      <td>1435091</td>\n",
       "      <td>50d9937ce4b0f0bf6049acc9</td>\n",
       "      <td>2013-03-28 19:20:50</td>\n",
       "      <td>41.032215</td>\n",
       "      <td>28.823717</td>\n",
       "      <td>TR</td>\n",
       "      <td>40.851294</td>\n",
       "      <td>28.657986</td>\n",
       "      <td>582-702</td>\n",
       "    </tr>\n",
       "    <tr>\n",
       "      <th>757866</th>\n",
       "      <td>366840</td>\n",
       "      <td>4bec5abd2bc1b713e977bf3a</td>\n",
       "      <td>2013-04-21 10:11:14</td>\n",
       "      <td>-30.036294</td>\n",
       "      <td>-51.215644</td>\n",
       "      <td>BR</td>\n",
       "      <td>-30.195113</td>\n",
       "      <td>-51.238263</td>\n",
       "      <td>266-495</td>\n",
       "    </tr>\n",
       "    <tr>\n",
       "      <th>6917422</th>\n",
       "      <td>501741</td>\n",
       "      <td>4d0019d5ffcea14345532b91</td>\n",
       "      <td>2013-08-23 16:45:06</td>\n",
       "      <td>-1.422013</td>\n",
       "      <td>-48.456457</td>\n",
       "      <td>BR</td>\n",
       "      <td>-1.641652</td>\n",
       "      <td>-48.645131</td>\n",
       "      <td>393-584</td>\n",
       "    </tr>\n",
       "  </tbody>\n",
       "</table>\n",
       "</div>"
      ],
      "text/plain": [
       "          user_id                  venue_id        checkin_time   latitude  \\\n",
       "18370162  1435091  50d9937ce4b0f0bf6049acc9 2013-03-28 19:20:50  41.032215   \n",
       "757866     366840  4bec5abd2bc1b713e977bf3a 2013-04-21 10:11:14 -30.036294   \n",
       "6917422    501741  4d0019d5ffcea14345532b91 2013-08-23 16:45:06  -1.422013   \n",
       "\n",
       "          longitude country_code  discrete_latitude  discrete_longitude  \\\n",
       "18370162  28.823717           TR          40.851294           28.657986   \n",
       "757866   -51.215644           BR         -30.195113          -51.238263   \n",
       "6917422  -48.456457           BR          -1.641652          -48.645131   \n",
       "\n",
       "         position_id  \n",
       "18370162     582-702  \n",
       "757866       266-495  \n",
       "6917422      393-584  "
      ]
     },
     "execution_count": 63,
     "metadata": {},
     "output_type": "execute_result"
    }
   ],
   "source": [
    "# Global variable for cell size\n",
    "CELL = 25\n",
    "\n",
    "# Create dataframe\n",
    "discrete_df = merged_df.copy()\n",
    "\n",
    "# Calculate index and discrete value of latitude\n",
    "index_lat = ((90 + discrete_df.latitude)/fn.km_to_lat(CELL)).astype(int)\n",
    "discrete_lat = index_lat*fn.km_to_lat(CELL)-90\n",
    "\n",
    "# Calculate index and discrete value of longitude\n",
    "index_lon = ((180 + discrete_df.longitude)/fn.km_to_lon(discrete_lat, CELL)).astype(int)\n",
    "discrete_lon = index_lon*fn.km_to_lon(discrete_lat, CELL)-180\n",
    "\n",
    "# Add columns to dataframe\n",
    "discrete_df['discrete_latitude'] = discrete_lat\n",
    "discrete_df['discrete_longitude'] = discrete_lon\n",
    "discrete_df['position_id'] = index_lat.astype(str) + '-' + index_lon.astype(str)\n",
    "\n",
    "# Visualise dataframe\n",
    "discrete_df.sample(3)"
   ]
  },
  {
   "cell_type": "markdown",
   "metadata": {},
   "source": [
    "Then we find each user's home cell."
   ]
  },
  {
   "cell_type": "code",
   "execution_count": 64,
   "metadata": {},
   "outputs": [
    {
     "data": {
      "text/html": [
       "<div>\n",
       "<style scoped>\n",
       "    .dataframe tbody tr th:only-of-type {\n",
       "        vertical-align: middle;\n",
       "    }\n",
       "\n",
       "    .dataframe tbody tr th {\n",
       "        vertical-align: top;\n",
       "    }\n",
       "\n",
       "    .dataframe thead th {\n",
       "        text-align: right;\n",
       "    }\n",
       "</style>\n",
       "<table border=\"1\" class=\"dataframe\">\n",
       "  <thead>\n",
       "    <tr style=\"text-align: right;\">\n",
       "      <th></th>\n",
       "      <th>user_id</th>\n",
       "      <th>home_cell_latitude</th>\n",
       "      <th>home_cell_longitude</th>\n",
       "    </tr>\n",
       "  </thead>\n",
       "  <tbody>\n",
       "    <tr>\n",
       "      <th>1077053</th>\n",
       "      <td>1465563</td>\n",
       "      <td>13.646815</td>\n",
       "      <td>100.410852</td>\n",
       "    </tr>\n",
       "    <tr>\n",
       "      <th>1208138</th>\n",
       "      <td>1887327</td>\n",
       "      <td>40.851294</td>\n",
       "      <td>28.657986</td>\n",
       "    </tr>\n",
       "    <tr>\n",
       "      <th>295042</th>\n",
       "      <td>235256</td>\n",
       "      <td>40.176802</td>\n",
       "      <td>-74.066917</td>\n",
       "    </tr>\n",
       "  </tbody>\n",
       "</table>\n",
       "</div>"
      ],
      "text/plain": [
       "         user_id  home_cell_latitude  home_cell_longitude\n",
       "1077053  1465563           13.646815           100.410852\n",
       "1208138  1887327           40.851294            28.657986\n",
       "295042    235256           40.176802           -74.066917"
      ]
     },
     "execution_count": 64,
     "metadata": {},
     "output_type": "execute_result"
    }
   ],
   "source": [
    "# Group by user and position index and count amount of position indexes\n",
    "home_cell_df = discrete_df.groupby(['user_id','discrete_latitude','discrete_longitude','position_id'],\n",
    "                                   as_index = False)['latitude'].count()\n",
    "\n",
    "# Group by user and select max number of position indexes\n",
    "home_cell_df = home_cell_df.loc[home_cell_df.groupby('user_id')['latitude'].idxmax()]\n",
    "\n",
    "# Reformat and rename data \n",
    "home_cell_df = home_cell_df.drop(['position_id', 'latitude'], axis=1)\n",
    "home_cell_df.columns = ['user_id','home_cell_latitude','home_cell_longitude']\n",
    "    \n",
    "# Visualise dataframe\n",
    "home_cell_df.sample(3)"
   ]
  },
  {
   "cell_type": "markdown",
   "metadata": {},
   "source": [
    "Then we find each user's home."
   ]
  },
  {
   "cell_type": "code",
   "execution_count": 65,
   "metadata": {
    "scrolled": true
   },
   "outputs": [
    {
     "data": {
      "text/html": [
       "<div>\n",
       "<style scoped>\n",
       "    .dataframe tbody tr th:only-of-type {\n",
       "        vertical-align: middle;\n",
       "    }\n",
       "\n",
       "    .dataframe tbody tr th {\n",
       "        vertical-align: top;\n",
       "    }\n",
       "\n",
       "    .dataframe thead th {\n",
       "        text-align: right;\n",
       "    }\n",
       "</style>\n",
       "<table border=\"1\" class=\"dataframe\">\n",
       "  <thead>\n",
       "    <tr style=\"text-align: right;\">\n",
       "      <th></th>\n",
       "      <th>user_id</th>\n",
       "      <th>home_latitude</th>\n",
       "      <th>home_longitude</th>\n",
       "    </tr>\n",
       "  </thead>\n",
       "  <tbody>\n",
       "    <tr>\n",
       "      <th>46587</th>\n",
       "      <td>696187</td>\n",
       "      <td>40.997395</td>\n",
       "      <td>29.070006</td>\n",
       "    </tr>\n",
       "    <tr>\n",
       "      <th>67469</th>\n",
       "      <td>1118634</td>\n",
       "      <td>41.014826</td>\n",
       "      <td>28.865963</td>\n",
       "    </tr>\n",
       "    <tr>\n",
       "      <th>69300</th>\n",
       "      <td>1160535</td>\n",
       "      <td>41.045129</td>\n",
       "      <td>29.014708</td>\n",
       "    </tr>\n",
       "  </tbody>\n",
       "</table>\n",
       "</div>"
      ],
      "text/plain": [
       "       user_id  home_latitude  home_longitude\n",
       "46587   696187      40.997395       29.070006\n",
       "67469  1118634      41.014826       28.865963\n",
       "69300  1160535      41.045129       29.014708"
      ]
     },
     "execution_count": 65,
     "metadata": {},
     "output_type": "execute_result"
    }
   ],
   "source": [
    "# Merge checkins dataframe with home cell dataframe\n",
    "home_df = pd.merge(merged_df, home_cell_df, on='user_id')\n",
    "\n",
    "# Keep checkins within home cell\n",
    "home_df = home_df[(home_df['latitude'] >= home_df['home_cell_latitude']) & \\\n",
    "                  (home_df['latitude'] < home_df['home_cell_latitude'] + fn.km_to_lat(CELL))]\n",
    "\n",
    "home_df = home_df[(home_df['longitude'] >= home_df['home_cell_longitude']) & \\\n",
    "                  (home_df['longitude'] < home_df['home_cell_longitude'] + \\\n",
    "                   fn.km_to_lon(home_df['home_cell_latitude'], CELL))]\n",
    "\n",
    "# Group by user for mean latitude and longitude\n",
    "home_df = home_df.groupby('user_id', as_index = False)[['latitude', 'longitude']].mean()\n",
    "\n",
    "# Rename and Visualize data\n",
    "home_df.columns = ['user_id', 'home_latitude', 'home_longitude']\n",
    "\n",
    "# Visualise dataframe\n",
    "home_df.sample(3)"
   ]
  },
  {
   "cell_type": "markdown",
   "metadata": {},
   "source": [
    "To plot this information, we want to know which country a home is in. We have the country codes for venue IDs, but not for home locations. To get this information we need to use some reverse geocoding to get a country from coordinates."
   ]
  },
  {
   "cell_type": "code",
   "execution_count": 80,
   "metadata": {},
   "outputs": [
    {
     "data": {
      "text/html": [
       "<div>\n",
       "<style scoped>\n",
       "    .dataframe tbody tr th:only-of-type {\n",
       "        vertical-align: middle;\n",
       "    }\n",
       "\n",
       "    .dataframe tbody tr th {\n",
       "        vertical-align: top;\n",
       "    }\n",
       "\n",
       "    .dataframe thead th {\n",
       "        text-align: right;\n",
       "    }\n",
       "</style>\n",
       "<table border=\"1\" class=\"dataframe\">\n",
       "  <thead>\n",
       "    <tr style=\"text-align: right;\">\n",
       "      <th></th>\n",
       "      <th>country</th>\n",
       "      <th>country_code</th>\n",
       "      <th>number_of_homes</th>\n",
       "      <th>display</th>\n",
       "      <th>continent</th>\n",
       "    </tr>\n",
       "  </thead>\n",
       "  <tbody>\n",
       "    <tr>\n",
       "      <th>36</th>\n",
       "      <td>Dominican Republic</td>\n",
       "      <td>DOM</td>\n",
       "      <td>174</td>\n",
       "      <td>Dominican Republic: 174</td>\n",
       "      <td>North America</td>\n",
       "    </tr>\n",
       "    <tr>\n",
       "      <th>78</th>\n",
       "      <td>Luxembourg</td>\n",
       "      <td>LUX</td>\n",
       "      <td>3</td>\n",
       "      <td>Luxembourg: 3</td>\n",
       "      <td>Europe</td>\n",
       "    </tr>\n",
       "    <tr>\n",
       "      <th>48</th>\n",
       "      <td>Ghana</td>\n",
       "      <td>GHA</td>\n",
       "      <td>44</td>\n",
       "      <td>Ghana: 44</td>\n",
       "      <td>Africa</td>\n",
       "    </tr>\n",
       "  </tbody>\n",
       "</table>\n",
       "</div>"
      ],
      "text/plain": [
       "               country country_code  number_of_homes                  display  \\\n",
       "36  Dominican Republic          DOM              174  Dominican Republic: 174   \n",
       "78          Luxembourg          LUX                3            Luxembourg: 3   \n",
       "48               Ghana          GHA               44                Ghana: 44   \n",
       "\n",
       "        continent  \n",
       "36  North America  \n",
       "78         Europe  \n",
       "48         Africa  "
      ]
     },
     "execution_count": 80,
     "metadata": {},
     "output_type": "execute_result"
    }
   ],
   "source": [
    "# Get country name and country code\n",
    "home_df['country_code'] = home_df.apply(lambda x: fn.get_country_code(x['home_latitude'],x['home_longitude']), axis=1)\n",
    "home_df['country'] = home_df.apply(lambda x: fn.get_country_name(x['home_latitude'],x['home_longitude']), axis=1)\n",
    "\n",
    "# Count homes on rach country\n",
    "home_count_df = home_df.groupby(['country', 'country_code']).count().reset_index()\n",
    "\n",
    "# Format dataframe for plotting\n",
    "home_count_df = home_count_df.drop(['home_latitude', 'home_longitude'], axis = 1)\n",
    "home_count_df['display'] = home_count_df['country'] + ': ' + home_count_df['user_id'].astype(str)\n",
    "home_count_df.columns = ['country', 'country_code', 'number_of_homes', 'display']\n",
    "home_count_df['continent'] = home_count_df.apply(lambda x: fn.get_continent_name(x['country_code']), axis=1)\n",
    "\n",
    "# Visualise dataframe\n",
    "home_count_df.sample(3)"
   ]
  },
  {
   "cell_type": "markdown",
   "metadata": {},
   "source": [
    "We can also compute the number of checkins per country."
   ]
  },
  {
   "cell_type": "code",
   "execution_count": 68,
   "metadata": {
    "scrolled": true
   },
   "outputs": [
    {
     "data": {
      "text/html": [
       "<div>\n",
       "<style scoped>\n",
       "    .dataframe tbody tr th:only-of-type {\n",
       "        vertical-align: middle;\n",
       "    }\n",
       "\n",
       "    .dataframe tbody tr th {\n",
       "        vertical-align: top;\n",
       "    }\n",
       "\n",
       "    .dataframe thead th {\n",
       "        text-align: right;\n",
       "    }\n",
       "</style>\n",
       "<table border=\"1\" class=\"dataframe\">\n",
       "  <thead>\n",
       "    <tr style=\"text-align: right;\">\n",
       "      <th></th>\n",
       "      <th>country_code</th>\n",
       "      <th>number_of_checkins</th>\n",
       "      <th>country</th>\n",
       "      <th>display</th>\n",
       "    </tr>\n",
       "  </thead>\n",
       "  <tbody>\n",
       "    <tr>\n",
       "      <th>177</th>\n",
       "      <td>RUS</td>\n",
       "      <td>534230</td>\n",
       "      <td>Russian Federation</td>\n",
       "      <td>Russian Federation: 534230</td>\n",
       "    </tr>\n",
       "    <tr>\n",
       "      <th>91</th>\n",
       "      <td>HRV</td>\n",
       "      <td>6065</td>\n",
       "      <td>Croatia</td>\n",
       "      <td>Croatia: 6065</td>\n",
       "    </tr>\n",
       "    <tr>\n",
       "      <th>76</th>\n",
       "      <td>GUF</td>\n",
       "      <td>118</td>\n",
       "      <td>French Guiana</td>\n",
       "      <td>French Guiana: 118</td>\n",
       "    </tr>\n",
       "  </tbody>\n",
       "</table>\n",
       "</div>"
      ],
      "text/plain": [
       "    country_code  number_of_checkins             country  \\\n",
       "177          RUS              534230  Russian Federation   \n",
       "91           HRV                6065             Croatia   \n",
       "76           GUF                 118       French Guiana   \n",
       "\n",
       "                        display  \n",
       "177  Russian Federation: 534230  \n",
       "91                Croatia: 6065  \n",
       "76           French Guiana: 118  "
      ]
     },
     "execution_count": 68,
     "metadata": {},
     "output_type": "execute_result"
    }
   ],
   "source": [
    "# Get checkins per country \n",
    "checkin_count_df = merged_df.groupby('country_code').count().reset_index()\n",
    "checkin_count_df = checkin_count_df.drop(['venue_id', 'checkin_time', 'latitude', 'longitude'], axis=1)\n",
    "checkin_count_df.columns = ['country_code', 'number_of_checkins']\n",
    "checkin_count_df['country'] = checkin_count_df.apply(lambda x: fn.alpha2_to_name(x['country_code']), axis=1)\n",
    "checkin_count_df['country_code'] = checkin_count_df.apply(lambda x: fn.alpha2_to_alpha3(x['country_code']), axis=1)\n",
    "checkin_count_df['display'] = checkin_count_df['country']+': '+checkin_count_df['number_of_checkins'].astype(str)\n",
    "checkin_count_df = checkin_count_df.dropna()\n",
    "\n",
    "# Visualise dataframe\n",
    "checkin_count_df.sample(3)"
   ]
  },
  {
   "cell_type": "markdown",
   "metadata": {},
   "source": [
    "We can merge thesedataframes in one to plot."
   ]
  },
  {
   "cell_type": "code",
   "execution_count": 73,
   "metadata": {},
   "outputs": [
    {
     "data": {
      "text/html": [
       "<div>\n",
       "<style scoped>\n",
       "    .dataframe tbody tr th:only-of-type {\n",
       "        vertical-align: middle;\n",
       "    }\n",
       "\n",
       "    .dataframe tbody tr th {\n",
       "        vertical-align: top;\n",
       "    }\n",
       "\n",
       "    .dataframe thead th {\n",
       "        text-align: right;\n",
       "    }\n",
       "</style>\n",
       "<table border=\"1\" class=\"dataframe\">\n",
       "  <thead>\n",
       "    <tr style=\"text-align: right;\">\n",
       "      <th></th>\n",
       "      <th>country</th>\n",
       "      <th>country_code</th>\n",
       "      <th>number_of_homes</th>\n",
       "      <th>display_x</th>\n",
       "      <th>continent</th>\n",
       "      <th>number_of_checkins</th>\n",
       "      <th>display_y</th>\n",
       "    </tr>\n",
       "  </thead>\n",
       "  <tbody>\n",
       "    <tr>\n",
       "      <th>82</th>\n",
       "      <td>Maldives</td>\n",
       "      <td>MDV</td>\n",
       "      <td>61</td>\n",
       "      <td>Maldives: 61</td>\n",
       "      <td>Asia</td>\n",
       "      <td>12638</td>\n",
       "      <td>Maldives: 12638</td>\n",
       "    </tr>\n",
       "    <tr>\n",
       "      <th>42</th>\n",
       "      <td>Finland</td>\n",
       "      <td>FIN</td>\n",
       "      <td>59</td>\n",
       "      <td>Finland: 59</td>\n",
       "      <td>Europe</td>\n",
       "      <td>11179</td>\n",
       "      <td>Finland: 11179</td>\n",
       "    </tr>\n",
       "    <tr>\n",
       "      <th>73</th>\n",
       "      <td>Kyrgyzstan</td>\n",
       "      <td>KGZ</td>\n",
       "      <td>5</td>\n",
       "      <td>Kyrgyzstan: 5</td>\n",
       "      <td>Asia</td>\n",
       "      <td>998</td>\n",
       "      <td>Kyrgyzstan: 998</td>\n",
       "    </tr>\n",
       "  </tbody>\n",
       "</table>\n",
       "</div>"
      ],
      "text/plain": [
       "       country country_code  number_of_homes      display_x continent  \\\n",
       "82    Maldives          MDV               61   Maldives: 61      Asia   \n",
       "42     Finland          FIN               59    Finland: 59    Europe   \n",
       "73  Kyrgyzstan          KGZ                5  Kyrgyzstan: 5      Asia   \n",
       "\n",
       "    number_of_checkins        display_y  \n",
       "82               12638  Maldives: 12638  \n",
       "42               11179   Finland: 11179  \n",
       "73                 998  Kyrgyzstan: 998  "
      ]
     },
     "execution_count": 73,
     "metadata": {},
     "output_type": "execute_result"
    }
   ],
   "source": [
    "temp_df = pd.merge(home_count_df, checkin_count_df, on=['country_code','country'])\n",
    "temp_df.sample(3)"
   ]
  },
  {
   "cell_type": "code",
   "execution_count": 509,
   "metadata": {},
   "outputs": [
    {
     "data": {
      "application/vnd.plotly.v1+json": {
       "config": {
        "plotlyServerURL": "https://plot.ly"
       },
       "data": [
        {
         "colorbar": {
          "ticktext": [
           "1",
           "10",
           "100",
           "1000",
           "10000"
          ],
          "tickvals": [
           0,
           1,
           2,
           3,
           4
          ],
          "title": {
           "text": "Number of Homes"
          }
         },
         "colorscale": [
          [
           0,
           "#003f5c"
          ],
          [
           0.05263157894736842,
           "#1e4365"
          ],
          [
           0.10526315789473684,
           "#32466e"
          ],
          [
           0.15789473684210525,
           "#454a76"
          ],
          [
           0.21052631578947367,
           "#574c7d"
          ],
          [
           0.2631578947368421,
           "#684e82"
          ],
          [
           0.3157894736842105,
           "#7a5087"
          ],
          [
           0.3684210526315789,
           "#8d518b"
          ],
          [
           0.42105263157894735,
           "#9f518e"
          ],
          [
           0.47368421052631576,
           "#b25190"
          ],
          [
           0.5263157894736842,
           "#c3528c"
          ],
          [
           0.5789473684210527,
           "#d15782"
          ],
          [
           0.631578947368421,
           "#dc5d78"
          ],
          [
           0.6842105263157895,
           "#e6656e"
          ],
          [
           0.7368421052631579,
           "#ef6e63"
          ],
          [
           0.7894736842105263,
           "#f57858"
          ],
          [
           0.8421052631578947,
           "#fa824b"
          ],
          [
           0.8947368421052632,
           "#fd8e3c"
          ],
          [
           0.9473684210526315,
           "#ff9a29"
          ],
          [
           1,
           "#ffa600"
          ]
         ],
         "hovertemplate": [
          "Andorra: 2",
          "Angola: 3",
          "Argentina: 637",
          "Armenia: 8",
          "Aruba: 3",
          "Australia: 540",
          "Austria: 68",
          "Azerbaijan: 27",
          "Bahamas: 2",
          "Bahrain: 15",
          "Bangladesh: 10",
          "Barbados: 2",
          "Belarus: 61",
          "Belgium: 551",
          "Benin: 3",
          "Bolivia, Plurinational State of: 26",
          "Bosnia and Herzegovina: 17",
          "Botswana: 2",
          "Brazil: 10749",
          "Brunei Darussalam: 22",
          "Bulgaria: 24",
          "Burkina Faso: 1",
          "Cambodia: 2",
          "Cameroon: 2",
          "Canada: 980",
          "Cayman Islands: 1",
          "Chile: 4708",
          "China: 366",
          "Colombia: 666",
          "Congo, The Democratic Republic of the: 1",
          "Costa Rica: 522",
          "Croatia: 37",
          "Cyprus: 82",
          "Czechia: 32",
          "Côte d'Ivoire: 5",
          "Denmark: 43",
          "Dominican Republic: 174",
          "Ecuador: 118",
          "Egypt: 141",
          "El Salvador: 104",
          "Estonia: 10",
          "Fiji: 1",
          "Finland: 59",
          "France: 439",
          "French Guiana: 1",
          "French Polynesia: 1",
          "Georgia: 1",
          "Germany: 811",
          "Ghana: 44",
          "Greece: 345",
          "Guadeloupe: 6",
          "Guam: 1",
          "Guatemala: 24",
          "Guernsey: 1",
          "Haiti: 2",
          "Holy See (Vatican City State): 32",
          "Honduras: 18",
          "Hong Kong: 89",
          "Hungary: 112",
          "Iceland: 9",
          "India: 297",
          "Indonesia: 10553",
          "Iran, Islamic Republic of: 9",
          "Ireland: 78",
          "Israel: 70",
          "Italy: 901",
          "Jamaica: 53",
          "Japan: 7693",
          "Jordan: 47",
          "Kazakhstan: 20",
          "Kenya: 99",
          "Korea, Republic of: 905",
          "Kuwait: 560",
          "Kyrgyzstan: 5",
          "Lao People's Democratic Republic: 4",
          "Latvia: 94",
          "Lebanon: 105",
          "Lithuania: 6",
          "Luxembourg: 3",
          "Macao: 4",
          "Madagascar: 1",
          "Malaysia: 5975",
          "Maldives: 61",
          "Malta: 10",
          "Martinique: 47",
          "Mauritius: 3",
          "Mexico: 5850",
          "Moldova, Republic of: 3",
          "Montenegro: 6",
          "Morocco: 60",
          "Mozambique: 4",
          "Nepal: 3",
          "Netherlands: 1044",
          "New Zealand: 75",
          "Nicaragua: 20",
          "Nigeria: 7",
          "North Macedonia: 17",
          "Norway: 11",
          "Oman: 30",
          "Pakistan: 51",
          "Palestine, State of: 3",
          "Panama: 187",
          "Paraguay: 371",
          "Peru: 731",
          "Philippines: 2421",
          "Poland: 43",
          "Portugal: 129",
          "Puerto Rico: 99",
          "Qatar: 26",
          "Romania: 57",
          "Russian Federation: 2879",
          "Rwanda: 1",
          "Samoa: 2",
          "San Marino: 1",
          "Saudi Arabia: 155",
          "Serbia: 91",
          "Singapore: 799",
          "Sint Maarten (Dutch part): 1",
          "Slovakia: 5",
          "Slovenia: 6",
          "South Africa: 101",
          "Spain: 1569",
          "Sri Lanka: 95",
          "Sudan: 4",
          "Suriname: 3",
          "Sweden: 206",
          "Switzerland: 73",
          "Taiwan, Province of China: 38",
          "Tanzania, United Republic of: 8",
          "Thailand: 3334",
          "Trinidad and Tobago: 23",
          "Tunisia: 57",
          "Turkey: 9048",
          "Turkmenistan: 1",
          "Uganda: 11",
          "Ukraine: 239",
          "United Arab Emirates: 148",
          "United Kingdom: 1564",
          "United States: 13857",
          "Uruguay: 27",
          "Uzbekistan: 4",
          "Venezuela, Bolivarian Republic of: 146",
          "Viet Nam: 23",
          "Zimbabwe: 1",
          "Åland Islands: 2"
         ],
         "locations": [
          "AND",
          "AGO",
          "ARG",
          "ARM",
          "ABW",
          "AUS",
          "AUT",
          "AZE",
          "BHS",
          "BHR",
          "BGD",
          "BRB",
          "BLR",
          "BEL",
          "BEN",
          "BOL",
          "BIH",
          "BWA",
          "BRA",
          "BRN",
          "BGR",
          "BFA",
          "KHM",
          "CMR",
          "CAN",
          "CYM",
          "CHL",
          "CHN",
          "COL",
          "COD",
          "CRI",
          "HRV",
          "CYP",
          "CZE",
          "CIV",
          "DNK",
          "DOM",
          "ECU",
          "EGY",
          "SLV",
          "EST",
          "FJI",
          "FIN",
          "FRA",
          "GUF",
          "PYF",
          "GEO",
          "DEU",
          "GHA",
          "GRC",
          "GLP",
          "GUM",
          "GTM",
          "GGY",
          "HTI",
          "VAT",
          "HND",
          "HKG",
          "HUN",
          "ISL",
          "IND",
          "IDN",
          "IRN",
          "IRL",
          "ISR",
          "ITA",
          "JAM",
          "JPN",
          "JOR",
          "KAZ",
          "KEN",
          "KOR",
          "KWT",
          "KGZ",
          "LAO",
          "LVA",
          "LBN",
          "LTU",
          "LUX",
          "MAC",
          "MDG",
          "MYS",
          "MDV",
          "MLT",
          "MTQ",
          "MUS",
          "MEX",
          "MDA",
          "MNE",
          "MAR",
          "MOZ",
          "NPL",
          "NLD",
          "NZL",
          "NIC",
          "NGA",
          "MKD",
          "NOR",
          "OMN",
          "PAK",
          "PSE",
          "PAN",
          "PRY",
          "PER",
          "PHL",
          "POL",
          "PRT",
          "PRI",
          "QAT",
          "ROU",
          "RUS",
          "RWA",
          "WSM",
          "SMR",
          "SAU",
          "SRB",
          "SGP",
          "SXM",
          "SVK",
          "SVN",
          "ZAF",
          "ESP",
          "LKA",
          "SDN",
          "SUR",
          "SWE",
          "CHE",
          "TWN",
          "TZA",
          "THA",
          "TTO",
          "TUN",
          "TUR",
          "TKM",
          "UGA",
          "UKR",
          "ARE",
          "GBR",
          "USA",
          "URY",
          "UZB",
          "VEN",
          "VNM",
          "ZWE",
          "ALA"
         ],
         "type": "choropleth",
         "visible": true,
         "z": [
          0.3010299956639812,
          0.47712125471966244,
          2.8041394323353503,
          0.9030899869919435,
          0.47712125471966244,
          2.7323937598229686,
          1.8325089127062364,
          1.4313637641589874,
          0.3010299956639812,
          1.1760912590556813,
          1,
          0.3010299956639812,
          1.7853298350107671,
          2.741151598851785,
          0.47712125471966244,
          1.414973347970818,
          1.2304489213782739,
          0.3010299956639812,
          4.031368062885773,
          1.3424226808222062,
          1.380211241711606,
          0,
          0.3010299956639812,
          0.3010299956639812,
          2.9912260756924947,
          0,
          3.672836454171397,
          2.5634810853944106,
          2.823474229170301,
          0,
          2.717670503002262,
          1.568201724066995,
          1.9138138523837167,
          1.505149978319906,
          0.6989700043360189,
          1.6334684555795864,
          2.2405492482826,
          2.0718820073061255,
          2.1492191126553797,
          2.0170333392987803,
          1,
          0,
          1.7708520116421442,
          2.6424645202421213,
          0,
          0,
          0,
          2.909020854211156,
          1.6434526764861874,
          2.537819095073274,
          0.7781512503836436,
          0,
          1.380211241711606,
          0,
          0.3010299956639812,
          1.505149978319906,
          1.255272505103306,
          1.9493900066449128,
          2.0492180226701815,
          0.9542425094393249,
          2.4727564493172123,
          4.023375938139562,
          0.9542425094393249,
          1.8920946026904804,
          1.845098040014257,
          2.954724790979063,
          1.724275869600789,
          3.8860957324377474,
          1.6720978579357175,
          1.3010299956639813,
          1.99563519459755,
          2.9566485792052033,
          2.7481880270062002,
          0.6989700043360189,
          0.6020599913279624,
          1.9731278535996986,
          2.0211892990699383,
          0.7781512503836436,
          0.47712125471966244,
          0.6020599913279624,
          0,
          3.7763379096201755,
          1.7853298350107671,
          1,
          1.6720978579357175,
          0.47712125471966244,
          3.7671558660821804,
          0.47712125471966244,
          0.7781512503836436,
          1.7781512503836436,
          0.6020599913279624,
          0.47712125471966244,
          3.0187004986662433,
          1.8750612633917,
          1.3010299956639813,
          0.8450980400142568,
          1.2304489213782739,
          1.0413926851582251,
          1.4771212547196624,
          1.7075701760979363,
          0.47712125471966244,
          2.271841606536499,
          2.569373909615046,
          2.8639173769578603,
          3.383994789441733,
          1.6334684555795864,
          2.110589710299249,
          1.99563519459755,
          1.414973347970818,
          1.7558748556724915,
          3.459241664878082,
          0,
          0.3010299956639812,
          0,
          2.1903316981702914,
          1.9590413923210936,
          2.902546779313991,
          0,
          0.6989700043360189,
          0.7781512503836436,
          2.0043213737826426,
          3.1956229435869368,
          1.9777236052888478,
          0.6020599913279624,
          0.47712125471966244,
          2.3138672203691533,
          1.863322860120456,
          1.5797835966168101,
          0.9030899869919435,
          3.5229655954919865,
          1.3617278360175928,
          1.7558748556724915,
          3.956552591917399,
          0,
          1.0413926851582251,
          2.3783979009481375,
          2.1702617153949575,
          3.1942367487238292,
          4.141669216966209,
          1.4313637641589874,
          0.6020599913279624,
          2.164352855784437,
          1.3617278360175928,
          0,
          0.3010299956639812
         ]
        },
        {
         "colorbar": {
          "ticktext": [
           "1",
           "100",
           "100",
           "1000",
           "10000",
           "100000",
           "1000000"
          ],
          "tickvals": [
           0,
           1,
           2,
           3,
           4,
           5,
           6
          ],
          "title": {
           "text": "Number of Checkins"
          }
         },
         "colorscale": [
          [
           0,
           "#003f5c"
          ],
          [
           0.05263157894736842,
           "#1e4365"
          ],
          [
           0.10526315789473684,
           "#32466e"
          ],
          [
           0.15789473684210525,
           "#454a76"
          ],
          [
           0.21052631578947367,
           "#574c7d"
          ],
          [
           0.2631578947368421,
           "#684e82"
          ],
          [
           0.3157894736842105,
           "#7a5087"
          ],
          [
           0.3684210526315789,
           "#8d518b"
          ],
          [
           0.42105263157894735,
           "#9f518e"
          ],
          [
           0.47368421052631576,
           "#b25190"
          ],
          [
           0.5263157894736842,
           "#c3528c"
          ],
          [
           0.5789473684210527,
           "#d15782"
          ],
          [
           0.631578947368421,
           "#dc5d78"
          ],
          [
           0.6842105263157895,
           "#e6656e"
          ],
          [
           0.7368421052631579,
           "#ef6e63"
          ],
          [
           0.7894736842105263,
           "#f57858"
          ],
          [
           0.8421052631578947,
           "#fa824b"
          ],
          [
           0.8947368421052632,
           "#fd8e3c"
          ],
          [
           0.9473684210526315,
           "#ff9a29"
          ],
          [
           1,
           "#ffa600"
          ]
         ],
         "hovertemplate": [
          "Andorra: 405",
          "Angola: 637",
          "Argentina: 107965",
          "Armenia: 1170",
          "Aruba: 1023",
          "Australia: 99589",
          "Austria: 17827",
          "Azerbaijan: 4412",
          "Bahamas: 451",
          "Bahrain: 3318",
          "Bangladesh: 1835",
          "Barbados: 304",
          "Belarus: 9720",
          "Belgium: 109735",
          "Benin: 281",
          "Bolivia, Plurinational State of: 3930",
          "Bosnia and Herzegovina: 2786",
          "Botswana: 547",
          "Brazil: 2136751",
          "Brunei Darussalam: 4169",
          "Bulgaria: 5032",
          "Burkina Faso: 98",
          "Cambodia: 1296",
          "Cameroon: 692",
          "Canada: 141640",
          "Cayman Islands: 296",
          "Chile: 923800",
          "China: 77532",
          "Colombia: 120279",
          "Congo, The Democratic Republic of the: 150",
          "Costa Rica: 131950",
          "Croatia: 6065",
          "Cyprus: 17236",
          "Czechia: 8793",
          "Côte d'Ivoire: 958",
          "Denmark: 7727",
          "Dominican Republic: 28935",
          "Ecuador: 21147",
          "Egypt: 26476",
          "El Salvador: 18599",
          "Estonia: 2366",
          "Fiji: 270",
          "Finland: 11179",
          "France: 92214",
          "French Guiana: 118",
          "French Polynesia: 153",
          "Georgia: 1034",
          "Germany: 173223",
          "Ghana: 7834",
          "Greece: 65199",
          "Guadeloupe: 1203",
          "Guam: 399",
          "Guatemala: 3594",
          "Guernsey: 73",
          "Haiti: 541",
          "Holy See (Vatican City State): 518",
          "Honduras: 3553",
          "Hong Kong: 26951",
          "Hungary: 22774",
          "Iceland: 2123",
          "India: 51096",
          "Indonesia: 1708758",
          "Iran, Islamic Republic of: 1612",
          "Ireland: 14111",
          "Israel: 14603",
          "Italy: 173934",
          "Jamaica: 9479",
          "Japan: 2339264",
          "Jordan: 8675",
          "Kazakhstan: 4745",
          "Kenya: 16689",
          "Korea, Republic of: 190466",
          "Kuwait: 102074",
          "Kyrgyzstan: 998",
          "Lao People's Democratic Republic: 1050",
          "Latvia: 16301",
          "Lebanon: 22110",
          "Lithuania: 813",
          "Luxembourg: 701",
          "Macao: 1270",
          "Madagascar: 137",
          "Malaysia: 1238039",
          "Maldives: 12638",
          "Malta: 2137",
          "Martinique: 12747",
          "Mauritius: 808",
          "Mexico: 987263",
          "Moldova, Republic of: 454",
          "Montenegro: 1614",
          "Morocco: 12237",
          "Mozambique: 433",
          "Nepal: 584",
          "Netherlands: 196206",
          "New Zealand: 14297",
          "Nicaragua: 3664",
          "Nigeria: 1487",
          "North Macedonia: 3328",
          "Norway: 4175",
          "Oman: 6484",
          "Pakistan: 9310",
          "Palestine, State of: 700",
          "Panama: 40128",
          "Paraguay: 59944",
          "Peru: 162677",
          "Philippines: 497425",
          "Poland: 8665",
          "Portugal: 35274",
          "Puerto Rico: 16854",
          "Qatar: 6707",
          "Romania: 11051",
          "Russian Federation: 534230",
          "Rwanda: 312",
          "Samoa: 350",
          "San Marino: 168",
          "Saudi Arabia: 29827",
          "Serbia: 15572",
          "Singapore: 214295",
          "Sint Maarten (Dutch part): 8",
          "Slovakia: 1343",
          "Slovenia: 1549",
          "South Africa: 19114",
          "Spain: 275753",
          "Sri Lanka: 20523",
          "Sudan: 430",
          "Suriname: 282",
          "Sweden: 41552",
          "Switzerland: 14424",
          "Taiwan, Province of China: 13089",
          "Tanzania, United Republic of: 1581",
          "Thailand: 703245",
          "Trinidad and Tobago: 5215",
          "Tunisia: 13648",
          "Turkey: 1619879",
          "Turkmenistan: 120",
          "Uganda: 2011",
          "Ukraine: 48223",
          "United Arab Emirates: 28877",
          "United Kingdom: 301822",
          "United States: 2867416",
          "Uruguay: 5940",
          "Uzbekistan: 685",
          "Venezuela, Bolivarian Republic of: 23605",
          "Viet Nam: 7576",
          "Zimbabwe: 127",
          "Åland Islands: 19"
         ],
         "locations": [
          "AND",
          "AGO",
          "ARG",
          "ARM",
          "ABW",
          "AUS",
          "AUT",
          "AZE",
          "BHS",
          "BHR",
          "BGD",
          "BRB",
          "BLR",
          "BEL",
          "BEN",
          "BOL",
          "BIH",
          "BWA",
          "BRA",
          "BRN",
          "BGR",
          "BFA",
          "KHM",
          "CMR",
          "CAN",
          "CYM",
          "CHL",
          "CHN",
          "COL",
          "COD",
          "CRI",
          "HRV",
          "CYP",
          "CZE",
          "CIV",
          "DNK",
          "DOM",
          "ECU",
          "EGY",
          "SLV",
          "EST",
          "FJI",
          "FIN",
          "FRA",
          "GUF",
          "PYF",
          "GEO",
          "DEU",
          "GHA",
          "GRC",
          "GLP",
          "GUM",
          "GTM",
          "GGY",
          "HTI",
          "VAT",
          "HND",
          "HKG",
          "HUN",
          "ISL",
          "IND",
          "IDN",
          "IRN",
          "IRL",
          "ISR",
          "ITA",
          "JAM",
          "JPN",
          "JOR",
          "KAZ",
          "KEN",
          "KOR",
          "KWT",
          "KGZ",
          "LAO",
          "LVA",
          "LBN",
          "LTU",
          "LUX",
          "MAC",
          "MDG",
          "MYS",
          "MDV",
          "MLT",
          "MTQ",
          "MUS",
          "MEX",
          "MDA",
          "MNE",
          "MAR",
          "MOZ",
          "NPL",
          "NLD",
          "NZL",
          "NIC",
          "NGA",
          "MKD",
          "NOR",
          "OMN",
          "PAK",
          "PSE",
          "PAN",
          "PRY",
          "PER",
          "PHL",
          "POL",
          "PRT",
          "PRI",
          "QAT",
          "ROU",
          "RUS",
          "RWA",
          "WSM",
          "SMR",
          "SAU",
          "SRB",
          "SGP",
          "SXM",
          "SVK",
          "SVN",
          "ZAF",
          "ESP",
          "LKA",
          "SDN",
          "SUR",
          "SWE",
          "CHE",
          "TWN",
          "TZA",
          "THA",
          "TTO",
          "TUN",
          "TUR",
          "TKM",
          "UGA",
          "UKR",
          "ARE",
          "GBR",
          "USA",
          "URY",
          "UZB",
          "VEN",
          "VNM",
          "ZWE",
          "ALA"
         ],
         "type": "choropleth",
         "visible": false,
         "z": [
          2.6074550232146687,
          2.8041394323353503,
          5.03328298909425,
          3.0681858617461617,
          3.00987563371216,
          4.998211371524866,
          4.2510782644840015,
          3.644635503768153,
          2.6541765418779604,
          3.5208763816883417,
          3.263636068588108,
          2.482873583608754,
          3.9876662649262746,
          5.040345167980713,
          2.44870631990508,
          3.5943925503754266,
          3.4449811120879446,
          2.737987326333431,
          6.32975391588115,
          3.6200318951262975,
          3.7017406324372124,
          1.9912260756924949,
          3.1126050015345745,
          2.840106094456758,
          5.151185918086074,
          2.4712917110589387,
          5.9655779579105275,
          4.8894809870877936,
          5.080189808717744,
          2.1760912590556813,
          5.120409394556068,
          3.782830805202592,
          4.2364364854163306,
          3.944137073158098,
          2.9813655090785445,
          3.888010912245029,
          4.461423486699566,
          4.3252487652875375,
          4.422852372416166,
          4.269489594424535,
          3.3740147402919116,
          2.4313637641589874,
          4.0484029561527395,
          4.964796860979647,
          2.0718820073061255,
          2.184691430817599,
          3.0145205387579237,
          5.238605555752434,
          3.8939835672118472,
          4.814240934722528,
          3.0802656273398448,
          2.6009728956867484,
          3.555578072772955,
          1.863322860120456,
          2.7331972651065692,
          2.714329759745233,
          3.550595207489328,
          4.430574884046865,
          4.357439316313899,
          3.326949994165999,
          4.708386903149929,
          6.2326805608444795,
          3.2073650374690716,
          4.149557791861579,
          4.164442085209516,
          5.24038448464266,
          3.976762523267461,
          6.369079237317189,
          3.9382694834629115,
          3.6762362167633116,
          4.222430314660491,
          5.27981746121771,
          5.0089151339135825,
          2.999130541287371,
          3.0211892990699383,
          4.212214247419942,
          4.344588742578714,
          2.910090545594068,
          2.8457180179666586,
          3.103803720955957,
          2.1367205671564067,
          6.092734325797196,
          4.101678351027969,
          3.3298045221640695,
          4.105407985809177,
          2.907411360774586,
          5.994432861113158,
          2.6570558528571038,
          3.2079035303860515,
          4.0876749600367575,
          2.6364878963533656,
          2.7664128471123997,
          5.292712284017674,
          4.155244917176186,
          3.563955464995813,
          3.172310968521954,
          3.5221833176186865,
          3.620656479819621,
          3.811843006176477,
          3.9689496809813427,
          2.845098040014257,
          4.6034475148146035,
          4.777745719590045,
          5.211326154785788,
          5.696727608616273,
          3.9377685670499356,
          4.547454710572725,
          4.226702989585221,
          3.8265283063406517,
          4.043401578910881,
          5.72772827243232,
          2.494154594018443,
          2.5440680443502757,
          2.225309281725863,
          4.4746095742147105,
          4.192344395046124,
          5.331012038061231,
          0.9030899869919435,
          3.1280760126687155,
          3.190051417759206,
          4.281351581672737,
          5.4405202459584965,
          4.3122408451442125,
          2.6334684555795866,
          2.450249108319361,
          4.618591932285227,
          4.1590857137143455,
          4.116906467706483,
          3.198931869932209,
          5.847106653058883,
          3.7172543127625497,
          4.135069013823448,
          6.209482575286514,
          2.0791812460476247,
          3.303412070596742,
          4.683254224766404,
          4.460552072861558,
          5.479750892597879,
          6.457490704246951,
          3.7737864449811935,
          2.8356905714924254,
          4.373004004767274,
          3.879439965995217,
          2.103803720955957,
          1.2787536009528289
         ]
        }
       ],
       "layout": {
        "geo": {
         "projection": {
          "type": "natural earth"
         }
        },
        "template": {
         "data": {
          "bar": [
           {
            "error_x": {
             "color": "#2a3f5f"
            },
            "error_y": {
             "color": "#2a3f5f"
            },
            "marker": {
             "line": {
              "color": "#E5ECF6",
              "width": 0.5
             }
            },
            "type": "bar"
           }
          ],
          "barpolar": [
           {
            "marker": {
             "line": {
              "color": "#E5ECF6",
              "width": 0.5
             }
            },
            "type": "barpolar"
           }
          ],
          "carpet": [
           {
            "aaxis": {
             "endlinecolor": "#2a3f5f",
             "gridcolor": "white",
             "linecolor": "white",
             "minorgridcolor": "white",
             "startlinecolor": "#2a3f5f"
            },
            "baxis": {
             "endlinecolor": "#2a3f5f",
             "gridcolor": "white",
             "linecolor": "white",
             "minorgridcolor": "white",
             "startlinecolor": "#2a3f5f"
            },
            "type": "carpet"
           }
          ],
          "choropleth": [
           {
            "colorbar": {
             "outlinewidth": 0,
             "ticks": ""
            },
            "type": "choropleth"
           }
          ],
          "contour": [
           {
            "colorbar": {
             "outlinewidth": 0,
             "ticks": ""
            },
            "colorscale": [
             [
              0,
              "#0d0887"
             ],
             [
              0.1111111111111111,
              "#46039f"
             ],
             [
              0.2222222222222222,
              "#7201a8"
             ],
             [
              0.3333333333333333,
              "#9c179e"
             ],
             [
              0.4444444444444444,
              "#bd3786"
             ],
             [
              0.5555555555555556,
              "#d8576b"
             ],
             [
              0.6666666666666666,
              "#ed7953"
             ],
             [
              0.7777777777777778,
              "#fb9f3a"
             ],
             [
              0.8888888888888888,
              "#fdca26"
             ],
             [
              1,
              "#f0f921"
             ]
            ],
            "type": "contour"
           }
          ],
          "contourcarpet": [
           {
            "colorbar": {
             "outlinewidth": 0,
             "ticks": ""
            },
            "type": "contourcarpet"
           }
          ],
          "heatmap": [
           {
            "colorbar": {
             "outlinewidth": 0,
             "ticks": ""
            },
            "colorscale": [
             [
              0,
              "#0d0887"
             ],
             [
              0.1111111111111111,
              "#46039f"
             ],
             [
              0.2222222222222222,
              "#7201a8"
             ],
             [
              0.3333333333333333,
              "#9c179e"
             ],
             [
              0.4444444444444444,
              "#bd3786"
             ],
             [
              0.5555555555555556,
              "#d8576b"
             ],
             [
              0.6666666666666666,
              "#ed7953"
             ],
             [
              0.7777777777777778,
              "#fb9f3a"
             ],
             [
              0.8888888888888888,
              "#fdca26"
             ],
             [
              1,
              "#f0f921"
             ]
            ],
            "type": "heatmap"
           }
          ],
          "heatmapgl": [
           {
            "colorbar": {
             "outlinewidth": 0,
             "ticks": ""
            },
            "colorscale": [
             [
              0,
              "#0d0887"
             ],
             [
              0.1111111111111111,
              "#46039f"
             ],
             [
              0.2222222222222222,
              "#7201a8"
             ],
             [
              0.3333333333333333,
              "#9c179e"
             ],
             [
              0.4444444444444444,
              "#bd3786"
             ],
             [
              0.5555555555555556,
              "#d8576b"
             ],
             [
              0.6666666666666666,
              "#ed7953"
             ],
             [
              0.7777777777777778,
              "#fb9f3a"
             ],
             [
              0.8888888888888888,
              "#fdca26"
             ],
             [
              1,
              "#f0f921"
             ]
            ],
            "type": "heatmapgl"
           }
          ],
          "histogram": [
           {
            "marker": {
             "colorbar": {
              "outlinewidth": 0,
              "ticks": ""
             }
            },
            "type": "histogram"
           }
          ],
          "histogram2d": [
           {
            "colorbar": {
             "outlinewidth": 0,
             "ticks": ""
            },
            "colorscale": [
             [
              0,
              "#0d0887"
             ],
             [
              0.1111111111111111,
              "#46039f"
             ],
             [
              0.2222222222222222,
              "#7201a8"
             ],
             [
              0.3333333333333333,
              "#9c179e"
             ],
             [
              0.4444444444444444,
              "#bd3786"
             ],
             [
              0.5555555555555556,
              "#d8576b"
             ],
             [
              0.6666666666666666,
              "#ed7953"
             ],
             [
              0.7777777777777778,
              "#fb9f3a"
             ],
             [
              0.8888888888888888,
              "#fdca26"
             ],
             [
              1,
              "#f0f921"
             ]
            ],
            "type": "histogram2d"
           }
          ],
          "histogram2dcontour": [
           {
            "colorbar": {
             "outlinewidth": 0,
             "ticks": ""
            },
            "colorscale": [
             [
              0,
              "#0d0887"
             ],
             [
              0.1111111111111111,
              "#46039f"
             ],
             [
              0.2222222222222222,
              "#7201a8"
             ],
             [
              0.3333333333333333,
              "#9c179e"
             ],
             [
              0.4444444444444444,
              "#bd3786"
             ],
             [
              0.5555555555555556,
              "#d8576b"
             ],
             [
              0.6666666666666666,
              "#ed7953"
             ],
             [
              0.7777777777777778,
              "#fb9f3a"
             ],
             [
              0.8888888888888888,
              "#fdca26"
             ],
             [
              1,
              "#f0f921"
             ]
            ],
            "type": "histogram2dcontour"
           }
          ],
          "mesh3d": [
           {
            "colorbar": {
             "outlinewidth": 0,
             "ticks": ""
            },
            "type": "mesh3d"
           }
          ],
          "parcoords": [
           {
            "line": {
             "colorbar": {
              "outlinewidth": 0,
              "ticks": ""
             }
            },
            "type": "parcoords"
           }
          ],
          "pie": [
           {
            "automargin": true,
            "type": "pie"
           }
          ],
          "scatter": [
           {
            "marker": {
             "colorbar": {
              "outlinewidth": 0,
              "ticks": ""
             }
            },
            "type": "scatter"
           }
          ],
          "scatter3d": [
           {
            "line": {
             "colorbar": {
              "outlinewidth": 0,
              "ticks": ""
             }
            },
            "marker": {
             "colorbar": {
              "outlinewidth": 0,
              "ticks": ""
             }
            },
            "type": "scatter3d"
           }
          ],
          "scattercarpet": [
           {
            "marker": {
             "colorbar": {
              "outlinewidth": 0,
              "ticks": ""
             }
            },
            "type": "scattercarpet"
           }
          ],
          "scattergeo": [
           {
            "marker": {
             "colorbar": {
              "outlinewidth": 0,
              "ticks": ""
             }
            },
            "type": "scattergeo"
           }
          ],
          "scattergl": [
           {
            "marker": {
             "colorbar": {
              "outlinewidth": 0,
              "ticks": ""
             }
            },
            "type": "scattergl"
           }
          ],
          "scattermapbox": [
           {
            "marker": {
             "colorbar": {
              "outlinewidth": 0,
              "ticks": ""
             }
            },
            "type": "scattermapbox"
           }
          ],
          "scatterpolar": [
           {
            "marker": {
             "colorbar": {
              "outlinewidth": 0,
              "ticks": ""
             }
            },
            "type": "scatterpolar"
           }
          ],
          "scatterpolargl": [
           {
            "marker": {
             "colorbar": {
              "outlinewidth": 0,
              "ticks": ""
             }
            },
            "type": "scatterpolargl"
           }
          ],
          "scatterternary": [
           {
            "marker": {
             "colorbar": {
              "outlinewidth": 0,
              "ticks": ""
             }
            },
            "type": "scatterternary"
           }
          ],
          "surface": [
           {
            "colorbar": {
             "outlinewidth": 0,
             "ticks": ""
            },
            "colorscale": [
             [
              0,
              "#0d0887"
             ],
             [
              0.1111111111111111,
              "#46039f"
             ],
             [
              0.2222222222222222,
              "#7201a8"
             ],
             [
              0.3333333333333333,
              "#9c179e"
             ],
             [
              0.4444444444444444,
              "#bd3786"
             ],
             [
              0.5555555555555556,
              "#d8576b"
             ],
             [
              0.6666666666666666,
              "#ed7953"
             ],
             [
              0.7777777777777778,
              "#fb9f3a"
             ],
             [
              0.8888888888888888,
              "#fdca26"
             ],
             [
              1,
              "#f0f921"
             ]
            ],
            "type": "surface"
           }
          ],
          "table": [
           {
            "cells": {
             "fill": {
              "color": "#EBF0F8"
             },
             "line": {
              "color": "white"
             }
            },
            "header": {
             "fill": {
              "color": "#C8D4E3"
             },
             "line": {
              "color": "white"
             }
            },
            "type": "table"
           }
          ]
         },
         "layout": {
          "annotationdefaults": {
           "arrowcolor": "#2a3f5f",
           "arrowhead": 0,
           "arrowwidth": 1
          },
          "coloraxis": {
           "colorbar": {
            "outlinewidth": 0,
            "ticks": ""
           }
          },
          "colorscale": {
           "diverging": [
            [
             0,
             "#8e0152"
            ],
            [
             0.1,
             "#c51b7d"
            ],
            [
             0.2,
             "#de77ae"
            ],
            [
             0.3,
             "#f1b6da"
            ],
            [
             0.4,
             "#fde0ef"
            ],
            [
             0.5,
             "#f7f7f7"
            ],
            [
             0.6,
             "#e6f5d0"
            ],
            [
             0.7,
             "#b8e186"
            ],
            [
             0.8,
             "#7fbc41"
            ],
            [
             0.9,
             "#4d9221"
            ],
            [
             1,
             "#276419"
            ]
           ],
           "sequential": [
            [
             0,
             "#0d0887"
            ],
            [
             0.1111111111111111,
             "#46039f"
            ],
            [
             0.2222222222222222,
             "#7201a8"
            ],
            [
             0.3333333333333333,
             "#9c179e"
            ],
            [
             0.4444444444444444,
             "#bd3786"
            ],
            [
             0.5555555555555556,
             "#d8576b"
            ],
            [
             0.6666666666666666,
             "#ed7953"
            ],
            [
             0.7777777777777778,
             "#fb9f3a"
            ],
            [
             0.8888888888888888,
             "#fdca26"
            ],
            [
             1,
             "#f0f921"
            ]
           ],
           "sequentialminus": [
            [
             0,
             "#0d0887"
            ],
            [
             0.1111111111111111,
             "#46039f"
            ],
            [
             0.2222222222222222,
             "#7201a8"
            ],
            [
             0.3333333333333333,
             "#9c179e"
            ],
            [
             0.4444444444444444,
             "#bd3786"
            ],
            [
             0.5555555555555556,
             "#d8576b"
            ],
            [
             0.6666666666666666,
             "#ed7953"
            ],
            [
             0.7777777777777778,
             "#fb9f3a"
            ],
            [
             0.8888888888888888,
             "#fdca26"
            ],
            [
             1,
             "#f0f921"
            ]
           ]
          },
          "colorway": [
           "#636efa",
           "#EF553B",
           "#00cc96",
           "#ab63fa",
           "#FFA15A",
           "#19d3f3",
           "#FF6692",
           "#B6E880",
           "#FF97FF",
           "#FECB52"
          ],
          "font": {
           "color": "#2a3f5f"
          },
          "geo": {
           "bgcolor": "white",
           "lakecolor": "white",
           "landcolor": "#E5ECF6",
           "showlakes": true,
           "showland": true,
           "subunitcolor": "white"
          },
          "hoverlabel": {
           "align": "left"
          },
          "hovermode": "closest",
          "mapbox": {
           "style": "light"
          },
          "paper_bgcolor": "white",
          "plot_bgcolor": "#E5ECF6",
          "polar": {
           "angularaxis": {
            "gridcolor": "white",
            "linecolor": "white",
            "ticks": ""
           },
           "bgcolor": "#E5ECF6",
           "radialaxis": {
            "gridcolor": "white",
            "linecolor": "white",
            "ticks": ""
           }
          },
          "scene": {
           "xaxis": {
            "backgroundcolor": "#E5ECF6",
            "gridcolor": "white",
            "gridwidth": 2,
            "linecolor": "white",
            "showbackground": true,
            "ticks": "",
            "zerolinecolor": "white"
           },
           "yaxis": {
            "backgroundcolor": "#E5ECF6",
            "gridcolor": "white",
            "gridwidth": 2,
            "linecolor": "white",
            "showbackground": true,
            "ticks": "",
            "zerolinecolor": "white"
           },
           "zaxis": {
            "backgroundcolor": "#E5ECF6",
            "gridcolor": "white",
            "gridwidth": 2,
            "linecolor": "white",
            "showbackground": true,
            "ticks": "",
            "zerolinecolor": "white"
           }
          },
          "shapedefaults": {
           "line": {
            "color": "#2a3f5f"
           }
          },
          "ternary": {
           "aaxis": {
            "gridcolor": "white",
            "linecolor": "white",
            "ticks": ""
           },
           "baxis": {
            "gridcolor": "white",
            "linecolor": "white",
            "ticks": ""
           },
           "bgcolor": "#E5ECF6",
           "caxis": {
            "gridcolor": "white",
            "linecolor": "white",
            "ticks": ""
           }
          },
          "title": {
           "x": 0.05
          },
          "xaxis": {
           "automargin": true,
           "gridcolor": "white",
           "linecolor": "white",
           "ticks": "",
           "title": {
            "standoff": 15
           },
           "zerolinecolor": "white",
           "zerolinewidth": 2
          },
          "yaxis": {
           "automargin": true,
           "gridcolor": "white",
           "linecolor": "white",
           "ticks": "",
           "title": {
            "standoff": 15
           },
           "zerolinecolor": "white",
           "zerolinewidth": 2
          }
         }
        },
        "title": {
         "text": "Number of Homes",
         "x": 0.54,
         "y": 0.89
        },
        "updatemenus": [
         {
          "active": 0,
          "buttons": [
           {
            "args": [
             {
              "visible": [
               true,
               false
              ]
             },
             {
              "title": "Number of Homes"
             }
            ],
            "label": "Number of Homes",
            "method": "update"
           },
           {
            "args": [
             {
              "visible": [
               false,
               true
              ]
             },
             {
              "title": "Number of Checkins"
             }
            ],
            "label": "Number of Checkins",
            "method": "update"
           }
          ]
         }
        ]
       }
      },
      "text/html": [
       "<div>                            <div id=\"63ed33c0-2c95-4d01-8711-5999fa231e3a\" class=\"plotly-graph-div\" style=\"height:525px; width:100%;\"></div>            <script type=\"text/javascript\">                require([\"plotly\"], function(Plotly) {                    window.PLOTLYENV=window.PLOTLYENV || {};                                    if (document.getElementById(\"63ed33c0-2c95-4d01-8711-5999fa231e3a\")) {                    Plotly.newPlot(                        \"63ed33c0-2c95-4d01-8711-5999fa231e3a\",                        [{\"colorbar\": {\"ticktext\": [\"1\", \"10\", \"100\", \"1000\", \"10000\"], \"tickvals\": [0, 1, 2, 3, 4], \"title\": {\"text\": \"Number of Homes\"}}, \"colorscale\": [[0.0, \"#003f5c\"], [0.05263157894736842, \"#1e4365\"], [0.10526315789473684, \"#32466e\"], [0.15789473684210525, \"#454a76\"], [0.21052631578947367, \"#574c7d\"], [0.2631578947368421, \"#684e82\"], [0.3157894736842105, \"#7a5087\"], [0.3684210526315789, \"#8d518b\"], [0.42105263157894735, \"#9f518e\"], [0.47368421052631576, \"#b25190\"], [0.5263157894736842, \"#c3528c\"], [0.5789473684210527, \"#d15782\"], [0.631578947368421, \"#dc5d78\"], [0.6842105263157895, \"#e6656e\"], [0.7368421052631579, \"#ef6e63\"], [0.7894736842105263, \"#f57858\"], [0.8421052631578947, \"#fa824b\"], [0.8947368421052632, \"#fd8e3c\"], [0.9473684210526315, \"#ff9a29\"], [1.0, \"#ffa600\"]], \"hovertemplate\": [\"Andorra: 2\", \"Angola: 3\", \"Argentina: 637\", \"Armenia: 8\", \"Aruba: 3\", \"Australia: 540\", \"Austria: 68\", \"Azerbaijan: 27\", \"Bahamas: 2\", \"Bahrain: 15\", \"Bangladesh: 10\", \"Barbados: 2\", \"Belarus: 61\", \"Belgium: 551\", \"Benin: 3\", \"Bolivia, Plurinational State of: 26\", \"Bosnia and Herzegovina: 17\", \"Botswana: 2\", \"Brazil: 10749\", \"Brunei Darussalam: 22\", \"Bulgaria: 24\", \"Burkina Faso: 1\", \"Cambodia: 2\", \"Cameroon: 2\", \"Canada: 980\", \"Cayman Islands: 1\", \"Chile: 4708\", \"China: 366\", \"Colombia: 666\", \"Congo, The Democratic Republic of the: 1\", \"Costa Rica: 522\", \"Croatia: 37\", \"Cyprus: 82\", \"Czechia: 32\", \"C\\u00f4te d'Ivoire: 5\", \"Denmark: 43\", \"Dominican Republic: 174\", \"Ecuador: 118\", \"Egypt: 141\", \"El Salvador: 104\", \"Estonia: 10\", \"Fiji: 1\", \"Finland: 59\", \"France: 439\", \"French Guiana: 1\", \"French Polynesia: 1\", \"Georgia: 1\", \"Germany: 811\", \"Ghana: 44\", \"Greece: 345\", \"Guadeloupe: 6\", \"Guam: 1\", \"Guatemala: 24\", \"Guernsey: 1\", \"Haiti: 2\", \"Holy See (Vatican City State): 32\", \"Honduras: 18\", \"Hong Kong: 89\", \"Hungary: 112\", \"Iceland: 9\", \"India: 297\", \"Indonesia: 10553\", \"Iran, Islamic Republic of: 9\", \"Ireland: 78\", \"Israel: 70\", \"Italy: 901\", \"Jamaica: 53\", \"Japan: 7693\", \"Jordan: 47\", \"Kazakhstan: 20\", \"Kenya: 99\", \"Korea, Republic of: 905\", \"Kuwait: 560\", \"Kyrgyzstan: 5\", \"Lao People's Democratic Republic: 4\", \"Latvia: 94\", \"Lebanon: 105\", \"Lithuania: 6\", \"Luxembourg: 3\", \"Macao: 4\", \"Madagascar: 1\", \"Malaysia: 5975\", \"Maldives: 61\", \"Malta: 10\", \"Martinique: 47\", \"Mauritius: 3\", \"Mexico: 5850\", \"Moldova, Republic of: 3\", \"Montenegro: 6\", \"Morocco: 60\", \"Mozambique: 4\", \"Nepal: 3\", \"Netherlands: 1044\", \"New Zealand: 75\", \"Nicaragua: 20\", \"Nigeria: 7\", \"North Macedonia: 17\", \"Norway: 11\", \"Oman: 30\", \"Pakistan: 51\", \"Palestine, State of: 3\", \"Panama: 187\", \"Paraguay: 371\", \"Peru: 731\", \"Philippines: 2421\", \"Poland: 43\", \"Portugal: 129\", \"Puerto Rico: 99\", \"Qatar: 26\", \"Romania: 57\", \"Russian Federation: 2879\", \"Rwanda: 1\", \"Samoa: 2\", \"San Marino: 1\", \"Saudi Arabia: 155\", \"Serbia: 91\", \"Singapore: 799\", \"Sint Maarten (Dutch part): 1\", \"Slovakia: 5\", \"Slovenia: 6\", \"South Africa: 101\", \"Spain: 1569\", \"Sri Lanka: 95\", \"Sudan: 4\", \"Suriname: 3\", \"Sweden: 206\", \"Switzerland: 73\", \"Taiwan, Province of China: 38\", \"Tanzania, United Republic of: 8\", \"Thailand: 3334\", \"Trinidad and Tobago: 23\", \"Tunisia: 57\", \"Turkey: 9048\", \"Turkmenistan: 1\", \"Uganda: 11\", \"Ukraine: 239\", \"United Arab Emirates: 148\", \"United Kingdom: 1564\", \"United States: 13857\", \"Uruguay: 27\", \"Uzbekistan: 4\", \"Venezuela, Bolivarian Republic of: 146\", \"Viet Nam: 23\", \"Zimbabwe: 1\", \"\\u00c5land Islands: 2\"], \"locations\": [\"AND\", \"AGO\", \"ARG\", \"ARM\", \"ABW\", \"AUS\", \"AUT\", \"AZE\", \"BHS\", \"BHR\", \"BGD\", \"BRB\", \"BLR\", \"BEL\", \"BEN\", \"BOL\", \"BIH\", \"BWA\", \"BRA\", \"BRN\", \"BGR\", \"BFA\", \"KHM\", \"CMR\", \"CAN\", \"CYM\", \"CHL\", \"CHN\", \"COL\", \"COD\", \"CRI\", \"HRV\", \"CYP\", \"CZE\", \"CIV\", \"DNK\", \"DOM\", \"ECU\", \"EGY\", \"SLV\", \"EST\", \"FJI\", \"FIN\", \"FRA\", \"GUF\", \"PYF\", \"GEO\", \"DEU\", \"GHA\", \"GRC\", \"GLP\", \"GUM\", \"GTM\", \"GGY\", \"HTI\", \"VAT\", \"HND\", \"HKG\", \"HUN\", \"ISL\", \"IND\", \"IDN\", \"IRN\", \"IRL\", \"ISR\", \"ITA\", \"JAM\", \"JPN\", \"JOR\", \"KAZ\", \"KEN\", \"KOR\", \"KWT\", \"KGZ\", \"LAO\", \"LVA\", \"LBN\", \"LTU\", \"LUX\", \"MAC\", \"MDG\", \"MYS\", \"MDV\", \"MLT\", \"MTQ\", \"MUS\", \"MEX\", \"MDA\", \"MNE\", \"MAR\", \"MOZ\", \"NPL\", \"NLD\", \"NZL\", \"NIC\", \"NGA\", \"MKD\", \"NOR\", \"OMN\", \"PAK\", \"PSE\", \"PAN\", \"PRY\", \"PER\", \"PHL\", \"POL\", \"PRT\", \"PRI\", \"QAT\", \"ROU\", \"RUS\", \"RWA\", \"WSM\", \"SMR\", \"SAU\", \"SRB\", \"SGP\", \"SXM\", \"SVK\", \"SVN\", \"ZAF\", \"ESP\", \"LKA\", \"SDN\", \"SUR\", \"SWE\", \"CHE\", \"TWN\", \"TZA\", \"THA\", \"TTO\", \"TUN\", \"TUR\", \"TKM\", \"UGA\", \"UKR\", \"ARE\", \"GBR\", \"USA\", \"URY\", \"UZB\", \"VEN\", \"VNM\", \"ZWE\", \"ALA\"], \"type\": \"choropleth\", \"visible\": true, \"z\": [0.3010299956639812, 0.47712125471966244, 2.8041394323353503, 0.9030899869919435, 0.47712125471966244, 2.7323937598229686, 1.8325089127062364, 1.4313637641589874, 0.3010299956639812, 1.1760912590556813, 1.0, 0.3010299956639812, 1.7853298350107671, 2.741151598851785, 0.47712125471966244, 1.414973347970818, 1.2304489213782739, 0.3010299956639812, 4.031368062885773, 1.3424226808222062, 1.380211241711606, 0.0, 0.3010299956639812, 0.3010299956639812, 2.9912260756924947, 0.0, 3.672836454171397, 2.5634810853944106, 2.823474229170301, 0.0, 2.717670503002262, 1.568201724066995, 1.9138138523837167, 1.505149978319906, 0.6989700043360189, 1.6334684555795864, 2.2405492482826, 2.0718820073061255, 2.1492191126553797, 2.0170333392987803, 1.0, 0.0, 1.7708520116421442, 2.6424645202421213, 0.0, 0.0, 0.0, 2.909020854211156, 1.6434526764861874, 2.537819095073274, 0.7781512503836436, 0.0, 1.380211241711606, 0.0, 0.3010299956639812, 1.505149978319906, 1.255272505103306, 1.9493900066449128, 2.0492180226701815, 0.9542425094393249, 2.4727564493172123, 4.023375938139562, 0.9542425094393249, 1.8920946026904804, 1.845098040014257, 2.954724790979063, 1.724275869600789, 3.8860957324377474, 1.6720978579357175, 1.3010299956639813, 1.99563519459755, 2.9566485792052033, 2.7481880270062002, 0.6989700043360189, 0.6020599913279624, 1.9731278535996986, 2.0211892990699383, 0.7781512503836436, 0.47712125471966244, 0.6020599913279624, 0.0, 3.7763379096201755, 1.7853298350107671, 1.0, 1.6720978579357175, 0.47712125471966244, 3.7671558660821804, 0.47712125471966244, 0.7781512503836436, 1.7781512503836436, 0.6020599913279624, 0.47712125471966244, 3.0187004986662433, 1.8750612633917, 1.3010299956639813, 0.8450980400142568, 1.2304489213782739, 1.0413926851582251, 1.4771212547196624, 1.7075701760979363, 0.47712125471966244, 2.271841606536499, 2.569373909615046, 2.8639173769578603, 3.383994789441733, 1.6334684555795864, 2.110589710299249, 1.99563519459755, 1.414973347970818, 1.7558748556724915, 3.459241664878082, 0.0, 0.3010299956639812, 0.0, 2.1903316981702914, 1.9590413923210936, 2.902546779313991, 0.0, 0.6989700043360189, 0.7781512503836436, 2.0043213737826426, 3.1956229435869368, 1.9777236052888478, 0.6020599913279624, 0.47712125471966244, 2.3138672203691533, 1.863322860120456, 1.5797835966168101, 0.9030899869919435, 3.5229655954919865, 1.3617278360175928, 1.7558748556724915, 3.956552591917399, 0.0, 1.0413926851582251, 2.3783979009481375, 2.1702617153949575, 3.1942367487238292, 4.141669216966209, 1.4313637641589874, 0.6020599913279624, 2.164352855784437, 1.3617278360175928, 0.0, 0.3010299956639812]}, {\"colorbar\": {\"ticktext\": [\"1\", \"100\", \"100\", \"1000\", \"10000\", \"100000\", \"1000000\"], \"tickvals\": [0, 1, 2, 3, 4, 5, 6], \"title\": {\"text\": \"Number of Checkins\"}}, \"colorscale\": [[0.0, \"#003f5c\"], [0.05263157894736842, \"#1e4365\"], [0.10526315789473684, \"#32466e\"], [0.15789473684210525, \"#454a76\"], [0.21052631578947367, \"#574c7d\"], [0.2631578947368421, \"#684e82\"], [0.3157894736842105, \"#7a5087\"], [0.3684210526315789, \"#8d518b\"], [0.42105263157894735, \"#9f518e\"], [0.47368421052631576, \"#b25190\"], [0.5263157894736842, \"#c3528c\"], [0.5789473684210527, \"#d15782\"], [0.631578947368421, \"#dc5d78\"], [0.6842105263157895, \"#e6656e\"], [0.7368421052631579, \"#ef6e63\"], [0.7894736842105263, \"#f57858\"], [0.8421052631578947, \"#fa824b\"], [0.8947368421052632, \"#fd8e3c\"], [0.9473684210526315, \"#ff9a29\"], [1.0, \"#ffa600\"]], \"hovertemplate\": [\"Andorra: 405\", \"Angola: 637\", \"Argentina: 107965\", \"Armenia: 1170\", \"Aruba: 1023\", \"Australia: 99589\", \"Austria: 17827\", \"Azerbaijan: 4412\", \"Bahamas: 451\", \"Bahrain: 3318\", \"Bangladesh: 1835\", \"Barbados: 304\", \"Belarus: 9720\", \"Belgium: 109735\", \"Benin: 281\", \"Bolivia, Plurinational State of: 3930\", \"Bosnia and Herzegovina: 2786\", \"Botswana: 547\", \"Brazil: 2136751\", \"Brunei Darussalam: 4169\", \"Bulgaria: 5032\", \"Burkina Faso: 98\", \"Cambodia: 1296\", \"Cameroon: 692\", \"Canada: 141640\", \"Cayman Islands: 296\", \"Chile: 923800\", \"China: 77532\", \"Colombia: 120279\", \"Congo, The Democratic Republic of the: 150\", \"Costa Rica: 131950\", \"Croatia: 6065\", \"Cyprus: 17236\", \"Czechia: 8793\", \"C\\u00f4te d'Ivoire: 958\", \"Denmark: 7727\", \"Dominican Republic: 28935\", \"Ecuador: 21147\", \"Egypt: 26476\", \"El Salvador: 18599\", \"Estonia: 2366\", \"Fiji: 270\", \"Finland: 11179\", \"France: 92214\", \"French Guiana: 118\", \"French Polynesia: 153\", \"Georgia: 1034\", \"Germany: 173223\", \"Ghana: 7834\", \"Greece: 65199\", \"Guadeloupe: 1203\", \"Guam: 399\", \"Guatemala: 3594\", \"Guernsey: 73\", \"Haiti: 541\", \"Holy See (Vatican City State): 518\", \"Honduras: 3553\", \"Hong Kong: 26951\", \"Hungary: 22774\", \"Iceland: 2123\", \"India: 51096\", \"Indonesia: 1708758\", \"Iran, Islamic Republic of: 1612\", \"Ireland: 14111\", \"Israel: 14603\", \"Italy: 173934\", \"Jamaica: 9479\", \"Japan: 2339264\", \"Jordan: 8675\", \"Kazakhstan: 4745\", \"Kenya: 16689\", \"Korea, Republic of: 190466\", \"Kuwait: 102074\", \"Kyrgyzstan: 998\", \"Lao People's Democratic Republic: 1050\", \"Latvia: 16301\", \"Lebanon: 22110\", \"Lithuania: 813\", \"Luxembourg: 701\", \"Macao: 1270\", \"Madagascar: 137\", \"Malaysia: 1238039\", \"Maldives: 12638\", \"Malta: 2137\", \"Martinique: 12747\", \"Mauritius: 808\", \"Mexico: 987263\", \"Moldova, Republic of: 454\", \"Montenegro: 1614\", \"Morocco: 12237\", \"Mozambique: 433\", \"Nepal: 584\", \"Netherlands: 196206\", \"New Zealand: 14297\", \"Nicaragua: 3664\", \"Nigeria: 1487\", \"North Macedonia: 3328\", \"Norway: 4175\", \"Oman: 6484\", \"Pakistan: 9310\", \"Palestine, State of: 700\", \"Panama: 40128\", \"Paraguay: 59944\", \"Peru: 162677\", \"Philippines: 497425\", \"Poland: 8665\", \"Portugal: 35274\", \"Puerto Rico: 16854\", \"Qatar: 6707\", \"Romania: 11051\", \"Russian Federation: 534230\", \"Rwanda: 312\", \"Samoa: 350\", \"San Marino: 168\", \"Saudi Arabia: 29827\", \"Serbia: 15572\", \"Singapore: 214295\", \"Sint Maarten (Dutch part): 8\", \"Slovakia: 1343\", \"Slovenia: 1549\", \"South Africa: 19114\", \"Spain: 275753\", \"Sri Lanka: 20523\", \"Sudan: 430\", \"Suriname: 282\", \"Sweden: 41552\", \"Switzerland: 14424\", \"Taiwan, Province of China: 13089\", \"Tanzania, United Republic of: 1581\", \"Thailand: 703245\", \"Trinidad and Tobago: 5215\", \"Tunisia: 13648\", \"Turkey: 1619879\", \"Turkmenistan: 120\", \"Uganda: 2011\", \"Ukraine: 48223\", \"United Arab Emirates: 28877\", \"United Kingdom: 301822\", \"United States: 2867416\", \"Uruguay: 5940\", \"Uzbekistan: 685\", \"Venezuela, Bolivarian Republic of: 23605\", \"Viet Nam: 7576\", \"Zimbabwe: 127\", \"\\u00c5land Islands: 19\"], \"locations\": [\"AND\", \"AGO\", \"ARG\", \"ARM\", \"ABW\", \"AUS\", \"AUT\", \"AZE\", \"BHS\", \"BHR\", \"BGD\", \"BRB\", \"BLR\", \"BEL\", \"BEN\", \"BOL\", \"BIH\", \"BWA\", \"BRA\", \"BRN\", \"BGR\", \"BFA\", \"KHM\", \"CMR\", \"CAN\", \"CYM\", \"CHL\", \"CHN\", \"COL\", \"COD\", \"CRI\", \"HRV\", \"CYP\", \"CZE\", \"CIV\", \"DNK\", \"DOM\", \"ECU\", \"EGY\", \"SLV\", \"EST\", \"FJI\", \"FIN\", \"FRA\", \"GUF\", \"PYF\", \"GEO\", \"DEU\", \"GHA\", \"GRC\", \"GLP\", \"GUM\", \"GTM\", \"GGY\", \"HTI\", \"VAT\", \"HND\", \"HKG\", \"HUN\", \"ISL\", \"IND\", \"IDN\", \"IRN\", \"IRL\", \"ISR\", \"ITA\", \"JAM\", \"JPN\", \"JOR\", \"KAZ\", \"KEN\", \"KOR\", \"KWT\", \"KGZ\", \"LAO\", \"LVA\", \"LBN\", \"LTU\", \"LUX\", \"MAC\", \"MDG\", \"MYS\", \"MDV\", \"MLT\", \"MTQ\", \"MUS\", \"MEX\", \"MDA\", \"MNE\", \"MAR\", \"MOZ\", \"NPL\", \"NLD\", \"NZL\", \"NIC\", \"NGA\", \"MKD\", \"NOR\", \"OMN\", \"PAK\", \"PSE\", \"PAN\", \"PRY\", \"PER\", \"PHL\", \"POL\", \"PRT\", \"PRI\", \"QAT\", \"ROU\", \"RUS\", \"RWA\", \"WSM\", \"SMR\", \"SAU\", \"SRB\", \"SGP\", \"SXM\", \"SVK\", \"SVN\", \"ZAF\", \"ESP\", \"LKA\", \"SDN\", \"SUR\", \"SWE\", \"CHE\", \"TWN\", \"TZA\", \"THA\", \"TTO\", \"TUN\", \"TUR\", \"TKM\", \"UGA\", \"UKR\", \"ARE\", \"GBR\", \"USA\", \"URY\", \"UZB\", \"VEN\", \"VNM\", \"ZWE\", \"ALA\"], \"type\": \"choropleth\", \"visible\": false, \"z\": [2.6074550232146687, 2.8041394323353503, 5.03328298909425, 3.0681858617461617, 3.00987563371216, 4.998211371524866, 4.2510782644840015, 3.644635503768153, 2.6541765418779604, 3.5208763816883417, 3.263636068588108, 2.482873583608754, 3.9876662649262746, 5.040345167980713, 2.44870631990508, 3.5943925503754266, 3.4449811120879446, 2.737987326333431, 6.32975391588115, 3.6200318951262975, 3.7017406324372124, 1.9912260756924949, 3.1126050015345745, 2.840106094456758, 5.151185918086074, 2.4712917110589387, 5.9655779579105275, 4.8894809870877936, 5.080189808717744, 2.1760912590556813, 5.120409394556068, 3.782830805202592, 4.2364364854163306, 3.944137073158098, 2.9813655090785445, 3.888010912245029, 4.461423486699566, 4.3252487652875375, 4.422852372416166, 4.269489594424535, 3.3740147402919116, 2.4313637641589874, 4.0484029561527395, 4.964796860979647, 2.0718820073061255, 2.184691430817599, 3.0145205387579237, 5.238605555752434, 3.8939835672118472, 4.814240934722528, 3.0802656273398448, 2.6009728956867484, 3.555578072772955, 1.863322860120456, 2.7331972651065692, 2.714329759745233, 3.550595207489328, 4.430574884046865, 4.357439316313899, 3.326949994165999, 4.708386903149929, 6.2326805608444795, 3.2073650374690716, 4.149557791861579, 4.164442085209516, 5.24038448464266, 3.976762523267461, 6.369079237317189, 3.9382694834629115, 3.6762362167633116, 4.222430314660491, 5.27981746121771, 5.0089151339135825, 2.999130541287371, 3.0211892990699383, 4.212214247419942, 4.344588742578714, 2.910090545594068, 2.8457180179666586, 3.103803720955957, 2.1367205671564067, 6.092734325797196, 4.101678351027969, 3.3298045221640695, 4.105407985809177, 2.907411360774586, 5.994432861113158, 2.6570558528571038, 3.2079035303860515, 4.0876749600367575, 2.6364878963533656, 2.7664128471123997, 5.292712284017674, 4.155244917176186, 3.563955464995813, 3.172310968521954, 3.5221833176186865, 3.620656479819621, 3.811843006176477, 3.9689496809813427, 2.845098040014257, 4.6034475148146035, 4.777745719590045, 5.211326154785788, 5.696727608616273, 3.9377685670499356, 4.547454710572725, 4.226702989585221, 3.8265283063406517, 4.043401578910881, 5.72772827243232, 2.494154594018443, 2.5440680443502757, 2.225309281725863, 4.4746095742147105, 4.192344395046124, 5.331012038061231, 0.9030899869919435, 3.1280760126687155, 3.190051417759206, 4.281351581672737, 5.4405202459584965, 4.3122408451442125, 2.6334684555795866, 2.450249108319361, 4.618591932285227, 4.1590857137143455, 4.116906467706483, 3.198931869932209, 5.847106653058883, 3.7172543127625497, 4.135069013823448, 6.209482575286514, 2.0791812460476247, 3.303412070596742, 4.683254224766404, 4.460552072861558, 5.479750892597879, 6.457490704246951, 3.7737864449811935, 2.8356905714924254, 4.373004004767274, 3.879439965995217, 2.103803720955957, 1.2787536009528289]}],                        {\"geo\": {\"projection\": {\"type\": \"natural earth\"}}, \"template\": {\"data\": {\"bar\": [{\"error_x\": {\"color\": \"#2a3f5f\"}, \"error_y\": {\"color\": \"#2a3f5f\"}, \"marker\": {\"line\": {\"color\": \"#E5ECF6\", \"width\": 0.5}}, \"type\": \"bar\"}], \"barpolar\": [{\"marker\": {\"line\": {\"color\": \"#E5ECF6\", \"width\": 0.5}}, \"type\": \"barpolar\"}], \"carpet\": [{\"aaxis\": {\"endlinecolor\": \"#2a3f5f\", \"gridcolor\": \"white\", \"linecolor\": \"white\", \"minorgridcolor\": \"white\", \"startlinecolor\": \"#2a3f5f\"}, \"baxis\": {\"endlinecolor\": \"#2a3f5f\", \"gridcolor\": \"white\", \"linecolor\": \"white\", \"minorgridcolor\": \"white\", \"startlinecolor\": \"#2a3f5f\"}, \"type\": \"carpet\"}], \"choropleth\": [{\"colorbar\": {\"outlinewidth\": 0, \"ticks\": \"\"}, \"type\": \"choropleth\"}], \"contour\": [{\"colorbar\": {\"outlinewidth\": 0, \"ticks\": \"\"}, \"colorscale\": [[0.0, \"#0d0887\"], [0.1111111111111111, \"#46039f\"], [0.2222222222222222, \"#7201a8\"], [0.3333333333333333, \"#9c179e\"], [0.4444444444444444, \"#bd3786\"], [0.5555555555555556, \"#d8576b\"], [0.6666666666666666, \"#ed7953\"], [0.7777777777777778, \"#fb9f3a\"], [0.8888888888888888, \"#fdca26\"], [1.0, \"#f0f921\"]], \"type\": \"contour\"}], \"contourcarpet\": [{\"colorbar\": {\"outlinewidth\": 0, \"ticks\": \"\"}, \"type\": \"contourcarpet\"}], \"heatmap\": [{\"colorbar\": {\"outlinewidth\": 0, \"ticks\": \"\"}, \"colorscale\": [[0.0, \"#0d0887\"], [0.1111111111111111, \"#46039f\"], [0.2222222222222222, \"#7201a8\"], [0.3333333333333333, \"#9c179e\"], [0.4444444444444444, \"#bd3786\"], [0.5555555555555556, \"#d8576b\"], [0.6666666666666666, \"#ed7953\"], [0.7777777777777778, \"#fb9f3a\"], [0.8888888888888888, \"#fdca26\"], [1.0, \"#f0f921\"]], \"type\": \"heatmap\"}], \"heatmapgl\": [{\"colorbar\": {\"outlinewidth\": 0, \"ticks\": \"\"}, \"colorscale\": [[0.0, \"#0d0887\"], [0.1111111111111111, \"#46039f\"], [0.2222222222222222, \"#7201a8\"], [0.3333333333333333, \"#9c179e\"], [0.4444444444444444, \"#bd3786\"], [0.5555555555555556, \"#d8576b\"], [0.6666666666666666, \"#ed7953\"], [0.7777777777777778, \"#fb9f3a\"], [0.8888888888888888, \"#fdca26\"], [1.0, \"#f0f921\"]], \"type\": \"heatmapgl\"}], \"histogram\": [{\"marker\": {\"colorbar\": {\"outlinewidth\": 0, \"ticks\": \"\"}}, \"type\": \"histogram\"}], \"histogram2d\": [{\"colorbar\": {\"outlinewidth\": 0, \"ticks\": \"\"}, \"colorscale\": [[0.0, \"#0d0887\"], [0.1111111111111111, \"#46039f\"], [0.2222222222222222, \"#7201a8\"], [0.3333333333333333, \"#9c179e\"], [0.4444444444444444, \"#bd3786\"], [0.5555555555555556, \"#d8576b\"], [0.6666666666666666, \"#ed7953\"], [0.7777777777777778, \"#fb9f3a\"], [0.8888888888888888, \"#fdca26\"], [1.0, \"#f0f921\"]], \"type\": \"histogram2d\"}], \"histogram2dcontour\": [{\"colorbar\": {\"outlinewidth\": 0, \"ticks\": \"\"}, \"colorscale\": [[0.0, \"#0d0887\"], [0.1111111111111111, \"#46039f\"], [0.2222222222222222, \"#7201a8\"], [0.3333333333333333, \"#9c179e\"], [0.4444444444444444, \"#bd3786\"], [0.5555555555555556, \"#d8576b\"], [0.6666666666666666, \"#ed7953\"], [0.7777777777777778, \"#fb9f3a\"], [0.8888888888888888, \"#fdca26\"], [1.0, \"#f0f921\"]], \"type\": \"histogram2dcontour\"}], \"mesh3d\": [{\"colorbar\": {\"outlinewidth\": 0, \"ticks\": \"\"}, \"type\": \"mesh3d\"}], \"parcoords\": [{\"line\": {\"colorbar\": {\"outlinewidth\": 0, \"ticks\": \"\"}}, \"type\": \"parcoords\"}], \"pie\": [{\"automargin\": true, \"type\": \"pie\"}], \"scatter\": [{\"marker\": {\"colorbar\": {\"outlinewidth\": 0, \"ticks\": \"\"}}, \"type\": \"scatter\"}], \"scatter3d\": [{\"line\": {\"colorbar\": {\"outlinewidth\": 0, \"ticks\": \"\"}}, \"marker\": {\"colorbar\": {\"outlinewidth\": 0, \"ticks\": \"\"}}, \"type\": \"scatter3d\"}], \"scattercarpet\": [{\"marker\": {\"colorbar\": {\"outlinewidth\": 0, \"ticks\": \"\"}}, \"type\": \"scattercarpet\"}], \"scattergeo\": [{\"marker\": {\"colorbar\": {\"outlinewidth\": 0, \"ticks\": \"\"}}, \"type\": \"scattergeo\"}], \"scattergl\": [{\"marker\": {\"colorbar\": {\"outlinewidth\": 0, \"ticks\": \"\"}}, \"type\": \"scattergl\"}], \"scattermapbox\": [{\"marker\": {\"colorbar\": {\"outlinewidth\": 0, \"ticks\": \"\"}}, \"type\": \"scattermapbox\"}], \"scatterpolar\": [{\"marker\": {\"colorbar\": {\"outlinewidth\": 0, \"ticks\": \"\"}}, \"type\": \"scatterpolar\"}], \"scatterpolargl\": [{\"marker\": {\"colorbar\": {\"outlinewidth\": 0, \"ticks\": \"\"}}, \"type\": \"scatterpolargl\"}], \"scatterternary\": [{\"marker\": {\"colorbar\": {\"outlinewidth\": 0, \"ticks\": \"\"}}, \"type\": \"scatterternary\"}], \"surface\": [{\"colorbar\": {\"outlinewidth\": 0, \"ticks\": \"\"}, \"colorscale\": [[0.0, \"#0d0887\"], [0.1111111111111111, \"#46039f\"], [0.2222222222222222, \"#7201a8\"], [0.3333333333333333, \"#9c179e\"], [0.4444444444444444, \"#bd3786\"], [0.5555555555555556, \"#d8576b\"], [0.6666666666666666, \"#ed7953\"], [0.7777777777777778, \"#fb9f3a\"], [0.8888888888888888, \"#fdca26\"], [1.0, \"#f0f921\"]], \"type\": \"surface\"}], \"table\": [{\"cells\": {\"fill\": {\"color\": \"#EBF0F8\"}, \"line\": {\"color\": \"white\"}}, \"header\": {\"fill\": {\"color\": \"#C8D4E3\"}, \"line\": {\"color\": \"white\"}}, \"type\": \"table\"}]}, \"layout\": {\"annotationdefaults\": {\"arrowcolor\": \"#2a3f5f\", \"arrowhead\": 0, \"arrowwidth\": 1}, \"coloraxis\": {\"colorbar\": {\"outlinewidth\": 0, \"ticks\": \"\"}}, \"colorscale\": {\"diverging\": [[0, \"#8e0152\"], [0.1, \"#c51b7d\"], [0.2, \"#de77ae\"], [0.3, \"#f1b6da\"], [0.4, \"#fde0ef\"], [0.5, \"#f7f7f7\"], [0.6, \"#e6f5d0\"], [0.7, \"#b8e186\"], [0.8, \"#7fbc41\"], [0.9, \"#4d9221\"], [1, \"#276419\"]], \"sequential\": [[0.0, \"#0d0887\"], [0.1111111111111111, \"#46039f\"], [0.2222222222222222, \"#7201a8\"], [0.3333333333333333, \"#9c179e\"], [0.4444444444444444, \"#bd3786\"], [0.5555555555555556, \"#d8576b\"], [0.6666666666666666, \"#ed7953\"], [0.7777777777777778, \"#fb9f3a\"], [0.8888888888888888, \"#fdca26\"], [1.0, \"#f0f921\"]], \"sequentialminus\": [[0.0, \"#0d0887\"], [0.1111111111111111, \"#46039f\"], [0.2222222222222222, \"#7201a8\"], [0.3333333333333333, \"#9c179e\"], [0.4444444444444444, \"#bd3786\"], [0.5555555555555556, \"#d8576b\"], [0.6666666666666666, \"#ed7953\"], [0.7777777777777778, \"#fb9f3a\"], [0.8888888888888888, \"#fdca26\"], [1.0, \"#f0f921\"]]}, \"colorway\": [\"#636efa\", \"#EF553B\", \"#00cc96\", \"#ab63fa\", \"#FFA15A\", \"#19d3f3\", \"#FF6692\", \"#B6E880\", \"#FF97FF\", \"#FECB52\"], \"font\": {\"color\": \"#2a3f5f\"}, \"geo\": {\"bgcolor\": \"white\", \"lakecolor\": \"white\", \"landcolor\": \"#E5ECF6\", \"showlakes\": true, \"showland\": true, \"subunitcolor\": \"white\"}, \"hoverlabel\": {\"align\": \"left\"}, \"hovermode\": \"closest\", \"mapbox\": {\"style\": \"light\"}, \"paper_bgcolor\": \"white\", \"plot_bgcolor\": \"#E5ECF6\", \"polar\": {\"angularaxis\": {\"gridcolor\": \"white\", \"linecolor\": \"white\", \"ticks\": \"\"}, \"bgcolor\": \"#E5ECF6\", \"radialaxis\": {\"gridcolor\": \"white\", \"linecolor\": \"white\", \"ticks\": \"\"}}, \"scene\": {\"xaxis\": {\"backgroundcolor\": \"#E5ECF6\", \"gridcolor\": \"white\", \"gridwidth\": 2, \"linecolor\": \"white\", \"showbackground\": true, \"ticks\": \"\", \"zerolinecolor\": \"white\"}, \"yaxis\": {\"backgroundcolor\": \"#E5ECF6\", \"gridcolor\": \"white\", \"gridwidth\": 2, \"linecolor\": \"white\", \"showbackground\": true, \"ticks\": \"\", \"zerolinecolor\": \"white\"}, \"zaxis\": {\"backgroundcolor\": \"#E5ECF6\", \"gridcolor\": \"white\", \"gridwidth\": 2, \"linecolor\": \"white\", \"showbackground\": true, \"ticks\": \"\", \"zerolinecolor\": \"white\"}}, \"shapedefaults\": {\"line\": {\"color\": \"#2a3f5f\"}}, \"ternary\": {\"aaxis\": {\"gridcolor\": \"white\", \"linecolor\": \"white\", \"ticks\": \"\"}, \"baxis\": {\"gridcolor\": \"white\", \"linecolor\": \"white\", \"ticks\": \"\"}, \"bgcolor\": \"#E5ECF6\", \"caxis\": {\"gridcolor\": \"white\", \"linecolor\": \"white\", \"ticks\": \"\"}}, \"title\": {\"x\": 0.05}, \"xaxis\": {\"automargin\": true, \"gridcolor\": \"white\", \"linecolor\": \"white\", \"ticks\": \"\", \"title\": {\"standoff\": 15}, \"zerolinecolor\": \"white\", \"zerolinewidth\": 2}, \"yaxis\": {\"automargin\": true, \"gridcolor\": \"white\", \"linecolor\": \"white\", \"ticks\": \"\", \"title\": {\"standoff\": 15}, \"zerolinecolor\": \"white\", \"zerolinewidth\": 2}}}, \"title\": {\"text\": \"Number of Homes\", \"x\": 0.54, \"y\": 0.89}, \"updatemenus\": [{\"active\": 0, \"buttons\": [{\"args\": [{\"visible\": [true, false]}, {\"title\": \"Number of Homes\"}], \"label\": \"Number of Homes\", \"method\": \"update\"}, {\"args\": [{\"visible\": [false, true]}, {\"title\": \"Number of Checkins\"}], \"label\": \"Number of Checkins\", \"method\": \"update\"}]}]},                        {\"responsive\": true}                    ).then(function(){\n",
       "                            \n",
       "var gd = document.getElementById('63ed33c0-2c95-4d01-8711-5999fa231e3a');\n",
       "var x = new MutationObserver(function (mutations, observer) {{\n",
       "        var display = window.getComputedStyle(gd).display;\n",
       "        if (!display || display === 'none') {{\n",
       "            console.log([gd, 'removed!']);\n",
       "            Plotly.purge(gd);\n",
       "            observer.disconnect();\n",
       "        }}\n",
       "}});\n",
       "\n",
       "// Listen for the removal of the full notebook cells\n",
       "var notebookContainer = gd.closest('#notebook-container');\n",
       "if (notebookContainer) {{\n",
       "    x.observe(notebookContainer, {childList: true});\n",
       "}}\n",
       "\n",
       "// Listen for the clearing of the current output cell\n",
       "var outputEl = gd.closest('.output');\n",
       "if (outputEl) {{\n",
       "    x.observe(outputEl, {childList: true});\n",
       "}}\n",
       "\n",
       "                        })                };                });            </script>        </div>"
      ]
     },
     "metadata": {},
     "output_type": "display_data"
    }
   ],
   "source": [
    "# Data\n",
    "cols_dd = [\"number_of_homes\", \"number_of_checkins\"]\n",
    "\n",
    "# we need to add this to select which trace \n",
    "# is going to be visible\n",
    "visible = np.array(cols_dd)\n",
    "\n",
    "cscale = ['#003f5c','#1e4365','#32466e','#454a76','#574c7d','#684e82','#7a5087',\n",
    "          '#8d518b','#9f518e','#b25190','#c3528c','#d15782','#dc5d78','#e6656e',\n",
    "          '#ef6e63','#f57858','#fa824b','#fd8e3c','#ff9a29','#ffa600']\n",
    "\n",
    "colorbar[0] = dict(title='Number of homes', tickvals = [0, 1, 2, 3, 4], \n",
    "                ticktext = ['1', '10', '100', '1000','10000'])\n",
    "\n",
    "colorbar[1] = dict(title='Number of checkins', tickvals = [0, 1, 2, 3, 4, 5, 6], \n",
    "                ticktext = ['1', '100', '100', '1000', '10000', '100000', '1000000'])\n",
    "\n",
    "# define traces and buttons at once\n",
    "traces = []\n",
    "buttons = []\n",
    "for i, value in enumerate(cols_dd):\n",
    "    if value == 'number_of_homes':\n",
    "        title = 'Number of Homes'\n",
    "        disp = 'display_x'\n",
    "    elif value == 'number_of_checkins':\n",
    "        title = 'Number of Checkins'\n",
    "        disp = 'display_y'\n",
    "        \n",
    "    traces.append(go.Choropleth(\n",
    "        locations=temp_df['country_code'], # Spatial coordinates\n",
    "        z=np.log10(temp_df[value]), # Data to be color-coded\n",
    "        hovertemplate = temp_df[disp],\n",
    "        colorscale = cscale,\n",
    "        colorbar = colorbar[i],\n",
    "        colorbar_title=title,\n",
    "        visible= True if value==cols_dd[0] else False))\n",
    "\n",
    "    buttons.append(dict(label=title,\n",
    "                        method=\"update\",\n",
    "                        args=[{\"visible\":list(visible==value)},\n",
    "                              {\"title\":f\"{title}\"}]))\n",
    "\n",
    "updatemenus = [{\"active\":0,\n",
    "                \"buttons\":buttons,\n",
    "               }]\n",
    "\n",
    "\n",
    "# Show figure\n",
    "fig = go.Figure(data=traces,\n",
    "                layout=dict(updatemenus=updatemenus))\n",
    "\n",
    "fig.update_geos(projection_type=\"natural earth\")\n",
    "\n",
    "# This is in order to get the first title displayed correctly\n",
    "first_title = 'Number of Homes'\n",
    "fig.update_layout(title=f\"{first_title}\",title_x=0.54,title_y=0.89)\n",
    "fig.show()"
   ]
  },
  {
   "cell_type": "markdown",
   "metadata": {},
   "source": [
    "We can also display a bar chart showing the number of check-ins homes and for the top 20 countries."
   ]
  },
  {
   "cell_type": "code",
   "execution_count": 517,
   "metadata": {
    "scrolled": false
   },
   "outputs": [
    {
     "data": {
      "application/vnd.plotly.v1+json": {
       "config": {
        "plotlyServerURL": "https://plot.ly"
       },
       "data": [
        {
         "customdata": [
          "Peru",
          "Singapore",
          "Germany",
          "Italy",
          "Korea, Republic of",
          "Canada",
          "Netherlands",
          "United Kingdom",
          "Spain",
          "Philippines",
          "Russian Federation",
          "Thailand",
          "Chile",
          "Mexico",
          "Malaysia",
          "Japan",
          "Turkey",
          "Indonesia",
          "Brazil",
          "United States"
         ],
         "hovertemplate": "Number: %{x:f}<br>Country: %{customdata}<extra></extra>",
         "marker": {
          "color": [
           "#003f5c",
           "#1e4365",
           "#32466e",
           "#454a76",
           "#574c7d",
           "#684e82",
           "#7a5087",
           "#8d518b",
           "#9f518e",
           "#b25190",
           "#c3528c",
           "#d15782",
           "#dc5d78",
           "#e6656e",
           "#ef6e63",
           "#f57858",
           "#fa824b",
           "#fd8e3c",
           "#ff9a29",
           "#ffa600"
          ]
         },
         "orientation": "h",
         "showlegend": false,
         "textposition": "outside",
         "type": "bar",
         "x": [
          731,
          799,
          811,
          901,
          905,
          980,
          1044,
          1564,
          1569,
          2421,
          2879,
          3334,
          4708,
          5850,
          5975,
          7693,
          9048,
          10553,
          10749,
          13857
         ],
         "xaxis": "x",
         "y": [
          "PER",
          "SGP",
          "DEU",
          "ITA",
          "KOR",
          "CAN",
          "NLD",
          "GBR",
          "ESP",
          "PHL",
          "RUS",
          "THA",
          "CHL",
          "MEX",
          "MYS",
          "JPN",
          "TUR",
          "IDN",
          "BRA",
          "USA"
         ],
         "yaxis": "y"
        },
        {
         "customdata": [
          "Canada",
          "Peru",
          "Germany",
          "Italy",
          "Korea, Republic of",
          "Netherlands",
          "Singapore",
          "Spain",
          "United Kingdom",
          "Philippines",
          "Russian Federation",
          "Thailand",
          "Chile",
          "Mexico",
          "Malaysia",
          "Turkey",
          "Indonesia",
          "Brazil",
          "Japan",
          "United States"
         ],
         "hovertemplate": "Number: %{x:f}<br>Country: %{customdata}<extra></extra>",
         "marker": {
          "color": [
           "#003f5c",
           "#1e4365",
           "#32466e",
           "#454a76",
           "#574c7d",
           "#684e82",
           "#7a5087",
           "#8d518b",
           "#9f518e",
           "#b25190",
           "#c3528c",
           "#d15782",
           "#dc5d78",
           "#e6656e",
           "#ef6e63",
           "#f57858",
           "#fa824b",
           "#fd8e3c",
           "#ff9a29",
           "#ffa600"
          ]
         },
         "orientation": "h",
         "showlegend": false,
         "textposition": "outside",
         "type": "bar",
         "x": [
          141640,
          162677,
          173223,
          173934,
          190466,
          196206,
          214295,
          275753,
          301822,
          497425,
          534230,
          703245,
          923800,
          987263,
          1238039,
          1619879,
          1708758,
          2136751,
          2339264,
          2867416
         ],
         "xaxis": "x2",
         "y": [
          "CAN",
          "PER",
          "DEU",
          "ITA",
          "KOR",
          "NLD",
          "SGP",
          "ESP",
          "GBR",
          "PHL",
          "RUS",
          "THA",
          "CHL",
          "MEX",
          "MYS",
          "TUR",
          "IDN",
          "BRA",
          "JPN",
          "USA"
         ],
         "yaxis": "y2"
        }
       ],
       "layout": {
        "height": 600,
        "plot_bgcolor": "#F5F5FF",
        "template": {
         "data": {
          "bar": [
           {
            "error_x": {
             "color": "#2a3f5f"
            },
            "error_y": {
             "color": "#2a3f5f"
            },
            "marker": {
             "line": {
              "color": "#E5ECF6",
              "width": 0.5
             }
            },
            "type": "bar"
           }
          ],
          "barpolar": [
           {
            "marker": {
             "line": {
              "color": "#E5ECF6",
              "width": 0.5
             }
            },
            "type": "barpolar"
           }
          ],
          "carpet": [
           {
            "aaxis": {
             "endlinecolor": "#2a3f5f",
             "gridcolor": "white",
             "linecolor": "white",
             "minorgridcolor": "white",
             "startlinecolor": "#2a3f5f"
            },
            "baxis": {
             "endlinecolor": "#2a3f5f",
             "gridcolor": "white",
             "linecolor": "white",
             "minorgridcolor": "white",
             "startlinecolor": "#2a3f5f"
            },
            "type": "carpet"
           }
          ],
          "choropleth": [
           {
            "colorbar": {
             "outlinewidth": 0,
             "ticks": ""
            },
            "type": "choropleth"
           }
          ],
          "contour": [
           {
            "colorbar": {
             "outlinewidth": 0,
             "ticks": ""
            },
            "colorscale": [
             [
              0,
              "#0d0887"
             ],
             [
              0.1111111111111111,
              "#46039f"
             ],
             [
              0.2222222222222222,
              "#7201a8"
             ],
             [
              0.3333333333333333,
              "#9c179e"
             ],
             [
              0.4444444444444444,
              "#bd3786"
             ],
             [
              0.5555555555555556,
              "#d8576b"
             ],
             [
              0.6666666666666666,
              "#ed7953"
             ],
             [
              0.7777777777777778,
              "#fb9f3a"
             ],
             [
              0.8888888888888888,
              "#fdca26"
             ],
             [
              1,
              "#f0f921"
             ]
            ],
            "type": "contour"
           }
          ],
          "contourcarpet": [
           {
            "colorbar": {
             "outlinewidth": 0,
             "ticks": ""
            },
            "type": "contourcarpet"
           }
          ],
          "heatmap": [
           {
            "colorbar": {
             "outlinewidth": 0,
             "ticks": ""
            },
            "colorscale": [
             [
              0,
              "#0d0887"
             ],
             [
              0.1111111111111111,
              "#46039f"
             ],
             [
              0.2222222222222222,
              "#7201a8"
             ],
             [
              0.3333333333333333,
              "#9c179e"
             ],
             [
              0.4444444444444444,
              "#bd3786"
             ],
             [
              0.5555555555555556,
              "#d8576b"
             ],
             [
              0.6666666666666666,
              "#ed7953"
             ],
             [
              0.7777777777777778,
              "#fb9f3a"
             ],
             [
              0.8888888888888888,
              "#fdca26"
             ],
             [
              1,
              "#f0f921"
             ]
            ],
            "type": "heatmap"
           }
          ],
          "heatmapgl": [
           {
            "colorbar": {
             "outlinewidth": 0,
             "ticks": ""
            },
            "colorscale": [
             [
              0,
              "#0d0887"
             ],
             [
              0.1111111111111111,
              "#46039f"
             ],
             [
              0.2222222222222222,
              "#7201a8"
             ],
             [
              0.3333333333333333,
              "#9c179e"
             ],
             [
              0.4444444444444444,
              "#bd3786"
             ],
             [
              0.5555555555555556,
              "#d8576b"
             ],
             [
              0.6666666666666666,
              "#ed7953"
             ],
             [
              0.7777777777777778,
              "#fb9f3a"
             ],
             [
              0.8888888888888888,
              "#fdca26"
             ],
             [
              1,
              "#f0f921"
             ]
            ],
            "type": "heatmapgl"
           }
          ],
          "histogram": [
           {
            "marker": {
             "colorbar": {
              "outlinewidth": 0,
              "ticks": ""
             }
            },
            "type": "histogram"
           }
          ],
          "histogram2d": [
           {
            "colorbar": {
             "outlinewidth": 0,
             "ticks": ""
            },
            "colorscale": [
             [
              0,
              "#0d0887"
             ],
             [
              0.1111111111111111,
              "#46039f"
             ],
             [
              0.2222222222222222,
              "#7201a8"
             ],
             [
              0.3333333333333333,
              "#9c179e"
             ],
             [
              0.4444444444444444,
              "#bd3786"
             ],
             [
              0.5555555555555556,
              "#d8576b"
             ],
             [
              0.6666666666666666,
              "#ed7953"
             ],
             [
              0.7777777777777778,
              "#fb9f3a"
             ],
             [
              0.8888888888888888,
              "#fdca26"
             ],
             [
              1,
              "#f0f921"
             ]
            ],
            "type": "histogram2d"
           }
          ],
          "histogram2dcontour": [
           {
            "colorbar": {
             "outlinewidth": 0,
             "ticks": ""
            },
            "colorscale": [
             [
              0,
              "#0d0887"
             ],
             [
              0.1111111111111111,
              "#46039f"
             ],
             [
              0.2222222222222222,
              "#7201a8"
             ],
             [
              0.3333333333333333,
              "#9c179e"
             ],
             [
              0.4444444444444444,
              "#bd3786"
             ],
             [
              0.5555555555555556,
              "#d8576b"
             ],
             [
              0.6666666666666666,
              "#ed7953"
             ],
             [
              0.7777777777777778,
              "#fb9f3a"
             ],
             [
              0.8888888888888888,
              "#fdca26"
             ],
             [
              1,
              "#f0f921"
             ]
            ],
            "type": "histogram2dcontour"
           }
          ],
          "mesh3d": [
           {
            "colorbar": {
             "outlinewidth": 0,
             "ticks": ""
            },
            "type": "mesh3d"
           }
          ],
          "parcoords": [
           {
            "line": {
             "colorbar": {
              "outlinewidth": 0,
              "ticks": ""
             }
            },
            "type": "parcoords"
           }
          ],
          "pie": [
           {
            "automargin": true,
            "type": "pie"
           }
          ],
          "scatter": [
           {
            "marker": {
             "colorbar": {
              "outlinewidth": 0,
              "ticks": ""
             }
            },
            "type": "scatter"
           }
          ],
          "scatter3d": [
           {
            "line": {
             "colorbar": {
              "outlinewidth": 0,
              "ticks": ""
             }
            },
            "marker": {
             "colorbar": {
              "outlinewidth": 0,
              "ticks": ""
             }
            },
            "type": "scatter3d"
           }
          ],
          "scattercarpet": [
           {
            "marker": {
             "colorbar": {
              "outlinewidth": 0,
              "ticks": ""
             }
            },
            "type": "scattercarpet"
           }
          ],
          "scattergeo": [
           {
            "marker": {
             "colorbar": {
              "outlinewidth": 0,
              "ticks": ""
             }
            },
            "type": "scattergeo"
           }
          ],
          "scattergl": [
           {
            "marker": {
             "colorbar": {
              "outlinewidth": 0,
              "ticks": ""
             }
            },
            "type": "scattergl"
           }
          ],
          "scattermapbox": [
           {
            "marker": {
             "colorbar": {
              "outlinewidth": 0,
              "ticks": ""
             }
            },
            "type": "scattermapbox"
           }
          ],
          "scatterpolar": [
           {
            "marker": {
             "colorbar": {
              "outlinewidth": 0,
              "ticks": ""
             }
            },
            "type": "scatterpolar"
           }
          ],
          "scatterpolargl": [
           {
            "marker": {
             "colorbar": {
              "outlinewidth": 0,
              "ticks": ""
             }
            },
            "type": "scatterpolargl"
           }
          ],
          "scatterternary": [
           {
            "marker": {
             "colorbar": {
              "outlinewidth": 0,
              "ticks": ""
             }
            },
            "type": "scatterternary"
           }
          ],
          "surface": [
           {
            "colorbar": {
             "outlinewidth": 0,
             "ticks": ""
            },
            "colorscale": [
             [
              0,
              "#0d0887"
             ],
             [
              0.1111111111111111,
              "#46039f"
             ],
             [
              0.2222222222222222,
              "#7201a8"
             ],
             [
              0.3333333333333333,
              "#9c179e"
             ],
             [
              0.4444444444444444,
              "#bd3786"
             ],
             [
              0.5555555555555556,
              "#d8576b"
             ],
             [
              0.6666666666666666,
              "#ed7953"
             ],
             [
              0.7777777777777778,
              "#fb9f3a"
             ],
             [
              0.8888888888888888,
              "#fdca26"
             ],
             [
              1,
              "#f0f921"
             ]
            ],
            "type": "surface"
           }
          ],
          "table": [
           {
            "cells": {
             "fill": {
              "color": "#EBF0F8"
             },
             "line": {
              "color": "white"
             }
            },
            "header": {
             "fill": {
              "color": "#C8D4E3"
             },
             "line": {
              "color": "white"
             }
            },
            "type": "table"
           }
          ]
         },
         "layout": {
          "annotationdefaults": {
           "arrowcolor": "#2a3f5f",
           "arrowhead": 0,
           "arrowwidth": 1
          },
          "coloraxis": {
           "colorbar": {
            "outlinewidth": 0,
            "ticks": ""
           }
          },
          "colorscale": {
           "diverging": [
            [
             0,
             "#8e0152"
            ],
            [
             0.1,
             "#c51b7d"
            ],
            [
             0.2,
             "#de77ae"
            ],
            [
             0.3,
             "#f1b6da"
            ],
            [
             0.4,
             "#fde0ef"
            ],
            [
             0.5,
             "#f7f7f7"
            ],
            [
             0.6,
             "#e6f5d0"
            ],
            [
             0.7,
             "#b8e186"
            ],
            [
             0.8,
             "#7fbc41"
            ],
            [
             0.9,
             "#4d9221"
            ],
            [
             1,
             "#276419"
            ]
           ],
           "sequential": [
            [
             0,
             "#0d0887"
            ],
            [
             0.1111111111111111,
             "#46039f"
            ],
            [
             0.2222222222222222,
             "#7201a8"
            ],
            [
             0.3333333333333333,
             "#9c179e"
            ],
            [
             0.4444444444444444,
             "#bd3786"
            ],
            [
             0.5555555555555556,
             "#d8576b"
            ],
            [
             0.6666666666666666,
             "#ed7953"
            ],
            [
             0.7777777777777778,
             "#fb9f3a"
            ],
            [
             0.8888888888888888,
             "#fdca26"
            ],
            [
             1,
             "#f0f921"
            ]
           ],
           "sequentialminus": [
            [
             0,
             "#0d0887"
            ],
            [
             0.1111111111111111,
             "#46039f"
            ],
            [
             0.2222222222222222,
             "#7201a8"
            ],
            [
             0.3333333333333333,
             "#9c179e"
            ],
            [
             0.4444444444444444,
             "#bd3786"
            ],
            [
             0.5555555555555556,
             "#d8576b"
            ],
            [
             0.6666666666666666,
             "#ed7953"
            ],
            [
             0.7777777777777778,
             "#fb9f3a"
            ],
            [
             0.8888888888888888,
             "#fdca26"
            ],
            [
             1,
             "#f0f921"
            ]
           ]
          },
          "colorway": [
           "#636efa",
           "#EF553B",
           "#00cc96",
           "#ab63fa",
           "#FFA15A",
           "#19d3f3",
           "#FF6692",
           "#B6E880",
           "#FF97FF",
           "#FECB52"
          ],
          "font": {
           "color": "#2a3f5f"
          },
          "geo": {
           "bgcolor": "white",
           "lakecolor": "white",
           "landcolor": "#E5ECF6",
           "showlakes": true,
           "showland": true,
           "subunitcolor": "white"
          },
          "hoverlabel": {
           "align": "left"
          },
          "hovermode": "closest",
          "mapbox": {
           "style": "light"
          },
          "paper_bgcolor": "white",
          "plot_bgcolor": "#E5ECF6",
          "polar": {
           "angularaxis": {
            "gridcolor": "white",
            "linecolor": "white",
            "ticks": ""
           },
           "bgcolor": "#E5ECF6",
           "radialaxis": {
            "gridcolor": "white",
            "linecolor": "white",
            "ticks": ""
           }
          },
          "scene": {
           "xaxis": {
            "backgroundcolor": "#E5ECF6",
            "gridcolor": "white",
            "gridwidth": 2,
            "linecolor": "white",
            "showbackground": true,
            "ticks": "",
            "zerolinecolor": "white"
           },
           "yaxis": {
            "backgroundcolor": "#E5ECF6",
            "gridcolor": "white",
            "gridwidth": 2,
            "linecolor": "white",
            "showbackground": true,
            "ticks": "",
            "zerolinecolor": "white"
           },
           "zaxis": {
            "backgroundcolor": "#E5ECF6",
            "gridcolor": "white",
            "gridwidth": 2,
            "linecolor": "white",
            "showbackground": true,
            "ticks": "",
            "zerolinecolor": "white"
           }
          },
          "shapedefaults": {
           "line": {
            "color": "#2a3f5f"
           }
          },
          "ternary": {
           "aaxis": {
            "gridcolor": "white",
            "linecolor": "white",
            "ticks": ""
           },
           "baxis": {
            "gridcolor": "white",
            "linecolor": "white",
            "ticks": ""
           },
           "bgcolor": "#E5ECF6",
           "caxis": {
            "gridcolor": "white",
            "linecolor": "white",
            "ticks": ""
           }
          },
          "title": {
           "x": 0.05
          },
          "xaxis": {
           "automargin": true,
           "gridcolor": "white",
           "linecolor": "white",
           "ticks": "",
           "title": {
            "standoff": 15
           },
           "zerolinecolor": "white",
           "zerolinewidth": 2
          },
          "yaxis": {
           "automargin": true,
           "gridcolor": "white",
           "linecolor": "white",
           "ticks": "",
           "title": {
            "standoff": 15
           },
           "zerolinecolor": "white",
           "zerolinewidth": 2
          }
         }
        },
        "title": {
         "text": "Home and check-in numbers for top 20 countries",
         "x": 0.5,
         "y": 0.89
        },
        "width": 950,
        "xaxis": {
         "anchor": "y",
         "autorange": "reversed",
         "domain": [
          0,
          0.477
         ],
         "title": {
          "text": "Number of homes"
         }
        },
        "xaxis2": {
         "anchor": "y2",
         "domain": [
          0.523,
          1
         ],
         "title": {
          "text": "Number of check-ins"
         }
        },
        "yaxis": {
         "anchor": "x",
         "domain": [
          0,
          1
         ],
         "side": "right",
         "title": {
          "text": " "
         }
        },
        "yaxis2": {
         "anchor": "x2",
         "domain": [
          0,
          1
         ],
         "matches": "y",
         "showticklabels": false
        }
       }
      },
      "text/html": [
       "<div>                            <div id=\"395a9c55-f14a-459e-b3b0-8760096e661e\" class=\"plotly-graph-div\" style=\"height:600px; width:950px;\"></div>            <script type=\"text/javascript\">                require([\"plotly\"], function(Plotly) {                    window.PLOTLYENV=window.PLOTLYENV || {};                                    if (document.getElementById(\"395a9c55-f14a-459e-b3b0-8760096e661e\")) {                    Plotly.newPlot(                        \"395a9c55-f14a-459e-b3b0-8760096e661e\",                        [{\"customdata\": [\"Peru\", \"Singapore\", \"Germany\", \"Italy\", \"Korea, Republic of\", \"Canada\", \"Netherlands\", \"United Kingdom\", \"Spain\", \"Philippines\", \"Russian Federation\", \"Thailand\", \"Chile\", \"Mexico\", \"Malaysia\", \"Japan\", \"Turkey\", \"Indonesia\", \"Brazil\", \"United States\"], \"hovertemplate\": \"Number: %{x:f}<br>Country: %{customdata}<extra></extra>\", \"marker\": {\"color\": [\"#003f5c\", \"#1e4365\", \"#32466e\", \"#454a76\", \"#574c7d\", \"#684e82\", \"#7a5087\", \"#8d518b\", \"#9f518e\", \"#b25190\", \"#c3528c\", \"#d15782\", \"#dc5d78\", \"#e6656e\", \"#ef6e63\", \"#f57858\", \"#fa824b\", \"#fd8e3c\", \"#ff9a29\", \"#ffa600\"]}, \"orientation\": \"h\", \"showlegend\": false, \"textposition\": \"outside\", \"type\": \"bar\", \"x\": [731, 799, 811, 901, 905, 980, 1044, 1564, 1569, 2421, 2879, 3334, 4708, 5850, 5975, 7693, 9048, 10553, 10749, 13857], \"xaxis\": \"x\", \"y\": [\"PER\", \"SGP\", \"DEU\", \"ITA\", \"KOR\", \"CAN\", \"NLD\", \"GBR\", \"ESP\", \"PHL\", \"RUS\", \"THA\", \"CHL\", \"MEX\", \"MYS\", \"JPN\", \"TUR\", \"IDN\", \"BRA\", \"USA\"], \"yaxis\": \"y\"}, {\"customdata\": [\"Canada\", \"Peru\", \"Germany\", \"Italy\", \"Korea, Republic of\", \"Netherlands\", \"Singapore\", \"Spain\", \"United Kingdom\", \"Philippines\", \"Russian Federation\", \"Thailand\", \"Chile\", \"Mexico\", \"Malaysia\", \"Turkey\", \"Indonesia\", \"Brazil\", \"Japan\", \"United States\"], \"hovertemplate\": \"Number: %{x:f}<br>Country: %{customdata}<extra></extra>\", \"marker\": {\"color\": [\"#003f5c\", \"#1e4365\", \"#32466e\", \"#454a76\", \"#574c7d\", \"#684e82\", \"#7a5087\", \"#8d518b\", \"#9f518e\", \"#b25190\", \"#c3528c\", \"#d15782\", \"#dc5d78\", \"#e6656e\", \"#ef6e63\", \"#f57858\", \"#fa824b\", \"#fd8e3c\", \"#ff9a29\", \"#ffa600\"]}, \"orientation\": \"h\", \"showlegend\": false, \"textposition\": \"outside\", \"type\": \"bar\", \"x\": [141640, 162677, 173223, 173934, 190466, 196206, 214295, 275753, 301822, 497425, 534230, 703245, 923800, 987263, 1238039, 1619879, 1708758, 2136751, 2339264, 2867416], \"xaxis\": \"x2\", \"y\": [\"CAN\", \"PER\", \"DEU\", \"ITA\", \"KOR\", \"NLD\", \"SGP\", \"ESP\", \"GBR\", \"PHL\", \"RUS\", \"THA\", \"CHL\", \"MEX\", \"MYS\", \"TUR\", \"IDN\", \"BRA\", \"JPN\", \"USA\"], \"yaxis\": \"y2\"}],                        {\"height\": 600, \"plot_bgcolor\": \"#F5F5FF\", \"template\": {\"data\": {\"bar\": [{\"error_x\": {\"color\": \"#2a3f5f\"}, \"error_y\": {\"color\": \"#2a3f5f\"}, \"marker\": {\"line\": {\"color\": \"#E5ECF6\", \"width\": 0.5}}, \"type\": \"bar\"}], \"barpolar\": [{\"marker\": {\"line\": {\"color\": \"#E5ECF6\", \"width\": 0.5}}, \"type\": \"barpolar\"}], \"carpet\": [{\"aaxis\": {\"endlinecolor\": \"#2a3f5f\", \"gridcolor\": \"white\", \"linecolor\": \"white\", \"minorgridcolor\": \"white\", \"startlinecolor\": \"#2a3f5f\"}, \"baxis\": {\"endlinecolor\": \"#2a3f5f\", \"gridcolor\": \"white\", \"linecolor\": \"white\", \"minorgridcolor\": \"white\", \"startlinecolor\": \"#2a3f5f\"}, \"type\": \"carpet\"}], \"choropleth\": [{\"colorbar\": {\"outlinewidth\": 0, \"ticks\": \"\"}, \"type\": \"choropleth\"}], \"contour\": [{\"colorbar\": {\"outlinewidth\": 0, \"ticks\": \"\"}, \"colorscale\": [[0.0, \"#0d0887\"], [0.1111111111111111, \"#46039f\"], [0.2222222222222222, \"#7201a8\"], [0.3333333333333333, \"#9c179e\"], [0.4444444444444444, \"#bd3786\"], [0.5555555555555556, \"#d8576b\"], [0.6666666666666666, \"#ed7953\"], [0.7777777777777778, \"#fb9f3a\"], [0.8888888888888888, \"#fdca26\"], [1.0, \"#f0f921\"]], \"type\": \"contour\"}], \"contourcarpet\": [{\"colorbar\": {\"outlinewidth\": 0, \"ticks\": \"\"}, \"type\": \"contourcarpet\"}], \"heatmap\": [{\"colorbar\": {\"outlinewidth\": 0, \"ticks\": \"\"}, \"colorscale\": [[0.0, \"#0d0887\"], [0.1111111111111111, \"#46039f\"], [0.2222222222222222, \"#7201a8\"], [0.3333333333333333, \"#9c179e\"], [0.4444444444444444, \"#bd3786\"], [0.5555555555555556, \"#d8576b\"], [0.6666666666666666, \"#ed7953\"], [0.7777777777777778, \"#fb9f3a\"], [0.8888888888888888, \"#fdca26\"], [1.0, \"#f0f921\"]], \"type\": \"heatmap\"}], \"heatmapgl\": [{\"colorbar\": {\"outlinewidth\": 0, \"ticks\": \"\"}, \"colorscale\": [[0.0, \"#0d0887\"], [0.1111111111111111, \"#46039f\"], [0.2222222222222222, \"#7201a8\"], [0.3333333333333333, \"#9c179e\"], [0.4444444444444444, \"#bd3786\"], [0.5555555555555556, \"#d8576b\"], [0.6666666666666666, \"#ed7953\"], [0.7777777777777778, \"#fb9f3a\"], [0.8888888888888888, \"#fdca26\"], [1.0, \"#f0f921\"]], \"type\": \"heatmapgl\"}], \"histogram\": [{\"marker\": {\"colorbar\": {\"outlinewidth\": 0, \"ticks\": \"\"}}, \"type\": \"histogram\"}], \"histogram2d\": [{\"colorbar\": {\"outlinewidth\": 0, \"ticks\": \"\"}, \"colorscale\": [[0.0, \"#0d0887\"], [0.1111111111111111, \"#46039f\"], [0.2222222222222222, \"#7201a8\"], [0.3333333333333333, \"#9c179e\"], [0.4444444444444444, \"#bd3786\"], [0.5555555555555556, \"#d8576b\"], [0.6666666666666666, \"#ed7953\"], [0.7777777777777778, \"#fb9f3a\"], [0.8888888888888888, \"#fdca26\"], [1.0, \"#f0f921\"]], \"type\": \"histogram2d\"}], \"histogram2dcontour\": [{\"colorbar\": {\"outlinewidth\": 0, \"ticks\": \"\"}, \"colorscale\": [[0.0, \"#0d0887\"], [0.1111111111111111, \"#46039f\"], [0.2222222222222222, \"#7201a8\"], [0.3333333333333333, \"#9c179e\"], [0.4444444444444444, \"#bd3786\"], [0.5555555555555556, \"#d8576b\"], [0.6666666666666666, \"#ed7953\"], [0.7777777777777778, \"#fb9f3a\"], [0.8888888888888888, \"#fdca26\"], [1.0, \"#f0f921\"]], \"type\": \"histogram2dcontour\"}], \"mesh3d\": [{\"colorbar\": {\"outlinewidth\": 0, \"ticks\": \"\"}, \"type\": \"mesh3d\"}], \"parcoords\": [{\"line\": {\"colorbar\": {\"outlinewidth\": 0, \"ticks\": \"\"}}, \"type\": \"parcoords\"}], \"pie\": [{\"automargin\": true, \"type\": \"pie\"}], \"scatter\": [{\"marker\": {\"colorbar\": {\"outlinewidth\": 0, \"ticks\": \"\"}}, \"type\": \"scatter\"}], \"scatter3d\": [{\"line\": {\"colorbar\": {\"outlinewidth\": 0, \"ticks\": \"\"}}, \"marker\": {\"colorbar\": {\"outlinewidth\": 0, \"ticks\": \"\"}}, \"type\": \"scatter3d\"}], \"scattercarpet\": [{\"marker\": {\"colorbar\": {\"outlinewidth\": 0, \"ticks\": \"\"}}, \"type\": \"scattercarpet\"}], \"scattergeo\": [{\"marker\": {\"colorbar\": {\"outlinewidth\": 0, \"ticks\": \"\"}}, \"type\": \"scattergeo\"}], \"scattergl\": [{\"marker\": {\"colorbar\": {\"outlinewidth\": 0, \"ticks\": \"\"}}, \"type\": \"scattergl\"}], \"scattermapbox\": [{\"marker\": {\"colorbar\": {\"outlinewidth\": 0, \"ticks\": \"\"}}, \"type\": \"scattermapbox\"}], \"scatterpolar\": [{\"marker\": {\"colorbar\": {\"outlinewidth\": 0, \"ticks\": \"\"}}, \"type\": \"scatterpolar\"}], \"scatterpolargl\": [{\"marker\": {\"colorbar\": {\"outlinewidth\": 0, \"ticks\": \"\"}}, \"type\": \"scatterpolargl\"}], \"scatterternary\": [{\"marker\": {\"colorbar\": {\"outlinewidth\": 0, \"ticks\": \"\"}}, \"type\": \"scatterternary\"}], \"surface\": [{\"colorbar\": {\"outlinewidth\": 0, \"ticks\": \"\"}, \"colorscale\": [[0.0, \"#0d0887\"], [0.1111111111111111, \"#46039f\"], [0.2222222222222222, \"#7201a8\"], [0.3333333333333333, \"#9c179e\"], [0.4444444444444444, \"#bd3786\"], [0.5555555555555556, \"#d8576b\"], [0.6666666666666666, \"#ed7953\"], [0.7777777777777778, \"#fb9f3a\"], [0.8888888888888888, \"#fdca26\"], [1.0, \"#f0f921\"]], \"type\": \"surface\"}], \"table\": [{\"cells\": {\"fill\": {\"color\": \"#EBF0F8\"}, \"line\": {\"color\": \"white\"}}, \"header\": {\"fill\": {\"color\": \"#C8D4E3\"}, \"line\": {\"color\": \"white\"}}, \"type\": \"table\"}]}, \"layout\": {\"annotationdefaults\": {\"arrowcolor\": \"#2a3f5f\", \"arrowhead\": 0, \"arrowwidth\": 1}, \"coloraxis\": {\"colorbar\": {\"outlinewidth\": 0, \"ticks\": \"\"}}, \"colorscale\": {\"diverging\": [[0, \"#8e0152\"], [0.1, \"#c51b7d\"], [0.2, \"#de77ae\"], [0.3, \"#f1b6da\"], [0.4, \"#fde0ef\"], [0.5, \"#f7f7f7\"], [0.6, \"#e6f5d0\"], [0.7, \"#b8e186\"], [0.8, \"#7fbc41\"], [0.9, \"#4d9221\"], [1, \"#276419\"]], \"sequential\": [[0.0, \"#0d0887\"], [0.1111111111111111, \"#46039f\"], [0.2222222222222222, \"#7201a8\"], [0.3333333333333333, \"#9c179e\"], [0.4444444444444444, \"#bd3786\"], [0.5555555555555556, \"#d8576b\"], [0.6666666666666666, \"#ed7953\"], [0.7777777777777778, \"#fb9f3a\"], [0.8888888888888888, \"#fdca26\"], [1.0, \"#f0f921\"]], \"sequentialminus\": [[0.0, \"#0d0887\"], [0.1111111111111111, \"#46039f\"], [0.2222222222222222, \"#7201a8\"], [0.3333333333333333, \"#9c179e\"], [0.4444444444444444, \"#bd3786\"], [0.5555555555555556, \"#d8576b\"], [0.6666666666666666, \"#ed7953\"], [0.7777777777777778, \"#fb9f3a\"], [0.8888888888888888, \"#fdca26\"], [1.0, \"#f0f921\"]]}, \"colorway\": [\"#636efa\", \"#EF553B\", \"#00cc96\", \"#ab63fa\", \"#FFA15A\", \"#19d3f3\", \"#FF6692\", \"#B6E880\", \"#FF97FF\", \"#FECB52\"], \"font\": {\"color\": \"#2a3f5f\"}, \"geo\": {\"bgcolor\": \"white\", \"lakecolor\": \"white\", \"landcolor\": \"#E5ECF6\", \"showlakes\": true, \"showland\": true, \"subunitcolor\": \"white\"}, \"hoverlabel\": {\"align\": \"left\"}, \"hovermode\": \"closest\", \"mapbox\": {\"style\": \"light\"}, \"paper_bgcolor\": \"white\", \"plot_bgcolor\": \"#E5ECF6\", \"polar\": {\"angularaxis\": {\"gridcolor\": \"white\", \"linecolor\": \"white\", \"ticks\": \"\"}, \"bgcolor\": \"#E5ECF6\", \"radialaxis\": {\"gridcolor\": \"white\", \"linecolor\": \"white\", \"ticks\": \"\"}}, \"scene\": {\"xaxis\": {\"backgroundcolor\": \"#E5ECF6\", \"gridcolor\": \"white\", \"gridwidth\": 2, \"linecolor\": \"white\", \"showbackground\": true, \"ticks\": \"\", \"zerolinecolor\": \"white\"}, \"yaxis\": {\"backgroundcolor\": \"#E5ECF6\", \"gridcolor\": \"white\", \"gridwidth\": 2, \"linecolor\": \"white\", \"showbackground\": true, \"ticks\": \"\", \"zerolinecolor\": \"white\"}, \"zaxis\": {\"backgroundcolor\": \"#E5ECF6\", \"gridcolor\": \"white\", \"gridwidth\": 2, \"linecolor\": \"white\", \"showbackground\": true, \"ticks\": \"\", \"zerolinecolor\": \"white\"}}, \"shapedefaults\": {\"line\": {\"color\": \"#2a3f5f\"}}, \"ternary\": {\"aaxis\": {\"gridcolor\": \"white\", \"linecolor\": \"white\", \"ticks\": \"\"}, \"baxis\": {\"gridcolor\": \"white\", \"linecolor\": \"white\", \"ticks\": \"\"}, \"bgcolor\": \"#E5ECF6\", \"caxis\": {\"gridcolor\": \"white\", \"linecolor\": \"white\", \"ticks\": \"\"}}, \"title\": {\"x\": 0.05}, \"xaxis\": {\"automargin\": true, \"gridcolor\": \"white\", \"linecolor\": \"white\", \"ticks\": \"\", \"title\": {\"standoff\": 15}, \"zerolinecolor\": \"white\", \"zerolinewidth\": 2}, \"yaxis\": {\"automargin\": true, \"gridcolor\": \"white\", \"linecolor\": \"white\", \"ticks\": \"\", \"title\": {\"standoff\": 15}, \"zerolinecolor\": \"white\", \"zerolinewidth\": 2}}}, \"title\": {\"text\": \"Home and check-in numbers for top 20 countries\", \"x\": 0.5, \"y\": 0.89}, \"width\": 950, \"xaxis\": {\"anchor\": \"y\", \"autorange\": \"reversed\", \"domain\": [0.0, 0.477], \"title\": {\"text\": \"Number of homes\"}}, \"xaxis2\": {\"anchor\": \"y2\", \"domain\": [0.523, 1.0], \"title\": {\"text\": \"Number of check-ins\"}}, \"yaxis\": {\"anchor\": \"x\", \"domain\": [0.0, 1.0], \"side\": \"right\", \"title\": {\"text\": \" \"}}, \"yaxis2\": {\"anchor\": \"x2\", \"domain\": [0.0, 1.0], \"matches\": \"y\", \"showticklabels\": false}},                        {\"responsive\": true}                    ).then(function(){\n",
       "                            \n",
       "var gd = document.getElementById('395a9c55-f14a-459e-b3b0-8760096e661e');\n",
       "var x = new MutationObserver(function (mutations, observer) {{\n",
       "        var display = window.getComputedStyle(gd).display;\n",
       "        if (!display || display === 'none') {{\n",
       "            console.log([gd, 'removed!']);\n",
       "            Plotly.purge(gd);\n",
       "            observer.disconnect();\n",
       "        }}\n",
       "}});\n",
       "\n",
       "// Listen for the removal of the full notebook cells\n",
       "var notebookContainer = gd.closest('#notebook-container');\n",
       "if (notebookContainer) {{\n",
       "    x.observe(notebookContainer, {childList: true});\n",
       "}}\n",
       "\n",
       "// Listen for the clearing of the current output cell\n",
       "var outputEl = gd.closest('.output');\n",
       "if (outputEl) {{\n",
       "    x.observe(outputEl, {childList: true});\n",
       "}}\n",
       "\n",
       "                        })                };                });            </script>        </div>"
      ]
     },
     "metadata": {},
     "output_type": "display_data"
    }
   ],
   "source": [
    "temp1 = home_count_df.sort_values(by=['number_of_homes'], ascending=False)\n",
    "temp1 = temp1.reset_index(drop=True)\n",
    "temp1 = temp1.head(20)\n",
    "temp1 = temp1.sort_values(by=['number_of_homes'])\n",
    "\n",
    "temp2 = checkin_count_df.sort_values(by=['number_of_checkins'], ascending=False)\n",
    "temp2 = temp2.reset_index(drop=True)\n",
    "temp2 = temp2.head(20)\n",
    "temp2 = temp2.sort_values(by=['number_of_checkins'])\n",
    "\n",
    "\n",
    "fig = make_subplots(rows=1, cols=2, shared_yaxes=True, horizontal_spacing = 0.046)\n",
    "\n",
    "fig.add_trace(go.Bar(\n",
    "            x=np.array(temp1.number_of_homes),\n",
    "            y=np.array(temp1.country_code),\n",
    "            customdata=np.array(temp1.country),\n",
    "            orientation='h',\n",
    "            showlegend=False), 1, 1)\n",
    "\n",
    "fig.add_trace(go.Bar(\n",
    "            x=np.array(temp2.number_of_checkins),\n",
    "            y=np.array(temp2.country_code),\n",
    "            customdata = np.array(temp2.country),\n",
    "            orientation='h',\n",
    "            showlegend=False), 1, 2)\n",
    "\n",
    "fig.update_layout(title=\"Home and check-in numbers for top 20 countries\",\n",
    "                  title_x=0.5,\n",
    "                  title_y=0.89,\n",
    "                  xaxis_title=\"Number of homes\",\n",
    "                  xaxis2_title=\"Number of check-ins\",\n",
    "                  yaxis_title=\" \",\n",
    "                  plot_bgcolor='#F5F5FF',\n",
    "                  height=600, \n",
    "                  width=950)\n",
    "\n",
    "fig.update_traces(textposition='outside',\n",
    "                  marker_color=cscale,\n",
    "                  hovertemplate = 'Number: %{x:f}'+'<br>Country: %{customdata}<extra></extra>')\n",
    "\n",
    "fig.update_xaxes(autorange='reversed', row=1, col=1)\n",
    "fig.update_yaxes(side='right', row=1, col=1)\n",
    "\n",
    "fig.show()"
   ]
  },
  {
   "cell_type": "markdown",
   "metadata": {},
   "source": [
    "We can plot a nice visualisation of the categories as well. We merge venue information with checkin information and group the number of check-ins by level 0 category to see which categories are the most popular."
   ]
  },
  {
   "cell_type": "code",
   "execution_count": 447,
   "metadata": {},
   "outputs": [
    {
     "data": {
      "text/html": [
       "<div>\n",
       "<style scoped>\n",
       "    .dataframe tbody tr th:only-of-type {\n",
       "        vertical-align: middle;\n",
       "    }\n",
       "\n",
       "    .dataframe tbody tr th {\n",
       "        vertical-align: top;\n",
       "    }\n",
       "\n",
       "    .dataframe thead th {\n",
       "        text-align: right;\n",
       "    }\n",
       "</style>\n",
       "<table border=\"1\" class=\"dataframe\">\n",
       "  <thead>\n",
       "    <tr style=\"text-align: right;\">\n",
       "      <th></th>\n",
       "      <th>level_0_category</th>\n",
       "      <th>number_of_checkins</th>\n",
       "    </tr>\n",
       "  </thead>\n",
       "  <tbody>\n",
       "    <tr>\n",
       "      <th>3</th>\n",
       "      <td>Food</td>\n",
       "      <td>3885074</td>\n",
       "    </tr>\n",
       "    <tr>\n",
       "      <th>9</th>\n",
       "      <td>Shop &amp; Service</td>\n",
       "      <td>3120378</td>\n",
       "    </tr>\n",
       "    <tr>\n",
       "      <th>10</th>\n",
       "      <td>Travel &amp; Transport</td>\n",
       "      <td>2760016</td>\n",
       "    </tr>\n",
       "    <tr>\n",
       "      <th>7</th>\n",
       "      <td>Professional &amp; Other Places</td>\n",
       "      <td>2664898</td>\n",
       "    </tr>\n",
       "    <tr>\n",
       "      <th>8</th>\n",
       "      <td>Residence</td>\n",
       "      <td>1856524</td>\n",
       "    </tr>\n",
       "    <tr>\n",
       "      <th>6</th>\n",
       "      <td>Outdoors &amp; Recreation</td>\n",
       "      <td>1736333</td>\n",
       "    </tr>\n",
       "    <tr>\n",
       "      <th>1</th>\n",
       "      <td>College &amp; University</td>\n",
       "      <td>1513662</td>\n",
       "    </tr>\n",
       "    <tr>\n",
       "      <th>0</th>\n",
       "      <td>Arts &amp; Entertainment</td>\n",
       "      <td>929240</td>\n",
       "    </tr>\n",
       "    <tr>\n",
       "      <th>4</th>\n",
       "      <td>Nightlife Spot</td>\n",
       "      <td>831598</td>\n",
       "    </tr>\n",
       "    <tr>\n",
       "      <th>2</th>\n",
       "      <td>Event</td>\n",
       "      <td>8381</td>\n",
       "    </tr>\n",
       "    <tr>\n",
       "      <th>5</th>\n",
       "      <td>Other</td>\n",
       "      <td>7</td>\n",
       "    </tr>\n",
       "  </tbody>\n",
       "</table>\n",
       "</div>"
      ],
      "text/plain": [
       "               level_0_category  number_of_checkins\n",
       "3                          Food             3885074\n",
       "9                Shop & Service             3120378\n",
       "10           Travel & Transport             2760016\n",
       "7   Professional & Other Places             2664898\n",
       "8                     Residence             1856524\n",
       "6         Outdoors & Recreation             1736333\n",
       "1          College & University             1513662\n",
       "0          Arts & Entertainment              929240\n",
       "4                Nightlife Spot              831598\n",
       "2                         Event                8381\n",
       "5                         Other                   7"
      ]
     },
     "execution_count": 447,
     "metadata": {},
     "output_type": "execute_result"
    }
   ],
   "source": [
    "# Merge dataframes\n",
    "merged_df = df_checkins_cleaned.merge(df_venues_cleaned, on='venue_id')\n",
    "\n",
    "# Group values by level_0_category\n",
    "merged_df_grouped = merged_df.groupby('level_0_category').size().reset_index(name='number_of_checkins')\n",
    "merged_df_grouped = merged_df_grouped.sort_values(by='number_of_checkins', ascending = False)\n",
    "\n",
    "# Visualise dataframe\n",
    "merged_df_grouped"
   ]
  },
  {
   "cell_type": "markdown",
   "metadata": {},
   "source": [
    "Plot check-ins per level 0 category."
   ]
  },
  {
   "cell_type": "code",
   "execution_count": 520,
   "metadata": {},
   "outputs": [
    {
     "data": {
      "application/vnd.plotly.v1+json": {
       "config": {
        "plotlyServerURL": "https://plot.ly"
       },
       "data": [
        {
         "alignmentgroup": "True",
         "customdata": [
          [
           "Food",
           3885074
          ],
          [
           "Shop & Service",
           3120378
          ],
          [
           "Travel & Transport",
           2760016
          ],
          [
           "Professional & Other Places",
           2664898
          ],
          [
           "Residence",
           1856524
          ],
          [
           "Outdoors & Recreation",
           1736333
          ],
          [
           "College & University",
           1513662
          ],
          [
           "Arts & Entertainment",
           929240
          ],
          [
           "Nightlife Spot",
           831598
          ],
          [
           "Event",
           8381
          ],
          [
           "Other",
           7
          ]
         ],
         "hovertemplate": "Category: %{x}<br>Number of checkins: %{y:f}<extra></extra>",
         "legendgroup": "",
         "marker": {
          "color": [
           "#ffa600",
           "#fe8f3b",
           "#f67a55",
           "#e9676b",
           "#d6597e",
           "#bb5090",
           "#98518d",
           "#755086",
           "#534c7b",
           "#31466d",
           "#003f5c"
          ],
          "coloraxis": "coloraxis"
         },
         "name": "",
         "offsetgroup": "",
         "orientation": "v",
         "showlegend": false,
         "textposition": "auto",
         "type": "bar",
         "x": [
          "Food",
          "Shop & Service",
          "Travel & Transport",
          "Professional & Other Places",
          "Residence",
          "Outdoors & Recreation",
          "College & University",
          "Arts & Entertainment",
          "Nightlife Spot",
          "Event",
          "Other"
         ],
         "xaxis": "x",
         "y": [
          3885074,
          3120378,
          2760016,
          2664898,
          1856524,
          1736333,
          1513662,
          929240,
          831598,
          8381,
          7
         ],
         "yaxis": "y"
        }
       ],
       "layout": {
        "barmode": "relative",
        "coloraxis": {
         "colorbar": {
          "title": {
           "text": "Number of Checkins"
          }
         },
         "colorscale": [
          [
           0,
           "#0d0887"
          ],
          [
           0.1111111111111111,
           "#46039f"
          ],
          [
           0.2222222222222222,
           "#7201a8"
          ],
          [
           0.3333333333333333,
           "#9c179e"
          ],
          [
           0.4444444444444444,
           "#bd3786"
          ],
          [
           0.5555555555555556,
           "#d8576b"
          ],
          [
           0.6666666666666666,
           "#ed7953"
          ],
          [
           0.7777777777777778,
           "#fb9f3a"
          ],
          [
           0.8888888888888888,
           "#fdca26"
          ],
          [
           1,
           "#f0f921"
          ]
         ]
        },
        "height": 400,
        "legend": {
         "tracegroupgap": 0
        },
        "margin": {
         "t": 60
        },
        "template": {
         "data": {
          "bar": [
           {
            "error_x": {
             "color": "#2a3f5f"
            },
            "error_y": {
             "color": "#2a3f5f"
            },
            "marker": {
             "line": {
              "color": "#E5ECF6",
              "width": 0.5
             }
            },
            "type": "bar"
           }
          ],
          "barpolar": [
           {
            "marker": {
             "line": {
              "color": "#E5ECF6",
              "width": 0.5
             }
            },
            "type": "barpolar"
           }
          ],
          "carpet": [
           {
            "aaxis": {
             "endlinecolor": "#2a3f5f",
             "gridcolor": "white",
             "linecolor": "white",
             "minorgridcolor": "white",
             "startlinecolor": "#2a3f5f"
            },
            "baxis": {
             "endlinecolor": "#2a3f5f",
             "gridcolor": "white",
             "linecolor": "white",
             "minorgridcolor": "white",
             "startlinecolor": "#2a3f5f"
            },
            "type": "carpet"
           }
          ],
          "choropleth": [
           {
            "colorbar": {
             "outlinewidth": 0,
             "ticks": ""
            },
            "type": "choropleth"
           }
          ],
          "contour": [
           {
            "colorbar": {
             "outlinewidth": 0,
             "ticks": ""
            },
            "colorscale": [
             [
              0,
              "#0d0887"
             ],
             [
              0.1111111111111111,
              "#46039f"
             ],
             [
              0.2222222222222222,
              "#7201a8"
             ],
             [
              0.3333333333333333,
              "#9c179e"
             ],
             [
              0.4444444444444444,
              "#bd3786"
             ],
             [
              0.5555555555555556,
              "#d8576b"
             ],
             [
              0.6666666666666666,
              "#ed7953"
             ],
             [
              0.7777777777777778,
              "#fb9f3a"
             ],
             [
              0.8888888888888888,
              "#fdca26"
             ],
             [
              1,
              "#f0f921"
             ]
            ],
            "type": "contour"
           }
          ],
          "contourcarpet": [
           {
            "colorbar": {
             "outlinewidth": 0,
             "ticks": ""
            },
            "type": "contourcarpet"
           }
          ],
          "heatmap": [
           {
            "colorbar": {
             "outlinewidth": 0,
             "ticks": ""
            },
            "colorscale": [
             [
              0,
              "#0d0887"
             ],
             [
              0.1111111111111111,
              "#46039f"
             ],
             [
              0.2222222222222222,
              "#7201a8"
             ],
             [
              0.3333333333333333,
              "#9c179e"
             ],
             [
              0.4444444444444444,
              "#bd3786"
             ],
             [
              0.5555555555555556,
              "#d8576b"
             ],
             [
              0.6666666666666666,
              "#ed7953"
             ],
             [
              0.7777777777777778,
              "#fb9f3a"
             ],
             [
              0.8888888888888888,
              "#fdca26"
             ],
             [
              1,
              "#f0f921"
             ]
            ],
            "type": "heatmap"
           }
          ],
          "heatmapgl": [
           {
            "colorbar": {
             "outlinewidth": 0,
             "ticks": ""
            },
            "colorscale": [
             [
              0,
              "#0d0887"
             ],
             [
              0.1111111111111111,
              "#46039f"
             ],
             [
              0.2222222222222222,
              "#7201a8"
             ],
             [
              0.3333333333333333,
              "#9c179e"
             ],
             [
              0.4444444444444444,
              "#bd3786"
             ],
             [
              0.5555555555555556,
              "#d8576b"
             ],
             [
              0.6666666666666666,
              "#ed7953"
             ],
             [
              0.7777777777777778,
              "#fb9f3a"
             ],
             [
              0.8888888888888888,
              "#fdca26"
             ],
             [
              1,
              "#f0f921"
             ]
            ],
            "type": "heatmapgl"
           }
          ],
          "histogram": [
           {
            "marker": {
             "colorbar": {
              "outlinewidth": 0,
              "ticks": ""
             }
            },
            "type": "histogram"
           }
          ],
          "histogram2d": [
           {
            "colorbar": {
             "outlinewidth": 0,
             "ticks": ""
            },
            "colorscale": [
             [
              0,
              "#0d0887"
             ],
             [
              0.1111111111111111,
              "#46039f"
             ],
             [
              0.2222222222222222,
              "#7201a8"
             ],
             [
              0.3333333333333333,
              "#9c179e"
             ],
             [
              0.4444444444444444,
              "#bd3786"
             ],
             [
              0.5555555555555556,
              "#d8576b"
             ],
             [
              0.6666666666666666,
              "#ed7953"
             ],
             [
              0.7777777777777778,
              "#fb9f3a"
             ],
             [
              0.8888888888888888,
              "#fdca26"
             ],
             [
              1,
              "#f0f921"
             ]
            ],
            "type": "histogram2d"
           }
          ],
          "histogram2dcontour": [
           {
            "colorbar": {
             "outlinewidth": 0,
             "ticks": ""
            },
            "colorscale": [
             [
              0,
              "#0d0887"
             ],
             [
              0.1111111111111111,
              "#46039f"
             ],
             [
              0.2222222222222222,
              "#7201a8"
             ],
             [
              0.3333333333333333,
              "#9c179e"
             ],
             [
              0.4444444444444444,
              "#bd3786"
             ],
             [
              0.5555555555555556,
              "#d8576b"
             ],
             [
              0.6666666666666666,
              "#ed7953"
             ],
             [
              0.7777777777777778,
              "#fb9f3a"
             ],
             [
              0.8888888888888888,
              "#fdca26"
             ],
             [
              1,
              "#f0f921"
             ]
            ],
            "type": "histogram2dcontour"
           }
          ],
          "mesh3d": [
           {
            "colorbar": {
             "outlinewidth": 0,
             "ticks": ""
            },
            "type": "mesh3d"
           }
          ],
          "parcoords": [
           {
            "line": {
             "colorbar": {
              "outlinewidth": 0,
              "ticks": ""
             }
            },
            "type": "parcoords"
           }
          ],
          "pie": [
           {
            "automargin": true,
            "type": "pie"
           }
          ],
          "scatter": [
           {
            "marker": {
             "colorbar": {
              "outlinewidth": 0,
              "ticks": ""
             }
            },
            "type": "scatter"
           }
          ],
          "scatter3d": [
           {
            "line": {
             "colorbar": {
              "outlinewidth": 0,
              "ticks": ""
             }
            },
            "marker": {
             "colorbar": {
              "outlinewidth": 0,
              "ticks": ""
             }
            },
            "type": "scatter3d"
           }
          ],
          "scattercarpet": [
           {
            "marker": {
             "colorbar": {
              "outlinewidth": 0,
              "ticks": ""
             }
            },
            "type": "scattercarpet"
           }
          ],
          "scattergeo": [
           {
            "marker": {
             "colorbar": {
              "outlinewidth": 0,
              "ticks": ""
             }
            },
            "type": "scattergeo"
           }
          ],
          "scattergl": [
           {
            "marker": {
             "colorbar": {
              "outlinewidth": 0,
              "ticks": ""
             }
            },
            "type": "scattergl"
           }
          ],
          "scattermapbox": [
           {
            "marker": {
             "colorbar": {
              "outlinewidth": 0,
              "ticks": ""
             }
            },
            "type": "scattermapbox"
           }
          ],
          "scatterpolar": [
           {
            "marker": {
             "colorbar": {
              "outlinewidth": 0,
              "ticks": ""
             }
            },
            "type": "scatterpolar"
           }
          ],
          "scatterpolargl": [
           {
            "marker": {
             "colorbar": {
              "outlinewidth": 0,
              "ticks": ""
             }
            },
            "type": "scatterpolargl"
           }
          ],
          "scatterternary": [
           {
            "marker": {
             "colorbar": {
              "outlinewidth": 0,
              "ticks": ""
             }
            },
            "type": "scatterternary"
           }
          ],
          "surface": [
           {
            "colorbar": {
             "outlinewidth": 0,
             "ticks": ""
            },
            "colorscale": [
             [
              0,
              "#0d0887"
             ],
             [
              0.1111111111111111,
              "#46039f"
             ],
             [
              0.2222222222222222,
              "#7201a8"
             ],
             [
              0.3333333333333333,
              "#9c179e"
             ],
             [
              0.4444444444444444,
              "#bd3786"
             ],
             [
              0.5555555555555556,
              "#d8576b"
             ],
             [
              0.6666666666666666,
              "#ed7953"
             ],
             [
              0.7777777777777778,
              "#fb9f3a"
             ],
             [
              0.8888888888888888,
              "#fdca26"
             ],
             [
              1,
              "#f0f921"
             ]
            ],
            "type": "surface"
           }
          ],
          "table": [
           {
            "cells": {
             "fill": {
              "color": "#EBF0F8"
             },
             "line": {
              "color": "white"
             }
            },
            "header": {
             "fill": {
              "color": "#C8D4E3"
             },
             "line": {
              "color": "white"
             }
            },
            "type": "table"
           }
          ]
         },
         "layout": {
          "annotationdefaults": {
           "arrowcolor": "#2a3f5f",
           "arrowhead": 0,
           "arrowwidth": 1
          },
          "coloraxis": {
           "colorbar": {
            "outlinewidth": 0,
            "ticks": ""
           }
          },
          "colorscale": {
           "diverging": [
            [
             0,
             "#8e0152"
            ],
            [
             0.1,
             "#c51b7d"
            ],
            [
             0.2,
             "#de77ae"
            ],
            [
             0.3,
             "#f1b6da"
            ],
            [
             0.4,
             "#fde0ef"
            ],
            [
             0.5,
             "#f7f7f7"
            ],
            [
             0.6,
             "#e6f5d0"
            ],
            [
             0.7,
             "#b8e186"
            ],
            [
             0.8,
             "#7fbc41"
            ],
            [
             0.9,
             "#4d9221"
            ],
            [
             1,
             "#276419"
            ]
           ],
           "sequential": [
            [
             0,
             "#0d0887"
            ],
            [
             0.1111111111111111,
             "#46039f"
            ],
            [
             0.2222222222222222,
             "#7201a8"
            ],
            [
             0.3333333333333333,
             "#9c179e"
            ],
            [
             0.4444444444444444,
             "#bd3786"
            ],
            [
             0.5555555555555556,
             "#d8576b"
            ],
            [
             0.6666666666666666,
             "#ed7953"
            ],
            [
             0.7777777777777778,
             "#fb9f3a"
            ],
            [
             0.8888888888888888,
             "#fdca26"
            ],
            [
             1,
             "#f0f921"
            ]
           ],
           "sequentialminus": [
            [
             0,
             "#0d0887"
            ],
            [
             0.1111111111111111,
             "#46039f"
            ],
            [
             0.2222222222222222,
             "#7201a8"
            ],
            [
             0.3333333333333333,
             "#9c179e"
            ],
            [
             0.4444444444444444,
             "#bd3786"
            ],
            [
             0.5555555555555556,
             "#d8576b"
            ],
            [
             0.6666666666666666,
             "#ed7953"
            ],
            [
             0.7777777777777778,
             "#fb9f3a"
            ],
            [
             0.8888888888888888,
             "#fdca26"
            ],
            [
             1,
             "#f0f921"
            ]
           ]
          },
          "colorway": [
           "#636efa",
           "#EF553B",
           "#00cc96",
           "#ab63fa",
           "#FFA15A",
           "#19d3f3",
           "#FF6692",
           "#B6E880",
           "#FF97FF",
           "#FECB52"
          ],
          "font": {
           "color": "#2a3f5f"
          },
          "geo": {
           "bgcolor": "white",
           "lakecolor": "white",
           "landcolor": "#E5ECF6",
           "showlakes": true,
           "showland": true,
           "subunitcolor": "white"
          },
          "hoverlabel": {
           "align": "left"
          },
          "hovermode": "closest",
          "mapbox": {
           "style": "light"
          },
          "paper_bgcolor": "white",
          "plot_bgcolor": "#E5ECF6",
          "polar": {
           "angularaxis": {
            "gridcolor": "white",
            "linecolor": "white",
            "ticks": ""
           },
           "bgcolor": "#E5ECF6",
           "radialaxis": {
            "gridcolor": "white",
            "linecolor": "white",
            "ticks": ""
           }
          },
          "scene": {
           "xaxis": {
            "backgroundcolor": "#E5ECF6",
            "gridcolor": "white",
            "gridwidth": 2,
            "linecolor": "white",
            "showbackground": true,
            "ticks": "",
            "zerolinecolor": "white"
           },
           "yaxis": {
            "backgroundcolor": "#E5ECF6",
            "gridcolor": "white",
            "gridwidth": 2,
            "linecolor": "white",
            "showbackground": true,
            "ticks": "",
            "zerolinecolor": "white"
           },
           "zaxis": {
            "backgroundcolor": "#E5ECF6",
            "gridcolor": "white",
            "gridwidth": 2,
            "linecolor": "white",
            "showbackground": true,
            "ticks": "",
            "zerolinecolor": "white"
           }
          },
          "shapedefaults": {
           "line": {
            "color": "#2a3f5f"
           }
          },
          "ternary": {
           "aaxis": {
            "gridcolor": "white",
            "linecolor": "white",
            "ticks": ""
           },
           "baxis": {
            "gridcolor": "white",
            "linecolor": "white",
            "ticks": ""
           },
           "bgcolor": "#E5ECF6",
           "caxis": {
            "gridcolor": "white",
            "linecolor": "white",
            "ticks": ""
           }
          },
          "title": {
           "x": 0.05
          },
          "xaxis": {
           "automargin": true,
           "gridcolor": "white",
           "linecolor": "white",
           "ticks": "",
           "title": {
            "standoff": 15
           },
           "zerolinecolor": "white",
           "zerolinewidth": 2
          },
          "yaxis": {
           "automargin": true,
           "gridcolor": "white",
           "linecolor": "white",
           "ticks": "",
           "title": {
            "standoff": 15
           },
           "zerolinecolor": "white",
           "zerolinewidth": 2
          }
         }
        },
        "width": 950,
        "xaxis": {
         "anchor": "y",
         "domain": [
          0,
          1
         ],
         "title": {
          "text": "Level 0 Category"
         }
        },
        "yaxis": {
         "anchor": "x",
         "domain": [
          0,
          1
         ],
         "title": {
          "text": "Number of Checkins"
         }
        }
       }
      },
      "text/html": [
       "<div>                            <div id=\"a0e7fdf2-41fd-474b-87d9-bf996960f2bc\" class=\"plotly-graph-div\" style=\"height:400px; width:950px;\"></div>            <script type=\"text/javascript\">                require([\"plotly\"], function(Plotly) {                    window.PLOTLYENV=window.PLOTLYENV || {};                                    if (document.getElementById(\"a0e7fdf2-41fd-474b-87d9-bf996960f2bc\")) {                    Plotly.newPlot(                        \"a0e7fdf2-41fd-474b-87d9-bf996960f2bc\",                        [{\"alignmentgroup\": \"True\", \"customdata\": [[\"Food\", 3885074], [\"Shop & Service\", 3120378], [\"Travel & Transport\", 2760016], [\"Professional & Other Places\", 2664898], [\"Residence\", 1856524], [\"Outdoors & Recreation\", 1736333], [\"College & University\", 1513662], [\"Arts & Entertainment\", 929240], [\"Nightlife Spot\", 831598], [\"Event\", 8381], [\"Other\", 7]], \"hovertemplate\": \"Category: %{x}<br>Number of checkins: %{y:f}<extra></extra>\", \"legendgroup\": \"\", \"marker\": {\"color\": [\"#ffa600\", \"#fe8f3b\", \"#f67a55\", \"#e9676b\", \"#d6597e\", \"#bb5090\", \"#98518d\", \"#755086\", \"#534c7b\", \"#31466d\", \"#003f5c\"], \"coloraxis\": \"coloraxis\"}, \"name\": \"\", \"offsetgroup\": \"\", \"orientation\": \"v\", \"showlegend\": false, \"textposition\": \"auto\", \"type\": \"bar\", \"x\": [\"Food\", \"Shop & Service\", \"Travel & Transport\", \"Professional & Other Places\", \"Residence\", \"Outdoors & Recreation\", \"College & University\", \"Arts & Entertainment\", \"Nightlife Spot\", \"Event\", \"Other\"], \"xaxis\": \"x\", \"y\": [3885074, 3120378, 2760016, 2664898, 1856524, 1736333, 1513662, 929240, 831598, 8381, 7], \"yaxis\": \"y\"}],                        {\"barmode\": \"relative\", \"coloraxis\": {\"colorbar\": {\"title\": {\"text\": \"Number of Checkins\"}}, \"colorscale\": [[0.0, \"#0d0887\"], [0.1111111111111111, \"#46039f\"], [0.2222222222222222, \"#7201a8\"], [0.3333333333333333, \"#9c179e\"], [0.4444444444444444, \"#bd3786\"], [0.5555555555555556, \"#d8576b\"], [0.6666666666666666, \"#ed7953\"], [0.7777777777777778, \"#fb9f3a\"], [0.8888888888888888, \"#fdca26\"], [1.0, \"#f0f921\"]]}, \"height\": 400, \"legend\": {\"tracegroupgap\": 0}, \"margin\": {\"t\": 60}, \"template\": {\"data\": {\"bar\": [{\"error_x\": {\"color\": \"#2a3f5f\"}, \"error_y\": {\"color\": \"#2a3f5f\"}, \"marker\": {\"line\": {\"color\": \"#E5ECF6\", \"width\": 0.5}}, \"type\": \"bar\"}], \"barpolar\": [{\"marker\": {\"line\": {\"color\": \"#E5ECF6\", \"width\": 0.5}}, \"type\": \"barpolar\"}], \"carpet\": [{\"aaxis\": {\"endlinecolor\": \"#2a3f5f\", \"gridcolor\": \"white\", \"linecolor\": \"white\", \"minorgridcolor\": \"white\", \"startlinecolor\": \"#2a3f5f\"}, \"baxis\": {\"endlinecolor\": \"#2a3f5f\", \"gridcolor\": \"white\", \"linecolor\": \"white\", \"minorgridcolor\": \"white\", \"startlinecolor\": \"#2a3f5f\"}, \"type\": \"carpet\"}], \"choropleth\": [{\"colorbar\": {\"outlinewidth\": 0, \"ticks\": \"\"}, \"type\": \"choropleth\"}], \"contour\": [{\"colorbar\": {\"outlinewidth\": 0, \"ticks\": \"\"}, \"colorscale\": [[0.0, \"#0d0887\"], [0.1111111111111111, \"#46039f\"], [0.2222222222222222, \"#7201a8\"], [0.3333333333333333, \"#9c179e\"], [0.4444444444444444, \"#bd3786\"], [0.5555555555555556, \"#d8576b\"], [0.6666666666666666, \"#ed7953\"], [0.7777777777777778, \"#fb9f3a\"], [0.8888888888888888, \"#fdca26\"], [1.0, \"#f0f921\"]], \"type\": \"contour\"}], \"contourcarpet\": [{\"colorbar\": {\"outlinewidth\": 0, \"ticks\": \"\"}, \"type\": \"contourcarpet\"}], \"heatmap\": [{\"colorbar\": {\"outlinewidth\": 0, \"ticks\": \"\"}, \"colorscale\": [[0.0, \"#0d0887\"], [0.1111111111111111, \"#46039f\"], [0.2222222222222222, \"#7201a8\"], [0.3333333333333333, \"#9c179e\"], [0.4444444444444444, \"#bd3786\"], [0.5555555555555556, \"#d8576b\"], [0.6666666666666666, \"#ed7953\"], [0.7777777777777778, \"#fb9f3a\"], [0.8888888888888888, \"#fdca26\"], [1.0, \"#f0f921\"]], \"type\": \"heatmap\"}], \"heatmapgl\": [{\"colorbar\": {\"outlinewidth\": 0, \"ticks\": \"\"}, \"colorscale\": [[0.0, \"#0d0887\"], [0.1111111111111111, \"#46039f\"], [0.2222222222222222, \"#7201a8\"], [0.3333333333333333, \"#9c179e\"], [0.4444444444444444, \"#bd3786\"], [0.5555555555555556, \"#d8576b\"], [0.6666666666666666, \"#ed7953\"], [0.7777777777777778, \"#fb9f3a\"], [0.8888888888888888, \"#fdca26\"], [1.0, \"#f0f921\"]], \"type\": \"heatmapgl\"}], \"histogram\": [{\"marker\": {\"colorbar\": {\"outlinewidth\": 0, \"ticks\": \"\"}}, \"type\": \"histogram\"}], \"histogram2d\": [{\"colorbar\": {\"outlinewidth\": 0, \"ticks\": \"\"}, \"colorscale\": [[0.0, \"#0d0887\"], [0.1111111111111111, \"#46039f\"], [0.2222222222222222, \"#7201a8\"], [0.3333333333333333, \"#9c179e\"], [0.4444444444444444, \"#bd3786\"], [0.5555555555555556, \"#d8576b\"], [0.6666666666666666, \"#ed7953\"], [0.7777777777777778, \"#fb9f3a\"], [0.8888888888888888, \"#fdca26\"], [1.0, \"#f0f921\"]], \"type\": \"histogram2d\"}], \"histogram2dcontour\": [{\"colorbar\": {\"outlinewidth\": 0, \"ticks\": \"\"}, \"colorscale\": [[0.0, \"#0d0887\"], [0.1111111111111111, \"#46039f\"], [0.2222222222222222, \"#7201a8\"], [0.3333333333333333, \"#9c179e\"], [0.4444444444444444, \"#bd3786\"], [0.5555555555555556, \"#d8576b\"], [0.6666666666666666, \"#ed7953\"], [0.7777777777777778, \"#fb9f3a\"], [0.8888888888888888, \"#fdca26\"], [1.0, \"#f0f921\"]], \"type\": \"histogram2dcontour\"}], \"mesh3d\": [{\"colorbar\": {\"outlinewidth\": 0, \"ticks\": \"\"}, \"type\": \"mesh3d\"}], \"parcoords\": [{\"line\": {\"colorbar\": {\"outlinewidth\": 0, \"ticks\": \"\"}}, \"type\": \"parcoords\"}], \"pie\": [{\"automargin\": true, \"type\": \"pie\"}], \"scatter\": [{\"marker\": {\"colorbar\": {\"outlinewidth\": 0, \"ticks\": \"\"}}, \"type\": \"scatter\"}], \"scatter3d\": [{\"line\": {\"colorbar\": {\"outlinewidth\": 0, \"ticks\": \"\"}}, \"marker\": {\"colorbar\": {\"outlinewidth\": 0, \"ticks\": \"\"}}, \"type\": \"scatter3d\"}], \"scattercarpet\": [{\"marker\": {\"colorbar\": {\"outlinewidth\": 0, \"ticks\": \"\"}}, \"type\": \"scattercarpet\"}], \"scattergeo\": [{\"marker\": {\"colorbar\": {\"outlinewidth\": 0, \"ticks\": \"\"}}, \"type\": \"scattergeo\"}], \"scattergl\": [{\"marker\": {\"colorbar\": {\"outlinewidth\": 0, \"ticks\": \"\"}}, \"type\": \"scattergl\"}], \"scattermapbox\": [{\"marker\": {\"colorbar\": {\"outlinewidth\": 0, \"ticks\": \"\"}}, \"type\": \"scattermapbox\"}], \"scatterpolar\": [{\"marker\": {\"colorbar\": {\"outlinewidth\": 0, \"ticks\": \"\"}}, \"type\": \"scatterpolar\"}], \"scatterpolargl\": [{\"marker\": {\"colorbar\": {\"outlinewidth\": 0, \"ticks\": \"\"}}, \"type\": \"scatterpolargl\"}], \"scatterternary\": [{\"marker\": {\"colorbar\": {\"outlinewidth\": 0, \"ticks\": \"\"}}, \"type\": \"scatterternary\"}], \"surface\": [{\"colorbar\": {\"outlinewidth\": 0, \"ticks\": \"\"}, \"colorscale\": [[0.0, \"#0d0887\"], [0.1111111111111111, \"#46039f\"], [0.2222222222222222, \"#7201a8\"], [0.3333333333333333, \"#9c179e\"], [0.4444444444444444, \"#bd3786\"], [0.5555555555555556, \"#d8576b\"], [0.6666666666666666, \"#ed7953\"], [0.7777777777777778, \"#fb9f3a\"], [0.8888888888888888, \"#fdca26\"], [1.0, \"#f0f921\"]], \"type\": \"surface\"}], \"table\": [{\"cells\": {\"fill\": {\"color\": \"#EBF0F8\"}, \"line\": {\"color\": \"white\"}}, \"header\": {\"fill\": {\"color\": \"#C8D4E3\"}, \"line\": {\"color\": \"white\"}}, \"type\": \"table\"}]}, \"layout\": {\"annotationdefaults\": {\"arrowcolor\": \"#2a3f5f\", \"arrowhead\": 0, \"arrowwidth\": 1}, \"coloraxis\": {\"colorbar\": {\"outlinewidth\": 0, \"ticks\": \"\"}}, \"colorscale\": {\"diverging\": [[0, \"#8e0152\"], [0.1, \"#c51b7d\"], [0.2, \"#de77ae\"], [0.3, \"#f1b6da\"], [0.4, \"#fde0ef\"], [0.5, \"#f7f7f7\"], [0.6, \"#e6f5d0\"], [0.7, \"#b8e186\"], [0.8, \"#7fbc41\"], [0.9, \"#4d9221\"], [1, \"#276419\"]], \"sequential\": [[0.0, \"#0d0887\"], [0.1111111111111111, \"#46039f\"], [0.2222222222222222, \"#7201a8\"], [0.3333333333333333, \"#9c179e\"], [0.4444444444444444, \"#bd3786\"], [0.5555555555555556, \"#d8576b\"], [0.6666666666666666, \"#ed7953\"], [0.7777777777777778, \"#fb9f3a\"], [0.8888888888888888, \"#fdca26\"], [1.0, \"#f0f921\"]], \"sequentialminus\": [[0.0, \"#0d0887\"], [0.1111111111111111, \"#46039f\"], [0.2222222222222222, \"#7201a8\"], [0.3333333333333333, \"#9c179e\"], [0.4444444444444444, \"#bd3786\"], [0.5555555555555556, \"#d8576b\"], [0.6666666666666666, \"#ed7953\"], [0.7777777777777778, \"#fb9f3a\"], [0.8888888888888888, \"#fdca26\"], [1.0, \"#f0f921\"]]}, \"colorway\": [\"#636efa\", \"#EF553B\", \"#00cc96\", \"#ab63fa\", \"#FFA15A\", \"#19d3f3\", \"#FF6692\", \"#B6E880\", \"#FF97FF\", \"#FECB52\"], \"font\": {\"color\": \"#2a3f5f\"}, \"geo\": {\"bgcolor\": \"white\", \"lakecolor\": \"white\", \"landcolor\": \"#E5ECF6\", \"showlakes\": true, \"showland\": true, \"subunitcolor\": \"white\"}, \"hoverlabel\": {\"align\": \"left\"}, \"hovermode\": \"closest\", \"mapbox\": {\"style\": \"light\"}, \"paper_bgcolor\": \"white\", \"plot_bgcolor\": \"#E5ECF6\", \"polar\": {\"angularaxis\": {\"gridcolor\": \"white\", \"linecolor\": \"white\", \"ticks\": \"\"}, \"bgcolor\": \"#E5ECF6\", \"radialaxis\": {\"gridcolor\": \"white\", \"linecolor\": \"white\", \"ticks\": \"\"}}, \"scene\": {\"xaxis\": {\"backgroundcolor\": \"#E5ECF6\", \"gridcolor\": \"white\", \"gridwidth\": 2, \"linecolor\": \"white\", \"showbackground\": true, \"ticks\": \"\", \"zerolinecolor\": \"white\"}, \"yaxis\": {\"backgroundcolor\": \"#E5ECF6\", \"gridcolor\": \"white\", \"gridwidth\": 2, \"linecolor\": \"white\", \"showbackground\": true, \"ticks\": \"\", \"zerolinecolor\": \"white\"}, \"zaxis\": {\"backgroundcolor\": \"#E5ECF6\", \"gridcolor\": \"white\", \"gridwidth\": 2, \"linecolor\": \"white\", \"showbackground\": true, \"ticks\": \"\", \"zerolinecolor\": \"white\"}}, \"shapedefaults\": {\"line\": {\"color\": \"#2a3f5f\"}}, \"ternary\": {\"aaxis\": {\"gridcolor\": \"white\", \"linecolor\": \"white\", \"ticks\": \"\"}, \"baxis\": {\"gridcolor\": \"white\", \"linecolor\": \"white\", \"ticks\": \"\"}, \"bgcolor\": \"#E5ECF6\", \"caxis\": {\"gridcolor\": \"white\", \"linecolor\": \"white\", \"ticks\": \"\"}}, \"title\": {\"x\": 0.05}, \"xaxis\": {\"automargin\": true, \"gridcolor\": \"white\", \"linecolor\": \"white\", \"ticks\": \"\", \"title\": {\"standoff\": 15}, \"zerolinecolor\": \"white\", \"zerolinewidth\": 2}, \"yaxis\": {\"automargin\": true, \"gridcolor\": \"white\", \"linecolor\": \"white\", \"ticks\": \"\", \"title\": {\"standoff\": 15}, \"zerolinecolor\": \"white\", \"zerolinewidth\": 2}}}, \"width\": 950, \"xaxis\": {\"anchor\": \"y\", \"domain\": [0.0, 1.0], \"title\": {\"text\": \"Level 0 Category\"}}, \"yaxis\": {\"anchor\": \"x\", \"domain\": [0.0, 1.0], \"title\": {\"text\": \"Number of Checkins\"}}},                        {\"responsive\": true}                    ).then(function(){\n",
       "                            \n",
       "var gd = document.getElementById('a0e7fdf2-41fd-474b-87d9-bf996960f2bc');\n",
       "var x = new MutationObserver(function (mutations, observer) {{\n",
       "        var display = window.getComputedStyle(gd).display;\n",
       "        if (!display || display === 'none') {{\n",
       "            console.log([gd, 'removed!']);\n",
       "            Plotly.purge(gd);\n",
       "            observer.disconnect();\n",
       "        }}\n",
       "}});\n",
       "\n",
       "// Listen for the removal of the full notebook cells\n",
       "var notebookContainer = gd.closest('#notebook-container');\n",
       "if (notebookContainer) {{\n",
       "    x.observe(notebookContainer, {childList: true});\n",
       "}}\n",
       "\n",
       "// Listen for the clearing of the current output cell\n",
       "var outputEl = gd.closest('.output');\n",
       "if (outputEl) {{\n",
       "    x.observe(outputEl, {childList: true});\n",
       "}}\n",
       "\n",
       "                        })                };                });            </script>        </div>"
      ]
     },
     "metadata": {},
     "output_type": "display_data"
    }
   ],
   "source": [
    "# Plot\n",
    "data = merged_df_grouped\n",
    "\n",
    "fig = px.bar(data, x='level_0_category', y='number_of_checkins',\n",
    "             hover_data=['level_0_category', 'number_of_checkins'], color='number_of_checkins',\n",
    "             labels={'number_of_checkins':'Number of Checkins', 'level_0_category':'Level 0 Category'}, \n",
    "             height=400, width=950)\n",
    "\n",
    "cscale = ['#003f5c', '#31466d', '#534c7b', '#755086', '#98518d', '#bb5090', '#d6597e', '#e9676b', '#f67a55',\n",
    "          '#fe8f3b', '#ffa600']\n",
    "\n",
    "cscale.reverse()\n",
    "\n",
    "fig.update_traces(marker_color=cscale,\n",
    "                  hovertemplate = 'Category: %{x}'+'<br>Number of checkins: %{y:f}<extra></extra>')\n",
    "fig.show()"
   ]
  },
  {
   "cell_type": "markdown",
   "metadata": {},
   "source": [
    "---\n",
    "## Part 2: Check-in social scores"
   ]
  },
  {
   "cell_type": "markdown",
   "metadata": {},
   "source": [
    "We merge the checkin and venue dataframes to get information for each checkin."
   ]
  },
  {
   "cell_type": "code",
   "execution_count": 13,
   "metadata": {
    "scrolled": true
   },
   "outputs": [
    {
     "data": {
      "text/html": [
       "<div>\n",
       "<style scoped>\n",
       "    .dataframe tbody tr th:only-of-type {\n",
       "        vertical-align: middle;\n",
       "    }\n",
       "\n",
       "    .dataframe tbody tr th {\n",
       "        vertical-align: top;\n",
       "    }\n",
       "\n",
       "    .dataframe thead th {\n",
       "        text-align: right;\n",
       "    }\n",
       "</style>\n",
       "<table border=\"1\" class=\"dataframe\">\n",
       "  <thead>\n",
       "    <tr style=\"text-align: right;\">\n",
       "      <th></th>\n",
       "      <th>user_id</th>\n",
       "      <th>venue_id</th>\n",
       "      <th>checkin_time</th>\n",
       "      <th>category</th>\n",
       "      <th>level_0_category</th>\n",
       "      <th>level_1_category</th>\n",
       "    </tr>\n",
       "  </thead>\n",
       "  <tbody>\n",
       "    <tr>\n",
       "      <th>18055484</th>\n",
       "      <td>1043184</td>\n",
       "      <td>50505899e4b0473d5f361c11</td>\n",
       "      <td>2013-02-26 16:10:40</td>\n",
       "      <td>Bridge</td>\n",
       "      <td>Outdoors &amp; Recreation</td>\n",
       "      <td>Bridge</td>\n",
       "    </tr>\n",
       "    <tr>\n",
       "      <th>17735824</th>\n",
       "      <td>345216</td>\n",
       "      <td>5029481ee4b0c75a16b585e1</td>\n",
       "      <td>2013-01-25 13:48:19</td>\n",
       "      <td>Peruvian Restaurant</td>\n",
       "      <td>Food</td>\n",
       "      <td>Latin American Restaurant</td>\n",
       "    </tr>\n",
       "    <tr>\n",
       "      <th>18148685</th>\n",
       "      <td>77354</td>\n",
       "      <td>4c411845a5c5ef3b6c27b06f</td>\n",
       "      <td>2013-08-13 17:46:29</td>\n",
       "      <td>Bus Station</td>\n",
       "      <td>Travel &amp; Transport</td>\n",
       "      <td>Bus Station</td>\n",
       "    </tr>\n",
       "  </tbody>\n",
       "</table>\n",
       "</div>"
      ],
      "text/plain": [
       "          user_id                  venue_id        checkin_time  \\\n",
       "18055484  1043184  50505899e4b0473d5f361c11 2013-02-26 16:10:40   \n",
       "17735824   345216  5029481ee4b0c75a16b585e1 2013-01-25 13:48:19   \n",
       "18148685    77354  4c411845a5c5ef3b6c27b06f 2013-08-13 17:46:29   \n",
       "\n",
       "                     category       level_0_category  \\\n",
       "18055484               Bridge  Outdoors & Recreation   \n",
       "17735824  Peruvian Restaurant                   Food   \n",
       "18148685          Bus Station     Travel & Transport   \n",
       "\n",
       "                   level_1_category  \n",
       "18055484                     Bridge  \n",
       "17735824  Latin American Restaurant  \n",
       "18148685                Bus Station  "
      ]
     },
     "execution_count": 13,
     "metadata": {},
     "output_type": "execute_result"
    }
   ],
   "source": [
    "# Merge dataframes\n",
    "checkin_hour_df = pd.merge(checkin_df, venue_df, on='venue_id')\n",
    "checkin_hour_df = checkin_hour_df.drop(['latitude','longitude','country_code'], axis=1)\n",
    "checkin_hour_df.sample(3)"
   ]
  },
  {
   "cell_type": "markdown",
   "metadata": {},
   "source": [
    "We create a new dataframe assigning coefficients to each level 0 category."
   ]
  },
  {
   "cell_type": "code",
   "execution_count": 14,
   "metadata": {},
   "outputs": [
    {
     "data": {
      "text/html": [
       "<div>\n",
       "<style scoped>\n",
       "    .dataframe tbody tr th:only-of-type {\n",
       "        vertical-align: middle;\n",
       "    }\n",
       "\n",
       "    .dataframe tbody tr th {\n",
       "        vertical-align: top;\n",
       "    }\n",
       "\n",
       "    .dataframe thead th {\n",
       "        text-align: right;\n",
       "    }\n",
       "</style>\n",
       "<table border=\"1\" class=\"dataframe\">\n",
       "  <thead>\n",
       "    <tr style=\"text-align: right;\">\n",
       "      <th></th>\n",
       "      <th>level_0_category</th>\n",
       "      <th>level_0_coefficient</th>\n",
       "    </tr>\n",
       "  </thead>\n",
       "  <tbody>\n",
       "    <tr>\n",
       "      <th>0</th>\n",
       "      <td>Nightlife Spot</td>\n",
       "      <td>1.5</td>\n",
       "    </tr>\n",
       "    <tr>\n",
       "      <th>1</th>\n",
       "      <td>Professional &amp; Other Places</td>\n",
       "      <td>1.1</td>\n",
       "    </tr>\n",
       "    <tr>\n",
       "      <th>2</th>\n",
       "      <td>College &amp; University</td>\n",
       "      <td>1.3</td>\n",
       "    </tr>\n",
       "    <tr>\n",
       "      <th>3</th>\n",
       "      <td>Food</td>\n",
       "      <td>1.3</td>\n",
       "    </tr>\n",
       "    <tr>\n",
       "      <th>4</th>\n",
       "      <td>Shop &amp; Service</td>\n",
       "      <td>1.0</td>\n",
       "    </tr>\n",
       "    <tr>\n",
       "      <th>5</th>\n",
       "      <td>Travel &amp; Transport</td>\n",
       "      <td>1.2</td>\n",
       "    </tr>\n",
       "    <tr>\n",
       "      <th>6</th>\n",
       "      <td>Residence</td>\n",
       "      <td>1.1</td>\n",
       "    </tr>\n",
       "    <tr>\n",
       "      <th>7</th>\n",
       "      <td>Outdoors &amp; Recreation</td>\n",
       "      <td>1.4</td>\n",
       "    </tr>\n",
       "    <tr>\n",
       "      <th>8</th>\n",
       "      <td>Arts &amp; Entertainment</td>\n",
       "      <td>1.3</td>\n",
       "    </tr>\n",
       "    <tr>\n",
       "      <th>9</th>\n",
       "      <td>Event</td>\n",
       "      <td>1.5</td>\n",
       "    </tr>\n",
       "    <tr>\n",
       "      <th>10</th>\n",
       "      <td>Other</td>\n",
       "      <td>1.0</td>\n",
       "    </tr>\n",
       "  </tbody>\n",
       "</table>\n",
       "</div>"
      ],
      "text/plain": [
       "               level_0_category  level_0_coefficient\n",
       "0                Nightlife Spot                  1.5\n",
       "1   Professional & Other Places                  1.1\n",
       "2          College & University                  1.3\n",
       "3                          Food                  1.3\n",
       "4                Shop & Service                  1.0\n",
       "5            Travel & Transport                  1.2\n",
       "6                     Residence                  1.1\n",
       "7         Outdoors & Recreation                  1.4\n",
       "8          Arts & Entertainment                  1.3\n",
       "9                         Event                  1.5\n",
       "10                        Other                  1.0"
      ]
     },
     "execution_count": 14,
     "metadata": {},
     "output_type": "execute_result"
    }
   ],
   "source": [
    "categories = checkin_hour_df.level_0_category.unique()\n",
    "social_score = [1.5, 1.1, 1.3, 1.3, 1, 1.2, 1.1, 1.4, 1.3, 1.5, 1]\n",
    "category_social_score_df = pd.DataFrame({'level_0_category':categories, 'level_0_coefficient':social_score})\n",
    "category_social_score_df"
   ]
  },
  {
   "cell_type": "markdown",
   "metadata": {},
   "source": [
    "We merge this dataframe with the previous one to get the following."
   ]
  },
  {
   "cell_type": "code",
   "execution_count": 15,
   "metadata": {},
   "outputs": [
    {
     "data": {
      "text/html": [
       "<div>\n",
       "<style scoped>\n",
       "    .dataframe tbody tr th:only-of-type {\n",
       "        vertical-align: middle;\n",
       "    }\n",
       "\n",
       "    .dataframe tbody tr th {\n",
       "        vertical-align: top;\n",
       "    }\n",
       "\n",
       "    .dataframe thead th {\n",
       "        text-align: right;\n",
       "    }\n",
       "</style>\n",
       "<table border=\"1\" class=\"dataframe\">\n",
       "  <thead>\n",
       "    <tr style=\"text-align: right;\">\n",
       "      <th></th>\n",
       "      <th>user_id</th>\n",
       "      <th>venue_id</th>\n",
       "      <th>checkin_time</th>\n",
       "      <th>category</th>\n",
       "      <th>level_0_category</th>\n",
       "      <th>level_1_category</th>\n",
       "      <th>level_0_coefficient</th>\n",
       "    </tr>\n",
       "  </thead>\n",
       "  <tbody>\n",
       "    <tr>\n",
       "      <th>18221866</th>\n",
       "      <td>1256708</td>\n",
       "      <td>50a379c5e4b0da0c1e75e77c</td>\n",
       "      <td>2013-05-08 20:06:13</td>\n",
       "      <td>Gym / Fitness Center</td>\n",
       "      <td>Outdoors &amp; Recreation</td>\n",
       "      <td>Athletics &amp; Sports</td>\n",
       "      <td>1.4</td>\n",
       "    </tr>\n",
       "    <tr>\n",
       "      <th>9046068</th>\n",
       "      <td>1379277</td>\n",
       "      <td>4b9a82f8f964a52058bc35e3</td>\n",
       "      <td>2013-07-02 14:40:53</td>\n",
       "      <td>Mall</td>\n",
       "      <td>Shop &amp; Service</td>\n",
       "      <td>Shopping Mall</td>\n",
       "      <td>1.0</td>\n",
       "    </tr>\n",
       "    <tr>\n",
       "      <th>399143</th>\n",
       "      <td>358275</td>\n",
       "      <td>4e8b1c7c722e2d278e513897</td>\n",
       "      <td>2012-08-14 23:05:27</td>\n",
       "      <td>Bar</td>\n",
       "      <td>Nightlife Spot</td>\n",
       "      <td>Bar</td>\n",
       "      <td>1.5</td>\n",
       "    </tr>\n",
       "  </tbody>\n",
       "</table>\n",
       "</div>"
      ],
      "text/plain": [
       "          user_id                  venue_id        checkin_time  \\\n",
       "18221866  1256708  50a379c5e4b0da0c1e75e77c 2013-05-08 20:06:13   \n",
       "9046068   1379277  4b9a82f8f964a52058bc35e3 2013-07-02 14:40:53   \n",
       "399143     358275  4e8b1c7c722e2d278e513897 2012-08-14 23:05:27   \n",
       "\n",
       "                      category       level_0_category    level_1_category  \\\n",
       "18221866  Gym / Fitness Center  Outdoors & Recreation  Athletics & Sports   \n",
       "9046068                   Mall         Shop & Service       Shopping Mall   \n",
       "399143                     Bar         Nightlife Spot                 Bar   \n",
       "\n",
       "          level_0_coefficient  \n",
       "18221866                  1.4  \n",
       "9046068                   1.0  \n",
       "399143                    1.5  "
      ]
     },
     "execution_count": 15,
     "metadata": {},
     "output_type": "execute_result"
    }
   ],
   "source": [
    "checkin_hour_df = pd.merge(checkin_hour_df, category_social_score_df, on='level_0_category')\n",
    "checkin_hour_df.sample(3)"
   ]
  },
  {
   "cell_type": "markdown",
   "metadata": {},
   "source": [
    "We floor the check-in time to get the check-in hour."
   ]
  },
  {
   "cell_type": "code",
   "execution_count": 16,
   "metadata": {},
   "outputs": [
    {
     "data": {
      "text/html": [
       "<div>\n",
       "<style scoped>\n",
       "    .dataframe tbody tr th:only-of-type {\n",
       "        vertical-align: middle;\n",
       "    }\n",
       "\n",
       "    .dataframe tbody tr th {\n",
       "        vertical-align: top;\n",
       "    }\n",
       "\n",
       "    .dataframe thead th {\n",
       "        text-align: right;\n",
       "    }\n",
       "</style>\n",
       "<table border=\"1\" class=\"dataframe\">\n",
       "  <thead>\n",
       "    <tr style=\"text-align: right;\">\n",
       "      <th></th>\n",
       "      <th>user_id</th>\n",
       "      <th>venue_id</th>\n",
       "      <th>checkin_time</th>\n",
       "      <th>category</th>\n",
       "      <th>level_0_category</th>\n",
       "      <th>level_1_category</th>\n",
       "      <th>level_0_coefficient</th>\n",
       "      <th>checkin_hour</th>\n",
       "    </tr>\n",
       "  </thead>\n",
       "  <tbody>\n",
       "    <tr>\n",
       "      <th>8595667</th>\n",
       "      <td>943334</td>\n",
       "      <td>5053f9b8e4b0359ed539d111</td>\n",
       "      <td>2013-02-17 17:59:53</td>\n",
       "      <td>Pizza Place</td>\n",
       "      <td>Food</td>\n",
       "      <td>Pizza Place</td>\n",
       "      <td>1.3</td>\n",
       "      <td>17</td>\n",
       "    </tr>\n",
       "    <tr>\n",
       "      <th>18323193</th>\n",
       "      <td>1353499</td>\n",
       "      <td>4d1a164685fc6dcb07bdc24e</td>\n",
       "      <td>2013-06-07 19:16:09</td>\n",
       "      <td>Yoga Studio</td>\n",
       "      <td>Outdoors &amp; Recreation</td>\n",
       "      <td>Athletics &amp; Sports</td>\n",
       "      <td>1.4</td>\n",
       "      <td>19</td>\n",
       "    </tr>\n",
       "    <tr>\n",
       "      <th>4627138</th>\n",
       "      <td>938366</td>\n",
       "      <td>4f7183a7e4b0559c39132579</td>\n",
       "      <td>2012-06-09 14:27:29</td>\n",
       "      <td>College Classroom</td>\n",
       "      <td>College &amp; University</td>\n",
       "      <td>College Classroom</td>\n",
       "      <td>1.3</td>\n",
       "      <td>14</td>\n",
       "    </tr>\n",
       "  </tbody>\n",
       "</table>\n",
       "</div>"
      ],
      "text/plain": [
       "          user_id                  venue_id        checkin_time  \\\n",
       "8595667    943334  5053f9b8e4b0359ed539d111 2013-02-17 17:59:53   \n",
       "18323193  1353499  4d1a164685fc6dcb07bdc24e 2013-06-07 19:16:09   \n",
       "4627138    938366  4f7183a7e4b0559c39132579 2012-06-09 14:27:29   \n",
       "\n",
       "                   category       level_0_category    level_1_category  \\\n",
       "8595667         Pizza Place                   Food         Pizza Place   \n",
       "18323193        Yoga Studio  Outdoors & Recreation  Athletics & Sports   \n",
       "4627138   College Classroom   College & University   College Classroom   \n",
       "\n",
       "          level_0_coefficient  checkin_hour  \n",
       "8595667                   1.3            17  \n",
       "18323193                  1.4            19  \n",
       "4627138                   1.3            14  "
      ]
     },
     "execution_count": 16,
     "metadata": {},
     "output_type": "execute_result"
    }
   ],
   "source": [
    "checkin_hour_df['checkin_hour'] = checkin_hour_df.checkin_time.dt.floor('H').dt.hour\n",
    "checkin_hour_df.sample(3)"
   ]
  },
  {
   "cell_type": "markdown",
   "metadata": {},
   "source": [
    "We find the peak hours for each checkin by computing the number of minimum hours that have a total of 40% of checkins."
   ]
  },
  {
   "cell_type": "code",
   "execution_count": 17,
   "metadata": {},
   "outputs": [
    {
     "data": {
      "text/html": [
       "<div>\n",
       "<style scoped>\n",
       "    .dataframe tbody tr th:only-of-type {\n",
       "        vertical-align: middle;\n",
       "    }\n",
       "\n",
       "    .dataframe tbody tr th {\n",
       "        vertical-align: top;\n",
       "    }\n",
       "\n",
       "    .dataframe thead th {\n",
       "        text-align: right;\n",
       "    }\n",
       "</style>\n",
       "<table border=\"1\" class=\"dataframe\">\n",
       "  <thead>\n",
       "    <tr style=\"text-align: right;\">\n",
       "      <th></th>\n",
       "      <th>level_1_category</th>\n",
       "      <th>peak_hours</th>\n",
       "    </tr>\n",
       "  </thead>\n",
       "  <tbody>\n",
       "    <tr>\n",
       "      <th>89</th>\n",
       "      <td>Scandinavian Restaurant</td>\n",
       "      <td>[12, 16, 18, 19, 20]</td>\n",
       "    </tr>\n",
       "    <tr>\n",
       "      <th>90</th>\n",
       "      <td>BBQ Joint</td>\n",
       "      <td>[12, 18, 19, 20]</td>\n",
       "    </tr>\n",
       "    <tr>\n",
       "      <th>15</th>\n",
       "      <td>Event Space</td>\n",
       "      <td>[13, 14, 15, 17, 18, 19]</td>\n",
       "    </tr>\n",
       "  </tbody>\n",
       "</table>\n",
       "</div>"
      ],
      "text/plain": [
       "           level_1_category                peak_hours\n",
       "89  Scandinavian Restaurant      [12, 16, 18, 19, 20]\n",
       "90                BBQ Joint          [12, 18, 19, 20]\n",
       "15              Event Space  [13, 14, 15, 17, 18, 19]"
      ]
     },
     "execution_count": 17,
     "metadata": {},
     "output_type": "execute_result"
    }
   ],
   "source": [
    "level_1_category_df = pd.DataFrame({'level_1_category': checkin_hour_df.level_1_category.unique()})\n",
    "level_1_category_df['peak_hours'] = np.nan\n",
    "level_1_category_df['peak_hours'] = level_1_category_df['peak_hours'].astype('object')\n",
    "\n",
    "for index, row in level_1_category_df.iterrows():   \n",
    "    # Group by checkin hour for each category\n",
    "    checkin_count_df = checkin_hour_df[checkin_hour_df.level_1_category==\n",
    "                                       row['level_1_category']].groupby(checkin_hour_df['checkin_hour']).count()\n",
    "\n",
    "    # Drop column and reset index for easier handling\n",
    "    checkin_count_df = checkin_count_df.drop('checkin_hour', axis=1)\n",
    "    checkin_count_df = checkin_count_df.reset_index()\n",
    "\n",
    "    # Get peak hours\n",
    "    arr = np.array(checkin_count_df['user_id'])\n",
    "    n = fn.smallest_subset_size(arr, 0.4*sum(arr))\n",
    "    peak_hours = list(checkin_count_df.nlargest(n, 'user_id').checkin_hour.sort_values())\n",
    "    level_1_category_df.at[index, 'peak_hours'] = peak_hours\n",
    "\n",
    "# Visualise peak hour dataframe\n",
    "level_1_category_df.sample(3)"
   ]
  },
  {
   "cell_type": "markdown",
   "metadata": {},
   "source": [
    "We merge this dataframe with our previous information."
   ]
  },
  {
   "cell_type": "code",
   "execution_count": 18,
   "metadata": {},
   "outputs": [
    {
     "data": {
      "text/html": [
       "<div>\n",
       "<style scoped>\n",
       "    .dataframe tbody tr th:only-of-type {\n",
       "        vertical-align: middle;\n",
       "    }\n",
       "\n",
       "    .dataframe tbody tr th {\n",
       "        vertical-align: top;\n",
       "    }\n",
       "\n",
       "    .dataframe thead th {\n",
       "        text-align: right;\n",
       "    }\n",
       "</style>\n",
       "<table border=\"1\" class=\"dataframe\">\n",
       "  <thead>\n",
       "    <tr style=\"text-align: right;\">\n",
       "      <th></th>\n",
       "      <th>user_id</th>\n",
       "      <th>venue_id</th>\n",
       "      <th>checkin_time</th>\n",
       "      <th>category</th>\n",
       "      <th>level_0_category</th>\n",
       "      <th>level_1_category</th>\n",
       "      <th>level_0_coefficient</th>\n",
       "      <th>checkin_hour</th>\n",
       "      <th>peak_hours</th>\n",
       "    </tr>\n",
       "  </thead>\n",
       "  <tbody>\n",
       "    <tr>\n",
       "      <th>10997699</th>\n",
       "      <td>319340</td>\n",
       "      <td>4b59997ff964a520468e28e3</td>\n",
       "      <td>2013-07-12 17:30:25</td>\n",
       "      <td>Bookstore</td>\n",
       "      <td>Shop &amp; Service</td>\n",
       "      <td>Bookstore</td>\n",
       "      <td>1.0</td>\n",
       "      <td>17</td>\n",
       "      <td>[16, 17, 18, 19]</td>\n",
       "    </tr>\n",
       "    <tr>\n",
       "      <th>16807282</th>\n",
       "      <td>579289</td>\n",
       "      <td>4b9500d8f964a5201c8b34e3</td>\n",
       "      <td>2012-12-10 12:33:56</td>\n",
       "      <td>Gym / Fitness Center</td>\n",
       "      <td>Outdoors &amp; Recreation</td>\n",
       "      <td>Athletics &amp; Sports</td>\n",
       "      <td>1.4</td>\n",
       "      <td>12</td>\n",
       "      <td>[16, 17, 18, 19, 20]</td>\n",
       "    </tr>\n",
       "    <tr>\n",
       "      <th>15452321</th>\n",
       "      <td>1637333</td>\n",
       "      <td>4f928901e4b0324618bbaca9</td>\n",
       "      <td>2013-05-04 17:39:16</td>\n",
       "      <td>Home (private)</td>\n",
       "      <td>Residence</td>\n",
       "      <td>Home (private)</td>\n",
       "      <td>1.1</td>\n",
       "      <td>17</td>\n",
       "      <td>[18, 19, 20, 21, 22, 23]</td>\n",
       "    </tr>\n",
       "  </tbody>\n",
       "</table>\n",
       "</div>"
      ],
      "text/plain": [
       "          user_id                  venue_id        checkin_time  \\\n",
       "10997699   319340  4b59997ff964a520468e28e3 2013-07-12 17:30:25   \n",
       "16807282   579289  4b9500d8f964a5201c8b34e3 2012-12-10 12:33:56   \n",
       "15452321  1637333  4f928901e4b0324618bbaca9 2013-05-04 17:39:16   \n",
       "\n",
       "                      category       level_0_category    level_1_category  \\\n",
       "10997699             Bookstore         Shop & Service           Bookstore   \n",
       "16807282  Gym / Fitness Center  Outdoors & Recreation  Athletics & Sports   \n",
       "15452321        Home (private)              Residence      Home (private)   \n",
       "\n",
       "          level_0_coefficient  checkin_hour                peak_hours  \n",
       "10997699                  1.0            17          [16, 17, 18, 19]  \n",
       "16807282                  1.4            12      [16, 17, 18, 19, 20]  \n",
       "15452321                  1.1            17  [18, 19, 20, 21, 22, 23]  "
      ]
     },
     "execution_count": 18,
     "metadata": {},
     "output_type": "execute_result"
    }
   ],
   "source": [
    "# Merge information\n",
    "peak_hour_df = pd.merge(checkin_hour_df, level_1_category_df, on='level_1_category')\n",
    "\n",
    "# Visualise dataframe\n",
    "peak_hour_df.sample(3)"
   ]
  },
  {
   "cell_type": "markdown",
   "metadata": {},
   "source": [
    "We check if each checkin is within the peak hours of its level 1 category."
   ]
  },
  {
   "cell_type": "code",
   "execution_count": 19,
   "metadata": {},
   "outputs": [
    {
     "data": {
      "text/html": [
       "<div>\n",
       "<style scoped>\n",
       "    .dataframe tbody tr th:only-of-type {\n",
       "        vertical-align: middle;\n",
       "    }\n",
       "\n",
       "    .dataframe tbody tr th {\n",
       "        vertical-align: top;\n",
       "    }\n",
       "\n",
       "    .dataframe thead th {\n",
       "        text-align: right;\n",
       "    }\n",
       "</style>\n",
       "<table border=\"1\" class=\"dataframe\">\n",
       "  <thead>\n",
       "    <tr style=\"text-align: right;\">\n",
       "      <th></th>\n",
       "      <th>user_id</th>\n",
       "      <th>venue_id</th>\n",
       "      <th>checkin_time</th>\n",
       "      <th>category</th>\n",
       "      <th>level_0_category</th>\n",
       "      <th>level_1_category</th>\n",
       "      <th>level_0_coefficient</th>\n",
       "      <th>checkin_hour</th>\n",
       "      <th>peak_hours</th>\n",
       "      <th>social_visit</th>\n",
       "    </tr>\n",
       "  </thead>\n",
       "  <tbody>\n",
       "    <tr>\n",
       "      <th>3347290</th>\n",
       "      <td>705145</td>\n",
       "      <td>4fa34adfe4b02e6a53caae9c</td>\n",
       "      <td>2012-05-04 10:20:04</td>\n",
       "      <td>Factory</td>\n",
       "      <td>Professional &amp; Other Places</td>\n",
       "      <td>Factory</td>\n",
       "      <td>1.1</td>\n",
       "      <td>10</td>\n",
       "      <td>[7, 8, 9, 10]</td>\n",
       "      <td>2</td>\n",
       "    </tr>\n",
       "    <tr>\n",
       "      <th>16348990</th>\n",
       "      <td>1029868</td>\n",
       "      <td>4f8cdae2e4b05cdaa05b3310</td>\n",
       "      <td>2013-05-18 16:31:19</td>\n",
       "      <td>Residential Building (Apartment / Condo)</td>\n",
       "      <td>Residence</td>\n",
       "      <td>Residential Building (Apartment / Condo)</td>\n",
       "      <td>1.1</td>\n",
       "      <td>16</td>\n",
       "      <td>[18, 19, 20, 21, 22, 23]</td>\n",
       "      <td>1</td>\n",
       "    </tr>\n",
       "    <tr>\n",
       "      <th>13372271</th>\n",
       "      <td>771254</td>\n",
       "      <td>4b305b8af964a52022f924e3</td>\n",
       "      <td>2012-07-17 08:31:44</td>\n",
       "      <td>Metro Station</td>\n",
       "      <td>Travel &amp; Transport</td>\n",
       "      <td>Metro Station</td>\n",
       "      <td>1.2</td>\n",
       "      <td>8</td>\n",
       "      <td>[7, 8, 9, 17, 18, 19]</td>\n",
       "      <td>2</td>\n",
       "    </tr>\n",
       "  </tbody>\n",
       "</table>\n",
       "</div>"
      ],
      "text/plain": [
       "          user_id                  venue_id        checkin_time  \\\n",
       "3347290    705145  4fa34adfe4b02e6a53caae9c 2012-05-04 10:20:04   \n",
       "16348990  1029868  4f8cdae2e4b05cdaa05b3310 2013-05-18 16:31:19   \n",
       "13372271   771254  4b305b8af964a52022f924e3 2012-07-17 08:31:44   \n",
       "\n",
       "                                          category  \\\n",
       "3347290                                    Factory   \n",
       "16348990  Residential Building (Apartment / Condo)   \n",
       "13372271                             Metro Station   \n",
       "\n",
       "                     level_0_category  \\\n",
       "3347290   Professional & Other Places   \n",
       "16348990                    Residence   \n",
       "13372271           Travel & Transport   \n",
       "\n",
       "                                  level_1_category  level_0_coefficient  \\\n",
       "3347290                                    Factory                  1.1   \n",
       "16348990  Residential Building (Apartment / Condo)                  1.1   \n",
       "13372271                             Metro Station                  1.2   \n",
       "\n",
       "          checkin_hour                peak_hours  social_visit  \n",
       "3347290             10             [7, 8, 9, 10]             2  \n",
       "16348990            16  [18, 19, 20, 21, 22, 23]             1  \n",
       "13372271             8     [7, 8, 9, 17, 18, 19]             2  "
      ]
     },
     "execution_count": 19,
     "metadata": {},
     "output_type": "execute_result"
    }
   ],
   "source": [
    "# Is checkin in peak hours?\n",
    "peak_hour_df['social_visit'] = peak_hour_df.apply(lambda x: x['checkin_hour'] in x['peak_hours'], axis=1)\n",
    "peak_hour_df['social_visit'] = peak_hour_df['social_visit'].replace({True: 2, False: 1})\n",
    "\n",
    "# Visualise dataframe\n",
    "peak_hour_df.sample(3)"
   ]
  },
  {
   "cell_type": "markdown",
   "metadata": {},
   "source": [
    "We now give each check-in a social score according to the following formula:\n",
    "\n",
    "$S = (level \\; 0 \\; coef)*(social \\; visit)$\n",
    "\n",
    "With $(social \\; visit)=1$ if the visit is not within peak hours, and $(social \\; visit)=2$ if it is."
   ]
  },
  {
   "cell_type": "code",
   "execution_count": 20,
   "metadata": {},
   "outputs": [
    {
     "data": {
      "text/html": [
       "<div>\n",
       "<style scoped>\n",
       "    .dataframe tbody tr th:only-of-type {\n",
       "        vertical-align: middle;\n",
       "    }\n",
       "\n",
       "    .dataframe tbody tr th {\n",
       "        vertical-align: top;\n",
       "    }\n",
       "\n",
       "    .dataframe thead th {\n",
       "        text-align: right;\n",
       "    }\n",
       "</style>\n",
       "<table border=\"1\" class=\"dataframe\">\n",
       "  <thead>\n",
       "    <tr style=\"text-align: right;\">\n",
       "      <th></th>\n",
       "      <th>user_id</th>\n",
       "      <th>venue_id</th>\n",
       "      <th>checkin_time</th>\n",
       "      <th>category</th>\n",
       "      <th>level_0_category</th>\n",
       "      <th>level_1_category</th>\n",
       "      <th>level_0_coefficient</th>\n",
       "      <th>checkin_hour</th>\n",
       "      <th>peak_hours</th>\n",
       "      <th>social_visit</th>\n",
       "      <th>social_score</th>\n",
       "    </tr>\n",
       "  </thead>\n",
       "  <tbody>\n",
       "    <tr>\n",
       "      <th>1568913</th>\n",
       "      <td>305366</td>\n",
       "      <td>4b587475f964a520945828e3</td>\n",
       "      <td>2013-01-17 13:31:42</td>\n",
       "      <td>Office</td>\n",
       "      <td>Professional &amp; Other Places</td>\n",
       "      <td>Office</td>\n",
       "      <td>1.1</td>\n",
       "      <td>13</td>\n",
       "      <td>[8, 9, 10]</td>\n",
       "      <td>1</td>\n",
       "      <td>1.1</td>\n",
       "    </tr>\n",
       "    <tr>\n",
       "      <th>3873212</th>\n",
       "      <td>210931</td>\n",
       "      <td>4c554a32b3b09c74d65a44b4</td>\n",
       "      <td>2013-02-19 08:27:11</td>\n",
       "      <td>College Gym</td>\n",
       "      <td>College &amp; University</td>\n",
       "      <td>College Gym</td>\n",
       "      <td>1.3</td>\n",
       "      <td>8</td>\n",
       "      <td>[16, 17, 18, 19, 20]</td>\n",
       "      <td>1</td>\n",
       "      <td>1.3</td>\n",
       "    </tr>\n",
       "    <tr>\n",
       "      <th>1614226</th>\n",
       "      <td>1063418</td>\n",
       "      <td>4c2814d2ed0ac9b6bbcf5faa</td>\n",
       "      <td>2012-12-03 11:15:46</td>\n",
       "      <td>Office</td>\n",
       "      <td>Professional &amp; Other Places</td>\n",
       "      <td>Office</td>\n",
       "      <td>1.1</td>\n",
       "      <td>11</td>\n",
       "      <td>[8, 9, 10]</td>\n",
       "      <td>1</td>\n",
       "      <td>1.1</td>\n",
       "    </tr>\n",
       "  </tbody>\n",
       "</table>\n",
       "</div>"
      ],
      "text/plain": [
       "         user_id                  venue_id        checkin_time     category  \\\n",
       "1568913   305366  4b587475f964a520945828e3 2013-01-17 13:31:42       Office   \n",
       "3873212   210931  4c554a32b3b09c74d65a44b4 2013-02-19 08:27:11  College Gym   \n",
       "1614226  1063418  4c2814d2ed0ac9b6bbcf5faa 2012-12-03 11:15:46       Office   \n",
       "\n",
       "                    level_0_category level_1_category  level_0_coefficient  \\\n",
       "1568913  Professional & Other Places           Office                  1.1   \n",
       "3873212         College & University      College Gym                  1.3   \n",
       "1614226  Professional & Other Places           Office                  1.1   \n",
       "\n",
       "         checkin_hour            peak_hours  social_visit  social_score  \n",
       "1568913            13            [8, 9, 10]             1           1.1  \n",
       "3873212             8  [16, 17, 18, 19, 20]             1           1.3  \n",
       "1614226            11            [8, 9, 10]             1           1.1  "
      ]
     },
     "execution_count": 20,
     "metadata": {},
     "output_type": "execute_result"
    }
   ],
   "source": [
    "# Compute social score\n",
    "peak_hour_df['social_score'] = peak_hour_df['level_0_coefficient']*peak_hour_df['social_visit']\n",
    "\n",
    "# Visualise dataframe\n",
    "peak_hour_df.sample(3)"
   ]
  },
  {
   "cell_type": "markdown",
   "metadata": {},
   "source": [
    "From this we create a new dataframe with the social score for each user. The user social score is the mean of all of their check-in social scores."
   ]
  },
  {
   "cell_type": "code",
   "execution_count": 21,
   "metadata": {},
   "outputs": [
    {
     "data": {
      "text/html": [
       "<div>\n",
       "<style scoped>\n",
       "    .dataframe tbody tr th:only-of-type {\n",
       "        vertical-align: middle;\n",
       "    }\n",
       "\n",
       "    .dataframe tbody tr th {\n",
       "        vertical-align: top;\n",
       "    }\n",
       "\n",
       "    .dataframe thead th {\n",
       "        text-align: right;\n",
       "    }\n",
       "</style>\n",
       "<table border=\"1\" class=\"dataframe\">\n",
       "  <thead>\n",
       "    <tr style=\"text-align: right;\">\n",
       "      <th></th>\n",
       "      <th>user_id</th>\n",
       "      <th>social_score</th>\n",
       "    </tr>\n",
       "  </thead>\n",
       "  <tbody>\n",
       "    <tr>\n",
       "      <th>63793</th>\n",
       "      <td>1037054</td>\n",
       "      <td>1.503333</td>\n",
       "    </tr>\n",
       "    <tr>\n",
       "      <th>39036</th>\n",
       "      <td>561727</td>\n",
       "      <td>1.578871</td>\n",
       "    </tr>\n",
       "    <tr>\n",
       "      <th>1433</th>\n",
       "      <td>15196</td>\n",
       "      <td>1.769767</td>\n",
       "    </tr>\n",
       "  </tbody>\n",
       "</table>\n",
       "</div>"
      ],
      "text/plain": [
       "       user_id  social_score\n",
       "63793  1037054      1.503333\n",
       "39036   561727      1.578871\n",
       "1433     15196      1.769767"
      ]
     },
     "execution_count": 21,
     "metadata": {},
     "output_type": "execute_result"
    }
   ],
   "source": [
    "# Compute user social score\n",
    "user_social_score_df = pd.DataFrame(peak_hour_df.groupby('user_id')['social_score'].mean())\n",
    "user_social_score_df = user_social_score_df.reset_index()\n",
    "\n",
    "# Visualise dataframe\n",
    "user_social_score_df.sample(3)"
   ]
  },
  {
   "cell_type": "markdown",
   "metadata": {},
   "source": [
    "---\n",
    "## Part 3: Travel score"
   ]
  },
  {
   "cell_type": "markdown",
   "metadata": {},
   "source": [
    "We want to take a look at the distribution of friends as a function of distance to define a radius that will define whether a user has \"travelled\" for a check-in. Do do this we use calculate the probability distribution of the distance between a users check-ins and their home.\n",
    "\n",
    "First we merge all of the venue and check-in information into a single dataframe."
   ]
  },
  {
   "cell_type": "code",
   "execution_count": 22,
   "metadata": {},
   "outputs": [
    {
     "data": {
      "text/html": [
       "<div>\n",
       "<style scoped>\n",
       "    .dataframe tbody tr th:only-of-type {\n",
       "        vertical-align: middle;\n",
       "    }\n",
       "\n",
       "    .dataframe tbody tr th {\n",
       "        vertical-align: top;\n",
       "    }\n",
       "\n",
       "    .dataframe thead th {\n",
       "        text-align: right;\n",
       "    }\n",
       "</style>\n",
       "<table border=\"1\" class=\"dataframe\">\n",
       "  <thead>\n",
       "    <tr style=\"text-align: right;\">\n",
       "      <th></th>\n",
       "      <th>user_id</th>\n",
       "      <th>venue_id</th>\n",
       "      <th>checkin_time</th>\n",
       "      <th>latitude</th>\n",
       "      <th>longitude</th>\n",
       "    </tr>\n",
       "  </thead>\n",
       "  <tbody>\n",
       "    <tr>\n",
       "      <th>11620818</th>\n",
       "      <td>348446</td>\n",
       "      <td>4e85cf3702d58a685e93fac2</td>\n",
       "      <td>2012-05-16 10:11:14</td>\n",
       "      <td>-23.651004</td>\n",
       "      <td>-46.637853</td>\n",
       "    </tr>\n",
       "    <tr>\n",
       "      <th>100331</th>\n",
       "      <td>1825729</td>\n",
       "      <td>4b9605aff964a5206dba34e3</td>\n",
       "      <td>2013-05-24 16:08:42</td>\n",
       "      <td>41.010053</td>\n",
       "      <td>29.041086</td>\n",
       "    </tr>\n",
       "    <tr>\n",
       "      <th>18374799</th>\n",
       "      <td>1664896</td>\n",
       "      <td>4e018e0bd4c0836163dc1274</td>\n",
       "      <td>2013-03-29 09:57:24</td>\n",
       "      <td>41.080077</td>\n",
       "      <td>29.008385</td>\n",
       "    </tr>\n",
       "  </tbody>\n",
       "</table>\n",
       "</div>"
      ],
      "text/plain": [
       "          user_id                  venue_id        checkin_time   latitude  \\\n",
       "11620818   348446  4e85cf3702d58a685e93fac2 2012-05-16 10:11:14 -23.651004   \n",
       "100331    1825729  4b9605aff964a5206dba34e3 2013-05-24 16:08:42  41.010053   \n",
       "18374799  1664896  4e018e0bd4c0836163dc1274 2013-03-29 09:57:24  41.080077   \n",
       "\n",
       "          longitude  \n",
       "11620818 -46.637853  \n",
       "100331    29.041086  \n",
       "18374799  29.008385  "
      ]
     },
     "execution_count": 22,
     "metadata": {},
     "output_type": "execute_result"
    }
   ],
   "source": [
    "# Merge dataframes\n",
    "merged_df = pd.merge(checkin_df, venue_df, on='venue_id')\n",
    "merged_df = merged_df.drop(['category','level_0_category','level_1_category','country_code'], axis=1)\n",
    "merged_df.sample(3)"
   ]
  },
  {
   "cell_type": "markdown",
   "metadata": {},
   "source": [
    "We then compute the distance between each check-in and the users home."
   ]
  },
  {
   "cell_type": "code",
   "execution_count": 23,
   "metadata": {
    "scrolled": true
   },
   "outputs": [
    {
     "data": {
      "text/html": [
       "<div>\n",
       "<style scoped>\n",
       "    .dataframe tbody tr th:only-of-type {\n",
       "        vertical-align: middle;\n",
       "    }\n",
       "\n",
       "    .dataframe tbody tr th {\n",
       "        vertical-align: top;\n",
       "    }\n",
       "\n",
       "    .dataframe thead th {\n",
       "        text-align: right;\n",
       "    }\n",
       "</style>\n",
       "<table border=\"1\" class=\"dataframe\">\n",
       "  <thead>\n",
       "    <tr style=\"text-align: right;\">\n",
       "      <th></th>\n",
       "      <th>user_id</th>\n",
       "      <th>venue_id</th>\n",
       "      <th>latitude</th>\n",
       "      <th>longitude</th>\n",
       "      <th>distance_from_home</th>\n",
       "    </tr>\n",
       "  </thead>\n",
       "  <tbody>\n",
       "    <tr>\n",
       "      <th>17831266</th>\n",
       "      <td>429174</td>\n",
       "      <td>4c221e0434faef3b0e92586d</td>\n",
       "      <td>28.459259</td>\n",
       "      <td>77.072868</td>\n",
       "      <td>14.970789</td>\n",
       "    </tr>\n",
       "    <tr>\n",
       "      <th>7868268</th>\n",
       "      <td>19678</td>\n",
       "      <td>4e617618aeb7360314804371</td>\n",
       "      <td>41.380655</td>\n",
       "      <td>2.180762</td>\n",
       "      <td>10016.403512</td>\n",
       "    </tr>\n",
       "    <tr>\n",
       "      <th>11516195</th>\n",
       "      <td>411330</td>\n",
       "      <td>4b776766f964a52039982ee3</td>\n",
       "      <td>36.737835</td>\n",
       "      <td>127.157607</td>\n",
       "      <td>91.409467</td>\n",
       "    </tr>\n",
       "  </tbody>\n",
       "</table>\n",
       "</div>"
      ],
      "text/plain": [
       "          user_id                  venue_id   latitude   longitude  \\\n",
       "17831266   429174  4c221e0434faef3b0e92586d  28.459259   77.072868   \n",
       "7868268     19678  4e617618aeb7360314804371  41.380655    2.180762   \n",
       "11516195   411330  4b776766f964a52039982ee3  36.737835  127.157607   \n",
       "\n",
       "          distance_from_home  \n",
       "17831266           14.970789  \n",
       "7868268         10016.403512  \n",
       "11516195           91.409467  "
      ]
     },
     "execution_count": 23,
     "metadata": {},
     "output_type": "execute_result"
    }
   ],
   "source": [
    "# Create new dataframe with only checkin locations and id\n",
    "checkins_dist_df = merged_df.copy().drop('checkin_time', axis=1)\n",
    "\n",
    "# Modify dataframe by merging it with home locations\n",
    "checkins_dist_df = pd.merge(checkins_dist_df, home_df, on='user_id')\n",
    "\n",
    "# Drop unnecessary columns\n",
    "checkins_dist_df = checkins_dist_df.drop(['country_code','country'], axis=1)\n",
    "\n",
    "# Create a new column with the distance between the checkin and user's home\n",
    "checkins_dist_df['distance_from_home'] = fn.geo_to_km(checkins_dist_df['latitude'],\n",
    "                                                      checkins_dist_df['longitude'], \n",
    "                                                      checkins_dist_df['home_latitude'], \n",
    "                                                      checkins_dist_df['home_longitude'])\n",
    "\n",
    "# Remove unnecessary columns\n",
    "checkins_dist_df = checkins_dist_df.drop(['home_latitude', 'home_longitude'], axis=1)\n",
    "\n",
    "# visualise dataframe\n",
    "checkins_dist_df.sample(3)"
   ]
  },
  {
   "cell_type": "markdown",
   "metadata": {},
   "source": [
    "We remove checkins at home."
   ]
  },
  {
   "cell_type": "code",
   "execution_count": 24,
   "metadata": {},
   "outputs": [],
   "source": [
    "checkins_dist_df = checkins_dist_df[checkins_dist_df.distance_from_home != 0]"
   ]
  },
  {
   "cell_type": "markdown",
   "metadata": {},
   "source": [
    "We plot the distribution."
   ]
  },
  {
   "cell_type": "code",
   "execution_count": 25,
   "metadata": {},
   "outputs": [
    {
     "data": {
      "image/png": "[encoded data removed]",
      "text/plain": [
       "<Figure size 400x300 with 1 Axes>"
      ]
     },
     "metadata": {},
     "output_type": "display_data"
    }
   ],
   "source": [
    "# Change plot style\n",
    "plt.style.use('default')\n",
    "\n",
    "# Create linear histogram with linearly spaced bins\n",
    "_, bins = np.histogram(checkins_dist_df['distance_from_home'], bins=500)\n",
    "\n",
    "# Create logarithmically spaced bins\n",
    "logbins = np.logspace(np.log10(bins[0]), np.log10(bins[-1]), len(bins))\n",
    "\n",
    "# Create and plot new histograms with correct bin size\n",
    "f, ax = plt.subplots(figsize=(4, 3))\n",
    "\n",
    "n, bins, _ = plt.hist(checkins_dist_df['distance_from_home'], \n",
    "                            histtype=u'step', bins=logbins, \n",
    "                            density=True, linewidth=2, color='#F6B141')\n",
    "\n",
    "ax.set(xscale=\"log\", yscale=\"log\")\n",
    "ax.set_xlim(1,1e5)\n",
    "ax.set_ylim(1e-7,1)\n",
    "plt.ylabel('Probability')\n",
    "plt.xlabel('Check-in distance from home (km)')\n",
    "_ = plt.title('Distribution of check-in distances from home', y=1.1)"
   ]
  },
  {
   "cell_type": "markdown",
   "metadata": {},
   "source": [
    "We observe that the distribution follows a power law with a kink in the data at between 70 and 200km from user homes. We Will therefore use the upper value 200km to determine if a user has \"traveled\" or not for their check-in."
   ]
  },
  {
   "cell_type": "code",
   "execution_count": 26,
   "metadata": {},
   "outputs": [
    {
     "data": {
      "text/html": [
       "<div>\n",
       "<style scoped>\n",
       "    .dataframe tbody tr th:only-of-type {\n",
       "        vertical-align: middle;\n",
       "    }\n",
       "\n",
       "    .dataframe tbody tr th {\n",
       "        vertical-align: top;\n",
       "    }\n",
       "\n",
       "    .dataframe thead th {\n",
       "        text-align: right;\n",
       "    }\n",
       "</style>\n",
       "<table border=\"1\" class=\"dataframe\">\n",
       "  <thead>\n",
       "    <tr style=\"text-align: right;\">\n",
       "      <th></th>\n",
       "      <th>user_id</th>\n",
       "      <th>number_of_checkins</th>\n",
       "      <th>number_of_travel_checkins_distance</th>\n",
       "      <th>travel_fraction_distance</th>\n",
       "    </tr>\n",
       "  </thead>\n",
       "  <tbody>\n",
       "    <tr>\n",
       "      <th>53107</th>\n",
       "      <td>1069521</td>\n",
       "      <td>118</td>\n",
       "      <td>2</td>\n",
       "      <td>0.016949</td>\n",
       "    </tr>\n",
       "    <tr>\n",
       "      <th>4666</th>\n",
       "      <td>59320</td>\n",
       "      <td>131</td>\n",
       "      <td>12</td>\n",
       "      <td>0.091603</td>\n",
       "    </tr>\n",
       "    <tr>\n",
       "      <th>56037</th>\n",
       "      <td>1154580</td>\n",
       "      <td>104</td>\n",
       "      <td>2</td>\n",
       "      <td>0.019231</td>\n",
       "    </tr>\n",
       "  </tbody>\n",
       "</table>\n",
       "</div>"
      ],
      "text/plain": [
       "       user_id  number_of_checkins  number_of_travel_checkins_distance  \\\n",
       "53107  1069521                 118                                   2   \n",
       "4666     59320                 131                                  12   \n",
       "56037  1154580                 104                                   2   \n",
       "\n",
       "       travel_fraction_distance  \n",
       "53107                  0.016949  \n",
       "4666                   0.091603  \n",
       "56037                  0.019231  "
      ]
     },
     "execution_count": 26,
     "metadata": {},
     "output_type": "execute_result"
    }
   ],
   "source": [
    "# Get total number of checkins\n",
    "checkin_count_df = checkins_dist_df.groupby('user_id').count().reset_index()\n",
    "checkin_count_df = checkin_count_df.drop(['latitude', 'longitude', 'distance_from_home'], axis=1)\n",
    "checkin_count_df.columns = ['user_id', 'number_of_checkins']\n",
    "\n",
    "# Get number of \"travel\" checkins\n",
    "travel_checkins_dist_df = checkins_dist_df[checkins_dist_df.distance_from_home >= 200]\n",
    "travel_checkins_dist_df = travel_checkins_dist_df.groupby('user_id').count().reset_index()\n",
    "travel_checkins_dist_df = travel_checkins_dist_df.drop(['latitude', 'longitude', 'distance_from_home'], axis=1)\n",
    "travel_checkins_dist_df.columns = ['user_id', 'number_of_travel_checkins_distance']\n",
    "\n",
    "# Merge dataframes\n",
    "travel_df = pd.merge(checkin_count_df, travel_checkins_dist_df, on='user_id')\n",
    "\n",
    "# Fraction of travel checkins (distance)\n",
    "travel_df['travel_fraction_distance'] = travel_df.number_of_travel_checkins_distance/travel_df.number_of_checkins\n",
    "\n",
    "# Visualise dataframe\n",
    "travel_df.sample(3)"
   ]
  },
  {
   "cell_type": "markdown",
   "metadata": {},
   "source": [
    "We can also use foursquare categories to determine if a user is a traveler or not. Indeed one of the level 0 categories is \"Travel & Transport\"."
   ]
  },
  {
   "cell_type": "code",
   "execution_count": 27,
   "metadata": {},
   "outputs": [
    {
     "data": {
      "text/html": [
       "<div>\n",
       "<style scoped>\n",
       "    .dataframe tbody tr th:only-of-type {\n",
       "        vertical-align: middle;\n",
       "    }\n",
       "\n",
       "    .dataframe tbody tr th {\n",
       "        vertical-align: top;\n",
       "    }\n",
       "\n",
       "    .dataframe thead th {\n",
       "        text-align: right;\n",
       "    }\n",
       "</style>\n",
       "<table border=\"1\" class=\"dataframe\">\n",
       "  <thead>\n",
       "    <tr style=\"text-align: right;\">\n",
       "      <th></th>\n",
       "      <th>user_id</th>\n",
       "      <th>venue_id</th>\n",
       "      <th>checkin_time</th>\n",
       "      <th>latitude</th>\n",
       "      <th>longitude</th>\n",
       "      <th>level_0_category</th>\n",
       "    </tr>\n",
       "  </thead>\n",
       "  <tbody>\n",
       "    <tr>\n",
       "      <th>15253118</th>\n",
       "      <td>1722848</td>\n",
       "      <td>4fce3a1ae4b083992e29446f</td>\n",
       "      <td>2014-01-29 14:10:18</td>\n",
       "      <td>-1.952596</td>\n",
       "      <td>30.075520</td>\n",
       "      <td>Nightlife Spot</td>\n",
       "    </tr>\n",
       "    <tr>\n",
       "      <th>6864314</th>\n",
       "      <td>310658</td>\n",
       "      <td>4dd31d11d22d4d4d4087ad60</td>\n",
       "      <td>2012-05-16 06:48:49</td>\n",
       "      <td>14.218211</td>\n",
       "      <td>121.038008</td>\n",
       "      <td>College &amp; University</td>\n",
       "    </tr>\n",
       "    <tr>\n",
       "      <th>4083592</th>\n",
       "      <td>310361</td>\n",
       "      <td>4b6ac8b5f964a5202be02be3</td>\n",
       "      <td>2012-10-18 19:41:16</td>\n",
       "      <td>-33.414029</td>\n",
       "      <td>-70.600151</td>\n",
       "      <td>Food</td>\n",
       "    </tr>\n",
       "  </tbody>\n",
       "</table>\n",
       "</div>"
      ],
      "text/plain": [
       "          user_id                  venue_id        checkin_time   latitude  \\\n",
       "15253118  1722848  4fce3a1ae4b083992e29446f 2014-01-29 14:10:18  -1.952596   \n",
       "6864314    310658  4dd31d11d22d4d4d4087ad60 2012-05-16 06:48:49  14.218211   \n",
       "4083592    310361  4b6ac8b5f964a5202be02be3 2012-10-18 19:41:16 -33.414029   \n",
       "\n",
       "           longitude      level_0_category  \n",
       "15253118   30.075520        Nightlife Spot  \n",
       "6864314   121.038008  College & University  \n",
       "4083592   -70.600151                  Food  "
      ]
     },
     "execution_count": 27,
     "metadata": {},
     "output_type": "execute_result"
    }
   ],
   "source": [
    "# Merge dataframes\n",
    "merged_df = pd.merge(checkin_df, venue_df, on='venue_id')\n",
    "merged_df = merged_df.drop(['category','level_1_category','country_code'], axis=1)\n",
    "merged_df.sample(3)"
   ]
  },
  {
   "cell_type": "code",
   "execution_count": 28,
   "metadata": {},
   "outputs": [
    {
     "data": {
      "text/html": [
       "<div>\n",
       "<style scoped>\n",
       "    .dataframe tbody tr th:only-of-type {\n",
       "        vertical-align: middle;\n",
       "    }\n",
       "\n",
       "    .dataframe tbody tr th {\n",
       "        vertical-align: top;\n",
       "    }\n",
       "\n",
       "    .dataframe thead th {\n",
       "        text-align: right;\n",
       "    }\n",
       "</style>\n",
       "<table border=\"1\" class=\"dataframe\">\n",
       "  <thead>\n",
       "    <tr style=\"text-align: right;\">\n",
       "      <th></th>\n",
       "      <th>user_id</th>\n",
       "      <th>number_of_checkins</th>\n",
       "      <th>number_of_travel_checkins_distance</th>\n",
       "      <th>travel_fraction_distance</th>\n",
       "      <th>number_of_travel_checkins_category</th>\n",
       "      <th>travel_fraction_category</th>\n",
       "    </tr>\n",
       "  </thead>\n",
       "  <tbody>\n",
       "    <tr>\n",
       "      <th>18590</th>\n",
       "      <td>292252</td>\n",
       "      <td>130</td>\n",
       "      <td>19</td>\n",
       "      <td>0.146154</td>\n",
       "      <td>18</td>\n",
       "      <td>0.138462</td>\n",
       "    </tr>\n",
       "    <tr>\n",
       "      <th>40529</th>\n",
       "      <td>760324</td>\n",
       "      <td>146</td>\n",
       "      <td>36</td>\n",
       "      <td>0.246575</td>\n",
       "      <td>46</td>\n",
       "      <td>0.315068</td>\n",
       "    </tr>\n",
       "    <tr>\n",
       "      <th>9698</th>\n",
       "      <td>132734</td>\n",
       "      <td>321</td>\n",
       "      <td>26</td>\n",
       "      <td>0.080997</td>\n",
       "      <td>4</td>\n",
       "      <td>0.012461</td>\n",
       "    </tr>\n",
       "  </tbody>\n",
       "</table>\n",
       "</div>"
      ],
      "text/plain": [
       "       user_id  number_of_checkins  number_of_travel_checkins_distance  \\\n",
       "18590   292252                 130                                  19   \n",
       "40529   760324                 146                                  36   \n",
       "9698    132734                 321                                  26   \n",
       "\n",
       "       travel_fraction_distance  number_of_travel_checkins_category  \\\n",
       "18590                  0.146154                                  18   \n",
       "40529                  0.246575                                  46   \n",
       "9698                   0.080997                                   4   \n",
       "\n",
       "       travel_fraction_category  \n",
       "18590                  0.138462  \n",
       "40529                  0.315068  \n",
       "9698                   0.012461  "
      ]
     },
     "execution_count": 28,
     "metadata": {},
     "output_type": "execute_result"
    }
   ],
   "source": [
    "# Get \"Travel & Transport\" category checkins\n",
    "travel_checkins_category_df = merged_df[merged_df.level_0_category == 'Travel & Transport']\n",
    "travel_checkins_category_df = travel_checkins_category_df.groupby('user_id').count().reset_index()\n",
    "travel_checkins_category_df = travel_checkins_category_df.drop(['checkin_time','latitude',\n",
    "                                                                'longitude','level_0_category'], axis=1)\n",
    "travel_checkins_category_df.columns = ['user_id', 'number_of_travel_checkins_category']\n",
    "\n",
    "# Merge with previous dataframe\n",
    "travel_df = pd.merge(travel_df, travel_checkins_category_df, on='user_id')\n",
    "\n",
    "# Fraction of travel checkins (category)\n",
    "travel_df['travel_fraction_category'] = travel_df.number_of_travel_checkins_category/travel_df.number_of_checkins\n",
    "\n",
    "# Visualise dataframe\n",
    "travel_df.sample(3)"
   ]
  },
  {
   "cell_type": "markdown",
   "metadata": {},
   "source": [
    "We can plot the mobility of two different type of users differentiated by their travel score. First we create a dataframe with check-in locations and home locations for each user."
   ]
  },
  {
   "cell_type": "code",
   "execution_count": 334,
   "metadata": {},
   "outputs": [
    {
     "data": {
      "text/html": [
       "<div>\n",
       "<style scoped>\n",
       "    .dataframe tbody tr th:only-of-type {\n",
       "        vertical-align: middle;\n",
       "    }\n",
       "\n",
       "    .dataframe tbody tr th {\n",
       "        vertical-align: top;\n",
       "    }\n",
       "\n",
       "    .dataframe thead th {\n",
       "        text-align: right;\n",
       "    }\n",
       "</style>\n",
       "<table border=\"1\" class=\"dataframe\">\n",
       "  <thead>\n",
       "    <tr style=\"text-align: right;\">\n",
       "      <th></th>\n",
       "      <th>user_id</th>\n",
       "      <th>venue_id</th>\n",
       "      <th>latitude</th>\n",
       "      <th>longitude</th>\n",
       "      <th>home_latitude</th>\n",
       "      <th>home_longitude</th>\n",
       "    </tr>\n",
       "  </thead>\n",
       "  <tbody>\n",
       "    <tr>\n",
       "      <th>8054281</th>\n",
       "      <td>14862</td>\n",
       "      <td>4c6a7fe31a6620a1022c668c</td>\n",
       "      <td>-26.835713</td>\n",
       "      <td>-65.211125</td>\n",
       "      <td>-26.836649</td>\n",
       "      <td>-65.204937</td>\n",
       "    </tr>\n",
       "    <tr>\n",
       "      <th>7396744</th>\n",
       "      <td>672176</td>\n",
       "      <td>4fc9edd2e4b008fb53431d5a</td>\n",
       "      <td>55.626250</td>\n",
       "      <td>37.668263</td>\n",
       "      <td>55.753230</td>\n",
       "      <td>37.584958</td>\n",
       "    </tr>\n",
       "    <tr>\n",
       "      <th>8301774</th>\n",
       "      <td>1860577</td>\n",
       "      <td>4e82c7debe7b92ebc89147b7</td>\n",
       "      <td>2.991377</td>\n",
       "      <td>101.788106</td>\n",
       "      <td>2.992706</td>\n",
       "      <td>101.761886</td>\n",
       "    </tr>\n",
       "  </tbody>\n",
       "</table>\n",
       "</div>"
      ],
      "text/plain": [
       "         user_id                  venue_id   latitude   longitude  \\\n",
       "8054281    14862  4c6a7fe31a6620a1022c668c -26.835713  -65.211125   \n",
       "7396744   672176  4fc9edd2e4b008fb53431d5a  55.626250   37.668263   \n",
       "8301774  1860577  4e82c7debe7b92ebc89147b7   2.991377  101.788106   \n",
       "\n",
       "         home_latitude  home_longitude  \n",
       "8054281     -26.836649      -65.204937  \n",
       "7396744      55.753230       37.584958  \n",
       "8301774       2.992706      101.761886  "
      ]
     },
     "execution_count": 334,
     "metadata": {},
     "output_type": "execute_result"
    }
   ],
   "source": [
    "# Merge dataframes\n",
    "home_and_checkins_df = pd.merge(checkin_df, venue_df, on='venue_id')\n",
    "home_and_checkins_df = home_and_checkins_df.drop(['category','level_0_category',\n",
    "                                                  'level_1_category','country_code'], axis=1)\n",
    "\n",
    "# Create new dataframe with only checkin locations and id\n",
    "home_and_checkins_df = merged_df.copy().drop('checkin_time', axis=1)\n",
    "\n",
    "# Modify dataframe by merging it with home locations\n",
    "home_and_checkins_df = pd.merge(home_and_checkins_df, home_df, on='user_id')\n",
    "\n",
    "# Drop unnecessary columns\n",
    "home_and_checkins_df = home_and_checkins_df.drop(['country_code','country'], axis=1)\n",
    "\n",
    "# Visualise\n",
    "home_and_checkins_df.sample(3)"
   ]
  },
  {
   "cell_type": "markdown",
   "metadata": {},
   "source": [
    "We can then plot the mobility of different type of users according to their travel scores (distance)."
   ]
  },
  {
   "cell_type": "code",
   "execution_count": 527,
   "metadata": {},
   "outputs": [
    {
     "data": {
      "application/vnd.plotly.v1+json": {
       "config": {
        "plotlyServerURL": "https://plot.ly"
       },
       "data": [
        {
         "lat": [
          35.72986500000001,
          35.231461,
          35.231461,
          35.466193,
          35.72777100000001,
          35.637425,
          35.888268,
          35.888268,
          35.888268,
          35.530986,
          35.778062,
          35.671976,
          35.671976,
          35.671976,
          35.749333,
          35.674963,
          35.678668,
          35.628227,
          35.73211699999999,
          35.73211699999999,
          35.709845,
          35.684019,
          35.685697,
          34.733792,
          35.703184,
          35.748707,
          35.53072,
          35.666615,
          35.666615,
          35.699882,
          35.72359,
          35.670206,
          35.663006,
          35.663006,
          35.663006,
          36.796553,
          36.254325,
          35.680577,
          36.37233,
          35.69309099999999,
          35.730217,
          35.730217,
          35.730217,
          35.895047,
          35.897018,
          36.256014,
          35.672698,
          35.530271,
          35.749438,
          35.68309,
          35.712942,
          35.779983,
          36.627673,
          35.52927899999999,
          35.52927000000001,
          35.665802,
          35.53143,
          35.530947,
          35.681296,
          35.666867,
          35.698048,
          35.38658,
          35.14035,
          37.159496,
          35.667408,
          35.71402600000001,
          36.596726,
          36.585412,
          35.224916,
          35.230231,
          35.70882800000001,
          35.684319,
          35.524263,
          35.62460499999999,
          35.668323,
          35.710381,
          37.163409,
          35.670629,
          35.228604,
          35.68815900000001,
          35.68815900000001,
          35.668279,
          35.532123,
          35.769602,
          35.768459,
          35.529685
         ],
         "lon": [
          139.710956,
          139.70219699999998,
          139.70219699999998,
          139.622691,
          139.770963,
          140.09240400000002,
          139.786048,
          139.786048,
          139.786048,
          139.696626,
          139.720838,
          139.741176,
          139.741176,
          139.741176,
          139.805102,
          139.763473,
          139.740171,
          139.73871200000002,
          139.766704,
          139.766704,
          139.790801,
          139.737682,
          139.741644,
          135.500157,
          139.579904,
          139.804802,
          139.696258,
          139.758174,
          139.758174,
          139.772414,
          139.683266,
          139.74981699999998,
          139.74504199999998,
          139.74504199999998,
          139.74504199999998,
          137.41902,
          139.119235,
          139.76449399999998,
          138.348121,
          139.699503,
          139.762009,
          139.762009,
          139.762009,
          139.798007,
          139.799034,
          139.12029099999998,
          139.724067,
          139.696624,
          139.804866,
          139.738339,
          139.759647,
          139.720473,
          136.873389,
          139.70006999999998,
          139.70013400000002,
          139.756526,
          139.693164,
          139.695169,
          139.768136,
          139.743948,
          139.782528,
          139.61912900000002,
          138.651589,
          138.22644,
          139.740171,
          139.761944,
          138.141704,
          138.174722,
          139.702181,
          139.702328,
          139.575248,
          139.68385,
          139.70873600000002,
          140.106167,
          139.750227,
          139.788391,
          138.229704,
          139.751739,
          139.718766,
          139.719341,
          139.719341,
          139.757257,
          139.691848,
          139.870677,
          139.867859,
          139.699797
         ],
         "marker": {
          "color": "#c3528c",
          "line": {
           "color": "rgba(68, 68, 68, 0)",
           "width": 3
          },
          "size": 3
         },
         "mode": "markers",
         "type": "scattergeo"
        },
        {
         "lat": [
          35.74673290909091
         ],
         "lon": [
          139.76955639393938
         ],
         "marker": {
          "color": "#c3528c",
          "line": {
           "color": "rgba(68, 68, 68, 0)",
           "width": 3
          },
          "size": 13
         },
         "mode": "markers",
         "type": "scattergeo"
        },
        {
         "lat": [
          35.74673290909091,
          35.72986500000001,
          null,
          35.74673290909091,
          35.231461,
          null,
          35.74673290909091,
          35.231461,
          null,
          35.74673290909091,
          35.466193,
          null,
          35.74673290909091,
          35.72777100000001,
          null,
          35.74673290909091,
          35.637425,
          null,
          35.74673290909091,
          35.888268,
          null,
          35.74673290909091,
          35.888268,
          null,
          35.74673290909091,
          35.888268,
          null,
          35.74673290909091,
          35.530986,
          null,
          35.74673290909091,
          35.778062,
          null,
          35.74673290909091,
          35.671976,
          null,
          35.74673290909091,
          35.671976,
          null,
          35.74673290909091,
          35.671976,
          null,
          35.74673290909091,
          35.749333,
          null,
          35.74673290909091,
          35.674963,
          null,
          35.74673290909091,
          35.678668,
          null,
          35.74673290909091,
          35.628227,
          null,
          35.74673290909091,
          35.73211699999999,
          null,
          35.74673290909091,
          35.73211699999999,
          null,
          35.74673290909091,
          35.709845,
          null,
          35.74673290909091,
          35.684019,
          null,
          35.74673290909091,
          35.685697,
          null,
          35.74673290909091,
          34.733792,
          null,
          35.74673290909091,
          35.703184,
          null,
          35.74673290909091,
          35.748707,
          null,
          35.74673290909091,
          35.53072,
          null,
          35.74673290909091,
          35.666615,
          null,
          35.74673290909091,
          35.666615,
          null,
          35.74673290909091,
          35.699882,
          null,
          35.74673290909091,
          35.72359,
          null,
          35.74673290909091,
          35.670206,
          null,
          35.74673290909091,
          35.663006,
          null,
          35.74673290909091,
          35.663006,
          null,
          35.74673290909091,
          35.663006,
          null,
          35.74673290909091,
          36.796553,
          null,
          35.74673290909091,
          36.254325,
          null,
          35.74673290909091,
          35.680577,
          null,
          35.74673290909091,
          36.37233,
          null,
          35.74673290909091,
          35.69309099999999,
          null,
          35.74673290909091,
          35.730217,
          null,
          35.74673290909091,
          35.730217,
          null,
          35.74673290909091,
          35.730217,
          null,
          35.74673290909091,
          35.895047,
          null,
          35.74673290909091,
          35.897018,
          null,
          35.74673290909091,
          36.256014,
          null,
          35.74673290909091,
          35.672698,
          null,
          35.74673290909091,
          35.530271,
          null,
          35.74673290909091,
          35.749438,
          null,
          35.74673290909091,
          35.68309,
          null,
          35.74673290909091,
          35.712942,
          null,
          35.74673290909091,
          35.779983,
          null,
          35.74673290909091,
          36.627673,
          null,
          35.74673290909091,
          35.52927899999999,
          null,
          35.74673290909091,
          35.52927000000001,
          null,
          35.74673290909091,
          35.665802,
          null,
          35.74673290909091,
          35.53143,
          null,
          35.74673290909091,
          35.530947,
          null,
          35.74673290909091,
          35.681296,
          null,
          35.74673290909091,
          35.666867,
          null,
          35.74673290909091,
          35.698048,
          null,
          35.74673290909091,
          35.38658,
          null,
          35.74673290909091,
          35.14035,
          null,
          35.74673290909091,
          37.159496,
          null,
          35.74673290909091,
          35.667408,
          null,
          35.74673290909091,
          35.71402600000001,
          null,
          35.74673290909091,
          36.596726,
          null,
          35.74673290909091,
          36.585412,
          null,
          35.74673290909091,
          35.224916,
          null,
          35.74673290909091,
          35.230231,
          null,
          35.74673290909091,
          35.70882800000001,
          null,
          35.74673290909091,
          35.684319,
          null,
          35.74673290909091,
          35.524263,
          null,
          35.74673290909091,
          35.62460499999999,
          null,
          35.74673290909091,
          35.668323,
          null,
          35.74673290909091,
          35.710381,
          null,
          35.74673290909091,
          37.163409,
          null,
          35.74673290909091,
          35.670629,
          null,
          35.74673290909091,
          35.228604,
          null,
          35.74673290909091,
          35.68815900000001,
          null,
          35.74673290909091,
          35.68815900000001,
          null,
          35.74673290909091,
          35.668279,
          null,
          35.74673290909091,
          35.532123,
          null,
          35.74673290909091,
          35.769602,
          null,
          35.74673290909091,
          35.768459,
          null,
          35.74673290909091,
          35.529685,
          null
         ],
         "line": {
          "color": "#c3528c",
          "width": 2
         },
         "locationmode": "USA-states",
         "lon": [
          139.76955639393938,
          139.710956,
          null,
          139.76955639393938,
          139.70219699999998,
          null,
          139.76955639393938,
          139.70219699999998,
          null,
          139.76955639393938,
          139.622691,
          null,
          139.76955639393938,
          139.770963,
          null,
          139.76955639393938,
          140.09240400000002,
          null,
          139.76955639393938,
          139.786048,
          null,
          139.76955639393938,
          139.786048,
          null,
          139.76955639393938,
          139.786048,
          null,
          139.76955639393938,
          139.696626,
          null,
          139.76955639393938,
          139.720838,
          null,
          139.76955639393938,
          139.741176,
          null,
          139.76955639393938,
          139.741176,
          null,
          139.76955639393938,
          139.741176,
          null,
          139.76955639393938,
          139.805102,
          null,
          139.76955639393938,
          139.763473,
          null,
          139.76955639393938,
          139.740171,
          null,
          139.76955639393938,
          139.73871200000002,
          null,
          139.76955639393938,
          139.766704,
          null,
          139.76955639393938,
          139.766704,
          null,
          139.76955639393938,
          139.790801,
          null,
          139.76955639393938,
          139.737682,
          null,
          139.76955639393938,
          139.741644,
          null,
          139.76955639393938,
          135.500157,
          null,
          139.76955639393938,
          139.579904,
          null,
          139.76955639393938,
          139.804802,
          null,
          139.76955639393938,
          139.696258,
          null,
          139.76955639393938,
          139.758174,
          null,
          139.76955639393938,
          139.758174,
          null,
          139.76955639393938,
          139.772414,
          null,
          139.76955639393938,
          139.683266,
          null,
          139.76955639393938,
          139.74981699999998,
          null,
          139.76955639393938,
          139.74504199999998,
          null,
          139.76955639393938,
          139.74504199999998,
          null,
          139.76955639393938,
          139.74504199999998,
          null,
          139.76955639393938,
          137.41902,
          null,
          139.76955639393938,
          139.119235,
          null,
          139.76955639393938,
          139.76449399999998,
          null,
          139.76955639393938,
          138.348121,
          null,
          139.76955639393938,
          139.699503,
          null,
          139.76955639393938,
          139.762009,
          null,
          139.76955639393938,
          139.762009,
          null,
          139.76955639393938,
          139.762009,
          null,
          139.76955639393938,
          139.798007,
          null,
          139.76955639393938,
          139.799034,
          null,
          139.76955639393938,
          139.12029099999998,
          null,
          139.76955639393938,
          139.724067,
          null,
          139.76955639393938,
          139.696624,
          null,
          139.76955639393938,
          139.804866,
          null,
          139.76955639393938,
          139.738339,
          null,
          139.76955639393938,
          139.759647,
          null,
          139.76955639393938,
          139.720473,
          null,
          139.76955639393938,
          136.873389,
          null,
          139.76955639393938,
          139.70006999999998,
          null,
          139.76955639393938,
          139.70013400000002,
          null,
          139.76955639393938,
          139.756526,
          null,
          139.76955639393938,
          139.693164,
          null,
          139.76955639393938,
          139.695169,
          null,
          139.76955639393938,
          139.768136,
          null,
          139.76955639393938,
          139.743948,
          null,
          139.76955639393938,
          139.782528,
          null,
          139.76955639393938,
          139.61912900000002,
          null,
          139.76955639393938,
          138.651589,
          null,
          139.76955639393938,
          138.22644,
          null,
          139.76955639393938,
          139.740171,
          null,
          139.76955639393938,
          139.761944,
          null,
          139.76955639393938,
          138.141704,
          null,
          139.76955639393938,
          138.174722,
          null,
          139.76955639393938,
          139.702181,
          null,
          139.76955639393938,
          139.702328,
          null,
          139.76955639393938,
          139.575248,
          null,
          139.76955639393938,
          139.68385,
          null,
          139.76955639393938,
          139.70873600000002,
          null,
          139.76955639393938,
          140.106167,
          null,
          139.76955639393938,
          139.750227,
          null,
          139.76955639393938,
          139.788391,
          null,
          139.76955639393938,
          138.229704,
          null,
          139.76955639393938,
          139.751739,
          null,
          139.76955639393938,
          139.718766,
          null,
          139.76955639393938,
          139.719341,
          null,
          139.76955639393938,
          139.719341,
          null,
          139.76955639393938,
          139.757257,
          null,
          139.76955639393938,
          139.691848,
          null,
          139.76955639393938,
          139.870677,
          null,
          139.76955639393938,
          139.867859,
          null,
          139.76955639393938,
          139.699797,
          null
         ],
         "mode": "lines",
         "opacity": 0.8,
         "type": "scattergeo"
        },
        {
         "lat": [
          13.692607999999998,
          13.692607999999998,
          13.692607999999998,
          13.692607999999998,
          13.692607999999998,
          13.692607999999998,
          13.692607999999998,
          13.692607999999998,
          13.790155,
          13.790155,
          13.790155,
          13.790155,
          13.790155,
          13.790155,
          13.790155,
          13.790155,
          13.790155,
          13.790155,
          13.790155,
          13.8027,
          13.8027,
          13.8027,
          13.8027,
          13.8027,
          13.8027,
          13.8027,
          13.8027,
          13.847632999999998,
          13.847632999999998,
          13.736967000000002,
          13.736967000000002,
          13.736967000000002,
          22.315302,
          13.732820000000002,
          13.756664,
          13.756664,
          13.756664,
          13.750098,
          13.757716,
          13.757716,
          13.757716,
          13.757716,
          13.848685,
          13.848685,
          13.848685,
          13.848685,
          13.750125,
          13.750125,
          13.724251999999998,
          13.847075,
          13.847075,
          13.847075,
          13.847075,
          13.847075,
          13.847075,
          13.847075,
          13.847075,
          13.81628,
          13.81628,
          13.81628,
          13.81628,
          13.81628,
          13.81628,
          13.81628,
          13.81628,
          13.81628,
          13.81628,
          13.81628,
          13.81628,
          13.81628,
          13.81628,
          13.746023999999998,
          13.746023999999998,
          13.746023999999998,
          13.746023999999998,
          13.849211,
          13.849211,
          13.849211,
          13.849211,
          13.849211,
          13.849211,
          13.849211,
          13.849211,
          13.816994,
          13.737279999999998,
          13.746576,
          13.746258,
          13.746258,
          13.746258,
          13.746258,
          13.746258,
          13.762946,
          13.762946,
          13.845705,
          13.845705,
          13.845705,
          13.845705,
          13.845705,
          13.845705,
          13.737685999999998,
          13.988938,
          13.745109,
          13.756203,
          13.7376,
          13.856421,
          13.850143,
          13.813153,
          13.813153,
          13.813153,
          13.813153,
          13.813153,
          13.813153,
          13.813153,
          13.813153,
          13.813153,
          13.816275,
          13.918572,
          13.758456,
          13.758456,
          13.842435,
          13.842435,
          13.842435,
          13.842435,
          13.842435,
          13.842435,
          13.842435,
          13.842435,
          13.842435,
          13.842435,
          13.842435,
          13.842435,
          13.842435,
          13.842435,
          13.842435,
          13.842435,
          13.842435,
          13.815952,
          13.815952,
          13.815952,
          13.766212,
          13.769259,
          13.748509,
          13.717081,
          13.744268,
          13.780519,
          13.780519,
          13.780519,
          13.780519,
          13.67057,
          13.813223,
          13.813223,
          13.813223,
          13.813223,
          22.289791,
          13.777234,
          13.777234,
          13.857385,
          13.816215,
          13.816215,
          13.816215,
          13.816215,
          13.918062,
          13.798021,
          13.81601,
          13.728848,
          13.815994,
          13.839689000000002,
          13.839689000000002,
          13.845028,
          13.845028,
          13.845028,
          13.845028,
          13.845028,
          13.845028,
          13.845028,
          13.845028,
          13.845028,
          13.743501,
          13.733528,
          22.299064,
          13.749498999999998,
          22.317972,
          12.205706,
          13.763948,
          13.758394,
          13.816659,
          13.816659,
          13.816659,
          13.816659,
          13.842518,
          13.842518,
          13.842518,
          13.842518,
          13.852372,
          13.826996,
          13.826996,
          13.826996,
          13.826996,
          13.826996,
          13.848820000000002,
          13.803648999999998,
          13.745764,
          13.745764,
          22.313695000000006,
          13.833931,
          13.833931,
          13.833931,
          13.833931,
          13.833931,
          13.833931,
          13.833931,
          13.833931,
          13.833931,
          13.833931,
          13.833931,
          13.833931,
          13.833931,
          13.833931,
          13.833931,
          13.833931,
          13.833931,
          13.833931,
          13.833931,
          13.833931,
          13.849135,
          13.850372,
          13.850372,
          13.850372,
          13.850372,
          13.850372,
          13.850372,
          13.839934,
          37.525646,
          13.845818,
          13.845818,
          13.845818,
          13.845818,
          13.845818,
          13.845818,
          13.845818,
          13.845818,
          13.845818,
          13.845818,
          13.844789000000002,
          13.844789000000002,
          13.844789000000002,
          13.844789000000002,
          13.844789000000002,
          13.844789000000002,
          13.844789000000002,
          13.844789000000002,
          13.844789000000002,
          13.844789000000002,
          13.844789000000002,
          22.370967,
          13.829712,
          13.829712,
          13.829712,
          12.247896,
          12.135317,
          10.66181,
          13.844955,
          13.844955,
          13.844955,
          13.844955,
          13.844955,
          13.844955,
          13.815623,
          13.724044,
          13.726731,
          13.856251,
          13.856251,
          13.802832999999998,
          13.841196,
          13.988703,
          13.841304,
          13.841304,
          13.844464000000002,
          13.844464000000002,
          13.844464000000002,
          13.844419,
          13.844419,
          13.789405,
          13.768481,
          13.788756,
          13.746453,
          13.717305,
          13.845674
         ],
         "lon": [
          100.751722,
          100.751722,
          100.751722,
          100.751722,
          100.751722,
          100.751722,
          100.751722,
          100.751722,
          100.574234,
          100.574234,
          100.574234,
          100.574234,
          100.574234,
          100.574234,
          100.574234,
          100.574234,
          100.574234,
          100.574234,
          100.574234,
          100.553763,
          100.553763,
          100.553763,
          100.553763,
          100.553763,
          100.553763,
          100.553763,
          100.553763,
          100.571938,
          100.571938,
          100.560409,
          100.560409,
          100.560409,
          113.934832,
          100.530164,
          100.534987,
          100.534987,
          100.534987,
          100.53988,
          100.565801,
          100.565801,
          100.565801,
          100.565801,
          100.567201,
          100.567201,
          100.567201,
          100.567201,
          100.539488,
          100.539488,
          100.578579,
          100.570916,
          100.570916,
          100.570916,
          100.570916,
          100.570916,
          100.570916,
          100.570916,
          100.570916,
          100.56097,
          100.56097,
          100.56097,
          100.56097,
          100.56097,
          100.56097,
          100.56097,
          100.56097,
          100.56097,
          100.56097,
          100.56097,
          100.56097,
          100.56097,
          100.56097,
          100.53459,
          100.53459,
          100.53459,
          100.53459,
          100.569376,
          100.569376,
          100.569376,
          100.569376,
          100.569376,
          100.569376,
          100.569376,
          100.569376,
          100.561209,
          100.560501,
          100.539021,
          100.532777,
          100.532777,
          100.532777,
          100.532777,
          100.532777,
          100.537107,
          100.537107,
          100.570693,
          100.570693,
          100.570693,
          100.570693,
          100.570693,
          100.570693,
          100.516824,
          100.617814,
          100.5333,
          100.618842,
          100.561364,
          100.541925,
          100.569381,
          100.561551,
          100.561551,
          100.561551,
          100.561551,
          100.561551,
          100.561551,
          100.561551,
          100.561551,
          100.561551,
          100.560715,
          100.602064,
          100.566165,
          100.566165,
          100.570657,
          100.570657,
          100.570657,
          100.570657,
          100.570657,
          100.570657,
          100.570657,
          100.570657,
          100.570657,
          100.570657,
          100.570657,
          100.570657,
          100.570657,
          100.570657,
          100.570657,
          100.570657,
          100.570657,
          100.560865,
          100.560865,
          100.560865,
          100.569729,
          100.512033,
          100.535508,
          100.572367,
          100.531511,
          100.42347,
          100.42347,
          100.42347,
          100.42347,
          100.610347,
          100.560951,
          100.560951,
          100.560951,
          100.560951,
          113.938866,
          100.598792,
          100.598792,
          100.535261,
          100.561431,
          100.561431,
          100.561431,
          100.561431,
          100.547347,
          100.548871,
          100.5613,
          100.536908,
          100.560501,
          100.575575,
          100.575575,
          100.572184,
          100.572184,
          100.572184,
          100.572184,
          100.572184,
          100.572184,
          100.572184,
          100.572184,
          100.572184,
          100.53152,
          100.532938,
          114.166111,
          100.563546,
          114.170828,
          100.009538,
          100.619427,
          100.565886,
          100.561678,
          100.561678,
          100.561678,
          100.561678,
          100.57698,
          100.57698,
          100.57698,
          100.57698,
          100.564556,
          100.568032,
          100.568032,
          100.568032,
          100.568032,
          100.568032,
          100.571498,
          100.536767,
          100.530515,
          100.530515,
          114.171608,
          100.572189,
          100.572189,
          100.572189,
          100.572189,
          100.572189,
          100.572189,
          100.572189,
          100.572189,
          100.572189,
          100.572189,
          100.572189,
          100.572189,
          100.572189,
          100.572189,
          100.572189,
          100.572189,
          100.572189,
          100.572189,
          100.572189,
          100.572189,
          100.569327,
          100.565372,
          100.565372,
          100.565372,
          100.565372,
          100.565372,
          100.565372,
          100.57469,
          126.883526,
          100.570717,
          100.570717,
          100.570717,
          100.570717,
          100.570717,
          100.570717,
          100.570717,
          100.570717,
          100.570717,
          100.570717,
          100.571294,
          100.571294,
          100.571294,
          100.571294,
          100.571294,
          100.571294,
          100.571294,
          100.571294,
          100.571294,
          100.571294,
          100.571294,
          114.119287,
          100.569756,
          100.569756,
          100.569756,
          99.873206,
          99.961028,
          99.195321,
          100.57138,
          100.57138,
          100.57138,
          100.57138,
          100.57138,
          100.57138,
          100.560084,
          100.558848,
          100.495019,
          100.542107,
          100.542107,
          100.554216,
          100.573137,
          100.616595,
          100.571943,
          100.571943,
          100.571205,
          100.571205,
          100.571205,
          100.571419,
          100.571419,
          100.572152,
          100.512285,
          100.575122,
          100.53927,
          100.535237,
          100.571106
         ],
         "marker": {
          "color": "#c3528c",
          "line": {
           "color": "rgba(68, 68, 68, 0)",
           "width": 3
          },
          "size": 3
         },
         "mode": "markers",
         "type": "scattergeo"
        },
        {
         "lat": [
          13.813330294339632
         ],
         "lon": [
          100.5614495132076
         ],
         "marker": {
          "color": "#c3528c",
          "line": {
           "color": "rgba(68, 68, 68, 0)",
           "width": 3
          },
          "size": 13
         },
         "mode": "markers",
         "type": "scattergeo"
        },
        {
         "lat": [
          13.813330294339632,
          13.692607999999998,
          null,
          13.813330294339632,
          13.692607999999998,
          null,
          13.813330294339632,
          13.692607999999998,
          null,
          13.813330294339632,
          13.692607999999998,
          null,
          13.813330294339632,
          13.692607999999998,
          null,
          13.813330294339632,
          13.692607999999998,
          null,
          13.813330294339632,
          13.692607999999998,
          null,
          13.813330294339632,
          13.692607999999998,
          null,
          13.813330294339632,
          13.790155,
          null,
          13.813330294339632,
          13.790155,
          null,
          13.813330294339632,
          13.790155,
          null,
          13.813330294339632,
          13.790155,
          null,
          13.813330294339632,
          13.790155,
          null,
          13.813330294339632,
          13.790155,
          null,
          13.813330294339632,
          13.790155,
          null,
          13.813330294339632,
          13.790155,
          null,
          13.813330294339632,
          13.790155,
          null,
          13.813330294339632,
          13.790155,
          null,
          13.813330294339632,
          13.790155,
          null,
          13.813330294339632,
          13.8027,
          null,
          13.813330294339632,
          13.8027,
          null,
          13.813330294339632,
          13.8027,
          null,
          13.813330294339632,
          13.8027,
          null,
          13.813330294339632,
          13.8027,
          null,
          13.813330294339632,
          13.8027,
          null,
          13.813330294339632,
          13.8027,
          null,
          13.813330294339632,
          13.8027,
          null,
          13.813330294339632,
          13.847632999999998,
          null,
          13.813330294339632,
          13.847632999999998,
          null,
          13.813330294339632,
          13.736967000000002,
          null,
          13.813330294339632,
          13.736967000000002,
          null,
          13.813330294339632,
          13.736967000000002,
          null,
          13.813330294339632,
          22.315302,
          null,
          13.813330294339632,
          13.732820000000002,
          null,
          13.813330294339632,
          13.756664,
          null,
          13.813330294339632,
          13.756664,
          null,
          13.813330294339632,
          13.756664,
          null,
          13.813330294339632,
          13.750098,
          null,
          13.813330294339632,
          13.757716,
          null,
          13.813330294339632,
          13.757716,
          null,
          13.813330294339632,
          13.757716,
          null,
          13.813330294339632,
          13.757716,
          null,
          13.813330294339632,
          13.848685,
          null,
          13.813330294339632,
          13.848685,
          null,
          13.813330294339632,
          13.848685,
          null,
          13.813330294339632,
          13.848685,
          null,
          13.813330294339632,
          13.750125,
          null,
          13.813330294339632,
          13.750125,
          null,
          13.813330294339632,
          13.724251999999998,
          null,
          13.813330294339632,
          13.847075,
          null,
          13.813330294339632,
          13.847075,
          null,
          13.813330294339632,
          13.847075,
          null,
          13.813330294339632,
          13.847075,
          null,
          13.813330294339632,
          13.847075,
          null,
          13.813330294339632,
          13.847075,
          null,
          13.813330294339632,
          13.847075,
          null,
          13.813330294339632,
          13.847075,
          null,
          13.813330294339632,
          13.81628,
          null,
          13.813330294339632,
          13.81628,
          null,
          13.813330294339632,
          13.81628,
          null,
          13.813330294339632,
          13.81628,
          null,
          13.813330294339632,
          13.81628,
          null,
          13.813330294339632,
          13.81628,
          null,
          13.813330294339632,
          13.81628,
          null,
          13.813330294339632,
          13.81628,
          null,
          13.813330294339632,
          13.81628,
          null,
          13.813330294339632,
          13.81628,
          null,
          13.813330294339632,
          13.81628,
          null,
          13.813330294339632,
          13.81628,
          null,
          13.813330294339632,
          13.81628,
          null,
          13.813330294339632,
          13.81628,
          null,
          13.813330294339632,
          13.746023999999998,
          null,
          13.813330294339632,
          13.746023999999998,
          null,
          13.813330294339632,
          13.746023999999998,
          null,
          13.813330294339632,
          13.746023999999998,
          null,
          13.813330294339632,
          13.849211,
          null,
          13.813330294339632,
          13.849211,
          null,
          13.813330294339632,
          13.849211,
          null,
          13.813330294339632,
          13.849211,
          null,
          13.813330294339632,
          13.849211,
          null,
          13.813330294339632,
          13.849211,
          null,
          13.813330294339632,
          13.849211,
          null,
          13.813330294339632,
          13.849211,
          null,
          13.813330294339632,
          13.816994,
          null,
          13.813330294339632,
          13.737279999999998,
          null,
          13.813330294339632,
          13.746576,
          null,
          13.813330294339632,
          13.746258,
          null,
          13.813330294339632,
          13.746258,
          null,
          13.813330294339632,
          13.746258,
          null,
          13.813330294339632,
          13.746258,
          null,
          13.813330294339632,
          13.746258,
          null,
          13.813330294339632,
          13.762946,
          null,
          13.813330294339632,
          13.762946,
          null,
          13.813330294339632,
          13.845705,
          null,
          13.813330294339632,
          13.845705,
          null,
          13.813330294339632,
          13.845705,
          null,
          13.813330294339632,
          13.845705,
          null,
          13.813330294339632,
          13.845705,
          null,
          13.813330294339632,
          13.845705,
          null,
          13.813330294339632,
          13.737685999999998,
          null,
          13.813330294339632,
          13.988938,
          null,
          13.813330294339632,
          13.745109,
          null,
          13.813330294339632,
          13.756203,
          null,
          13.813330294339632,
          13.7376,
          null,
          13.813330294339632,
          13.856421,
          null,
          13.813330294339632,
          13.850143,
          null,
          13.813330294339632,
          13.813153,
          null,
          13.813330294339632,
          13.813153,
          null,
          13.813330294339632,
          13.813153,
          null,
          13.813330294339632,
          13.813153,
          null,
          13.813330294339632,
          13.813153,
          null,
          13.813330294339632,
          13.813153,
          null,
          13.813330294339632,
          13.813153,
          null,
          13.813330294339632,
          13.813153,
          null,
          13.813330294339632,
          13.813153,
          null,
          13.813330294339632,
          13.816275,
          null,
          13.813330294339632,
          13.918572,
          null,
          13.813330294339632,
          13.758456,
          null,
          13.813330294339632,
          13.758456,
          null,
          13.813330294339632,
          13.842435,
          null,
          13.813330294339632,
          13.842435,
          null,
          13.813330294339632,
          13.842435,
          null,
          13.813330294339632,
          13.842435,
          null,
          13.813330294339632,
          13.842435,
          null,
          13.813330294339632,
          13.842435,
          null,
          13.813330294339632,
          13.842435,
          null,
          13.813330294339632,
          13.842435,
          null,
          13.813330294339632,
          13.842435,
          null,
          13.813330294339632,
          13.842435,
          null,
          13.813330294339632,
          13.842435,
          null,
          13.813330294339632,
          13.842435,
          null,
          13.813330294339632,
          13.842435,
          null,
          13.813330294339632,
          13.842435,
          null,
          13.813330294339632,
          13.842435,
          null,
          13.813330294339632,
          13.842435,
          null,
          13.813330294339632,
          13.842435,
          null,
          13.813330294339632,
          13.815952,
          null,
          13.813330294339632,
          13.815952,
          null,
          13.813330294339632,
          13.815952,
          null,
          13.813330294339632,
          13.766212,
          null,
          13.813330294339632,
          13.769259,
          null,
          13.813330294339632,
          13.748509,
          null,
          13.813330294339632,
          13.717081,
          null,
          13.813330294339632,
          13.744268,
          null,
          13.813330294339632,
          13.780519,
          null,
          13.813330294339632,
          13.780519,
          null,
          13.813330294339632,
          13.780519,
          null,
          13.813330294339632,
          13.780519,
          null,
          13.813330294339632,
          13.67057,
          null,
          13.813330294339632,
          13.813223,
          null,
          13.813330294339632,
          13.813223,
          null,
          13.813330294339632,
          13.813223,
          null,
          13.813330294339632,
          13.813223,
          null,
          13.813330294339632,
          22.289791,
          null,
          13.813330294339632,
          13.777234,
          null,
          13.813330294339632,
          13.777234,
          null,
          13.813330294339632,
          13.857385,
          null,
          13.813330294339632,
          13.816215,
          null,
          13.813330294339632,
          13.816215,
          null,
          13.813330294339632,
          13.816215,
          null,
          13.813330294339632,
          13.816215,
          null,
          13.813330294339632,
          13.918062,
          null,
          13.813330294339632,
          13.798021,
          null,
          13.813330294339632,
          13.81601,
          null,
          13.813330294339632,
          13.728848,
          null,
          13.813330294339632,
          13.815994,
          null,
          13.813330294339632,
          13.839689000000002,
          null,
          13.813330294339632,
          13.839689000000002,
          null,
          13.813330294339632,
          13.845028,
          null,
          13.813330294339632,
          13.845028,
          null,
          13.813330294339632,
          13.845028,
          null,
          13.813330294339632,
          13.845028,
          null,
          13.813330294339632,
          13.845028,
          null,
          13.813330294339632,
          13.845028,
          null,
          13.813330294339632,
          13.845028,
          null,
          13.813330294339632,
          13.845028,
          null,
          13.813330294339632,
          13.845028,
          null,
          13.813330294339632,
          13.743501,
          null,
          13.813330294339632,
          13.733528,
          null,
          13.813330294339632,
          22.299064,
          null,
          13.813330294339632,
          13.749498999999998,
          null,
          13.813330294339632,
          22.317972,
          null,
          13.813330294339632,
          12.205706,
          null,
          13.813330294339632,
          13.763948,
          null,
          13.813330294339632,
          13.758394,
          null,
          13.813330294339632,
          13.816659,
          null,
          13.813330294339632,
          13.816659,
          null,
          13.813330294339632,
          13.816659,
          null,
          13.813330294339632,
          13.816659,
          null,
          13.813330294339632,
          13.842518,
          null,
          13.813330294339632,
          13.842518,
          null,
          13.813330294339632,
          13.842518,
          null,
          13.813330294339632,
          13.842518,
          null,
          13.813330294339632,
          13.852372,
          null,
          13.813330294339632,
          13.826996,
          null,
          13.813330294339632,
          13.826996,
          null,
          13.813330294339632,
          13.826996,
          null,
          13.813330294339632,
          13.826996,
          null,
          13.813330294339632,
          13.826996,
          null,
          13.813330294339632,
          13.848820000000002,
          null,
          13.813330294339632,
          13.803648999999998,
          null,
          13.813330294339632,
          13.745764,
          null,
          13.813330294339632,
          13.745764,
          null,
          13.813330294339632,
          22.313695000000006,
          null,
          13.813330294339632,
          13.833931,
          null,
          13.813330294339632,
          13.833931,
          null,
          13.813330294339632,
          13.833931,
          null,
          13.813330294339632,
          13.833931,
          null,
          13.813330294339632,
          13.833931,
          null,
          13.813330294339632,
          13.833931,
          null,
          13.813330294339632,
          13.833931,
          null,
          13.813330294339632,
          13.833931,
          null,
          13.813330294339632,
          13.833931,
          null,
          13.813330294339632,
          13.833931,
          null,
          13.813330294339632,
          13.833931,
          null,
          13.813330294339632,
          13.833931,
          null,
          13.813330294339632,
          13.833931,
          null,
          13.813330294339632,
          13.833931,
          null,
          13.813330294339632,
          13.833931,
          null,
          13.813330294339632,
          13.833931,
          null,
          13.813330294339632,
          13.833931,
          null,
          13.813330294339632,
          13.833931,
          null,
          13.813330294339632,
          13.833931,
          null,
          13.813330294339632,
          13.833931,
          null,
          13.813330294339632,
          13.849135,
          null,
          13.813330294339632,
          13.850372,
          null,
          13.813330294339632,
          13.850372,
          null,
          13.813330294339632,
          13.850372,
          null,
          13.813330294339632,
          13.850372,
          null,
          13.813330294339632,
          13.850372,
          null,
          13.813330294339632,
          13.850372,
          null,
          13.813330294339632,
          13.839934,
          null,
          13.813330294339632,
          37.525646,
          null,
          13.813330294339632,
          13.845818,
          null,
          13.813330294339632,
          13.845818,
          null,
          13.813330294339632,
          13.845818,
          null,
          13.813330294339632,
          13.845818,
          null,
          13.813330294339632,
          13.845818,
          null,
          13.813330294339632,
          13.845818,
          null,
          13.813330294339632,
          13.845818,
          null,
          13.813330294339632,
          13.845818,
          null,
          13.813330294339632,
          13.845818,
          null,
          13.813330294339632,
          13.845818,
          null,
          13.813330294339632,
          13.844789000000002,
          null,
          13.813330294339632,
          13.844789000000002,
          null,
          13.813330294339632,
          13.844789000000002,
          null,
          13.813330294339632,
          13.844789000000002,
          null,
          13.813330294339632,
          13.844789000000002,
          null,
          13.813330294339632,
          13.844789000000002,
          null,
          13.813330294339632,
          13.844789000000002,
          null,
          13.813330294339632,
          13.844789000000002,
          null,
          13.813330294339632,
          13.844789000000002,
          null,
          13.813330294339632,
          13.844789000000002,
          null,
          13.813330294339632,
          13.844789000000002,
          null,
          13.813330294339632,
          22.370967,
          null,
          13.813330294339632,
          13.829712,
          null,
          13.813330294339632,
          13.829712,
          null,
          13.813330294339632,
          13.829712,
          null,
          13.813330294339632,
          12.247896,
          null,
          13.813330294339632,
          12.135317,
          null,
          13.813330294339632,
          10.66181,
          null,
          13.813330294339632,
          13.844955,
          null,
          13.813330294339632,
          13.844955,
          null,
          13.813330294339632,
          13.844955,
          null,
          13.813330294339632,
          13.844955,
          null,
          13.813330294339632,
          13.844955,
          null,
          13.813330294339632,
          13.844955,
          null,
          13.813330294339632,
          13.815623,
          null,
          13.813330294339632,
          13.724044,
          null,
          13.813330294339632,
          13.726731,
          null,
          13.813330294339632,
          13.856251,
          null,
          13.813330294339632,
          13.856251,
          null,
          13.813330294339632,
          13.802832999999998,
          null,
          13.813330294339632,
          13.841196,
          null,
          13.813330294339632,
          13.988703,
          null,
          13.813330294339632,
          13.841304,
          null,
          13.813330294339632,
          13.841304,
          null,
          13.813330294339632,
          13.844464000000002,
          null,
          13.813330294339632,
          13.844464000000002,
          null,
          13.813330294339632,
          13.844464000000002,
          null,
          13.813330294339632,
          13.844419,
          null,
          13.813330294339632,
          13.844419,
          null,
          13.813330294339632,
          13.789405,
          null,
          13.813330294339632,
          13.768481,
          null,
          13.813330294339632,
          13.788756,
          null,
          13.813330294339632,
          13.746453,
          null,
          13.813330294339632,
          13.717305,
          null,
          13.813330294339632,
          13.845674,
          null
         ],
         "line": {
          "color": "#c3528c",
          "width": 2
         },
         "locationmode": "USA-states",
         "lon": [
          100.5614495132076,
          100.751722,
          null,
          100.5614495132076,
          100.751722,
          null,
          100.5614495132076,
          100.751722,
          null,
          100.5614495132076,
          100.751722,
          null,
          100.5614495132076,
          100.751722,
          null,
          100.5614495132076,
          100.751722,
          null,
          100.5614495132076,
          100.751722,
          null,
          100.5614495132076,
          100.751722,
          null,
          100.5614495132076,
          100.574234,
          null,
          100.5614495132076,
          100.574234,
          null,
          100.5614495132076,
          100.574234,
          null,
          100.5614495132076,
          100.574234,
          null,
          100.5614495132076,
          100.574234,
          null,
          100.5614495132076,
          100.574234,
          null,
          100.5614495132076,
          100.574234,
          null,
          100.5614495132076,
          100.574234,
          null,
          100.5614495132076,
          100.574234,
          null,
          100.5614495132076,
          100.574234,
          null,
          100.5614495132076,
          100.574234,
          null,
          100.5614495132076,
          100.553763,
          null,
          100.5614495132076,
          100.553763,
          null,
          100.5614495132076,
          100.553763,
          null,
          100.5614495132076,
          100.553763,
          null,
          100.5614495132076,
          100.553763,
          null,
          100.5614495132076,
          100.553763,
          null,
          100.5614495132076,
          100.553763,
          null,
          100.5614495132076,
          100.553763,
          null,
          100.5614495132076,
          100.571938,
          null,
          100.5614495132076,
          100.571938,
          null,
          100.5614495132076,
          100.560409,
          null,
          100.5614495132076,
          100.560409,
          null,
          100.5614495132076,
          100.560409,
          null,
          100.5614495132076,
          113.934832,
          null,
          100.5614495132076,
          100.530164,
          null,
          100.5614495132076,
          100.534987,
          null,
          100.5614495132076,
          100.534987,
          null,
          100.5614495132076,
          100.534987,
          null,
          100.5614495132076,
          100.53988,
          null,
          100.5614495132076,
          100.565801,
          null,
          100.5614495132076,
          100.565801,
          null,
          100.5614495132076,
          100.565801,
          null,
          100.5614495132076,
          100.565801,
          null,
          100.5614495132076,
          100.567201,
          null,
          100.5614495132076,
          100.567201,
          null,
          100.5614495132076,
          100.567201,
          null,
          100.5614495132076,
          100.567201,
          null,
          100.5614495132076,
          100.539488,
          null,
          100.5614495132076,
          100.539488,
          null,
          100.5614495132076,
          100.578579,
          null,
          100.5614495132076,
          100.570916,
          null,
          100.5614495132076,
          100.570916,
          null,
          100.5614495132076,
          100.570916,
          null,
          100.5614495132076,
          100.570916,
          null,
          100.5614495132076,
          100.570916,
          null,
          100.5614495132076,
          100.570916,
          null,
          100.5614495132076,
          100.570916,
          null,
          100.5614495132076,
          100.570916,
          null,
          100.5614495132076,
          100.56097,
          null,
          100.5614495132076,
          100.56097,
          null,
          100.5614495132076,
          100.56097,
          null,
          100.5614495132076,
          100.56097,
          null,
          100.5614495132076,
          100.56097,
          null,
          100.5614495132076,
          100.56097,
          null,
          100.5614495132076,
          100.56097,
          null,
          100.5614495132076,
          100.56097,
          null,
          100.5614495132076,
          100.56097,
          null,
          100.5614495132076,
          100.56097,
          null,
          100.5614495132076,
          100.56097,
          null,
          100.5614495132076,
          100.56097,
          null,
          100.5614495132076,
          100.56097,
          null,
          100.5614495132076,
          100.56097,
          null,
          100.5614495132076,
          100.53459,
          null,
          100.5614495132076,
          100.53459,
          null,
          100.5614495132076,
          100.53459,
          null,
          100.5614495132076,
          100.53459,
          null,
          100.5614495132076,
          100.569376,
          null,
          100.5614495132076,
          100.569376,
          null,
          100.5614495132076,
          100.569376,
          null,
          100.5614495132076,
          100.569376,
          null,
          100.5614495132076,
          100.569376,
          null,
          100.5614495132076,
          100.569376,
          null,
          100.5614495132076,
          100.569376,
          null,
          100.5614495132076,
          100.569376,
          null,
          100.5614495132076,
          100.561209,
          null,
          100.5614495132076,
          100.560501,
          null,
          100.5614495132076,
          100.539021,
          null,
          100.5614495132076,
          100.532777,
          null,
          100.5614495132076,
          100.532777,
          null,
          100.5614495132076,
          100.532777,
          null,
          100.5614495132076,
          100.532777,
          null,
          100.5614495132076,
          100.532777,
          null,
          100.5614495132076,
          100.537107,
          null,
          100.5614495132076,
          100.537107,
          null,
          100.5614495132076,
          100.570693,
          null,
          100.5614495132076,
          100.570693,
          null,
          100.5614495132076,
          100.570693,
          null,
          100.5614495132076,
          100.570693,
          null,
          100.5614495132076,
          100.570693,
          null,
          100.5614495132076,
          100.570693,
          null,
          100.5614495132076,
          100.516824,
          null,
          100.5614495132076,
          100.617814,
          null,
          100.5614495132076,
          100.5333,
          null,
          100.5614495132076,
          100.618842,
          null,
          100.5614495132076,
          100.561364,
          null,
          100.5614495132076,
          100.541925,
          null,
          100.5614495132076,
          100.569381,
          null,
          100.5614495132076,
          100.561551,
          null,
          100.5614495132076,
          100.561551,
          null,
          100.5614495132076,
          100.561551,
          null,
          100.5614495132076,
          100.561551,
          null,
          100.5614495132076,
          100.561551,
          null,
          100.5614495132076,
          100.561551,
          null,
          100.5614495132076,
          100.561551,
          null,
          100.5614495132076,
          100.561551,
          null,
          100.5614495132076,
          100.561551,
          null,
          100.5614495132076,
          100.560715,
          null,
          100.5614495132076,
          100.602064,
          null,
          100.5614495132076,
          100.566165,
          null,
          100.5614495132076,
          100.566165,
          null,
          100.5614495132076,
          100.570657,
          null,
          100.5614495132076,
          100.570657,
          null,
          100.5614495132076,
          100.570657,
          null,
          100.5614495132076,
          100.570657,
          null,
          100.5614495132076,
          100.570657,
          null,
          100.5614495132076,
          100.570657,
          null,
          100.5614495132076,
          100.570657,
          null,
          100.5614495132076,
          100.570657,
          null,
          100.5614495132076,
          100.570657,
          null,
          100.5614495132076,
          100.570657,
          null,
          100.5614495132076,
          100.570657,
          null,
          100.5614495132076,
          100.570657,
          null,
          100.5614495132076,
          100.570657,
          null,
          100.5614495132076,
          100.570657,
          null,
          100.5614495132076,
          100.570657,
          null,
          100.5614495132076,
          100.570657,
          null,
          100.5614495132076,
          100.570657,
          null,
          100.5614495132076,
          100.560865,
          null,
          100.5614495132076,
          100.560865,
          null,
          100.5614495132076,
          100.560865,
          null,
          100.5614495132076,
          100.569729,
          null,
          100.5614495132076,
          100.512033,
          null,
          100.5614495132076,
          100.535508,
          null,
          100.5614495132076,
          100.572367,
          null,
          100.5614495132076,
          100.531511,
          null,
          100.5614495132076,
          100.42347,
          null,
          100.5614495132076,
          100.42347,
          null,
          100.5614495132076,
          100.42347,
          null,
          100.5614495132076,
          100.42347,
          null,
          100.5614495132076,
          100.610347,
          null,
          100.5614495132076,
          100.560951,
          null,
          100.5614495132076,
          100.560951,
          null,
          100.5614495132076,
          100.560951,
          null,
          100.5614495132076,
          100.560951,
          null,
          100.5614495132076,
          113.938866,
          null,
          100.5614495132076,
          100.598792,
          null,
          100.5614495132076,
          100.598792,
          null,
          100.5614495132076,
          100.535261,
          null,
          100.5614495132076,
          100.561431,
          null,
          100.5614495132076,
          100.561431,
          null,
          100.5614495132076,
          100.561431,
          null,
          100.5614495132076,
          100.561431,
          null,
          100.5614495132076,
          100.547347,
          null,
          100.5614495132076,
          100.548871,
          null,
          100.5614495132076,
          100.5613,
          null,
          100.5614495132076,
          100.536908,
          null,
          100.5614495132076,
          100.560501,
          null,
          100.5614495132076,
          100.575575,
          null,
          100.5614495132076,
          100.575575,
          null,
          100.5614495132076,
          100.572184,
          null,
          100.5614495132076,
          100.572184,
          null,
          100.5614495132076,
          100.572184,
          null,
          100.5614495132076,
          100.572184,
          null,
          100.5614495132076,
          100.572184,
          null,
          100.5614495132076,
          100.572184,
          null,
          100.5614495132076,
          100.572184,
          null,
          100.5614495132076,
          100.572184,
          null,
          100.5614495132076,
          100.572184,
          null,
          100.5614495132076,
          100.53152,
          null,
          100.5614495132076,
          100.532938,
          null,
          100.5614495132076,
          114.166111,
          null,
          100.5614495132076,
          100.563546,
          null,
          100.5614495132076,
          114.170828,
          null,
          100.5614495132076,
          100.009538,
          null,
          100.5614495132076,
          100.619427,
          null,
          100.5614495132076,
          100.565886,
          null,
          100.5614495132076,
          100.561678,
          null,
          100.5614495132076,
          100.561678,
          null,
          100.5614495132076,
          100.561678,
          null,
          100.5614495132076,
          100.561678,
          null,
          100.5614495132076,
          100.57698,
          null,
          100.5614495132076,
          100.57698,
          null,
          100.5614495132076,
          100.57698,
          null,
          100.5614495132076,
          100.57698,
          null,
          100.5614495132076,
          100.564556,
          null,
          100.5614495132076,
          100.568032,
          null,
          100.5614495132076,
          100.568032,
          null,
          100.5614495132076,
          100.568032,
          null,
          100.5614495132076,
          100.568032,
          null,
          100.5614495132076,
          100.568032,
          null,
          100.5614495132076,
          100.571498,
          null,
          100.5614495132076,
          100.536767,
          null,
          100.5614495132076,
          100.530515,
          null,
          100.5614495132076,
          100.530515,
          null,
          100.5614495132076,
          114.171608,
          null,
          100.5614495132076,
          100.572189,
          null,
          100.5614495132076,
          100.572189,
          null,
          100.5614495132076,
          100.572189,
          null,
          100.5614495132076,
          100.572189,
          null,
          100.5614495132076,
          100.572189,
          null,
          100.5614495132076,
          100.572189,
          null,
          100.5614495132076,
          100.572189,
          null,
          100.5614495132076,
          100.572189,
          null,
          100.5614495132076,
          100.572189,
          null,
          100.5614495132076,
          100.572189,
          null,
          100.5614495132076,
          100.572189,
          null,
          100.5614495132076,
          100.572189,
          null,
          100.5614495132076,
          100.572189,
          null,
          100.5614495132076,
          100.572189,
          null,
          100.5614495132076,
          100.572189,
          null,
          100.5614495132076,
          100.572189,
          null,
          100.5614495132076,
          100.572189,
          null,
          100.5614495132076,
          100.572189,
          null,
          100.5614495132076,
          100.572189,
          null,
          100.5614495132076,
          100.572189,
          null,
          100.5614495132076,
          100.569327,
          null,
          100.5614495132076,
          100.565372,
          null,
          100.5614495132076,
          100.565372,
          null,
          100.5614495132076,
          100.565372,
          null,
          100.5614495132076,
          100.565372,
          null,
          100.5614495132076,
          100.565372,
          null,
          100.5614495132076,
          100.565372,
          null,
          100.5614495132076,
          100.57469,
          null,
          100.5614495132076,
          126.883526,
          null,
          100.5614495132076,
          100.570717,
          null,
          100.5614495132076,
          100.570717,
          null,
          100.5614495132076,
          100.570717,
          null,
          100.5614495132076,
          100.570717,
          null,
          100.5614495132076,
          100.570717,
          null,
          100.5614495132076,
          100.570717,
          null,
          100.5614495132076,
          100.570717,
          null,
          100.5614495132076,
          100.570717,
          null,
          100.5614495132076,
          100.570717,
          null,
          100.5614495132076,
          100.570717,
          null,
          100.5614495132076,
          100.571294,
          null,
          100.5614495132076,
          100.571294,
          null,
          100.5614495132076,
          100.571294,
          null,
          100.5614495132076,
          100.571294,
          null,
          100.5614495132076,
          100.571294,
          null,
          100.5614495132076,
          100.571294,
          null,
          100.5614495132076,
          100.571294,
          null,
          100.5614495132076,
          100.571294,
          null,
          100.5614495132076,
          100.571294,
          null,
          100.5614495132076,
          100.571294,
          null,
          100.5614495132076,
          100.571294,
          null,
          100.5614495132076,
          114.119287,
          null,
          100.5614495132076,
          100.569756,
          null,
          100.5614495132076,
          100.569756,
          null,
          100.5614495132076,
          100.569756,
          null,
          100.5614495132076,
          99.873206,
          null,
          100.5614495132076,
          99.961028,
          null,
          100.5614495132076,
          99.195321,
          null,
          100.5614495132076,
          100.57138,
          null,
          100.5614495132076,
          100.57138,
          null,
          100.5614495132076,
          100.57138,
          null,
          100.5614495132076,
          100.57138,
          null,
          100.5614495132076,
          100.57138,
          null,
          100.5614495132076,
          100.57138,
          null,
          100.5614495132076,
          100.560084,
          null,
          100.5614495132076,
          100.558848,
          null,
          100.5614495132076,
          100.495019,
          null,
          100.5614495132076,
          100.542107,
          null,
          100.5614495132076,
          100.542107,
          null,
          100.5614495132076,
          100.554216,
          null,
          100.5614495132076,
          100.573137,
          null,
          100.5614495132076,
          100.616595,
          null,
          100.5614495132076,
          100.571943,
          null,
          100.5614495132076,
          100.571943,
          null,
          100.5614495132076,
          100.571205,
          null,
          100.5614495132076,
          100.571205,
          null,
          100.5614495132076,
          100.571205,
          null,
          100.5614495132076,
          100.571419,
          null,
          100.5614495132076,
          100.571419,
          null,
          100.5614495132076,
          100.572152,
          null,
          100.5614495132076,
          100.512285,
          null,
          100.5614495132076,
          100.575122,
          null,
          100.5614495132076,
          100.53927,
          null,
          100.5614495132076,
          100.535237,
          null,
          100.5614495132076,
          100.571106,
          null
         ],
         "mode": "lines",
         "opacity": 0.8,
         "type": "scattergeo"
        },
        {
         "lat": [
          -6.078666,
          -6.067685,
          -0.600771,
          -6.063589,
          -6.076699,
          -6.068983,
          -6.068983,
          -6.09191,
          -6.09191,
          -6.09191,
          -6.09191,
          -6.0921660000000015,
          -6.068762,
          -6.084897,
          -6.084897,
          -6.068418,
          -6.090139,
          -6.090139,
          -6.090139,
          -6.090139,
          -6.090139,
          -6.090139,
          -6.080643,
          -6.080643,
          -6.080643,
          -6.080643,
          -6.080643,
          -6.091483,
          -6.091483,
          -6.089691,
          -6.089691,
          -6.089691,
          -6.089691,
          -6.089691,
          -6.0851370000000005,
          -6.0851370000000005,
          -6.082489,
          -6.082489,
          -6.082489,
          -6.082489,
          -6.082489,
          -6.082489,
          -6.082489,
          -6.082489,
          -6.082489,
          -6.082489,
          -6.082489,
          -6.082489,
          -6.092096,
          -6.098684,
          -6.098684,
          -6.098684,
          -6.098684,
          -6.091995,
          -6.091995,
          -6.091995,
          -6.095341,
          -6.091888,
          -6.084897,
          -6.078521,
          -6.078521,
          -6.070192,
          -6.070192,
          -6.07646,
          -6.082376999999998,
          -6.082376999999998,
          -6.082376999999998,
          -6.082376999999998,
          -6.082376999999998,
          -6.082376999999998,
          -6.082376999999998,
          -6.075805,
          -6.064488,
          -6.088501,
          -6.088501,
          -6.088501,
          -6.082376,
          -6.082376,
          -6.0697980000000005,
          -6.096833,
          -6.096833,
          -6.096833,
          -6.092371,
          -6.092371,
          -6.092371,
          -6.092371,
          -6.0912510000000015,
          -6.0912510000000015,
          -6.09166,
          -6.09166,
          -6.09166,
          -6.092716,
          -6.092716,
          -6.092716,
          -6.092716,
          -6.063701999999998,
          -6.069743,
          -6.069743,
          -6.082396,
          -6.082396,
          -6.082396,
          -6.082396,
          -6.082396,
          -6.075135,
          -6.0823730000000005,
          -6.0823730000000005,
          -6.0823730000000005,
          -6.09131,
          -6.09131,
          -6.08749,
          -6.08749,
          -6.08749,
          -6.078632,
          -6.091893,
          -6.067692,
          -6.0697410000000005,
          -6.0697410000000005,
          -6.074064,
          -6.091599,
          -6.077499,
          -6.066703,
          -6.0724160000000005,
          -0.59845,
          -0.602564,
          -0.607928,
          -6.0823870000000015,
          -6.0823870000000015
         ],
         "lon": [
          -49.884912,
          -50.065025,
          -47.310897,
          -49.912983,
          -49.887513,
          -50.067137,
          -50.067137,
          -49.856086,
          -49.856086,
          -49.856086,
          -49.856086,
          -49.854927,
          -50.064411,
          -49.872334,
          -49.872334,
          -50.064783,
          -49.840538,
          -49.840538,
          -49.840538,
          -49.840538,
          -49.840538,
          -49.840538,
          -49.850785,
          -49.850785,
          -49.850785,
          -49.850785,
          -49.850785,
          -49.8557,
          -49.8557,
          -49.858618,
          -49.858618,
          -49.858618,
          -49.858618,
          -49.858618,
          -49.885607,
          -49.885607,
          -49.809848,
          -49.809848,
          -49.809848,
          -49.809848,
          -49.809848,
          -49.809848,
          -49.809848,
          -49.809848,
          -49.809848,
          -49.809848,
          -49.809848,
          -49.809848,
          -49.855159,
          -49.859465,
          -49.859465,
          -49.859465,
          -49.859465,
          -49.855345,
          -49.855345,
          -49.855345,
          -49.855979,
          -49.856579,
          -49.874394,
          -49.886383,
          -49.886383,
          -49.902331,
          -49.902331,
          -49.883532,
          -49.80987800000001,
          -49.80987800000001,
          -49.80987800000001,
          -49.80987800000001,
          -49.80987800000001,
          -49.80987800000001,
          -49.80987800000001,
          -49.889219,
          -49.909561,
          -49.87521,
          -49.87521,
          -49.87521,
          -49.809818,
          -49.809818,
          -49.902146,
          -49.842281,
          -49.842281,
          -49.842281,
          -49.846361,
          -49.846361,
          -49.846361,
          -49.846361,
          -49.847413,
          -49.847413,
          -49.850107,
          -49.850107,
          -49.850107,
          -49.853045,
          -49.853045,
          -49.853045,
          -49.853045,
          -49.916317,
          -50.068993,
          -50.068993,
          -49.809818,
          -49.809818,
          -49.809818,
          -49.809818,
          -49.809818,
          -49.889672,
          -49.809809,
          -49.809809,
          -49.809809,
          -49.843925,
          -49.843925,
          -49.86868,
          -49.86868,
          -49.86868,
          -49.885073,
          -49.855514,
          -50.069028,
          -50.07363400000001,
          -50.07363400000001,
          -50.06834,
          -49.809838,
          -49.895322,
          -49.906994,
          -49.905183,
          -47.307086,
          -47.304543,
          -47.324703,
          -49.809853,
          -49.809853
         ],
         "marker": {
          "color": "#c3528c",
          "line": {
           "color": "rgba(68, 68, 68, 0)",
           "width": 3
          },
          "size": 3
         },
         "mode": "markers",
         "type": "scattergeo"
        },
        {
         "lat": [
          -6.085579026785717
         ],
         "lon": [
          -49.84864575
         ],
         "marker": {
          "color": "#c3528c",
          "line": {
           "color": "rgba(68, 68, 68, 0)",
           "width": 3
          },
          "size": 13
         },
         "mode": "markers",
         "type": "scattergeo"
        },
        {
         "lat": [
          -6.085579026785717,
          -6.078666,
          null,
          -6.085579026785717,
          -6.067685,
          null,
          -6.085579026785717,
          -0.600771,
          null,
          -6.085579026785717,
          -6.063589,
          null,
          -6.085579026785717,
          -6.076699,
          null,
          -6.085579026785717,
          -6.068983,
          null,
          -6.085579026785717,
          -6.068983,
          null,
          -6.085579026785717,
          -6.09191,
          null,
          -6.085579026785717,
          -6.09191,
          null,
          -6.085579026785717,
          -6.09191,
          null,
          -6.085579026785717,
          -6.09191,
          null,
          -6.085579026785717,
          -6.0921660000000015,
          null,
          -6.085579026785717,
          -6.068762,
          null,
          -6.085579026785717,
          -6.084897,
          null,
          -6.085579026785717,
          -6.084897,
          null,
          -6.085579026785717,
          -6.068418,
          null,
          -6.085579026785717,
          -6.090139,
          null,
          -6.085579026785717,
          -6.090139,
          null,
          -6.085579026785717,
          -6.090139,
          null,
          -6.085579026785717,
          -6.090139,
          null,
          -6.085579026785717,
          -6.090139,
          null,
          -6.085579026785717,
          -6.090139,
          null,
          -6.085579026785717,
          -6.080643,
          null,
          -6.085579026785717,
          -6.080643,
          null,
          -6.085579026785717,
          -6.080643,
          null,
          -6.085579026785717,
          -6.080643,
          null,
          -6.085579026785717,
          -6.080643,
          null,
          -6.085579026785717,
          -6.091483,
          null,
          -6.085579026785717,
          -6.091483,
          null,
          -6.085579026785717,
          -6.089691,
          null,
          -6.085579026785717,
          -6.089691,
          null,
          -6.085579026785717,
          -6.089691,
          null,
          -6.085579026785717,
          -6.089691,
          null,
          -6.085579026785717,
          -6.089691,
          null,
          -6.085579026785717,
          -6.0851370000000005,
          null,
          -6.085579026785717,
          -6.0851370000000005,
          null,
          -6.085579026785717,
          -6.082489,
          null,
          -6.085579026785717,
          -6.082489,
          null,
          -6.085579026785717,
          -6.082489,
          null,
          -6.085579026785717,
          -6.082489,
          null,
          -6.085579026785717,
          -6.082489,
          null,
          -6.085579026785717,
          -6.082489,
          null,
          -6.085579026785717,
          -6.082489,
          null,
          -6.085579026785717,
          -6.082489,
          null,
          -6.085579026785717,
          -6.082489,
          null,
          -6.085579026785717,
          -6.082489,
          null,
          -6.085579026785717,
          -6.082489,
          null,
          -6.085579026785717,
          -6.082489,
          null,
          -6.085579026785717,
          -6.092096,
          null,
          -6.085579026785717,
          -6.098684,
          null,
          -6.085579026785717,
          -6.098684,
          null,
          -6.085579026785717,
          -6.098684,
          null,
          -6.085579026785717,
          -6.098684,
          null,
          -6.085579026785717,
          -6.091995,
          null,
          -6.085579026785717,
          -6.091995,
          null,
          -6.085579026785717,
          -6.091995,
          null,
          -6.085579026785717,
          -6.095341,
          null,
          -6.085579026785717,
          -6.091888,
          null,
          -6.085579026785717,
          -6.084897,
          null,
          -6.085579026785717,
          -6.078521,
          null,
          -6.085579026785717,
          -6.078521,
          null,
          -6.085579026785717,
          -6.070192,
          null,
          -6.085579026785717,
          -6.070192,
          null,
          -6.085579026785717,
          -6.07646,
          null,
          -6.085579026785717,
          -6.082376999999998,
          null,
          -6.085579026785717,
          -6.082376999999998,
          null,
          -6.085579026785717,
          -6.082376999999998,
          null,
          -6.085579026785717,
          -6.082376999999998,
          null,
          -6.085579026785717,
          -6.082376999999998,
          null,
          -6.085579026785717,
          -6.082376999999998,
          null,
          -6.085579026785717,
          -6.082376999999998,
          null,
          -6.085579026785717,
          -6.075805,
          null,
          -6.085579026785717,
          -6.064488,
          null,
          -6.085579026785717,
          -6.088501,
          null,
          -6.085579026785717,
          -6.088501,
          null,
          -6.085579026785717,
          -6.088501,
          null,
          -6.085579026785717,
          -6.082376,
          null,
          -6.085579026785717,
          -6.082376,
          null,
          -6.085579026785717,
          -6.0697980000000005,
          null,
          -6.085579026785717,
          -6.096833,
          null,
          -6.085579026785717,
          -6.096833,
          null,
          -6.085579026785717,
          -6.096833,
          null,
          -6.085579026785717,
          -6.092371,
          null,
          -6.085579026785717,
          -6.092371,
          null,
          -6.085579026785717,
          -6.092371,
          null,
          -6.085579026785717,
          -6.092371,
          null,
          -6.085579026785717,
          -6.0912510000000015,
          null,
          -6.085579026785717,
          -6.0912510000000015,
          null,
          -6.085579026785717,
          -6.09166,
          null,
          -6.085579026785717,
          -6.09166,
          null,
          -6.085579026785717,
          -6.09166,
          null,
          -6.085579026785717,
          -6.092716,
          null,
          -6.085579026785717,
          -6.092716,
          null,
          -6.085579026785717,
          -6.092716,
          null,
          -6.085579026785717,
          -6.092716,
          null,
          -6.085579026785717,
          -6.063701999999998,
          null,
          -6.085579026785717,
          -6.069743,
          null,
          -6.085579026785717,
          -6.069743,
          null,
          -6.085579026785717,
          -6.082396,
          null,
          -6.085579026785717,
          -6.082396,
          null,
          -6.085579026785717,
          -6.082396,
          null,
          -6.085579026785717,
          -6.082396,
          null,
          -6.085579026785717,
          -6.082396,
          null,
          -6.085579026785717,
          -6.075135,
          null,
          -6.085579026785717,
          -6.0823730000000005,
          null,
          -6.085579026785717,
          -6.0823730000000005,
          null,
          -6.085579026785717,
          -6.0823730000000005,
          null,
          -6.085579026785717,
          -6.09131,
          null,
          -6.085579026785717,
          -6.09131,
          null,
          -6.085579026785717,
          -6.08749,
          null,
          -6.085579026785717,
          -6.08749,
          null,
          -6.085579026785717,
          -6.08749,
          null,
          -6.085579026785717,
          -6.078632,
          null,
          -6.085579026785717,
          -6.091893,
          null,
          -6.085579026785717,
          -6.067692,
          null,
          -6.085579026785717,
          -6.0697410000000005,
          null,
          -6.085579026785717,
          -6.0697410000000005,
          null,
          -6.085579026785717,
          -6.074064,
          null,
          -6.085579026785717,
          -6.091599,
          null,
          -6.085579026785717,
          -6.077499,
          null,
          -6.085579026785717,
          -6.066703,
          null,
          -6.085579026785717,
          -6.0724160000000005,
          null,
          -6.085579026785717,
          -0.59845,
          null,
          -6.085579026785717,
          -0.602564,
          null,
          -6.085579026785717,
          -0.607928,
          null,
          -6.085579026785717,
          -6.0823870000000015,
          null,
          -6.085579026785717,
          -6.0823870000000015,
          null
         ],
         "line": {
          "color": "#c3528c",
          "width": 2
         },
         "locationmode": "USA-states",
         "lon": [
          -49.84864575,
          -49.884912,
          null,
          -49.84864575,
          -50.065025,
          null,
          -49.84864575,
          -47.310897,
          null,
          -49.84864575,
          -49.912983,
          null,
          -49.84864575,
          -49.887513,
          null,
          -49.84864575,
          -50.067137,
          null,
          -49.84864575,
          -50.067137,
          null,
          -49.84864575,
          -49.856086,
          null,
          -49.84864575,
          -49.856086,
          null,
          -49.84864575,
          -49.856086,
          null,
          -49.84864575,
          -49.856086,
          null,
          -49.84864575,
          -49.854927,
          null,
          -49.84864575,
          -50.064411,
          null,
          -49.84864575,
          -49.872334,
          null,
          -49.84864575,
          -49.872334,
          null,
          -49.84864575,
          -50.064783,
          null,
          -49.84864575,
          -49.840538,
          null,
          -49.84864575,
          -49.840538,
          null,
          -49.84864575,
          -49.840538,
          null,
          -49.84864575,
          -49.840538,
          null,
          -49.84864575,
          -49.840538,
          null,
          -49.84864575,
          -49.840538,
          null,
          -49.84864575,
          -49.850785,
          null,
          -49.84864575,
          -49.850785,
          null,
          -49.84864575,
          -49.850785,
          null,
          -49.84864575,
          -49.850785,
          null,
          -49.84864575,
          -49.850785,
          null,
          -49.84864575,
          -49.8557,
          null,
          -49.84864575,
          -49.8557,
          null,
          -49.84864575,
          -49.858618,
          null,
          -49.84864575,
          -49.858618,
          null,
          -49.84864575,
          -49.858618,
          null,
          -49.84864575,
          -49.858618,
          null,
          -49.84864575,
          -49.858618,
          null,
          -49.84864575,
          -49.885607,
          null,
          -49.84864575,
          -49.885607,
          null,
          -49.84864575,
          -49.809848,
          null,
          -49.84864575,
          -49.809848,
          null,
          -49.84864575,
          -49.809848,
          null,
          -49.84864575,
          -49.809848,
          null,
          -49.84864575,
          -49.809848,
          null,
          -49.84864575,
          -49.809848,
          null,
          -49.84864575,
          -49.809848,
          null,
          -49.84864575,
          -49.809848,
          null,
          -49.84864575,
          -49.809848,
          null,
          -49.84864575,
          -49.809848,
          null,
          -49.84864575,
          -49.809848,
          null,
          -49.84864575,
          -49.809848,
          null,
          -49.84864575,
          -49.855159,
          null,
          -49.84864575,
          -49.859465,
          null,
          -49.84864575,
          -49.859465,
          null,
          -49.84864575,
          -49.859465,
          null,
          -49.84864575,
          -49.859465,
          null,
          -49.84864575,
          -49.855345,
          null,
          -49.84864575,
          -49.855345,
          null,
          -49.84864575,
          -49.855345,
          null,
          -49.84864575,
          -49.855979,
          null,
          -49.84864575,
          -49.856579,
          null,
          -49.84864575,
          -49.874394,
          null,
          -49.84864575,
          -49.886383,
          null,
          -49.84864575,
          -49.886383,
          null,
          -49.84864575,
          -49.902331,
          null,
          -49.84864575,
          -49.902331,
          null,
          -49.84864575,
          -49.883532,
          null,
          -49.84864575,
          -49.80987800000001,
          null,
          -49.84864575,
          -49.80987800000001,
          null,
          -49.84864575,
          -49.80987800000001,
          null,
          -49.84864575,
          -49.80987800000001,
          null,
          -49.84864575,
          -49.80987800000001,
          null,
          -49.84864575,
          -49.80987800000001,
          null,
          -49.84864575,
          -49.80987800000001,
          null,
          -49.84864575,
          -49.889219,
          null,
          -49.84864575,
          -49.909561,
          null,
          -49.84864575,
          -49.87521,
          null,
          -49.84864575,
          -49.87521,
          null,
          -49.84864575,
          -49.87521,
          null,
          -49.84864575,
          -49.809818,
          null,
          -49.84864575,
          -49.809818,
          null,
          -49.84864575,
          -49.902146,
          null,
          -49.84864575,
          -49.842281,
          null,
          -49.84864575,
          -49.842281,
          null,
          -49.84864575,
          -49.842281,
          null,
          -49.84864575,
          -49.846361,
          null,
          -49.84864575,
          -49.846361,
          null,
          -49.84864575,
          -49.846361,
          null,
          -49.84864575,
          -49.846361,
          null,
          -49.84864575,
          -49.847413,
          null,
          -49.84864575,
          -49.847413,
          null,
          -49.84864575,
          -49.850107,
          null,
          -49.84864575,
          -49.850107,
          null,
          -49.84864575,
          -49.850107,
          null,
          -49.84864575,
          -49.853045,
          null,
          -49.84864575,
          -49.853045,
          null,
          -49.84864575,
          -49.853045,
          null,
          -49.84864575,
          -49.853045,
          null,
          -49.84864575,
          -49.916317,
          null,
          -49.84864575,
          -50.068993,
          null,
          -49.84864575,
          -50.068993,
          null,
          -49.84864575,
          -49.809818,
          null,
          -49.84864575,
          -49.809818,
          null,
          -49.84864575,
          -49.809818,
          null,
          -49.84864575,
          -49.809818,
          null,
          -49.84864575,
          -49.809818,
          null,
          -49.84864575,
          -49.889672,
          null,
          -49.84864575,
          -49.809809,
          null,
          -49.84864575,
          -49.809809,
          null,
          -49.84864575,
          -49.809809,
          null,
          -49.84864575,
          -49.843925,
          null,
          -49.84864575,
          -49.843925,
          null,
          -49.84864575,
          -49.86868,
          null,
          -49.84864575,
          -49.86868,
          null,
          -49.84864575,
          -49.86868,
          null,
          -49.84864575,
          -49.885073,
          null,
          -49.84864575,
          -49.855514,
          null,
          -49.84864575,
          -50.069028,
          null,
          -49.84864575,
          -50.07363400000001,
          null,
          -49.84864575,
          -50.07363400000001,
          null,
          -49.84864575,
          -50.06834,
          null,
          -49.84864575,
          -49.809838,
          null,
          -49.84864575,
          -49.895322,
          null,
          -49.84864575,
          -49.906994,
          null,
          -49.84864575,
          -49.905183,
          null,
          -49.84864575,
          -47.307086,
          null,
          -49.84864575,
          -47.304543,
          null,
          -49.84864575,
          -47.324703,
          null,
          -49.84864575,
          -49.809853,
          null,
          -49.84864575,
          -49.809853,
          null
         ],
         "mode": "lines",
         "opacity": 0.8,
         "type": "scattergeo"
        },
        {
         "lat": [
          -33.39167800000001,
          40.491185,
          41.288872,
          -33.382182,
          -33.382182,
          -33.382182,
          -33.382182,
          -33.382182,
          39.54864600000001,
          40.463997,
          40.463997,
          40.419972,
          40.419972,
          -33.39271,
          -33.39271,
          -33.414121,
          -33.018301,
          -33.390567,
          40.391747,
          -33.017609,
          -33.383097,
          41.371125,
          42.880571,
          40.429374,
          40.429374,
          40.429374,
          -33.008927,
          40.446415,
          40.446415,
          -33.019231,
          -33.019231,
          40.514896,
          -33.435816,
          40.421533,
          40.515599,
          40.42501,
          40.425446,
          -32.929697999999995,
          41.372574,
          -33.400499,
          41.384259,
          41.386283,
          -27.366864,
          38.908707,
          40.426931,
          38.947686,
          41.383079,
          41.377887,
          42.030682,
          40.416474,
          42.231107,
          38.90954,
          38.911942,
          51.523483,
          40.427991,
          40.427991,
          40.427991,
          40.427991,
          40.427991,
          40.427991,
          40.543833,
          38.917391,
          48.201094,
          40.430698,
          40.209662,
          41.375616,
          41.398348,
          41.381906,
          41.370756,
          41.380789,
          -33.018241,
          40.41542800000001,
          40.405882,
          40.42266,
          40.397643,
          41.975884,
          41.939026,
          40.433875,
          40.433875,
          40.424966,
          41.379661,
          -33.382141,
          -33.441241999999995,
          -32.930824,
          -32.933684,
          -33.364336,
          -33.364336,
          -33.364336,
          -33.355991,
          -33.499952,
          -33.021069
         ],
         "lon": [
          -70.54630300000002,
          -3.592057,
          2.0743080000000003,
          -70.582137,
          -70.582137,
          -70.582137,
          -70.582137,
          -70.582137,
          2.732677,
          -3.570433,
          -3.570433,
          -3.705812,
          -3.705812,
          -70.619324,
          -70.619324,
          -70.59848000000002,
          -71.55853499999998,
          -70.545337,
          -3.65864,
          -71.55625400000002,
          -70.587111,
          2.151732,
          -8.544585000000001,
          -3.70677,
          -3.70677,
          -3.70677,
          -71.548416,
          -3.710524,
          -3.710524,
          -71.56043000000003,
          -71.56043000000003,
          -3.672339,
          -70.654212,
          -3.710232,
          -3.897353,
          -3.702109,
          -3.704372,
          -71.539264,
          2.189516,
          -70.593159,
          2.177237,
          2.178034,
          -70.333061,
          1.428235,
          -3.703824,
          1.408205,
          2.177479,
          2.188683,
          -7.18037,
          -3.705623,
          -8.7216,
          1.436167,
          1.434483,
          -0.127408,
          -3.707974,
          -3.707974,
          -3.707974,
          -3.707974,
          -3.707974,
          -3.707974,
          -3.692554,
          1.44367,
          16.353369,
          -3.701849,
          -5.090221,
          2.150864,
          2.166939,
          2.168268,
          2.129313,
          2.175207,
          -71.556368,
          -3.708175,
          -3.690376,
          -3.706708,
          -3.865448,
          -7.044467,
          -7.437842999999999,
          -3.694009,
          -3.694009,
          -3.700762,
          2.1875560000000003,
          -70.53298000000002,
          -70.655235,
          -71.537261,
          -71.55009100000002,
          -70.580038,
          -70.580038,
          -70.580038,
          -71.65355699999998,
          -70.61209699999998,
          -71.561363
         ],
         "marker": {
          "color": "#ffa600",
          "line": {
           "color": "rgba(68, 68, 68, 0)",
           "width": 3
          },
          "size": 3
         },
         "mode": "markers",
         "type": "scattergeo"
        },
        {
         "lat": [
          40.4383176
         ],
         "lon": [
          -3.690689666666667
         ],
         "marker": {
          "color": "#ffa600",
          "line": {
           "color": "rgba(68, 68, 68, 0)",
           "width": 3
          },
          "size": 13
         },
         "mode": "markers",
         "type": "scattergeo"
        },
        {
         "lat": [
          40.4383176,
          -33.39167800000001,
          null,
          40.4383176,
          40.491185,
          null,
          40.4383176,
          41.288872,
          null,
          40.4383176,
          -33.382182,
          null,
          40.4383176,
          -33.382182,
          null,
          40.4383176,
          -33.382182,
          null,
          40.4383176,
          -33.382182,
          null,
          40.4383176,
          -33.382182,
          null,
          40.4383176,
          39.54864600000001,
          null,
          40.4383176,
          40.463997,
          null,
          40.4383176,
          40.463997,
          null,
          40.4383176,
          40.419972,
          null,
          40.4383176,
          40.419972,
          null,
          40.4383176,
          -33.39271,
          null,
          40.4383176,
          -33.39271,
          null,
          40.4383176,
          -33.414121,
          null,
          40.4383176,
          -33.018301,
          null,
          40.4383176,
          -33.390567,
          null,
          40.4383176,
          40.391747,
          null,
          40.4383176,
          -33.017609,
          null,
          40.4383176,
          -33.383097,
          null,
          40.4383176,
          41.371125,
          null,
          40.4383176,
          42.880571,
          null,
          40.4383176,
          40.429374,
          null,
          40.4383176,
          40.429374,
          null,
          40.4383176,
          40.429374,
          null,
          40.4383176,
          -33.008927,
          null,
          40.4383176,
          40.446415,
          null,
          40.4383176,
          40.446415,
          null,
          40.4383176,
          -33.019231,
          null,
          40.4383176,
          -33.019231,
          null,
          40.4383176,
          40.514896,
          null,
          40.4383176,
          -33.435816,
          null,
          40.4383176,
          40.421533,
          null,
          40.4383176,
          40.515599,
          null,
          40.4383176,
          40.42501,
          null,
          40.4383176,
          40.425446,
          null,
          40.4383176,
          -32.929697999999995,
          null,
          40.4383176,
          41.372574,
          null,
          40.4383176,
          -33.400499,
          null,
          40.4383176,
          41.384259,
          null,
          40.4383176,
          41.386283,
          null,
          40.4383176,
          -27.366864,
          null,
          40.4383176,
          38.908707,
          null,
          40.4383176,
          40.426931,
          null,
          40.4383176,
          38.947686,
          null,
          40.4383176,
          41.383079,
          null,
          40.4383176,
          41.377887,
          null,
          40.4383176,
          42.030682,
          null,
          40.4383176,
          40.416474,
          null,
          40.4383176,
          42.231107,
          null,
          40.4383176,
          38.90954,
          null,
          40.4383176,
          38.911942,
          null,
          40.4383176,
          51.523483,
          null,
          40.4383176,
          40.427991,
          null,
          40.4383176,
          40.427991,
          null,
          40.4383176,
          40.427991,
          null,
          40.4383176,
          40.427991,
          null,
          40.4383176,
          40.427991,
          null,
          40.4383176,
          40.427991,
          null,
          40.4383176,
          40.543833,
          null,
          40.4383176,
          38.917391,
          null,
          40.4383176,
          48.201094,
          null,
          40.4383176,
          40.430698,
          null,
          40.4383176,
          40.209662,
          null,
          40.4383176,
          41.375616,
          null,
          40.4383176,
          41.398348,
          null,
          40.4383176,
          41.381906,
          null,
          40.4383176,
          41.370756,
          null,
          40.4383176,
          41.380789,
          null,
          40.4383176,
          -33.018241,
          null,
          40.4383176,
          40.41542800000001,
          null,
          40.4383176,
          40.405882,
          null,
          40.4383176,
          40.42266,
          null,
          40.4383176,
          40.397643,
          null,
          40.4383176,
          41.975884,
          null,
          40.4383176,
          41.939026,
          null,
          40.4383176,
          40.433875,
          null,
          40.4383176,
          40.433875,
          null,
          40.4383176,
          40.424966,
          null,
          40.4383176,
          41.379661,
          null,
          40.4383176,
          -33.382141,
          null,
          40.4383176,
          -33.441241999999995,
          null,
          40.4383176,
          -32.930824,
          null,
          40.4383176,
          -32.933684,
          null,
          40.4383176,
          -33.364336,
          null,
          40.4383176,
          -33.364336,
          null,
          40.4383176,
          -33.364336,
          null,
          40.4383176,
          -33.355991,
          null,
          40.4383176,
          -33.499952,
          null,
          40.4383176,
          -33.021069,
          null
         ],
         "line": {
          "color": "#ffa600",
          "width": 2
         },
         "locationmode": "USA-states",
         "lon": [
          -3.690689666666667,
          -70.54630300000002,
          null,
          -3.690689666666667,
          -3.592057,
          null,
          -3.690689666666667,
          2.0743080000000003,
          null,
          -3.690689666666667,
          -70.582137,
          null,
          -3.690689666666667,
          -70.582137,
          null,
          -3.690689666666667,
          -70.582137,
          null,
          -3.690689666666667,
          -70.582137,
          null,
          -3.690689666666667,
          -70.582137,
          null,
          -3.690689666666667,
          2.732677,
          null,
          -3.690689666666667,
          -3.570433,
          null,
          -3.690689666666667,
          -3.570433,
          null,
          -3.690689666666667,
          -3.705812,
          null,
          -3.690689666666667,
          -3.705812,
          null,
          -3.690689666666667,
          -70.619324,
          null,
          -3.690689666666667,
          -70.619324,
          null,
          -3.690689666666667,
          -70.59848000000002,
          null,
          -3.690689666666667,
          -71.55853499999998,
          null,
          -3.690689666666667,
          -70.545337,
          null,
          -3.690689666666667,
          -3.65864,
          null,
          -3.690689666666667,
          -71.55625400000002,
          null,
          -3.690689666666667,
          -70.587111,
          null,
          -3.690689666666667,
          2.151732,
          null,
          -3.690689666666667,
          -8.544585000000001,
          null,
          -3.690689666666667,
          -3.70677,
          null,
          -3.690689666666667,
          -3.70677,
          null,
          -3.690689666666667,
          -3.70677,
          null,
          -3.690689666666667,
          -71.548416,
          null,
          -3.690689666666667,
          -3.710524,
          null,
          -3.690689666666667,
          -3.710524,
          null,
          -3.690689666666667,
          -71.56043000000003,
          null,
          -3.690689666666667,
          -71.56043000000003,
          null,
          -3.690689666666667,
          -3.672339,
          null,
          -3.690689666666667,
          -70.654212,
          null,
          -3.690689666666667,
          -3.710232,
          null,
          -3.690689666666667,
          -3.897353,
          null,
          -3.690689666666667,
          -3.702109,
          null,
          -3.690689666666667,
          -3.704372,
          null,
          -3.690689666666667,
          -71.539264,
          null,
          -3.690689666666667,
          2.189516,
          null,
          -3.690689666666667,
          -70.593159,
          null,
          -3.690689666666667,
          2.177237,
          null,
          -3.690689666666667,
          2.178034,
          null,
          -3.690689666666667,
          -70.333061,
          null,
          -3.690689666666667,
          1.428235,
          null,
          -3.690689666666667,
          -3.703824,
          null,
          -3.690689666666667,
          1.408205,
          null,
          -3.690689666666667,
          2.177479,
          null,
          -3.690689666666667,
          2.188683,
          null,
          -3.690689666666667,
          -7.18037,
          null,
          -3.690689666666667,
          -3.705623,
          null,
          -3.690689666666667,
          -8.7216,
          null,
          -3.690689666666667,
          1.436167,
          null,
          -3.690689666666667,
          1.434483,
          null,
          -3.690689666666667,
          -0.127408,
          null,
          -3.690689666666667,
          -3.707974,
          null,
          -3.690689666666667,
          -3.707974,
          null,
          -3.690689666666667,
          -3.707974,
          null,
          -3.690689666666667,
          -3.707974,
          null,
          -3.690689666666667,
          -3.707974,
          null,
          -3.690689666666667,
          -3.707974,
          null,
          -3.690689666666667,
          -3.692554,
          null,
          -3.690689666666667,
          1.44367,
          null,
          -3.690689666666667,
          16.353369,
          null,
          -3.690689666666667,
          -3.701849,
          null,
          -3.690689666666667,
          -5.090221,
          null,
          -3.690689666666667,
          2.150864,
          null,
          -3.690689666666667,
          2.166939,
          null,
          -3.690689666666667,
          2.168268,
          null,
          -3.690689666666667,
          2.129313,
          null,
          -3.690689666666667,
          2.175207,
          null,
          -3.690689666666667,
          -71.556368,
          null,
          -3.690689666666667,
          -3.708175,
          null,
          -3.690689666666667,
          -3.690376,
          null,
          -3.690689666666667,
          -3.706708,
          null,
          -3.690689666666667,
          -3.865448,
          null,
          -3.690689666666667,
          -7.044467,
          null,
          -3.690689666666667,
          -7.437842999999999,
          null,
          -3.690689666666667,
          -3.694009,
          null,
          -3.690689666666667,
          -3.694009,
          null,
          -3.690689666666667,
          -3.700762,
          null,
          -3.690689666666667,
          2.1875560000000003,
          null,
          -3.690689666666667,
          -70.53298000000002,
          null,
          -3.690689666666667,
          -70.655235,
          null,
          -3.690689666666667,
          -71.537261,
          null,
          -3.690689666666667,
          -71.55009100000002,
          null,
          -3.690689666666667,
          -70.580038,
          null,
          -3.690689666666667,
          -70.580038,
          null,
          -3.690689666666667,
          -70.580038,
          null,
          -3.690689666666667,
          -71.65355699999998,
          null,
          -3.690689666666667,
          -70.61209699999998,
          null,
          -3.690689666666667,
          -71.561363,
          null
         ],
         "mode": "lines",
         "opacity": 0.8,
         "type": "scattergeo"
        },
        {
         "lat": [
          41.796592,
          41.796592,
          41.796592,
          40.965832,
          51.889564,
          40.934807,
          40.934807,
          40.934807,
          40.934807,
          40.934807,
          40.934807,
          40.934807,
          45.609527,
          41.134364,
          41.134364,
          41.134364,
          41.134364,
          41.134364,
          41.134364,
          41.134364,
          41.134364,
          41.134364,
          41.134364,
          45.461575,
          45.461575,
          45.461575,
          45.461575,
          45.461575,
          45.461575,
          45.461575,
          45.461575,
          41.101107,
          37.470328,
          37.470328,
          37.470328,
          37.470328,
          37.470328,
          37.11107,
          37.11107,
          37.11107,
          37.11107,
          37.521876,
          38.183165,
          38.183165,
          38.183165,
          37.479796,
          41.08276400000001,
          40.580063,
          40.580063,
          40.580063,
          38.139267,
          40.461311,
          40.461311,
          40.461311,
          40.461311,
          45.476396,
          38.844521,
          40.875038,
          40.784539,
          37.471052,
          37.471052,
          37.471052,
          40.742969,
          40.742969,
          40.742969,
          41.796796,
          40.968234,
          40.968234,
          40.968234,
          40.968234,
          40.968234,
          40.968234,
          40.968234,
          40.968234,
          40.968234,
          40.968234,
          41.104852,
          41.104875,
          41.088979,
          41.088979,
          41.088979,
          38.186421,
          38.186421,
          38.186421,
          40.950369,
          40.467794,
          51.496913,
          51.496913,
          40.800329,
          40.800329,
          38.210319,
          45.480962,
          45.647535,
          40.933466,
          40.933466,
          41.088812,
          45.481162,
          38.174145,
          37.476731,
          37.476731,
          37.476731,
          37.476731,
          37.476731,
          37.47227,
          37.47227,
          37.47227,
          37.47227,
          45.408008,
          39.289249,
          45.398074,
          37.478247,
          45.39952,
          45.39952,
          45.39952,
          45.494615,
          37.406089,
          37.479405,
          37.520086,
          37.520086,
          40.874659,
          41.098825,
          45.400841,
          45.400841,
          40.969643,
          40.969643,
          40.969643,
          41.08905,
          51.50470900000001,
          39.67427100000001,
          39.179982,
          39.105861,
          39.105861,
          41.066404,
          40.662059,
          40.911344,
          40.911344,
          41.125734,
          38.439457,
          42.79234,
          45.46641500000001,
          41.0377,
          41.12493900000001,
          41.135518,
          45.399111,
          45.495094,
          41.097135,
          48.873506
         ],
         "lon": [
          12.252417,
          12.252417,
          12.252417,
          16.925718,
          0.260882,
          14.148389000000002,
          14.148389000000002,
          14.148389000000002,
          14.148389000000002,
          14.148389000000002,
          14.148389000000002,
          14.148389000000002,
          8.962086,
          16.763776999999994,
          16.763776999999994,
          16.763776999999994,
          16.763776999999994,
          16.763776999999994,
          16.763776999999994,
          16.763776999999994,
          16.763776999999994,
          16.763776999999994,
          16.763776999999994,
          9.278941,
          9.278941,
          9.278941,
          9.278941,
          9.278941,
          9.278941,
          9.278941,
          9.278941,
          16.863129,
          15.066010999999998,
          15.066010999999998,
          15.066010999999998,
          15.066010999999998,
          15.066010999999998,
          15.228963,
          15.228963,
          15.228963,
          15.228963,
          15.114167000000002,
          13.306417,
          13.306417,
          13.306417,
          15.00991,
          16.946347,
          17.838148999999994,
          17.838148999999994,
          17.838148999999994,
          13.357947,
          17.299256,
          17.299256,
          17.299256,
          17.299256,
          9.171414,
          16.646132,
          14.348917000000002,
          17.237811999999998,
          15.047997,
          15.047997,
          15.047997,
          14.480726,
          14.480726,
          14.480726,
          12.255493,
          16.925210999999994,
          16.925210999999994,
          16.925210999999994,
          16.925210999999994,
          16.925210999999994,
          16.925210999999994,
          16.925210999999994,
          16.925210999999994,
          16.925210999999994,
          16.925210999999994,
          16.879,
          16.878792999999998,
          16.896012,
          16.896012,
          16.896012,
          13.105273,
          13.105273,
          13.105273,
          14.488415,
          16.937425,
          -0.138891,
          -0.138891,
          16.923194,
          16.923194,
          15.56237,
          9.125853,
          8.722964,
          14.147998,
          14.147998,
          16.772388,
          9.185977,
          13.218592,
          15.08307,
          15.08307,
          15.08307,
          15.08307,
          15.08307,
          15.049392,
          15.049392,
          15.049392,
          15.049392,
          9.152614,
          9.001683,
          9.15139,
          15.008284,
          9.152304,
          9.152304,
          9.152304,
          9.180442,
          14.932192,
          15.077139,
          15.1103,
          15.1103,
          14.346328,
          16.855183,
          9.14981,
          9.14981,
          16.925984,
          16.925984,
          16.925984,
          16.895966,
          -0.077419,
          16.505205,
          16.282737,
          17.096785,
          17.096785,
          16.922381,
          14.427816,
          14.222588,
          14.222588,
          16.864846,
          15.942819,
          13.093038,
          9.195626,
          17.140141,
          16.866017000000006,
          16.761703,
          9.146343,
          9.179435,
          16.835465,
          2.305781
         ],
         "marker": {
          "color": "#ffa600",
          "line": {
           "color": "rgba(68, 68, 68, 0)",
           "width": 3
          },
          "size": 3
         },
         "mode": "markers",
         "type": "scattergeo"
        },
        {
         "lat": [
          45.445121772727276
         ],
         "lon": [
          9.203507000000004
         ],
         "marker": {
          "color": "#ffa600",
          "line": {
           "color": "rgba(68, 68, 68, 0)",
           "width": 3
          },
          "size": 13
         },
         "mode": "markers",
         "type": "scattergeo"
        },
        {
         "lat": [
          45.445121772727276,
          41.796592,
          null,
          45.445121772727276,
          41.796592,
          null,
          45.445121772727276,
          41.796592,
          null,
          45.445121772727276,
          40.965832,
          null,
          45.445121772727276,
          51.889564,
          null,
          45.445121772727276,
          40.934807,
          null,
          45.445121772727276,
          40.934807,
          null,
          45.445121772727276,
          40.934807,
          null,
          45.445121772727276,
          40.934807,
          null,
          45.445121772727276,
          40.934807,
          null,
          45.445121772727276,
          40.934807,
          null,
          45.445121772727276,
          40.934807,
          null,
          45.445121772727276,
          45.609527,
          null,
          45.445121772727276,
          41.134364,
          null,
          45.445121772727276,
          41.134364,
          null,
          45.445121772727276,
          41.134364,
          null,
          45.445121772727276,
          41.134364,
          null,
          45.445121772727276,
          41.134364,
          null,
          45.445121772727276,
          41.134364,
          null,
          45.445121772727276,
          41.134364,
          null,
          45.445121772727276,
          41.134364,
          null,
          45.445121772727276,
          41.134364,
          null,
          45.445121772727276,
          41.134364,
          null,
          45.445121772727276,
          45.461575,
          null,
          45.445121772727276,
          45.461575,
          null,
          45.445121772727276,
          45.461575,
          null,
          45.445121772727276,
          45.461575,
          null,
          45.445121772727276,
          45.461575,
          null,
          45.445121772727276,
          45.461575,
          null,
          45.445121772727276,
          45.461575,
          null,
          45.445121772727276,
          45.461575,
          null,
          45.445121772727276,
          41.101107,
          null,
          45.445121772727276,
          37.470328,
          null,
          45.445121772727276,
          37.470328,
          null,
          45.445121772727276,
          37.470328,
          null,
          45.445121772727276,
          37.470328,
          null,
          45.445121772727276,
          37.470328,
          null,
          45.445121772727276,
          37.11107,
          null,
          45.445121772727276,
          37.11107,
          null,
          45.445121772727276,
          37.11107,
          null,
          45.445121772727276,
          37.11107,
          null,
          45.445121772727276,
          37.521876,
          null,
          45.445121772727276,
          38.183165,
          null,
          45.445121772727276,
          38.183165,
          null,
          45.445121772727276,
          38.183165,
          null,
          45.445121772727276,
          37.479796,
          null,
          45.445121772727276,
          41.08276400000001,
          null,
          45.445121772727276,
          40.580063,
          null,
          45.445121772727276,
          40.580063,
          null,
          45.445121772727276,
          40.580063,
          null,
          45.445121772727276,
          38.139267,
          null,
          45.445121772727276,
          40.461311,
          null,
          45.445121772727276,
          40.461311,
          null,
          45.445121772727276,
          40.461311,
          null,
          45.445121772727276,
          40.461311,
          null,
          45.445121772727276,
          45.476396,
          null,
          45.445121772727276,
          38.844521,
          null,
          45.445121772727276,
          40.875038,
          null,
          45.445121772727276,
          40.784539,
          null,
          45.445121772727276,
          37.471052,
          null,
          45.445121772727276,
          37.471052,
          null,
          45.445121772727276,
          37.471052,
          null,
          45.445121772727276,
          40.742969,
          null,
          45.445121772727276,
          40.742969,
          null,
          45.445121772727276,
          40.742969,
          null,
          45.445121772727276,
          41.796796,
          null,
          45.445121772727276,
          40.968234,
          null,
          45.445121772727276,
          40.968234,
          null,
          45.445121772727276,
          40.968234,
          null,
          45.445121772727276,
          40.968234,
          null,
          45.445121772727276,
          40.968234,
          null,
          45.445121772727276,
          40.968234,
          null,
          45.445121772727276,
          40.968234,
          null,
          45.445121772727276,
          40.968234,
          null,
          45.445121772727276,
          40.968234,
          null,
          45.445121772727276,
          40.968234,
          null,
          45.445121772727276,
          41.104852,
          null,
          45.445121772727276,
          41.104875,
          null,
          45.445121772727276,
          41.088979,
          null,
          45.445121772727276,
          41.088979,
          null,
          45.445121772727276,
          41.088979,
          null,
          45.445121772727276,
          38.186421,
          null,
          45.445121772727276,
          38.186421,
          null,
          45.445121772727276,
          38.186421,
          null,
          45.445121772727276,
          40.950369,
          null,
          45.445121772727276,
          40.467794,
          null,
          45.445121772727276,
          51.496913,
          null,
          45.445121772727276,
          51.496913,
          null,
          45.445121772727276,
          40.800329,
          null,
          45.445121772727276,
          40.800329,
          null,
          45.445121772727276,
          38.210319,
          null,
          45.445121772727276,
          45.480962,
          null,
          45.445121772727276,
          45.647535,
          null,
          45.445121772727276,
          40.933466,
          null,
          45.445121772727276,
          40.933466,
          null,
          45.445121772727276,
          41.088812,
          null,
          45.445121772727276,
          45.481162,
          null,
          45.445121772727276,
          38.174145,
          null,
          45.445121772727276,
          37.476731,
          null,
          45.445121772727276,
          37.476731,
          null,
          45.445121772727276,
          37.476731,
          null,
          45.445121772727276,
          37.476731,
          null,
          45.445121772727276,
          37.476731,
          null,
          45.445121772727276,
          37.47227,
          null,
          45.445121772727276,
          37.47227,
          null,
          45.445121772727276,
          37.47227,
          null,
          45.445121772727276,
          37.47227,
          null,
          45.445121772727276,
          45.408008,
          null,
          45.445121772727276,
          39.289249,
          null,
          45.445121772727276,
          45.398074,
          null,
          45.445121772727276,
          37.478247,
          null,
          45.445121772727276,
          45.39952,
          null,
          45.445121772727276,
          45.39952,
          null,
          45.445121772727276,
          45.39952,
          null,
          45.445121772727276,
          45.494615,
          null,
          45.445121772727276,
          37.406089,
          null,
          45.445121772727276,
          37.479405,
          null,
          45.445121772727276,
          37.520086,
          null,
          45.445121772727276,
          37.520086,
          null,
          45.445121772727276,
          40.874659,
          null,
          45.445121772727276,
          41.098825,
          null,
          45.445121772727276,
          45.400841,
          null,
          45.445121772727276,
          45.400841,
          null,
          45.445121772727276,
          40.969643,
          null,
          45.445121772727276,
          40.969643,
          null,
          45.445121772727276,
          40.969643,
          null,
          45.445121772727276,
          41.08905,
          null,
          45.445121772727276,
          51.50470900000001,
          null,
          45.445121772727276,
          39.67427100000001,
          null,
          45.445121772727276,
          39.179982,
          null,
          45.445121772727276,
          39.105861,
          null,
          45.445121772727276,
          39.105861,
          null,
          45.445121772727276,
          41.066404,
          null,
          45.445121772727276,
          40.662059,
          null,
          45.445121772727276,
          40.911344,
          null,
          45.445121772727276,
          40.911344,
          null,
          45.445121772727276,
          41.125734,
          null,
          45.445121772727276,
          38.439457,
          null,
          45.445121772727276,
          42.79234,
          null,
          45.445121772727276,
          45.46641500000001,
          null,
          45.445121772727276,
          41.0377,
          null,
          45.445121772727276,
          41.12493900000001,
          null,
          45.445121772727276,
          41.135518,
          null,
          45.445121772727276,
          45.399111,
          null,
          45.445121772727276,
          45.495094,
          null,
          45.445121772727276,
          41.097135,
          null,
          45.445121772727276,
          48.873506,
          null
         ],
         "line": {
          "color": "#ffa600",
          "width": 2
         },
         "locationmode": "USA-states",
         "lon": [
          9.203507000000004,
          12.252417,
          null,
          9.203507000000004,
          12.252417,
          null,
          9.203507000000004,
          12.252417,
          null,
          9.203507000000004,
          16.925718,
          null,
          9.203507000000004,
          0.260882,
          null,
          9.203507000000004,
          14.148389000000002,
          null,
          9.203507000000004,
          14.148389000000002,
          null,
          9.203507000000004,
          14.148389000000002,
          null,
          9.203507000000004,
          14.148389000000002,
          null,
          9.203507000000004,
          14.148389000000002,
          null,
          9.203507000000004,
          14.148389000000002,
          null,
          9.203507000000004,
          14.148389000000002,
          null,
          9.203507000000004,
          8.962086,
          null,
          9.203507000000004,
          16.763776999999994,
          null,
          9.203507000000004,
          16.763776999999994,
          null,
          9.203507000000004,
          16.763776999999994,
          null,
          9.203507000000004,
          16.763776999999994,
          null,
          9.203507000000004,
          16.763776999999994,
          null,
          9.203507000000004,
          16.763776999999994,
          null,
          9.203507000000004,
          16.763776999999994,
          null,
          9.203507000000004,
          16.763776999999994,
          null,
          9.203507000000004,
          16.763776999999994,
          null,
          9.203507000000004,
          16.763776999999994,
          null,
          9.203507000000004,
          9.278941,
          null,
          9.203507000000004,
          9.278941,
          null,
          9.203507000000004,
          9.278941,
          null,
          9.203507000000004,
          9.278941,
          null,
          9.203507000000004,
          9.278941,
          null,
          9.203507000000004,
          9.278941,
          null,
          9.203507000000004,
          9.278941,
          null,
          9.203507000000004,
          9.278941,
          null,
          9.203507000000004,
          16.863129,
          null,
          9.203507000000004,
          15.066010999999998,
          null,
          9.203507000000004,
          15.066010999999998,
          null,
          9.203507000000004,
          15.066010999999998,
          null,
          9.203507000000004,
          15.066010999999998,
          null,
          9.203507000000004,
          15.066010999999998,
          null,
          9.203507000000004,
          15.228963,
          null,
          9.203507000000004,
          15.228963,
          null,
          9.203507000000004,
          15.228963,
          null,
          9.203507000000004,
          15.228963,
          null,
          9.203507000000004,
          15.114167000000002,
          null,
          9.203507000000004,
          13.306417,
          null,
          9.203507000000004,
          13.306417,
          null,
          9.203507000000004,
          13.306417,
          null,
          9.203507000000004,
          15.00991,
          null,
          9.203507000000004,
          16.946347,
          null,
          9.203507000000004,
          17.838148999999994,
          null,
          9.203507000000004,
          17.838148999999994,
          null,
          9.203507000000004,
          17.838148999999994,
          null,
          9.203507000000004,
          13.357947,
          null,
          9.203507000000004,
          17.299256,
          null,
          9.203507000000004,
          17.299256,
          null,
          9.203507000000004,
          17.299256,
          null,
          9.203507000000004,
          17.299256,
          null,
          9.203507000000004,
          9.171414,
          null,
          9.203507000000004,
          16.646132,
          null,
          9.203507000000004,
          14.348917000000002,
          null,
          9.203507000000004,
          17.237811999999998,
          null,
          9.203507000000004,
          15.047997,
          null,
          9.203507000000004,
          15.047997,
          null,
          9.203507000000004,
          15.047997,
          null,
          9.203507000000004,
          14.480726,
          null,
          9.203507000000004,
          14.480726,
          null,
          9.203507000000004,
          14.480726,
          null,
          9.203507000000004,
          12.255493,
          null,
          9.203507000000004,
          16.925210999999994,
          null,
          9.203507000000004,
          16.925210999999994,
          null,
          9.203507000000004,
          16.925210999999994,
          null,
          9.203507000000004,
          16.925210999999994,
          null,
          9.203507000000004,
          16.925210999999994,
          null,
          9.203507000000004,
          16.925210999999994,
          null,
          9.203507000000004,
          16.925210999999994,
          null,
          9.203507000000004,
          16.925210999999994,
          null,
          9.203507000000004,
          16.925210999999994,
          null,
          9.203507000000004,
          16.925210999999994,
          null,
          9.203507000000004,
          16.879,
          null,
          9.203507000000004,
          16.878792999999998,
          null,
          9.203507000000004,
          16.896012,
          null,
          9.203507000000004,
          16.896012,
          null,
          9.203507000000004,
          16.896012,
          null,
          9.203507000000004,
          13.105273,
          null,
          9.203507000000004,
          13.105273,
          null,
          9.203507000000004,
          13.105273,
          null,
          9.203507000000004,
          14.488415,
          null,
          9.203507000000004,
          16.937425,
          null,
          9.203507000000004,
          -0.138891,
          null,
          9.203507000000004,
          -0.138891,
          null,
          9.203507000000004,
          16.923194,
          null,
          9.203507000000004,
          16.923194,
          null,
          9.203507000000004,
          15.56237,
          null,
          9.203507000000004,
          9.125853,
          null,
          9.203507000000004,
          8.722964,
          null,
          9.203507000000004,
          14.147998,
          null,
          9.203507000000004,
          14.147998,
          null,
          9.203507000000004,
          16.772388,
          null,
          9.203507000000004,
          9.185977,
          null,
          9.203507000000004,
          13.218592,
          null,
          9.203507000000004,
          15.08307,
          null,
          9.203507000000004,
          15.08307,
          null,
          9.203507000000004,
          15.08307,
          null,
          9.203507000000004,
          15.08307,
          null,
          9.203507000000004,
          15.08307,
          null,
          9.203507000000004,
          15.049392,
          null,
          9.203507000000004,
          15.049392,
          null,
          9.203507000000004,
          15.049392,
          null,
          9.203507000000004,
          15.049392,
          null,
          9.203507000000004,
          9.152614,
          null,
          9.203507000000004,
          9.001683,
          null,
          9.203507000000004,
          9.15139,
          null,
          9.203507000000004,
          15.008284,
          null,
          9.203507000000004,
          9.152304,
          null,
          9.203507000000004,
          9.152304,
          null,
          9.203507000000004,
          9.152304,
          null,
          9.203507000000004,
          9.180442,
          null,
          9.203507000000004,
          14.932192,
          null,
          9.203507000000004,
          15.077139,
          null,
          9.203507000000004,
          15.1103,
          null,
          9.203507000000004,
          15.1103,
          null,
          9.203507000000004,
          14.346328,
          null,
          9.203507000000004,
          16.855183,
          null,
          9.203507000000004,
          9.14981,
          null,
          9.203507000000004,
          9.14981,
          null,
          9.203507000000004,
          16.925984,
          null,
          9.203507000000004,
          16.925984,
          null,
          9.203507000000004,
          16.925984,
          null,
          9.203507000000004,
          16.895966,
          null,
          9.203507000000004,
          -0.077419,
          null,
          9.203507000000004,
          16.505205,
          null,
          9.203507000000004,
          16.282737,
          null,
          9.203507000000004,
          17.096785,
          null,
          9.203507000000004,
          17.096785,
          null,
          9.203507000000004,
          16.922381,
          null,
          9.203507000000004,
          14.427816,
          null,
          9.203507000000004,
          14.222588,
          null,
          9.203507000000004,
          14.222588,
          null,
          9.203507000000004,
          16.864846,
          null,
          9.203507000000004,
          15.942819,
          null,
          9.203507000000004,
          13.093038,
          null,
          9.203507000000004,
          9.195626,
          null,
          9.203507000000004,
          17.140141,
          null,
          9.203507000000004,
          16.866017000000006,
          null,
          9.203507000000004,
          16.761703,
          null,
          9.203507000000004,
          9.146343,
          null,
          9.203507000000004,
          9.179435,
          null,
          9.203507000000004,
          16.835465,
          null,
          9.203507000000004,
          2.305781,
          null
         ],
         "mode": "lines",
         "opacity": 0.8,
         "type": "scattergeo"
        },
        {
         "lat": [
          40.467062,
          40.467062,
          40.467062,
          40.467062,
          38.952634,
          40.752806,
          40.752806,
          40.752806,
          34.985495,
          40.689685,
          40.689685,
          40.689685,
          40.689685,
          40.689685,
          40.689685,
          40.689685,
          40.689685,
          40.689685,
          38.856171,
          35.666692,
          42.366028,
          38.853044,
          35.76394600000001,
          35.626666,
          34.994795,
          51.472576,
          39.903958,
          42.36831,
          40.413725,
          42.369476,
          42.366535,
          50.04235,
          50.04235,
          50.04235,
          41.898955,
          40.696648,
          34.693603,
          41.899965,
          34.669336,
          41.900319,
          42.92796,
          42.92796,
          42.92796,
          42.92796,
          42.92796,
          42.92796,
          42.92796,
          42.92796,
          42.92796,
          51.501635,
          40.723578,
          40.728263,
          40.415146,
          35.759468,
          54.650523,
          43.700986,
          43.208282,
          40.694989,
          35.762637,
          -4.032533,
          54.643074,
          43.203271,
          43.203271,
          43.203271,
          15.592368,
          51.520774,
          40.407465,
          43.211967,
          43.211967,
          43.20548400000001,
          43.20548400000001,
          43.20758,
          40.767963,
          40.055088,
          40.415113,
          35.661969,
          -3.4246550000000004,
          40.422156,
          40.42217700000001,
          40.410007,
          54.683098,
          54.683098,
          54.683098,
          54.685275,
          54.685275,
          54.686888,
          54.68541800000001,
          54.687433,
          54.687985,
          54.68360500000001,
          40.447927,
          43.625769,
          43.625769,
          42.370838,
          42.927096,
          42.927096,
          42.927096,
          42.927096,
          40.460897,
          43.55502,
          43.55502,
          43.557695,
          43.540357,
          43.540357,
          43.636937,
          43.055151,
          40.72078,
          40.72078,
          43.259248,
          43.073496,
          -3.421935,
          -3.421935,
          -3.421935,
          40.373617,
          40.720699,
          40.720699,
          43.557155,
          38.883667,
          39.983031,
          39.974258,
          40.457537,
          40.43999,
          35.670214,
          35.628126,
          39.980935,
          39.980935,
          39.97938900000001,
          39.981059,
          39.982573,
          40.429947
         ],
         "lon": [
          -3.571587,
          -3.571587,
          -3.571587,
          -3.571587,
          -77.447906,
          -73.977175,
          -73.977175,
          -73.977175,
          135.758593,
          -74.179387,
          -74.179387,
          -74.179387,
          -74.179387,
          -74.179387,
          -74.179387,
          -74.179387,
          -74.179387,
          -74.179387,
          -77.04294499999997,
          139.75813300000002,
          -71.062081,
          -77.04231300000002,
          140.384631,
          139.74036999999998,
          135.78491100000002,
          -0.45104,
          116.383491,
          -71.021547,
          -3.692243,
          -71.020035,
          -71.020904,
          8.562497,
          8.562497,
          8.562497,
          12.473044,
          -74.177392,
          135.53253700000002,
          12.456464,
          135.50306799999998,
          12.447582,
          -71.437612,
          -71.437612,
          -71.437612,
          -71.437612,
          -71.437612,
          -71.437612,
          -71.437612,
          -71.437612,
          -71.437612,
          -0.160144,
          -74.036677,
          -74.03475999999998,
          -3.695333,
          140.386391,
          24.933257,
          -72.289659,
          -71.526036,
          -74.173722,
          140.383644,
          39.602494,
          25.280786,
          -71.534386,
          -71.534386,
          -71.534386,
          32.549658,
          -0.090916,
          -3.69495,
          -71.545952,
          -71.545952,
          -71.535983,
          -71.535983,
          -71.536596,
          -73.98168000000003,
          116.609055,
          -3.694679,
          139.75989099999998,
          37.065139,
          -3.691879,
          -3.692003,
          -3.693548,
          25.281609,
          25.281609,
          25.281609,
          25.287352,
          25.287352,
          25.290549,
          25.28535,
          25.289272,
          25.270636,
          25.282978,
          -3.582863,
          -72.51659000000002,
          -72.51659000000002,
          -71.019603,
          -71.43922099999997,
          -71.43922099999997,
          -71.43922099999997,
          -71.43922099999997,
          50.053819,
          -73.653319,
          -73.653319,
          -73.651324,
          -73.658688,
          -73.658688,
          -72.405611,
          -73.805656,
          -74.032718,
          -74.032718,
          -71.579921,
          -73.76961,
          37.077205,
          37.077205,
          37.077205,
          49.843297,
          -74.0332,
          -74.0332,
          -73.65505,
          121.539066,
          116.307803,
          116.316892,
          50.056787,
          50.033755,
          139.761452,
          139.742428,
          116.305497,
          116.305497,
          116.307192,
          116.302252,
          116.304373,
          -3.664934
         ],
         "marker": {
          "color": "#ffa600",
          "line": {
           "color": "rgba(68, 68, 68, 0)",
           "width": 3
          },
          "size": 3
         },
         "mode": "markers",
         "type": "scattergeo"
        },
        {
         "lat": [
          40.71238009523809
         ],
         "lon": [
          -74.09914642857144
         ],
         "marker": {
          "color": "#ffa600",
          "line": {
           "color": "rgba(68, 68, 68, 0)",
           "width": 3
          },
          "size": 13
         },
         "mode": "markers",
         "type": "scattergeo"
        },
        {
         "lat": [
          40.71238009523809,
          40.467062,
          null,
          40.71238009523809,
          40.467062,
          null,
          40.71238009523809,
          40.467062,
          null,
          40.71238009523809,
          40.467062,
          null,
          40.71238009523809,
          38.952634,
          null,
          40.71238009523809,
          40.752806,
          null,
          40.71238009523809,
          40.752806,
          null,
          40.71238009523809,
          40.752806,
          null,
          40.71238009523809,
          34.985495,
          null,
          40.71238009523809,
          40.689685,
          null,
          40.71238009523809,
          40.689685,
          null,
          40.71238009523809,
          40.689685,
          null,
          40.71238009523809,
          40.689685,
          null,
          40.71238009523809,
          40.689685,
          null,
          40.71238009523809,
          40.689685,
          null,
          40.71238009523809,
          40.689685,
          null,
          40.71238009523809,
          40.689685,
          null,
          40.71238009523809,
          40.689685,
          null,
          40.71238009523809,
          38.856171,
          null,
          40.71238009523809,
          35.666692,
          null,
          40.71238009523809,
          42.366028,
          null,
          40.71238009523809,
          38.853044,
          null,
          40.71238009523809,
          35.76394600000001,
          null,
          40.71238009523809,
          35.626666,
          null,
          40.71238009523809,
          34.994795,
          null,
          40.71238009523809,
          51.472576,
          null,
          40.71238009523809,
          39.903958,
          null,
          40.71238009523809,
          42.36831,
          null,
          40.71238009523809,
          40.413725,
          null,
          40.71238009523809,
          42.369476,
          null,
          40.71238009523809,
          42.366535,
          null,
          40.71238009523809,
          50.04235,
          null,
          40.71238009523809,
          50.04235,
          null,
          40.71238009523809,
          50.04235,
          null,
          40.71238009523809,
          41.898955,
          null,
          40.71238009523809,
          40.696648,
          null,
          40.71238009523809,
          34.693603,
          null,
          40.71238009523809,
          41.899965,
          null,
          40.71238009523809,
          34.669336,
          null,
          40.71238009523809,
          41.900319,
          null,
          40.71238009523809,
          42.92796,
          null,
          40.71238009523809,
          42.92796,
          null,
          40.71238009523809,
          42.92796,
          null,
          40.71238009523809,
          42.92796,
          null,
          40.71238009523809,
          42.92796,
          null,
          40.71238009523809,
          42.92796,
          null,
          40.71238009523809,
          42.92796,
          null,
          40.71238009523809,
          42.92796,
          null,
          40.71238009523809,
          42.92796,
          null,
          40.71238009523809,
          51.501635,
          null,
          40.71238009523809,
          40.723578,
          null,
          40.71238009523809,
          40.728263,
          null,
          40.71238009523809,
          40.415146,
          null,
          40.71238009523809,
          35.759468,
          null,
          40.71238009523809,
          54.650523,
          null,
          40.71238009523809,
          43.700986,
          null,
          40.71238009523809,
          43.208282,
          null,
          40.71238009523809,
          40.694989,
          null,
          40.71238009523809,
          35.762637,
          null,
          40.71238009523809,
          -4.032533,
          null,
          40.71238009523809,
          54.643074,
          null,
          40.71238009523809,
          43.203271,
          null,
          40.71238009523809,
          43.203271,
          null,
          40.71238009523809,
          43.203271,
          null,
          40.71238009523809,
          15.592368,
          null,
          40.71238009523809,
          51.520774,
          null,
          40.71238009523809,
          40.407465,
          null,
          40.71238009523809,
          43.211967,
          null,
          40.71238009523809,
          43.211967,
          null,
          40.71238009523809,
          43.20548400000001,
          null,
          40.71238009523809,
          43.20548400000001,
          null,
          40.71238009523809,
          43.20758,
          null,
          40.71238009523809,
          40.767963,
          null,
          40.71238009523809,
          40.055088,
          null,
          40.71238009523809,
          40.415113,
          null,
          40.71238009523809,
          35.661969,
          null,
          40.71238009523809,
          -3.4246550000000004,
          null,
          40.71238009523809,
          40.422156,
          null,
          40.71238009523809,
          40.42217700000001,
          null,
          40.71238009523809,
          40.410007,
          null,
          40.71238009523809,
          54.683098,
          null,
          40.71238009523809,
          54.683098,
          null,
          40.71238009523809,
          54.683098,
          null,
          40.71238009523809,
          54.685275,
          null,
          40.71238009523809,
          54.685275,
          null,
          40.71238009523809,
          54.686888,
          null,
          40.71238009523809,
          54.68541800000001,
          null,
          40.71238009523809,
          54.687433,
          null,
          40.71238009523809,
          54.687985,
          null,
          40.71238009523809,
          54.68360500000001,
          null,
          40.71238009523809,
          40.447927,
          null,
          40.71238009523809,
          43.625769,
          null,
          40.71238009523809,
          43.625769,
          null,
          40.71238009523809,
          42.370838,
          null,
          40.71238009523809,
          42.927096,
          null,
          40.71238009523809,
          42.927096,
          null,
          40.71238009523809,
          42.927096,
          null,
          40.71238009523809,
          42.927096,
          null,
          40.71238009523809,
          40.460897,
          null,
          40.71238009523809,
          43.55502,
          null,
          40.71238009523809,
          43.55502,
          null,
          40.71238009523809,
          43.557695,
          null,
          40.71238009523809,
          43.540357,
          null,
          40.71238009523809,
          43.540357,
          null,
          40.71238009523809,
          43.636937,
          null,
          40.71238009523809,
          43.055151,
          null,
          40.71238009523809,
          40.72078,
          null,
          40.71238009523809,
          40.72078,
          null,
          40.71238009523809,
          43.259248,
          null,
          40.71238009523809,
          43.073496,
          null,
          40.71238009523809,
          -3.421935,
          null,
          40.71238009523809,
          -3.421935,
          null,
          40.71238009523809,
          -3.421935,
          null,
          40.71238009523809,
          40.373617,
          null,
          40.71238009523809,
          40.720699,
          null,
          40.71238009523809,
          40.720699,
          null,
          40.71238009523809,
          43.557155,
          null,
          40.71238009523809,
          38.883667,
          null,
          40.71238009523809,
          39.983031,
          null,
          40.71238009523809,
          39.974258,
          null,
          40.71238009523809,
          40.457537,
          null,
          40.71238009523809,
          40.43999,
          null,
          40.71238009523809,
          35.670214,
          null,
          40.71238009523809,
          35.628126,
          null,
          40.71238009523809,
          39.980935,
          null,
          40.71238009523809,
          39.980935,
          null,
          40.71238009523809,
          39.97938900000001,
          null,
          40.71238009523809,
          39.981059,
          null,
          40.71238009523809,
          39.982573,
          null,
          40.71238009523809,
          40.429947,
          null
         ],
         "line": {
          "color": "#ffa600",
          "width": 2
         },
         "locationmode": "USA-states",
         "lon": [
          -74.09914642857144,
          -3.571587,
          null,
          -74.09914642857144,
          -3.571587,
          null,
          -74.09914642857144,
          -3.571587,
          null,
          -74.09914642857144,
          -3.571587,
          null,
          -74.09914642857144,
          -77.447906,
          null,
          -74.09914642857144,
          -73.977175,
          null,
          -74.09914642857144,
          -73.977175,
          null,
          -74.09914642857144,
          -73.977175,
          null,
          -74.09914642857144,
          135.758593,
          null,
          -74.09914642857144,
          -74.179387,
          null,
          -74.09914642857144,
          -74.179387,
          null,
          -74.09914642857144,
          -74.179387,
          null,
          -74.09914642857144,
          -74.179387,
          null,
          -74.09914642857144,
          -74.179387,
          null,
          -74.09914642857144,
          -74.179387,
          null,
          -74.09914642857144,
          -74.179387,
          null,
          -74.09914642857144,
          -74.179387,
          null,
          -74.09914642857144,
          -74.179387,
          null,
          -74.09914642857144,
          -77.04294499999997,
          null,
          -74.09914642857144,
          139.75813300000002,
          null,
          -74.09914642857144,
          -71.062081,
          null,
          -74.09914642857144,
          -77.04231300000002,
          null,
          -74.09914642857144,
          140.384631,
          null,
          -74.09914642857144,
          139.74036999999998,
          null,
          -74.09914642857144,
          135.78491100000002,
          null,
          -74.09914642857144,
          -0.45104,
          null,
          -74.09914642857144,
          116.383491,
          null,
          -74.09914642857144,
          -71.021547,
          null,
          -74.09914642857144,
          -3.692243,
          null,
          -74.09914642857144,
          -71.020035,
          null,
          -74.09914642857144,
          -71.020904,
          null,
          -74.09914642857144,
          8.562497,
          null,
          -74.09914642857144,
          8.562497,
          null,
          -74.09914642857144,
          8.562497,
          null,
          -74.09914642857144,
          12.473044,
          null,
          -74.09914642857144,
          -74.177392,
          null,
          -74.09914642857144,
          135.53253700000002,
          null,
          -74.09914642857144,
          12.456464,
          null,
          -74.09914642857144,
          135.50306799999998,
          null,
          -74.09914642857144,
          12.447582,
          null,
          -74.09914642857144,
          -71.437612,
          null,
          -74.09914642857144,
          -71.437612,
          null,
          -74.09914642857144,
          -71.437612,
          null,
          -74.09914642857144,
          -71.437612,
          null,
          -74.09914642857144,
          -71.437612,
          null,
          -74.09914642857144,
          -71.437612,
          null,
          -74.09914642857144,
          -71.437612,
          null,
          -74.09914642857144,
          -71.437612,
          null,
          -74.09914642857144,
          -71.437612,
          null,
          -74.09914642857144,
          -0.160144,
          null,
          -74.09914642857144,
          -74.036677,
          null,
          -74.09914642857144,
          -74.03475999999998,
          null,
          -74.09914642857144,
          -3.695333,
          null,
          -74.09914642857144,
          140.386391,
          null,
          -74.09914642857144,
          24.933257,
          null,
          -74.09914642857144,
          -72.289659,
          null,
          -74.09914642857144,
          -71.526036,
          null,
          -74.09914642857144,
          -74.173722,
          null,
          -74.09914642857144,
          140.383644,
          null,
          -74.09914642857144,
          39.602494,
          null,
          -74.09914642857144,
          25.280786,
          null,
          -74.09914642857144,
          -71.534386,
          null,
          -74.09914642857144,
          -71.534386,
          null,
          -74.09914642857144,
          -71.534386,
          null,
          -74.09914642857144,
          32.549658,
          null,
          -74.09914642857144,
          -0.090916,
          null,
          -74.09914642857144,
          -3.69495,
          null,
          -74.09914642857144,
          -71.545952,
          null,
          -74.09914642857144,
          -71.545952,
          null,
          -74.09914642857144,
          -71.535983,
          null,
          -74.09914642857144,
          -71.535983,
          null,
          -74.09914642857144,
          -71.536596,
          null,
          -74.09914642857144,
          -73.98168000000003,
          null,
          -74.09914642857144,
          116.609055,
          null,
          -74.09914642857144,
          -3.694679,
          null,
          -74.09914642857144,
          139.75989099999998,
          null,
          -74.09914642857144,
          37.065139,
          null,
          -74.09914642857144,
          -3.691879,
          null,
          -74.09914642857144,
          -3.692003,
          null,
          -74.09914642857144,
          -3.693548,
          null,
          -74.09914642857144,
          25.281609,
          null,
          -74.09914642857144,
          25.281609,
          null,
          -74.09914642857144,
          25.281609,
          null,
          -74.09914642857144,
          25.287352,
          null,
          -74.09914642857144,
          25.287352,
          null,
          -74.09914642857144,
          25.290549,
          null,
          -74.09914642857144,
          25.28535,
          null,
          -74.09914642857144,
          25.289272,
          null,
          -74.09914642857144,
          25.270636,
          null,
          -74.09914642857144,
          25.282978,
          null,
          -74.09914642857144,
          -3.582863,
          null,
          -74.09914642857144,
          -72.51659000000002,
          null,
          -74.09914642857144,
          -72.51659000000002,
          null,
          -74.09914642857144,
          -71.019603,
          null,
          -74.09914642857144,
          -71.43922099999997,
          null,
          -74.09914642857144,
          -71.43922099999997,
          null,
          -74.09914642857144,
          -71.43922099999997,
          null,
          -74.09914642857144,
          -71.43922099999997,
          null,
          -74.09914642857144,
          50.053819,
          null,
          -74.09914642857144,
          -73.653319,
          null,
          -74.09914642857144,
          -73.653319,
          null,
          -74.09914642857144,
          -73.651324,
          null,
          -74.09914642857144,
          -73.658688,
          null,
          -74.09914642857144,
          -73.658688,
          null,
          -74.09914642857144,
          -72.405611,
          null,
          -74.09914642857144,
          -73.805656,
          null,
          -74.09914642857144,
          -74.032718,
          null,
          -74.09914642857144,
          -74.032718,
          null,
          -74.09914642857144,
          -71.579921,
          null,
          -74.09914642857144,
          -73.76961,
          null,
          -74.09914642857144,
          37.077205,
          null,
          -74.09914642857144,
          37.077205,
          null,
          -74.09914642857144,
          37.077205,
          null,
          -74.09914642857144,
          49.843297,
          null,
          -74.09914642857144,
          -74.0332,
          null,
          -74.09914642857144,
          -74.0332,
          null,
          -74.09914642857144,
          -73.65505,
          null,
          -74.09914642857144,
          121.539066,
          null,
          -74.09914642857144,
          116.307803,
          null,
          -74.09914642857144,
          116.316892,
          null,
          -74.09914642857144,
          50.056787,
          null,
          -74.09914642857144,
          50.033755,
          null,
          -74.09914642857144,
          139.761452,
          null,
          -74.09914642857144,
          139.742428,
          null,
          -74.09914642857144,
          116.305497,
          null,
          -74.09914642857144,
          116.305497,
          null,
          -74.09914642857144,
          116.307192,
          null,
          -74.09914642857144,
          116.302252,
          null,
          -74.09914642857144,
          116.304373,
          null,
          -74.09914642857144,
          -3.664934,
          null
         ],
         "mode": "lines",
         "opacity": 0.8,
         "type": "scattergeo"
        }
       ],
       "layout": {
        "geo": {
         "countrycolor": "rgb(204, 204, 204)",
         "landcolor": "rgb(243, 243, 243)",
         "projection": {
          "type": "natural earth"
         },
         "showland": true
        },
        "height": 700,
        "showlegend": false,
        "template": {
         "data": {
          "bar": [
           {
            "error_x": {
             "color": "#2a3f5f"
            },
            "error_y": {
             "color": "#2a3f5f"
            },
            "marker": {
             "line": {
              "color": "#E5ECF6",
              "width": 0.5
             }
            },
            "type": "bar"
           }
          ],
          "barpolar": [
           {
            "marker": {
             "line": {
              "color": "#E5ECF6",
              "width": 0.5
             }
            },
            "type": "barpolar"
           }
          ],
          "carpet": [
           {
            "aaxis": {
             "endlinecolor": "#2a3f5f",
             "gridcolor": "white",
             "linecolor": "white",
             "minorgridcolor": "white",
             "startlinecolor": "#2a3f5f"
            },
            "baxis": {
             "endlinecolor": "#2a3f5f",
             "gridcolor": "white",
             "linecolor": "white",
             "minorgridcolor": "white",
             "startlinecolor": "#2a3f5f"
            },
            "type": "carpet"
           }
          ],
          "choropleth": [
           {
            "colorbar": {
             "outlinewidth": 0,
             "ticks": ""
            },
            "type": "choropleth"
           }
          ],
          "contour": [
           {
            "colorbar": {
             "outlinewidth": 0,
             "ticks": ""
            },
            "colorscale": [
             [
              0,
              "#0d0887"
             ],
             [
              0.1111111111111111,
              "#46039f"
             ],
             [
              0.2222222222222222,
              "#7201a8"
             ],
             [
              0.3333333333333333,
              "#9c179e"
             ],
             [
              0.4444444444444444,
              "#bd3786"
             ],
             [
              0.5555555555555556,
              "#d8576b"
             ],
             [
              0.6666666666666666,
              "#ed7953"
             ],
             [
              0.7777777777777778,
              "#fb9f3a"
             ],
             [
              0.8888888888888888,
              "#fdca26"
             ],
             [
              1,
              "#f0f921"
             ]
            ],
            "type": "contour"
           }
          ],
          "contourcarpet": [
           {
            "colorbar": {
             "outlinewidth": 0,
             "ticks": ""
            },
            "type": "contourcarpet"
           }
          ],
          "heatmap": [
           {
            "colorbar": {
             "outlinewidth": 0,
             "ticks": ""
            },
            "colorscale": [
             [
              0,
              "#0d0887"
             ],
             [
              0.1111111111111111,
              "#46039f"
             ],
             [
              0.2222222222222222,
              "#7201a8"
             ],
             [
              0.3333333333333333,
              "#9c179e"
             ],
             [
              0.4444444444444444,
              "#bd3786"
             ],
             [
              0.5555555555555556,
              "#d8576b"
             ],
             [
              0.6666666666666666,
              "#ed7953"
             ],
             [
              0.7777777777777778,
              "#fb9f3a"
             ],
             [
              0.8888888888888888,
              "#fdca26"
             ],
             [
              1,
              "#f0f921"
             ]
            ],
            "type": "heatmap"
           }
          ],
          "heatmapgl": [
           {
            "colorbar": {
             "outlinewidth": 0,
             "ticks": ""
            },
            "colorscale": [
             [
              0,
              "#0d0887"
             ],
             [
              0.1111111111111111,
              "#46039f"
             ],
             [
              0.2222222222222222,
              "#7201a8"
             ],
             [
              0.3333333333333333,
              "#9c179e"
             ],
             [
              0.4444444444444444,
              "#bd3786"
             ],
             [
              0.5555555555555556,
              "#d8576b"
             ],
             [
              0.6666666666666666,
              "#ed7953"
             ],
             [
              0.7777777777777778,
              "#fb9f3a"
             ],
             [
              0.8888888888888888,
              "#fdca26"
             ],
             [
              1,
              "#f0f921"
             ]
            ],
            "type": "heatmapgl"
           }
          ],
          "histogram": [
           {
            "marker": {
             "colorbar": {
              "outlinewidth": 0,
              "ticks": ""
             }
            },
            "type": "histogram"
           }
          ],
          "histogram2d": [
           {
            "colorbar": {
             "outlinewidth": 0,
             "ticks": ""
            },
            "colorscale": [
             [
              0,
              "#0d0887"
             ],
             [
              0.1111111111111111,
              "#46039f"
             ],
             [
              0.2222222222222222,
              "#7201a8"
             ],
             [
              0.3333333333333333,
              "#9c179e"
             ],
             [
              0.4444444444444444,
              "#bd3786"
             ],
             [
              0.5555555555555556,
              "#d8576b"
             ],
             [
              0.6666666666666666,
              "#ed7953"
             ],
             [
              0.7777777777777778,
              "#fb9f3a"
             ],
             [
              0.8888888888888888,
              "#fdca26"
             ],
             [
              1,
              "#f0f921"
             ]
            ],
            "type": "histogram2d"
           }
          ],
          "histogram2dcontour": [
           {
            "colorbar": {
             "outlinewidth": 0,
             "ticks": ""
            },
            "colorscale": [
             [
              0,
              "#0d0887"
             ],
             [
              0.1111111111111111,
              "#46039f"
             ],
             [
              0.2222222222222222,
              "#7201a8"
             ],
             [
              0.3333333333333333,
              "#9c179e"
             ],
             [
              0.4444444444444444,
              "#bd3786"
             ],
             [
              0.5555555555555556,
              "#d8576b"
             ],
             [
              0.6666666666666666,
              "#ed7953"
             ],
             [
              0.7777777777777778,
              "#fb9f3a"
             ],
             [
              0.8888888888888888,
              "#fdca26"
             ],
             [
              1,
              "#f0f921"
             ]
            ],
            "type": "histogram2dcontour"
           }
          ],
          "mesh3d": [
           {
            "colorbar": {
             "outlinewidth": 0,
             "ticks": ""
            },
            "type": "mesh3d"
           }
          ],
          "parcoords": [
           {
            "line": {
             "colorbar": {
              "outlinewidth": 0,
              "ticks": ""
             }
            },
            "type": "parcoords"
           }
          ],
          "pie": [
           {
            "automargin": true,
            "type": "pie"
           }
          ],
          "scatter": [
           {
            "marker": {
             "colorbar": {
              "outlinewidth": 0,
              "ticks": ""
             }
            },
            "type": "scatter"
           }
          ],
          "scatter3d": [
           {
            "line": {
             "colorbar": {
              "outlinewidth": 0,
              "ticks": ""
             }
            },
            "marker": {
             "colorbar": {
              "outlinewidth": 0,
              "ticks": ""
             }
            },
            "type": "scatter3d"
           }
          ],
          "scattercarpet": [
           {
            "marker": {
             "colorbar": {
              "outlinewidth": 0,
              "ticks": ""
             }
            },
            "type": "scattercarpet"
           }
          ],
          "scattergeo": [
           {
            "marker": {
             "colorbar": {
              "outlinewidth": 0,
              "ticks": ""
             }
            },
            "type": "scattergeo"
           }
          ],
          "scattergl": [
           {
            "marker": {
             "colorbar": {
              "outlinewidth": 0,
              "ticks": ""
             }
            },
            "type": "scattergl"
           }
          ],
          "scattermapbox": [
           {
            "marker": {
             "colorbar": {
              "outlinewidth": 0,
              "ticks": ""
             }
            },
            "type": "scattermapbox"
           }
          ],
          "scatterpolar": [
           {
            "marker": {
             "colorbar": {
              "outlinewidth": 0,
              "ticks": ""
             }
            },
            "type": "scatterpolar"
           }
          ],
          "scatterpolargl": [
           {
            "marker": {
             "colorbar": {
              "outlinewidth": 0,
              "ticks": ""
             }
            },
            "type": "scatterpolargl"
           }
          ],
          "scatterternary": [
           {
            "marker": {
             "colorbar": {
              "outlinewidth": 0,
              "ticks": ""
             }
            },
            "type": "scatterternary"
           }
          ],
          "surface": [
           {
            "colorbar": {
             "outlinewidth": 0,
             "ticks": ""
            },
            "colorscale": [
             [
              0,
              "#0d0887"
             ],
             [
              0.1111111111111111,
              "#46039f"
             ],
             [
              0.2222222222222222,
              "#7201a8"
             ],
             [
              0.3333333333333333,
              "#9c179e"
             ],
             [
              0.4444444444444444,
              "#bd3786"
             ],
             [
              0.5555555555555556,
              "#d8576b"
             ],
             [
              0.6666666666666666,
              "#ed7953"
             ],
             [
              0.7777777777777778,
              "#fb9f3a"
             ],
             [
              0.8888888888888888,
              "#fdca26"
             ],
             [
              1,
              "#f0f921"
             ]
            ],
            "type": "surface"
           }
          ],
          "table": [
           {
            "cells": {
             "fill": {
              "color": "#EBF0F8"
             },
             "line": {
              "color": "white"
             }
            },
            "header": {
             "fill": {
              "color": "#C8D4E3"
             },
             "line": {
              "color": "white"
             }
            },
            "type": "table"
           }
          ]
         },
         "layout": {
          "annotationdefaults": {
           "arrowcolor": "#2a3f5f",
           "arrowhead": 0,
           "arrowwidth": 1
          },
          "coloraxis": {
           "colorbar": {
            "outlinewidth": 0,
            "ticks": ""
           }
          },
          "colorscale": {
           "diverging": [
            [
             0,
             "#8e0152"
            ],
            [
             0.1,
             "#c51b7d"
            ],
            [
             0.2,
             "#de77ae"
            ],
            [
             0.3,
             "#f1b6da"
            ],
            [
             0.4,
             "#fde0ef"
            ],
            [
             0.5,
             "#f7f7f7"
            ],
            [
             0.6,
             "#e6f5d0"
            ],
            [
             0.7,
             "#b8e186"
            ],
            [
             0.8,
             "#7fbc41"
            ],
            [
             0.9,
             "#4d9221"
            ],
            [
             1,
             "#276419"
            ]
           ],
           "sequential": [
            [
             0,
             "#0d0887"
            ],
            [
             0.1111111111111111,
             "#46039f"
            ],
            [
             0.2222222222222222,
             "#7201a8"
            ],
            [
             0.3333333333333333,
             "#9c179e"
            ],
            [
             0.4444444444444444,
             "#bd3786"
            ],
            [
             0.5555555555555556,
             "#d8576b"
            ],
            [
             0.6666666666666666,
             "#ed7953"
            ],
            [
             0.7777777777777778,
             "#fb9f3a"
            ],
            [
             0.8888888888888888,
             "#fdca26"
            ],
            [
             1,
             "#f0f921"
            ]
           ],
           "sequentialminus": [
            [
             0,
             "#0d0887"
            ],
            [
             0.1111111111111111,
             "#46039f"
            ],
            [
             0.2222222222222222,
             "#7201a8"
            ],
            [
             0.3333333333333333,
             "#9c179e"
            ],
            [
             0.4444444444444444,
             "#bd3786"
            ],
            [
             0.5555555555555556,
             "#d8576b"
            ],
            [
             0.6666666666666666,
             "#ed7953"
            ],
            [
             0.7777777777777778,
             "#fb9f3a"
            ],
            [
             0.8888888888888888,
             "#fdca26"
            ],
            [
             1,
             "#f0f921"
            ]
           ]
          },
          "colorway": [
           "#636efa",
           "#EF553B",
           "#00cc96",
           "#ab63fa",
           "#FFA15A",
           "#19d3f3",
           "#FF6692",
           "#B6E880",
           "#FF97FF",
           "#FECB52"
          ],
          "font": {
           "color": "#2a3f5f"
          },
          "geo": {
           "bgcolor": "white",
           "lakecolor": "white",
           "landcolor": "#E5ECF6",
           "showlakes": true,
           "showland": true,
           "subunitcolor": "white"
          },
          "hoverlabel": {
           "align": "left"
          },
          "hovermode": "closest",
          "mapbox": {
           "style": "light"
          },
          "paper_bgcolor": "white",
          "plot_bgcolor": "#E5ECF6",
          "polar": {
           "angularaxis": {
            "gridcolor": "white",
            "linecolor": "white",
            "ticks": ""
           },
           "bgcolor": "#E5ECF6",
           "radialaxis": {
            "gridcolor": "white",
            "linecolor": "white",
            "ticks": ""
           }
          },
          "scene": {
           "xaxis": {
            "backgroundcolor": "#E5ECF6",
            "gridcolor": "white",
            "gridwidth": 2,
            "linecolor": "white",
            "showbackground": true,
            "ticks": "",
            "zerolinecolor": "white"
           },
           "yaxis": {
            "backgroundcolor": "#E5ECF6",
            "gridcolor": "white",
            "gridwidth": 2,
            "linecolor": "white",
            "showbackground": true,
            "ticks": "",
            "zerolinecolor": "white"
           },
           "zaxis": {
            "backgroundcolor": "#E5ECF6",
            "gridcolor": "white",
            "gridwidth": 2,
            "linecolor": "white",
            "showbackground": true,
            "ticks": "",
            "zerolinecolor": "white"
           }
          },
          "shapedefaults": {
           "line": {
            "color": "#2a3f5f"
           }
          },
          "ternary": {
           "aaxis": {
            "gridcolor": "white",
            "linecolor": "white",
            "ticks": ""
           },
           "baxis": {
            "gridcolor": "white",
            "linecolor": "white",
            "ticks": ""
           },
           "bgcolor": "#E5ECF6",
           "caxis": {
            "gridcolor": "white",
            "linecolor": "white",
            "ticks": ""
           }
          },
          "title": {
           "x": 0.05
          },
          "xaxis": {
           "automargin": true,
           "gridcolor": "white",
           "linecolor": "white",
           "ticks": "",
           "title": {
            "standoff": 15
           },
           "zerolinecolor": "white",
           "zerolinewidth": 2
          },
          "yaxis": {
           "automargin": true,
           "gridcolor": "white",
           "linecolor": "white",
           "ticks": "",
           "title": {
            "standoff": 15
           },
           "zerolinecolor": "white",
           "zerolinewidth": 2
          }
         }
        },
        "title": {
         "text": "User mobility for high (orange) and low (purple) travel scores",
         "x": 0.5,
         "xanchor": "center",
         "y": 0.85,
         "yanchor": "top"
        }
       }
      },
      "text/html": [
       "<div>                            <div id=\"c7c3fd8f-280b-405f-bb0f-b4695087995b\" class=\"plotly-graph-div\" style=\"height:700px; width:100%;\"></div>            <script type=\"text/javascript\">                require([\"plotly\"], function(Plotly) {                    window.PLOTLYENV=window.PLOTLYENV || {};                                    if (document.getElementById(\"c7c3fd8f-280b-405f-bb0f-b4695087995b\")) {                    Plotly.newPlot(                        \"c7c3fd8f-280b-405f-bb0f-b4695087995b\",                        [{\"lat\": [35.72986500000001, 35.231461, 35.231461, 35.466193, 35.72777100000001, 35.637425, 35.888268, 35.888268, 35.888268, 35.530986, 35.778062, 35.671976, 35.671976, 35.671976, 35.749333, 35.674963, 35.678668, 35.628227, 35.73211699999999, 35.73211699999999, 35.709845, 35.684019, 35.685697, 34.733792, 35.703184, 35.748707, 35.53072, 35.666615, 35.666615, 35.699882, 35.72359, 35.670206, 35.663006, 35.663006, 35.663006, 36.796553, 36.254325, 35.680577, 36.37233, 35.69309099999999, 35.730217, 35.730217, 35.730217, 35.895047, 35.897018, 36.256014, 35.672698, 35.530271, 35.749438, 35.68309, 35.712942, 35.779983, 36.627673, 35.52927899999999, 35.52927000000001, 35.665802, 35.53143, 35.530947, 35.681296, 35.666867, 35.698048, 35.38658, 35.14035, 37.159496, 35.667408, 35.71402600000001, 36.596726, 36.585412, 35.224916, 35.230231, 35.70882800000001, 35.684319, 35.524263, 35.62460499999999, 35.668323, 35.710381, 37.163409, 35.670629, 35.228604, 35.68815900000001, 35.68815900000001, 35.668279, 35.532123, 35.769602, 35.768459, 35.529685], \"lon\": [139.710956, 139.70219699999998, 139.70219699999998, 139.622691, 139.770963, 140.09240400000002, 139.786048, 139.786048, 139.786048, 139.696626, 139.720838, 139.741176, 139.741176, 139.741176, 139.805102, 139.763473, 139.740171, 139.73871200000002, 139.766704, 139.766704, 139.790801, 139.737682, 139.741644, 135.500157, 139.579904, 139.804802, 139.696258, 139.758174, 139.758174, 139.772414, 139.683266, 139.74981699999998, 139.74504199999998, 139.74504199999998, 139.74504199999998, 137.41902, 139.119235, 139.76449399999998, 138.348121, 139.699503, 139.762009, 139.762009, 139.762009, 139.798007, 139.799034, 139.12029099999998, 139.724067, 139.696624, 139.804866, 139.738339, 139.759647, 139.720473, 136.873389, 139.70006999999998, 139.70013400000002, 139.756526, 139.693164, 139.695169, 139.768136, 139.743948, 139.782528, 139.61912900000002, 138.651589, 138.22644, 139.740171, 139.761944, 138.141704, 138.174722, 139.702181, 139.702328, 139.575248, 139.68385, 139.70873600000002, 140.106167, 139.750227, 139.788391, 138.229704, 139.751739, 139.718766, 139.719341, 139.719341, 139.757257, 139.691848, 139.870677, 139.867859, 139.699797], \"marker\": {\"color\": \"#c3528c\", \"line\": {\"color\": \"rgba(68, 68, 68, 0)\", \"width\": 3}, \"size\": 3}, \"mode\": \"markers\", \"type\": \"scattergeo\"}, {\"lat\": [35.74673290909091], \"lon\": [139.76955639393938], \"marker\": {\"color\": \"#c3528c\", \"line\": {\"color\": \"rgba(68, 68, 68, 0)\", \"width\": 3}, \"size\": 13}, \"mode\": \"markers\", \"type\": \"scattergeo\"}, {\"lat\": [35.74673290909091, 35.72986500000001, null, 35.74673290909091, 35.231461, null, 35.74673290909091, 35.231461, null, 35.74673290909091, 35.466193, null, 35.74673290909091, 35.72777100000001, null, 35.74673290909091, 35.637425, null, 35.74673290909091, 35.888268, null, 35.74673290909091, 35.888268, null, 35.74673290909091, 35.888268, null, 35.74673290909091, 35.530986, null, 35.74673290909091, 35.778062, null, 35.74673290909091, 35.671976, null, 35.74673290909091, 35.671976, null, 35.74673290909091, 35.671976, null, 35.74673290909091, 35.749333, null, 35.74673290909091, 35.674963, null, 35.74673290909091, 35.678668, null, 35.74673290909091, 35.628227, null, 35.74673290909091, 35.73211699999999, null, 35.74673290909091, 35.73211699999999, null, 35.74673290909091, 35.709845, null, 35.74673290909091, 35.684019, null, 35.74673290909091, 35.685697, null, 35.74673290909091, 34.733792, null, 35.74673290909091, 35.703184, null, 35.74673290909091, 35.748707, null, 35.74673290909091, 35.53072, null, 35.74673290909091, 35.666615, null, 35.74673290909091, 35.666615, null, 35.74673290909091, 35.699882, null, 35.74673290909091, 35.72359, null, 35.74673290909091, 35.670206, null, 35.74673290909091, 35.663006, null, 35.74673290909091, 35.663006, null, 35.74673290909091, 35.663006, null, 35.74673290909091, 36.796553, null, 35.74673290909091, 36.254325, null, 35.74673290909091, 35.680577, null, 35.74673290909091, 36.37233, null, 35.74673290909091, 35.69309099999999, null, 35.74673290909091, 35.730217, null, 35.74673290909091, 35.730217, null, 35.74673290909091, 35.730217, null, 35.74673290909091, 35.895047, null, 35.74673290909091, 35.897018, null, 35.74673290909091, 36.256014, null, 35.74673290909091, 35.672698, null, 35.74673290909091, 35.530271, null, 35.74673290909091, 35.749438, null, 35.74673290909091, 35.68309, null, 35.74673290909091, 35.712942, null, 35.74673290909091, 35.779983, null, 35.74673290909091, 36.627673, null, 35.74673290909091, 35.52927899999999, null, 35.74673290909091, 35.52927000000001, null, 35.74673290909091, 35.665802, null, 35.74673290909091, 35.53143, null, 35.74673290909091, 35.530947, null, 35.74673290909091, 35.681296, null, 35.74673290909091, 35.666867, null, 35.74673290909091, 35.698048, null, 35.74673290909091, 35.38658, null, 35.74673290909091, 35.14035, null, 35.74673290909091, 37.159496, null, 35.74673290909091, 35.667408, null, 35.74673290909091, 35.71402600000001, null, 35.74673290909091, 36.596726, null, 35.74673290909091, 36.585412, null, 35.74673290909091, 35.224916, null, 35.74673290909091, 35.230231, null, 35.74673290909091, 35.70882800000001, null, 35.74673290909091, 35.684319, null, 35.74673290909091, 35.524263, null, 35.74673290909091, 35.62460499999999, null, 35.74673290909091, 35.668323, null, 35.74673290909091, 35.710381, null, 35.74673290909091, 37.163409, null, 35.74673290909091, 35.670629, null, 35.74673290909091, 35.228604, null, 35.74673290909091, 35.68815900000001, null, 35.74673290909091, 35.68815900000001, null, 35.74673290909091, 35.668279, null, 35.74673290909091, 35.532123, null, 35.74673290909091, 35.769602, null, 35.74673290909091, 35.768459, null, 35.74673290909091, 35.529685, null], \"line\": {\"color\": \"#c3528c\", \"width\": 2}, \"locationmode\": \"USA-states\", \"lon\": [139.76955639393938, 139.710956, null, 139.76955639393938, 139.70219699999998, null, 139.76955639393938, 139.70219699999998, null, 139.76955639393938, 139.622691, null, 139.76955639393938, 139.770963, null, 139.76955639393938, 140.09240400000002, null, 139.76955639393938, 139.786048, null, 139.76955639393938, 139.786048, null, 139.76955639393938, 139.786048, null, 139.76955639393938, 139.696626, null, 139.76955639393938, 139.720838, null, 139.76955639393938, 139.741176, null, 139.76955639393938, 139.741176, null, 139.76955639393938, 139.741176, null, 139.76955639393938, 139.805102, null, 139.76955639393938, 139.763473, null, 139.76955639393938, 139.740171, null, 139.76955639393938, 139.73871200000002, null, 139.76955639393938, 139.766704, null, 139.76955639393938, 139.766704, null, 139.76955639393938, 139.790801, null, 139.76955639393938, 139.737682, null, 139.76955639393938, 139.741644, null, 139.76955639393938, 135.500157, null, 139.76955639393938, 139.579904, null, 139.76955639393938, 139.804802, null, 139.76955639393938, 139.696258, null, 139.76955639393938, 139.758174, null, 139.76955639393938, 139.758174, null, 139.76955639393938, 139.772414, null, 139.76955639393938, 139.683266, null, 139.76955639393938, 139.74981699999998, null, 139.76955639393938, 139.74504199999998, null, 139.76955639393938, 139.74504199999998, null, 139.76955639393938, 139.74504199999998, null, 139.76955639393938, 137.41902, null, 139.76955639393938, 139.119235, null, 139.76955639393938, 139.76449399999998, null, 139.76955639393938, 138.348121, null, 139.76955639393938, 139.699503, null, 139.76955639393938, 139.762009, null, 139.76955639393938, 139.762009, null, 139.76955639393938, 139.762009, null, 139.76955639393938, 139.798007, null, 139.76955639393938, 139.799034, null, 139.76955639393938, 139.12029099999998, null, 139.76955639393938, 139.724067, null, 139.76955639393938, 139.696624, null, 139.76955639393938, 139.804866, null, 139.76955639393938, 139.738339, null, 139.76955639393938, 139.759647, null, 139.76955639393938, 139.720473, null, 139.76955639393938, 136.873389, null, 139.76955639393938, 139.70006999999998, null, 139.76955639393938, 139.70013400000002, null, 139.76955639393938, 139.756526, null, 139.76955639393938, 139.693164, null, 139.76955639393938, 139.695169, null, 139.76955639393938, 139.768136, null, 139.76955639393938, 139.743948, null, 139.76955639393938, 139.782528, null, 139.76955639393938, 139.61912900000002, null, 139.76955639393938, 138.651589, null, 139.76955639393938, 138.22644, null, 139.76955639393938, 139.740171, null, 139.76955639393938, 139.761944, null, 139.76955639393938, 138.141704, null, 139.76955639393938, 138.174722, null, 139.76955639393938, 139.702181, null, 139.76955639393938, 139.702328, null, 139.76955639393938, 139.575248, null, 139.76955639393938, 139.68385, null, 139.76955639393938, 139.70873600000002, null, 139.76955639393938, 140.106167, null, 139.76955639393938, 139.750227, null, 139.76955639393938, 139.788391, null, 139.76955639393938, 138.229704, null, 139.76955639393938, 139.751739, null, 139.76955639393938, 139.718766, null, 139.76955639393938, 139.719341, null, 139.76955639393938, 139.719341, null, 139.76955639393938, 139.757257, null, 139.76955639393938, 139.691848, null, 139.76955639393938, 139.870677, null, 139.76955639393938, 139.867859, null, 139.76955639393938, 139.699797, null], \"mode\": \"lines\", \"opacity\": 0.8, \"type\": \"scattergeo\"}, {\"lat\": [13.692607999999998, 13.692607999999998, 13.692607999999998, 13.692607999999998, 13.692607999999998, 13.692607999999998, 13.692607999999998, 13.692607999999998, 13.790155, 13.790155, 13.790155, 13.790155, 13.790155, 13.790155, 13.790155, 13.790155, 13.790155, 13.790155, 13.790155, 13.8027, 13.8027, 13.8027, 13.8027, 13.8027, 13.8027, 13.8027, 13.8027, 13.847632999999998, 13.847632999999998, 13.736967000000002, 13.736967000000002, 13.736967000000002, 22.315302, 13.732820000000002, 13.756664, 13.756664, 13.756664, 13.750098, 13.757716, 13.757716, 13.757716, 13.757716, 13.848685, 13.848685, 13.848685, 13.848685, 13.750125, 13.750125, 13.724251999999998, 13.847075, 13.847075, 13.847075, 13.847075, 13.847075, 13.847075, 13.847075, 13.847075, 13.81628, 13.81628, 13.81628, 13.81628, 13.81628, 13.81628, 13.81628, 13.81628, 13.81628, 13.81628, 13.81628, 13.81628, 13.81628, 13.81628, 13.746023999999998, 13.746023999999998, 13.746023999999998, 13.746023999999998, 13.849211, 13.849211, 13.849211, 13.849211, 13.849211, 13.849211, 13.849211, 13.849211, 13.816994, 13.737279999999998, 13.746576, 13.746258, 13.746258, 13.746258, 13.746258, 13.746258, 13.762946, 13.762946, 13.845705, 13.845705, 13.845705, 13.845705, 13.845705, 13.845705, 13.737685999999998, 13.988938, 13.745109, 13.756203, 13.7376, 13.856421, 13.850143, 13.813153, 13.813153, 13.813153, 13.813153, 13.813153, 13.813153, 13.813153, 13.813153, 13.813153, 13.816275, 13.918572, 13.758456, 13.758456, 13.842435, 13.842435, 13.842435, 13.842435, 13.842435, 13.842435, 13.842435, 13.842435, 13.842435, 13.842435, 13.842435, 13.842435, 13.842435, 13.842435, 13.842435, 13.842435, 13.842435, 13.815952, 13.815952, 13.815952, 13.766212, 13.769259, 13.748509, 13.717081, 13.744268, 13.780519, 13.780519, 13.780519, 13.780519, 13.67057, 13.813223, 13.813223, 13.813223, 13.813223, 22.289791, 13.777234, 13.777234, 13.857385, 13.816215, 13.816215, 13.816215, 13.816215, 13.918062, 13.798021, 13.81601, 13.728848, 13.815994, 13.839689000000002, 13.839689000000002, 13.845028, 13.845028, 13.845028, 13.845028, 13.845028, 13.845028, 13.845028, 13.845028, 13.845028, 13.743501, 13.733528, 22.299064, 13.749498999999998, 22.317972, 12.205706, 13.763948, 13.758394, 13.816659, 13.816659, 13.816659, 13.816659, 13.842518, 13.842518, 13.842518, 13.842518, 13.852372, 13.826996, 13.826996, 13.826996, 13.826996, 13.826996, 13.848820000000002, 13.803648999999998, 13.745764, 13.745764, 22.313695000000006, 13.833931, 13.833931, 13.833931, 13.833931, 13.833931, 13.833931, 13.833931, 13.833931, 13.833931, 13.833931, 13.833931, 13.833931, 13.833931, 13.833931, 13.833931, 13.833931, 13.833931, 13.833931, 13.833931, 13.833931, 13.849135, 13.850372, 13.850372, 13.850372, 13.850372, 13.850372, 13.850372, 13.839934, 37.525646, 13.845818, 13.845818, 13.845818, 13.845818, 13.845818, 13.845818, 13.845818, 13.845818, 13.845818, 13.845818, 13.844789000000002, 13.844789000000002, 13.844789000000002, 13.844789000000002, 13.844789000000002, 13.844789000000002, 13.844789000000002, 13.844789000000002, 13.844789000000002, 13.844789000000002, 13.844789000000002, 22.370967, 13.829712, 13.829712, 13.829712, 12.247896, 12.135317, 10.66181, 13.844955, 13.844955, 13.844955, 13.844955, 13.844955, 13.844955, 13.815623, 13.724044, 13.726731, 13.856251, 13.856251, 13.802832999999998, 13.841196, 13.988703, 13.841304, 13.841304, 13.844464000000002, 13.844464000000002, 13.844464000000002, 13.844419, 13.844419, 13.789405, 13.768481, 13.788756, 13.746453, 13.717305, 13.845674], \"lon\": [100.751722, 100.751722, 100.751722, 100.751722, 100.751722, 100.751722, 100.751722, 100.751722, 100.574234, 100.574234, 100.574234, 100.574234, 100.574234, 100.574234, 100.574234, 100.574234, 100.574234, 100.574234, 100.574234, 100.553763, 100.553763, 100.553763, 100.553763, 100.553763, 100.553763, 100.553763, 100.553763, 100.571938, 100.571938, 100.560409, 100.560409, 100.560409, 113.934832, 100.530164, 100.534987, 100.534987, 100.534987, 100.53988, 100.565801, 100.565801, 100.565801, 100.565801, 100.567201, 100.567201, 100.567201, 100.567201, 100.539488, 100.539488, 100.578579, 100.570916, 100.570916, 100.570916, 100.570916, 100.570916, 100.570916, 100.570916, 100.570916, 100.56097, 100.56097, 100.56097, 100.56097, 100.56097, 100.56097, 100.56097, 100.56097, 100.56097, 100.56097, 100.56097, 100.56097, 100.56097, 100.56097, 100.53459, 100.53459, 100.53459, 100.53459, 100.569376, 100.569376, 100.569376, 100.569376, 100.569376, 100.569376, 100.569376, 100.569376, 100.561209, 100.560501, 100.539021, 100.532777, 100.532777, 100.532777, 100.532777, 100.532777, 100.537107, 100.537107, 100.570693, 100.570693, 100.570693, 100.570693, 100.570693, 100.570693, 100.516824, 100.617814, 100.5333, 100.618842, 100.561364, 100.541925, 100.569381, 100.561551, 100.561551, 100.561551, 100.561551, 100.561551, 100.561551, 100.561551, 100.561551, 100.561551, 100.560715, 100.602064, 100.566165, 100.566165, 100.570657, 100.570657, 100.570657, 100.570657, 100.570657, 100.570657, 100.570657, 100.570657, 100.570657, 100.570657, 100.570657, 100.570657, 100.570657, 100.570657, 100.570657, 100.570657, 100.570657, 100.560865, 100.560865, 100.560865, 100.569729, 100.512033, 100.535508, 100.572367, 100.531511, 100.42347, 100.42347, 100.42347, 100.42347, 100.610347, 100.560951, 100.560951, 100.560951, 100.560951, 113.938866, 100.598792, 100.598792, 100.535261, 100.561431, 100.561431, 100.561431, 100.561431, 100.547347, 100.548871, 100.5613, 100.536908, 100.560501, 100.575575, 100.575575, 100.572184, 100.572184, 100.572184, 100.572184, 100.572184, 100.572184, 100.572184, 100.572184, 100.572184, 100.53152, 100.532938, 114.166111, 100.563546, 114.170828, 100.009538, 100.619427, 100.565886, 100.561678, 100.561678, 100.561678, 100.561678, 100.57698, 100.57698, 100.57698, 100.57698, 100.564556, 100.568032, 100.568032, 100.568032, 100.568032, 100.568032, 100.571498, 100.536767, 100.530515, 100.530515, 114.171608, 100.572189, 100.572189, 100.572189, 100.572189, 100.572189, 100.572189, 100.572189, 100.572189, 100.572189, 100.572189, 100.572189, 100.572189, 100.572189, 100.572189, 100.572189, 100.572189, 100.572189, 100.572189, 100.572189, 100.572189, 100.569327, 100.565372, 100.565372, 100.565372, 100.565372, 100.565372, 100.565372, 100.57469, 126.883526, 100.570717, 100.570717, 100.570717, 100.570717, 100.570717, 100.570717, 100.570717, 100.570717, 100.570717, 100.570717, 100.571294, 100.571294, 100.571294, 100.571294, 100.571294, 100.571294, 100.571294, 100.571294, 100.571294, 100.571294, 100.571294, 114.119287, 100.569756, 100.569756, 100.569756, 99.873206, 99.961028, 99.195321, 100.57138, 100.57138, 100.57138, 100.57138, 100.57138, 100.57138, 100.560084, 100.558848, 100.495019, 100.542107, 100.542107, 100.554216, 100.573137, 100.616595, 100.571943, 100.571943, 100.571205, 100.571205, 100.571205, 100.571419, 100.571419, 100.572152, 100.512285, 100.575122, 100.53927, 100.535237, 100.571106], \"marker\": {\"color\": \"#c3528c\", \"line\": {\"color\": \"rgba(68, 68, 68, 0)\", \"width\": 3}, \"size\": 3}, \"mode\": \"markers\", \"type\": \"scattergeo\"}, {\"lat\": [13.813330294339632], \"lon\": [100.5614495132076], \"marker\": {\"color\": \"#c3528c\", \"line\": {\"color\": \"rgba(68, 68, 68, 0)\", \"width\": 3}, \"size\": 13}, \"mode\": \"markers\", \"type\": \"scattergeo\"}, {\"lat\": [13.813330294339632, 13.692607999999998, null, 13.813330294339632, 13.692607999999998, null, 13.813330294339632, 13.692607999999998, null, 13.813330294339632, 13.692607999999998, null, 13.813330294339632, 13.692607999999998, null, 13.813330294339632, 13.692607999999998, null, 13.813330294339632, 13.692607999999998, null, 13.813330294339632, 13.692607999999998, null, 13.813330294339632, 13.790155, null, 13.813330294339632, 13.790155, null, 13.813330294339632, 13.790155, null, 13.813330294339632, 13.790155, null, 13.813330294339632, 13.790155, null, 13.813330294339632, 13.790155, null, 13.813330294339632, 13.790155, null, 13.813330294339632, 13.790155, null, 13.813330294339632, 13.790155, null, 13.813330294339632, 13.790155, null, 13.813330294339632, 13.790155, null, 13.813330294339632, 13.8027, null, 13.813330294339632, 13.8027, null, 13.813330294339632, 13.8027, null, 13.813330294339632, 13.8027, null, 13.813330294339632, 13.8027, null, 13.813330294339632, 13.8027, null, 13.813330294339632, 13.8027, null, 13.813330294339632, 13.8027, null, 13.813330294339632, 13.847632999999998, null, 13.813330294339632, 13.847632999999998, null, 13.813330294339632, 13.736967000000002, null, 13.813330294339632, 13.736967000000002, null, 13.813330294339632, 13.736967000000002, null, 13.813330294339632, 22.315302, null, 13.813330294339632, 13.732820000000002, null, 13.813330294339632, 13.756664, null, 13.813330294339632, 13.756664, null, 13.813330294339632, 13.756664, null, 13.813330294339632, 13.750098, null, 13.813330294339632, 13.757716, null, 13.813330294339632, 13.757716, null, 13.813330294339632, 13.757716, null, 13.813330294339632, 13.757716, null, 13.813330294339632, 13.848685, null, 13.813330294339632, 13.848685, null, 13.813330294339632, 13.848685, null, 13.813330294339632, 13.848685, null, 13.813330294339632, 13.750125, null, 13.813330294339632, 13.750125, null, 13.813330294339632, 13.724251999999998, null, 13.813330294339632, 13.847075, null, 13.813330294339632, 13.847075, null, 13.813330294339632, 13.847075, null, 13.813330294339632, 13.847075, null, 13.813330294339632, 13.847075, null, 13.813330294339632, 13.847075, null, 13.813330294339632, 13.847075, null, 13.813330294339632, 13.847075, null, 13.813330294339632, 13.81628, null, 13.813330294339632, 13.81628, null, 13.813330294339632, 13.81628, null, 13.813330294339632, 13.81628, null, 13.813330294339632, 13.81628, null, 13.813330294339632, 13.81628, null, 13.813330294339632, 13.81628, null, 13.813330294339632, 13.81628, null, 13.813330294339632, 13.81628, null, 13.813330294339632, 13.81628, null, 13.813330294339632, 13.81628, null, 13.813330294339632, 13.81628, null, 13.813330294339632, 13.81628, null, 13.813330294339632, 13.81628, null, 13.813330294339632, 13.746023999999998, null, 13.813330294339632, 13.746023999999998, null, 13.813330294339632, 13.746023999999998, null, 13.813330294339632, 13.746023999999998, null, 13.813330294339632, 13.849211, null, 13.813330294339632, 13.849211, null, 13.813330294339632, 13.849211, null, 13.813330294339632, 13.849211, null, 13.813330294339632, 13.849211, null, 13.813330294339632, 13.849211, null, 13.813330294339632, 13.849211, null, 13.813330294339632, 13.849211, null, 13.813330294339632, 13.816994, null, 13.813330294339632, 13.737279999999998, null, 13.813330294339632, 13.746576, null, 13.813330294339632, 13.746258, null, 13.813330294339632, 13.746258, null, 13.813330294339632, 13.746258, null, 13.813330294339632, 13.746258, null, 13.813330294339632, 13.746258, null, 13.813330294339632, 13.762946, null, 13.813330294339632, 13.762946, null, 13.813330294339632, 13.845705, null, 13.813330294339632, 13.845705, null, 13.813330294339632, 13.845705, null, 13.813330294339632, 13.845705, null, 13.813330294339632, 13.845705, null, 13.813330294339632, 13.845705, null, 13.813330294339632, 13.737685999999998, null, 13.813330294339632, 13.988938, null, 13.813330294339632, 13.745109, null, 13.813330294339632, 13.756203, null, 13.813330294339632, 13.7376, null, 13.813330294339632, 13.856421, null, 13.813330294339632, 13.850143, null, 13.813330294339632, 13.813153, null, 13.813330294339632, 13.813153, null, 13.813330294339632, 13.813153, null, 13.813330294339632, 13.813153, null, 13.813330294339632, 13.813153, null, 13.813330294339632, 13.813153, null, 13.813330294339632, 13.813153, null, 13.813330294339632, 13.813153, null, 13.813330294339632, 13.813153, null, 13.813330294339632, 13.816275, null, 13.813330294339632, 13.918572, null, 13.813330294339632, 13.758456, null, 13.813330294339632, 13.758456, null, 13.813330294339632, 13.842435, null, 13.813330294339632, 13.842435, null, 13.813330294339632, 13.842435, null, 13.813330294339632, 13.842435, null, 13.813330294339632, 13.842435, null, 13.813330294339632, 13.842435, null, 13.813330294339632, 13.842435, null, 13.813330294339632, 13.842435, null, 13.813330294339632, 13.842435, null, 13.813330294339632, 13.842435, null, 13.813330294339632, 13.842435, null, 13.813330294339632, 13.842435, null, 13.813330294339632, 13.842435, null, 13.813330294339632, 13.842435, null, 13.813330294339632, 13.842435, null, 13.813330294339632, 13.842435, null, 13.813330294339632, 13.842435, null, 13.813330294339632, 13.815952, null, 13.813330294339632, 13.815952, null, 13.813330294339632, 13.815952, null, 13.813330294339632, 13.766212, null, 13.813330294339632, 13.769259, null, 13.813330294339632, 13.748509, null, 13.813330294339632, 13.717081, null, 13.813330294339632, 13.744268, null, 13.813330294339632, 13.780519, null, 13.813330294339632, 13.780519, null, 13.813330294339632, 13.780519, null, 13.813330294339632, 13.780519, null, 13.813330294339632, 13.67057, null, 13.813330294339632, 13.813223, null, 13.813330294339632, 13.813223, null, 13.813330294339632, 13.813223, null, 13.813330294339632, 13.813223, null, 13.813330294339632, 22.289791, null, 13.813330294339632, 13.777234, null, 13.813330294339632, 13.777234, null, 13.813330294339632, 13.857385, null, 13.813330294339632, 13.816215, null, 13.813330294339632, 13.816215, null, 13.813330294339632, 13.816215, null, 13.813330294339632, 13.816215, null, 13.813330294339632, 13.918062, null, 13.813330294339632, 13.798021, null, 13.813330294339632, 13.81601, null, 13.813330294339632, 13.728848, null, 13.813330294339632, 13.815994, null, 13.813330294339632, 13.839689000000002, null, 13.813330294339632, 13.839689000000002, null, 13.813330294339632, 13.845028, null, 13.813330294339632, 13.845028, null, 13.813330294339632, 13.845028, null, 13.813330294339632, 13.845028, null, 13.813330294339632, 13.845028, null, 13.813330294339632, 13.845028, null, 13.813330294339632, 13.845028, null, 13.813330294339632, 13.845028, null, 13.813330294339632, 13.845028, null, 13.813330294339632, 13.743501, null, 13.813330294339632, 13.733528, null, 13.813330294339632, 22.299064, null, 13.813330294339632, 13.749498999999998, null, 13.813330294339632, 22.317972, null, 13.813330294339632, 12.205706, null, 13.813330294339632, 13.763948, null, 13.813330294339632, 13.758394, null, 13.813330294339632, 13.816659, null, 13.813330294339632, 13.816659, null, 13.813330294339632, 13.816659, null, 13.813330294339632, 13.816659, null, 13.813330294339632, 13.842518, null, 13.813330294339632, 13.842518, null, 13.813330294339632, 13.842518, null, 13.813330294339632, 13.842518, null, 13.813330294339632, 13.852372, null, 13.813330294339632, 13.826996, null, 13.813330294339632, 13.826996, null, 13.813330294339632, 13.826996, null, 13.813330294339632, 13.826996, null, 13.813330294339632, 13.826996, null, 13.813330294339632, 13.848820000000002, null, 13.813330294339632, 13.803648999999998, null, 13.813330294339632, 13.745764, null, 13.813330294339632, 13.745764, null, 13.813330294339632, 22.313695000000006, null, 13.813330294339632, 13.833931, null, 13.813330294339632, 13.833931, null, 13.813330294339632, 13.833931, null, 13.813330294339632, 13.833931, null, 13.813330294339632, 13.833931, null, 13.813330294339632, 13.833931, null, 13.813330294339632, 13.833931, null, 13.813330294339632, 13.833931, null, 13.813330294339632, 13.833931, null, 13.813330294339632, 13.833931, null, 13.813330294339632, 13.833931, null, 13.813330294339632, 13.833931, null, 13.813330294339632, 13.833931, null, 13.813330294339632, 13.833931, null, 13.813330294339632, 13.833931, null, 13.813330294339632, 13.833931, null, 13.813330294339632, 13.833931, null, 13.813330294339632, 13.833931, null, 13.813330294339632, 13.833931, null, 13.813330294339632, 13.833931, null, 13.813330294339632, 13.849135, null, 13.813330294339632, 13.850372, null, 13.813330294339632, 13.850372, null, 13.813330294339632, 13.850372, null, 13.813330294339632, 13.850372, null, 13.813330294339632, 13.850372, null, 13.813330294339632, 13.850372, null, 13.813330294339632, 13.839934, null, 13.813330294339632, 37.525646, null, 13.813330294339632, 13.845818, null, 13.813330294339632, 13.845818, null, 13.813330294339632, 13.845818, null, 13.813330294339632, 13.845818, null, 13.813330294339632, 13.845818, null, 13.813330294339632, 13.845818, null, 13.813330294339632, 13.845818, null, 13.813330294339632, 13.845818, null, 13.813330294339632, 13.845818, null, 13.813330294339632, 13.845818, null, 13.813330294339632, 13.844789000000002, null, 13.813330294339632, 13.844789000000002, null, 13.813330294339632, 13.844789000000002, null, 13.813330294339632, 13.844789000000002, null, 13.813330294339632, 13.844789000000002, null, 13.813330294339632, 13.844789000000002, null, 13.813330294339632, 13.844789000000002, null, 13.813330294339632, 13.844789000000002, null, 13.813330294339632, 13.844789000000002, null, 13.813330294339632, 13.844789000000002, null, 13.813330294339632, 13.844789000000002, null, 13.813330294339632, 22.370967, null, 13.813330294339632, 13.829712, null, 13.813330294339632, 13.829712, null, 13.813330294339632, 13.829712, null, 13.813330294339632, 12.247896, null, 13.813330294339632, 12.135317, null, 13.813330294339632, 10.66181, null, 13.813330294339632, 13.844955, null, 13.813330294339632, 13.844955, null, 13.813330294339632, 13.844955, null, 13.813330294339632, 13.844955, null, 13.813330294339632, 13.844955, null, 13.813330294339632, 13.844955, null, 13.813330294339632, 13.815623, null, 13.813330294339632, 13.724044, null, 13.813330294339632, 13.726731, null, 13.813330294339632, 13.856251, null, 13.813330294339632, 13.856251, null, 13.813330294339632, 13.802832999999998, null, 13.813330294339632, 13.841196, null, 13.813330294339632, 13.988703, null, 13.813330294339632, 13.841304, null, 13.813330294339632, 13.841304, null, 13.813330294339632, 13.844464000000002, null, 13.813330294339632, 13.844464000000002, null, 13.813330294339632, 13.844464000000002, null, 13.813330294339632, 13.844419, null, 13.813330294339632, 13.844419, null, 13.813330294339632, 13.789405, null, 13.813330294339632, 13.768481, null, 13.813330294339632, 13.788756, null, 13.813330294339632, 13.746453, null, 13.813330294339632, 13.717305, null, 13.813330294339632, 13.845674, null], \"line\": {\"color\": \"#c3528c\", \"width\": 2}, \"locationmode\": \"USA-states\", \"lon\": [100.5614495132076, 100.751722, null, 100.5614495132076, 100.751722, null, 100.5614495132076, 100.751722, null, 100.5614495132076, 100.751722, null, 100.5614495132076, 100.751722, null, 100.5614495132076, 100.751722, null, 100.5614495132076, 100.751722, null, 100.5614495132076, 100.751722, null, 100.5614495132076, 100.574234, null, 100.5614495132076, 100.574234, null, 100.5614495132076, 100.574234, null, 100.5614495132076, 100.574234, null, 100.5614495132076, 100.574234, null, 100.5614495132076, 100.574234, null, 100.5614495132076, 100.574234, null, 100.5614495132076, 100.574234, null, 100.5614495132076, 100.574234, null, 100.5614495132076, 100.574234, null, 100.5614495132076, 100.574234, null, 100.5614495132076, 100.553763, null, 100.5614495132076, 100.553763, null, 100.5614495132076, 100.553763, null, 100.5614495132076, 100.553763, null, 100.5614495132076, 100.553763, null, 100.5614495132076, 100.553763, null, 100.5614495132076, 100.553763, null, 100.5614495132076, 100.553763, null, 100.5614495132076, 100.571938, null, 100.5614495132076, 100.571938, null, 100.5614495132076, 100.560409, null, 100.5614495132076, 100.560409, null, 100.5614495132076, 100.560409, null, 100.5614495132076, 113.934832, null, 100.5614495132076, 100.530164, null, 100.5614495132076, 100.534987, null, 100.5614495132076, 100.534987, null, 100.5614495132076, 100.534987, null, 100.5614495132076, 100.53988, null, 100.5614495132076, 100.565801, null, 100.5614495132076, 100.565801, null, 100.5614495132076, 100.565801, null, 100.5614495132076, 100.565801, null, 100.5614495132076, 100.567201, null, 100.5614495132076, 100.567201, null, 100.5614495132076, 100.567201, null, 100.5614495132076, 100.567201, null, 100.5614495132076, 100.539488, null, 100.5614495132076, 100.539488, null, 100.5614495132076, 100.578579, null, 100.5614495132076, 100.570916, null, 100.5614495132076, 100.570916, null, 100.5614495132076, 100.570916, null, 100.5614495132076, 100.570916, null, 100.5614495132076, 100.570916, null, 100.5614495132076, 100.570916, null, 100.5614495132076, 100.570916, null, 100.5614495132076, 100.570916, null, 100.5614495132076, 100.56097, null, 100.5614495132076, 100.56097, null, 100.5614495132076, 100.56097, null, 100.5614495132076, 100.56097, null, 100.5614495132076, 100.56097, null, 100.5614495132076, 100.56097, null, 100.5614495132076, 100.56097, null, 100.5614495132076, 100.56097, null, 100.5614495132076, 100.56097, null, 100.5614495132076, 100.56097, null, 100.5614495132076, 100.56097, null, 100.5614495132076, 100.56097, null, 100.5614495132076, 100.56097, null, 100.5614495132076, 100.56097, null, 100.5614495132076, 100.53459, null, 100.5614495132076, 100.53459, null, 100.5614495132076, 100.53459, null, 100.5614495132076, 100.53459, null, 100.5614495132076, 100.569376, null, 100.5614495132076, 100.569376, null, 100.5614495132076, 100.569376, null, 100.5614495132076, 100.569376, null, 100.5614495132076, 100.569376, null, 100.5614495132076, 100.569376, null, 100.5614495132076, 100.569376, null, 100.5614495132076, 100.569376, null, 100.5614495132076, 100.561209, null, 100.5614495132076, 100.560501, null, 100.5614495132076, 100.539021, null, 100.5614495132076, 100.532777, null, 100.5614495132076, 100.532777, null, 100.5614495132076, 100.532777, null, 100.5614495132076, 100.532777, null, 100.5614495132076, 100.532777, null, 100.5614495132076, 100.537107, null, 100.5614495132076, 100.537107, null, 100.5614495132076, 100.570693, null, 100.5614495132076, 100.570693, null, 100.5614495132076, 100.570693, null, 100.5614495132076, 100.570693, null, 100.5614495132076, 100.570693, null, 100.5614495132076, 100.570693, null, 100.5614495132076, 100.516824, null, 100.5614495132076, 100.617814, null, 100.5614495132076, 100.5333, null, 100.5614495132076, 100.618842, null, 100.5614495132076, 100.561364, null, 100.5614495132076, 100.541925, null, 100.5614495132076, 100.569381, null, 100.5614495132076, 100.561551, null, 100.5614495132076, 100.561551, null, 100.5614495132076, 100.561551, null, 100.5614495132076, 100.561551, null, 100.5614495132076, 100.561551, null, 100.5614495132076, 100.561551, null, 100.5614495132076, 100.561551, null, 100.5614495132076, 100.561551, null, 100.5614495132076, 100.561551, null, 100.5614495132076, 100.560715, null, 100.5614495132076, 100.602064, null, 100.5614495132076, 100.566165, null, 100.5614495132076, 100.566165, null, 100.5614495132076, 100.570657, null, 100.5614495132076, 100.570657, null, 100.5614495132076, 100.570657, null, 100.5614495132076, 100.570657, null, 100.5614495132076, 100.570657, null, 100.5614495132076, 100.570657, null, 100.5614495132076, 100.570657, null, 100.5614495132076, 100.570657, null, 100.5614495132076, 100.570657, null, 100.5614495132076, 100.570657, null, 100.5614495132076, 100.570657, null, 100.5614495132076, 100.570657, null, 100.5614495132076, 100.570657, null, 100.5614495132076, 100.570657, null, 100.5614495132076, 100.570657, null, 100.5614495132076, 100.570657, null, 100.5614495132076, 100.570657, null, 100.5614495132076, 100.560865, null, 100.5614495132076, 100.560865, null, 100.5614495132076, 100.560865, null, 100.5614495132076, 100.569729, null, 100.5614495132076, 100.512033, null, 100.5614495132076, 100.535508, null, 100.5614495132076, 100.572367, null, 100.5614495132076, 100.531511, null, 100.5614495132076, 100.42347, null, 100.5614495132076, 100.42347, null, 100.5614495132076, 100.42347, null, 100.5614495132076, 100.42347, null, 100.5614495132076, 100.610347, null, 100.5614495132076, 100.560951, null, 100.5614495132076, 100.560951, null, 100.5614495132076, 100.560951, null, 100.5614495132076, 100.560951, null, 100.5614495132076, 113.938866, null, 100.5614495132076, 100.598792, null, 100.5614495132076, 100.598792, null, 100.5614495132076, 100.535261, null, 100.5614495132076, 100.561431, null, 100.5614495132076, 100.561431, null, 100.5614495132076, 100.561431, null, 100.5614495132076, 100.561431, null, 100.5614495132076, 100.547347, null, 100.5614495132076, 100.548871, null, 100.5614495132076, 100.5613, null, 100.5614495132076, 100.536908, null, 100.5614495132076, 100.560501, null, 100.5614495132076, 100.575575, null, 100.5614495132076, 100.575575, null, 100.5614495132076, 100.572184, null, 100.5614495132076, 100.572184, null, 100.5614495132076, 100.572184, null, 100.5614495132076, 100.572184, null, 100.5614495132076, 100.572184, null, 100.5614495132076, 100.572184, null, 100.5614495132076, 100.572184, null, 100.5614495132076, 100.572184, null, 100.5614495132076, 100.572184, null, 100.5614495132076, 100.53152, null, 100.5614495132076, 100.532938, null, 100.5614495132076, 114.166111, null, 100.5614495132076, 100.563546, null, 100.5614495132076, 114.170828, null, 100.5614495132076, 100.009538, null, 100.5614495132076, 100.619427, null, 100.5614495132076, 100.565886, null, 100.5614495132076, 100.561678, null, 100.5614495132076, 100.561678, null, 100.5614495132076, 100.561678, null, 100.5614495132076, 100.561678, null, 100.5614495132076, 100.57698, null, 100.5614495132076, 100.57698, null, 100.5614495132076, 100.57698, null, 100.5614495132076, 100.57698, null, 100.5614495132076, 100.564556, null, 100.5614495132076, 100.568032, null, 100.5614495132076, 100.568032, null, 100.5614495132076, 100.568032, null, 100.5614495132076, 100.568032, null, 100.5614495132076, 100.568032, null, 100.5614495132076, 100.571498, null, 100.5614495132076, 100.536767, null, 100.5614495132076, 100.530515, null, 100.5614495132076, 100.530515, null, 100.5614495132076, 114.171608, null, 100.5614495132076, 100.572189, null, 100.5614495132076, 100.572189, null, 100.5614495132076, 100.572189, null, 100.5614495132076, 100.572189, null, 100.5614495132076, 100.572189, null, 100.5614495132076, 100.572189, null, 100.5614495132076, 100.572189, null, 100.5614495132076, 100.572189, null, 100.5614495132076, 100.572189, null, 100.5614495132076, 100.572189, null, 100.5614495132076, 100.572189, null, 100.5614495132076, 100.572189, null, 100.5614495132076, 100.572189, null, 100.5614495132076, 100.572189, null, 100.5614495132076, 100.572189, null, 100.5614495132076, 100.572189, null, 100.5614495132076, 100.572189, null, 100.5614495132076, 100.572189, null, 100.5614495132076, 100.572189, null, 100.5614495132076, 100.572189, null, 100.5614495132076, 100.569327, null, 100.5614495132076, 100.565372, null, 100.5614495132076, 100.565372, null, 100.5614495132076, 100.565372, null, 100.5614495132076, 100.565372, null, 100.5614495132076, 100.565372, null, 100.5614495132076, 100.565372, null, 100.5614495132076, 100.57469, null, 100.5614495132076, 126.883526, null, 100.5614495132076, 100.570717, null, 100.5614495132076, 100.570717, null, 100.5614495132076, 100.570717, null, 100.5614495132076, 100.570717, null, 100.5614495132076, 100.570717, null, 100.5614495132076, 100.570717, null, 100.5614495132076, 100.570717, null, 100.5614495132076, 100.570717, null, 100.5614495132076, 100.570717, null, 100.5614495132076, 100.570717, null, 100.5614495132076, 100.571294, null, 100.5614495132076, 100.571294, null, 100.5614495132076, 100.571294, null, 100.5614495132076, 100.571294, null, 100.5614495132076, 100.571294, null, 100.5614495132076, 100.571294, null, 100.5614495132076, 100.571294, null, 100.5614495132076, 100.571294, null, 100.5614495132076, 100.571294, null, 100.5614495132076, 100.571294, null, 100.5614495132076, 100.571294, null, 100.5614495132076, 114.119287, null, 100.5614495132076, 100.569756, null, 100.5614495132076, 100.569756, null, 100.5614495132076, 100.569756, null, 100.5614495132076, 99.873206, null, 100.5614495132076, 99.961028, null, 100.5614495132076, 99.195321, null, 100.5614495132076, 100.57138, null, 100.5614495132076, 100.57138, null, 100.5614495132076, 100.57138, null, 100.5614495132076, 100.57138, null, 100.5614495132076, 100.57138, null, 100.5614495132076, 100.57138, null, 100.5614495132076, 100.560084, null, 100.5614495132076, 100.558848, null, 100.5614495132076, 100.495019, null, 100.5614495132076, 100.542107, null, 100.5614495132076, 100.542107, null, 100.5614495132076, 100.554216, null, 100.5614495132076, 100.573137, null, 100.5614495132076, 100.616595, null, 100.5614495132076, 100.571943, null, 100.5614495132076, 100.571943, null, 100.5614495132076, 100.571205, null, 100.5614495132076, 100.571205, null, 100.5614495132076, 100.571205, null, 100.5614495132076, 100.571419, null, 100.5614495132076, 100.571419, null, 100.5614495132076, 100.572152, null, 100.5614495132076, 100.512285, null, 100.5614495132076, 100.575122, null, 100.5614495132076, 100.53927, null, 100.5614495132076, 100.535237, null, 100.5614495132076, 100.571106, null], \"mode\": \"lines\", \"opacity\": 0.8, \"type\": \"scattergeo\"}, {\"lat\": [-6.078666, -6.067685, -0.600771, -6.063589, -6.076699, -6.068983, -6.068983, -6.09191, -6.09191, -6.09191, -6.09191, -6.0921660000000015, -6.068762, -6.084897, -6.084897, -6.068418, -6.090139, -6.090139, -6.090139, -6.090139, -6.090139, -6.090139, -6.080643, -6.080643, -6.080643, -6.080643, -6.080643, -6.091483, -6.091483, -6.089691, -6.089691, -6.089691, -6.089691, -6.089691, -6.0851370000000005, -6.0851370000000005, -6.082489, -6.082489, -6.082489, -6.082489, -6.082489, -6.082489, -6.082489, -6.082489, -6.082489, -6.082489, -6.082489, -6.082489, -6.092096, -6.098684, -6.098684, -6.098684, -6.098684, -6.091995, -6.091995, -6.091995, -6.095341, -6.091888, -6.084897, -6.078521, -6.078521, -6.070192, -6.070192, -6.07646, -6.082376999999998, -6.082376999999998, -6.082376999999998, -6.082376999999998, -6.082376999999998, -6.082376999999998, -6.082376999999998, -6.075805, -6.064488, -6.088501, -6.088501, -6.088501, -6.082376, -6.082376, -6.0697980000000005, -6.096833, -6.096833, -6.096833, -6.092371, -6.092371, -6.092371, -6.092371, -6.0912510000000015, -6.0912510000000015, -6.09166, -6.09166, -6.09166, -6.092716, -6.092716, -6.092716, -6.092716, -6.063701999999998, -6.069743, -6.069743, -6.082396, -6.082396, -6.082396, -6.082396, -6.082396, -6.075135, -6.0823730000000005, -6.0823730000000005, -6.0823730000000005, -6.09131, -6.09131, -6.08749, -6.08749, -6.08749, -6.078632, -6.091893, -6.067692, -6.0697410000000005, -6.0697410000000005, -6.074064, -6.091599, -6.077499, -6.066703, -6.0724160000000005, -0.59845, -0.602564, -0.607928, -6.0823870000000015, -6.0823870000000015], \"lon\": [-49.884912, -50.065025, -47.310897, -49.912983, -49.887513, -50.067137, -50.067137, -49.856086, -49.856086, -49.856086, -49.856086, -49.854927, -50.064411, -49.872334, -49.872334, -50.064783, -49.840538, -49.840538, -49.840538, -49.840538, -49.840538, -49.840538, -49.850785, -49.850785, -49.850785, -49.850785, -49.850785, -49.8557, -49.8557, -49.858618, -49.858618, -49.858618, -49.858618, -49.858618, -49.885607, -49.885607, -49.809848, -49.809848, -49.809848, -49.809848, -49.809848, -49.809848, -49.809848, -49.809848, -49.809848, -49.809848, -49.809848, -49.809848, -49.855159, -49.859465, -49.859465, -49.859465, -49.859465, -49.855345, -49.855345, -49.855345, -49.855979, -49.856579, -49.874394, -49.886383, -49.886383, -49.902331, -49.902331, -49.883532, -49.80987800000001, -49.80987800000001, -49.80987800000001, -49.80987800000001, -49.80987800000001, -49.80987800000001, -49.80987800000001, -49.889219, -49.909561, -49.87521, -49.87521, -49.87521, -49.809818, -49.809818, -49.902146, -49.842281, -49.842281, -49.842281, -49.846361, -49.846361, -49.846361, -49.846361, -49.847413, -49.847413, -49.850107, -49.850107, -49.850107, -49.853045, -49.853045, -49.853045, -49.853045, -49.916317, -50.068993, -50.068993, -49.809818, -49.809818, -49.809818, -49.809818, -49.809818, -49.889672, -49.809809, -49.809809, -49.809809, -49.843925, -49.843925, -49.86868, -49.86868, -49.86868, -49.885073, -49.855514, -50.069028, -50.07363400000001, -50.07363400000001, -50.06834, -49.809838, -49.895322, -49.906994, -49.905183, -47.307086, -47.304543, -47.324703, -49.809853, -49.809853], \"marker\": {\"color\": \"#c3528c\", \"line\": {\"color\": \"rgba(68, 68, 68, 0)\", \"width\": 3}, \"size\": 3}, \"mode\": \"markers\", \"type\": \"scattergeo\"}, {\"lat\": [-6.085579026785717], \"lon\": [-49.84864575], \"marker\": {\"color\": \"#c3528c\", \"line\": {\"color\": \"rgba(68, 68, 68, 0)\", \"width\": 3}, \"size\": 13}, \"mode\": \"markers\", \"type\": \"scattergeo\"}, {\"lat\": [-6.085579026785717, -6.078666, null, -6.085579026785717, -6.067685, null, -6.085579026785717, -0.600771, null, -6.085579026785717, -6.063589, null, -6.085579026785717, -6.076699, null, -6.085579026785717, -6.068983, null, -6.085579026785717, -6.068983, null, -6.085579026785717, -6.09191, null, -6.085579026785717, -6.09191, null, -6.085579026785717, -6.09191, null, -6.085579026785717, -6.09191, null, -6.085579026785717, -6.0921660000000015, null, -6.085579026785717, -6.068762, null, -6.085579026785717, -6.084897, null, -6.085579026785717, -6.084897, null, -6.085579026785717, -6.068418, null, -6.085579026785717, -6.090139, null, -6.085579026785717, -6.090139, null, -6.085579026785717, -6.090139, null, -6.085579026785717, -6.090139, null, -6.085579026785717, -6.090139, null, -6.085579026785717, -6.090139, null, -6.085579026785717, -6.080643, null, -6.085579026785717, -6.080643, null, -6.085579026785717, -6.080643, null, -6.085579026785717, -6.080643, null, -6.085579026785717, -6.080643, null, -6.085579026785717, -6.091483, null, -6.085579026785717, -6.091483, null, -6.085579026785717, -6.089691, null, -6.085579026785717, -6.089691, null, -6.085579026785717, -6.089691, null, -6.085579026785717, -6.089691, null, -6.085579026785717, -6.089691, null, -6.085579026785717, -6.0851370000000005, null, -6.085579026785717, -6.0851370000000005, null, -6.085579026785717, -6.082489, null, -6.085579026785717, -6.082489, null, -6.085579026785717, -6.082489, null, -6.085579026785717, -6.082489, null, -6.085579026785717, -6.082489, null, -6.085579026785717, -6.082489, null, -6.085579026785717, -6.082489, null, -6.085579026785717, -6.082489, null, -6.085579026785717, -6.082489, null, -6.085579026785717, -6.082489, null, -6.085579026785717, -6.082489, null, -6.085579026785717, -6.082489, null, -6.085579026785717, -6.092096, null, -6.085579026785717, -6.098684, null, -6.085579026785717, -6.098684, null, -6.085579026785717, -6.098684, null, -6.085579026785717, -6.098684, null, -6.085579026785717, -6.091995, null, -6.085579026785717, -6.091995, null, -6.085579026785717, -6.091995, null, -6.085579026785717, -6.095341, null, -6.085579026785717, -6.091888, null, -6.085579026785717, -6.084897, null, -6.085579026785717, -6.078521, null, -6.085579026785717, -6.078521, null, -6.085579026785717, -6.070192, null, -6.085579026785717, -6.070192, null, -6.085579026785717, -6.07646, null, -6.085579026785717, -6.082376999999998, null, -6.085579026785717, -6.082376999999998, null, -6.085579026785717, -6.082376999999998, null, -6.085579026785717, -6.082376999999998, null, -6.085579026785717, -6.082376999999998, null, -6.085579026785717, -6.082376999999998, null, -6.085579026785717, -6.082376999999998, null, -6.085579026785717, -6.075805, null, -6.085579026785717, -6.064488, null, -6.085579026785717, -6.088501, null, -6.085579026785717, -6.088501, null, -6.085579026785717, -6.088501, null, -6.085579026785717, -6.082376, null, -6.085579026785717, -6.082376, null, -6.085579026785717, -6.0697980000000005, null, -6.085579026785717, -6.096833, null, -6.085579026785717, -6.096833, null, -6.085579026785717, -6.096833, null, -6.085579026785717, -6.092371, null, -6.085579026785717, -6.092371, null, -6.085579026785717, -6.092371, null, -6.085579026785717, -6.092371, null, -6.085579026785717, -6.0912510000000015, null, -6.085579026785717, -6.0912510000000015, null, -6.085579026785717, -6.09166, null, -6.085579026785717, -6.09166, null, -6.085579026785717, -6.09166, null, -6.085579026785717, -6.092716, null, -6.085579026785717, -6.092716, null, -6.085579026785717, -6.092716, null, -6.085579026785717, -6.092716, null, -6.085579026785717, -6.063701999999998, null, -6.085579026785717, -6.069743, null, -6.085579026785717, -6.069743, null, -6.085579026785717, -6.082396, null, -6.085579026785717, -6.082396, null, -6.085579026785717, -6.082396, null, -6.085579026785717, -6.082396, null, -6.085579026785717, -6.082396, null, -6.085579026785717, -6.075135, null, -6.085579026785717, -6.0823730000000005, null, -6.085579026785717, -6.0823730000000005, null, -6.085579026785717, -6.0823730000000005, null, -6.085579026785717, -6.09131, null, -6.085579026785717, -6.09131, null, -6.085579026785717, -6.08749, null, -6.085579026785717, -6.08749, null, -6.085579026785717, -6.08749, null, -6.085579026785717, -6.078632, null, -6.085579026785717, -6.091893, null, -6.085579026785717, -6.067692, null, -6.085579026785717, -6.0697410000000005, null, -6.085579026785717, -6.0697410000000005, null, -6.085579026785717, -6.074064, null, -6.085579026785717, -6.091599, null, -6.085579026785717, -6.077499, null, -6.085579026785717, -6.066703, null, -6.085579026785717, -6.0724160000000005, null, -6.085579026785717, -0.59845, null, -6.085579026785717, -0.602564, null, -6.085579026785717, -0.607928, null, -6.085579026785717, -6.0823870000000015, null, -6.085579026785717, -6.0823870000000015, null], \"line\": {\"color\": \"#c3528c\", \"width\": 2}, \"locationmode\": \"USA-states\", \"lon\": [-49.84864575, -49.884912, null, -49.84864575, -50.065025, null, -49.84864575, -47.310897, null, -49.84864575, -49.912983, null, -49.84864575, -49.887513, null, -49.84864575, -50.067137, null, -49.84864575, -50.067137, null, -49.84864575, -49.856086, null, -49.84864575, -49.856086, null, -49.84864575, -49.856086, null, -49.84864575, -49.856086, null, -49.84864575, -49.854927, null, -49.84864575, -50.064411, null, -49.84864575, -49.872334, null, -49.84864575, -49.872334, null, -49.84864575, -50.064783, null, -49.84864575, -49.840538, null, -49.84864575, -49.840538, null, -49.84864575, -49.840538, null, -49.84864575, -49.840538, null, -49.84864575, -49.840538, null, -49.84864575, -49.840538, null, -49.84864575, -49.850785, null, -49.84864575, -49.850785, null, -49.84864575, -49.850785, null, -49.84864575, -49.850785, null, -49.84864575, -49.850785, null, -49.84864575, -49.8557, null, -49.84864575, -49.8557, null, -49.84864575, -49.858618, null, -49.84864575, -49.858618, null, -49.84864575, -49.858618, null, -49.84864575, -49.858618, null, -49.84864575, -49.858618, null, -49.84864575, -49.885607, null, -49.84864575, -49.885607, null, -49.84864575, -49.809848, null, -49.84864575, -49.809848, null, -49.84864575, -49.809848, null, -49.84864575, -49.809848, null, -49.84864575, -49.809848, null, -49.84864575, -49.809848, null, -49.84864575, -49.809848, null, -49.84864575, -49.809848, null, -49.84864575, -49.809848, null, -49.84864575, -49.809848, null, -49.84864575, -49.809848, null, -49.84864575, -49.809848, null, -49.84864575, -49.855159, null, -49.84864575, -49.859465, null, -49.84864575, -49.859465, null, -49.84864575, -49.859465, null, -49.84864575, -49.859465, null, -49.84864575, -49.855345, null, -49.84864575, -49.855345, null, -49.84864575, -49.855345, null, -49.84864575, -49.855979, null, -49.84864575, -49.856579, null, -49.84864575, -49.874394, null, -49.84864575, -49.886383, null, -49.84864575, -49.886383, null, -49.84864575, -49.902331, null, -49.84864575, -49.902331, null, -49.84864575, -49.883532, null, -49.84864575, -49.80987800000001, null, -49.84864575, -49.80987800000001, null, -49.84864575, -49.80987800000001, null, -49.84864575, -49.80987800000001, null, -49.84864575, -49.80987800000001, null, -49.84864575, -49.80987800000001, null, -49.84864575, -49.80987800000001, null, -49.84864575, -49.889219, null, -49.84864575, -49.909561, null, -49.84864575, -49.87521, null, -49.84864575, -49.87521, null, -49.84864575, -49.87521, null, -49.84864575, -49.809818, null, -49.84864575, -49.809818, null, -49.84864575, -49.902146, null, -49.84864575, -49.842281, null, -49.84864575, -49.842281, null, -49.84864575, -49.842281, null, -49.84864575, -49.846361, null, -49.84864575, -49.846361, null, -49.84864575, -49.846361, null, -49.84864575, -49.846361, null, -49.84864575, -49.847413, null, -49.84864575, -49.847413, null, -49.84864575, -49.850107, null, -49.84864575, -49.850107, null, -49.84864575, -49.850107, null, -49.84864575, -49.853045, null, -49.84864575, -49.853045, null, -49.84864575, -49.853045, null, -49.84864575, -49.853045, null, -49.84864575, -49.916317, null, -49.84864575, -50.068993, null, -49.84864575, -50.068993, null, -49.84864575, -49.809818, null, -49.84864575, -49.809818, null, -49.84864575, -49.809818, null, -49.84864575, -49.809818, null, -49.84864575, -49.809818, null, -49.84864575, -49.889672, null, -49.84864575, -49.809809, null, -49.84864575, -49.809809, null, -49.84864575, -49.809809, null, -49.84864575, -49.843925, null, -49.84864575, -49.843925, null, -49.84864575, -49.86868, null, -49.84864575, -49.86868, null, -49.84864575, -49.86868, null, -49.84864575, -49.885073, null, -49.84864575, -49.855514, null, -49.84864575, -50.069028, null, -49.84864575, -50.07363400000001, null, -49.84864575, -50.07363400000001, null, -49.84864575, -50.06834, null, -49.84864575, -49.809838, null, -49.84864575, -49.895322, null, -49.84864575, -49.906994, null, -49.84864575, -49.905183, null, -49.84864575, -47.307086, null, -49.84864575, -47.304543, null, -49.84864575, -47.324703, null, -49.84864575, -49.809853, null, -49.84864575, -49.809853, null], \"mode\": \"lines\", \"opacity\": 0.8, \"type\": \"scattergeo\"}, {\"lat\": [-33.39167800000001, 40.491185, 41.288872, -33.382182, -33.382182, -33.382182, -33.382182, -33.382182, 39.54864600000001, 40.463997, 40.463997, 40.419972, 40.419972, -33.39271, -33.39271, -33.414121, -33.018301, -33.390567, 40.391747, -33.017609, -33.383097, 41.371125, 42.880571, 40.429374, 40.429374, 40.429374, -33.008927, 40.446415, 40.446415, -33.019231, -33.019231, 40.514896, -33.435816, 40.421533, 40.515599, 40.42501, 40.425446, -32.929697999999995, 41.372574, -33.400499, 41.384259, 41.386283, -27.366864, 38.908707, 40.426931, 38.947686, 41.383079, 41.377887, 42.030682, 40.416474, 42.231107, 38.90954, 38.911942, 51.523483, 40.427991, 40.427991, 40.427991, 40.427991, 40.427991, 40.427991, 40.543833, 38.917391, 48.201094, 40.430698, 40.209662, 41.375616, 41.398348, 41.381906, 41.370756, 41.380789, -33.018241, 40.41542800000001, 40.405882, 40.42266, 40.397643, 41.975884, 41.939026, 40.433875, 40.433875, 40.424966, 41.379661, -33.382141, -33.441241999999995, -32.930824, -32.933684, -33.364336, -33.364336, -33.364336, -33.355991, -33.499952, -33.021069], \"lon\": [-70.54630300000002, -3.592057, 2.0743080000000003, -70.582137, -70.582137, -70.582137, -70.582137, -70.582137, 2.732677, -3.570433, -3.570433, -3.705812, -3.705812, -70.619324, -70.619324, -70.59848000000002, -71.55853499999998, -70.545337, -3.65864, -71.55625400000002, -70.587111, 2.151732, -8.544585000000001, -3.70677, -3.70677, -3.70677, -71.548416, -3.710524, -3.710524, -71.56043000000003, -71.56043000000003, -3.672339, -70.654212, -3.710232, -3.897353, -3.702109, -3.704372, -71.539264, 2.189516, -70.593159, 2.177237, 2.178034, -70.333061, 1.428235, -3.703824, 1.408205, 2.177479, 2.188683, -7.18037, -3.705623, -8.7216, 1.436167, 1.434483, -0.127408, -3.707974, -3.707974, -3.707974, -3.707974, -3.707974, -3.707974, -3.692554, 1.44367, 16.353369, -3.701849, -5.090221, 2.150864, 2.166939, 2.168268, 2.129313, 2.175207, -71.556368, -3.708175, -3.690376, -3.706708, -3.865448, -7.044467, -7.437842999999999, -3.694009, -3.694009, -3.700762, 2.1875560000000003, -70.53298000000002, -70.655235, -71.537261, -71.55009100000002, -70.580038, -70.580038, -70.580038, -71.65355699999998, -70.61209699999998, -71.561363], \"marker\": {\"color\": \"#ffa600\", \"line\": {\"color\": \"rgba(68, 68, 68, 0)\", \"width\": 3}, \"size\": 3}, \"mode\": \"markers\", \"type\": \"scattergeo\"}, {\"lat\": [40.4383176], \"lon\": [-3.690689666666667], \"marker\": {\"color\": \"#ffa600\", \"line\": {\"color\": \"rgba(68, 68, 68, 0)\", \"width\": 3}, \"size\": 13}, \"mode\": \"markers\", \"type\": \"scattergeo\"}, {\"lat\": [40.4383176, -33.39167800000001, null, 40.4383176, 40.491185, null, 40.4383176, 41.288872, null, 40.4383176, -33.382182, null, 40.4383176, -33.382182, null, 40.4383176, -33.382182, null, 40.4383176, -33.382182, null, 40.4383176, -33.382182, null, 40.4383176, 39.54864600000001, null, 40.4383176, 40.463997, null, 40.4383176, 40.463997, null, 40.4383176, 40.419972, null, 40.4383176, 40.419972, null, 40.4383176, -33.39271, null, 40.4383176, -33.39271, null, 40.4383176, -33.414121, null, 40.4383176, -33.018301, null, 40.4383176, -33.390567, null, 40.4383176, 40.391747, null, 40.4383176, -33.017609, null, 40.4383176, -33.383097, null, 40.4383176, 41.371125, null, 40.4383176, 42.880571, null, 40.4383176, 40.429374, null, 40.4383176, 40.429374, null, 40.4383176, 40.429374, null, 40.4383176, -33.008927, null, 40.4383176, 40.446415, null, 40.4383176, 40.446415, null, 40.4383176, -33.019231, null, 40.4383176, -33.019231, null, 40.4383176, 40.514896, null, 40.4383176, -33.435816, null, 40.4383176, 40.421533, null, 40.4383176, 40.515599, null, 40.4383176, 40.42501, null, 40.4383176, 40.425446, null, 40.4383176, -32.929697999999995, null, 40.4383176, 41.372574, null, 40.4383176, -33.400499, null, 40.4383176, 41.384259, null, 40.4383176, 41.386283, null, 40.4383176, -27.366864, null, 40.4383176, 38.908707, null, 40.4383176, 40.426931, null, 40.4383176, 38.947686, null, 40.4383176, 41.383079, null, 40.4383176, 41.377887, null, 40.4383176, 42.030682, null, 40.4383176, 40.416474, null, 40.4383176, 42.231107, null, 40.4383176, 38.90954, null, 40.4383176, 38.911942, null, 40.4383176, 51.523483, null, 40.4383176, 40.427991, null, 40.4383176, 40.427991, null, 40.4383176, 40.427991, null, 40.4383176, 40.427991, null, 40.4383176, 40.427991, null, 40.4383176, 40.427991, null, 40.4383176, 40.543833, null, 40.4383176, 38.917391, null, 40.4383176, 48.201094, null, 40.4383176, 40.430698, null, 40.4383176, 40.209662, null, 40.4383176, 41.375616, null, 40.4383176, 41.398348, null, 40.4383176, 41.381906, null, 40.4383176, 41.370756, null, 40.4383176, 41.380789, null, 40.4383176, -33.018241, null, 40.4383176, 40.41542800000001, null, 40.4383176, 40.405882, null, 40.4383176, 40.42266, null, 40.4383176, 40.397643, null, 40.4383176, 41.975884, null, 40.4383176, 41.939026, null, 40.4383176, 40.433875, null, 40.4383176, 40.433875, null, 40.4383176, 40.424966, null, 40.4383176, 41.379661, null, 40.4383176, -33.382141, null, 40.4383176, -33.441241999999995, null, 40.4383176, -32.930824, null, 40.4383176, -32.933684, null, 40.4383176, -33.364336, null, 40.4383176, -33.364336, null, 40.4383176, -33.364336, null, 40.4383176, -33.355991, null, 40.4383176, -33.499952, null, 40.4383176, -33.021069, null], \"line\": {\"color\": \"#ffa600\", \"width\": 2}, \"locationmode\": \"USA-states\", \"lon\": [-3.690689666666667, -70.54630300000002, null, -3.690689666666667, -3.592057, null, -3.690689666666667, 2.0743080000000003, null, -3.690689666666667, -70.582137, null, -3.690689666666667, -70.582137, null, -3.690689666666667, -70.582137, null, -3.690689666666667, -70.582137, null, -3.690689666666667, -70.582137, null, -3.690689666666667, 2.732677, null, -3.690689666666667, -3.570433, null, -3.690689666666667, -3.570433, null, -3.690689666666667, -3.705812, null, -3.690689666666667, -3.705812, null, -3.690689666666667, -70.619324, null, -3.690689666666667, -70.619324, null, -3.690689666666667, -70.59848000000002, null, -3.690689666666667, -71.55853499999998, null, -3.690689666666667, -70.545337, null, -3.690689666666667, -3.65864, null, -3.690689666666667, -71.55625400000002, null, -3.690689666666667, -70.587111, null, -3.690689666666667, 2.151732, null, -3.690689666666667, -8.544585000000001, null, -3.690689666666667, -3.70677, null, -3.690689666666667, -3.70677, null, -3.690689666666667, -3.70677, null, -3.690689666666667, -71.548416, null, -3.690689666666667, -3.710524, null, -3.690689666666667, -3.710524, null, -3.690689666666667, -71.56043000000003, null, -3.690689666666667, -71.56043000000003, null, -3.690689666666667, -3.672339, null, -3.690689666666667, -70.654212, null, -3.690689666666667, -3.710232, null, -3.690689666666667, -3.897353, null, -3.690689666666667, -3.702109, null, -3.690689666666667, -3.704372, null, -3.690689666666667, -71.539264, null, -3.690689666666667, 2.189516, null, -3.690689666666667, -70.593159, null, -3.690689666666667, 2.177237, null, -3.690689666666667, 2.178034, null, -3.690689666666667, -70.333061, null, -3.690689666666667, 1.428235, null, -3.690689666666667, -3.703824, null, -3.690689666666667, 1.408205, null, -3.690689666666667, 2.177479, null, -3.690689666666667, 2.188683, null, -3.690689666666667, -7.18037, null, -3.690689666666667, -3.705623, null, -3.690689666666667, -8.7216, null, -3.690689666666667, 1.436167, null, -3.690689666666667, 1.434483, null, -3.690689666666667, -0.127408, null, -3.690689666666667, -3.707974, null, -3.690689666666667, -3.707974, null, -3.690689666666667, -3.707974, null, -3.690689666666667, -3.707974, null, -3.690689666666667, -3.707974, null, -3.690689666666667, -3.707974, null, -3.690689666666667, -3.692554, null, -3.690689666666667, 1.44367, null, -3.690689666666667, 16.353369, null, -3.690689666666667, -3.701849, null, -3.690689666666667, -5.090221, null, -3.690689666666667, 2.150864, null, -3.690689666666667, 2.166939, null, -3.690689666666667, 2.168268, null, -3.690689666666667, 2.129313, null, -3.690689666666667, 2.175207, null, -3.690689666666667, -71.556368, null, -3.690689666666667, -3.708175, null, -3.690689666666667, -3.690376, null, -3.690689666666667, -3.706708, null, -3.690689666666667, -3.865448, null, -3.690689666666667, -7.044467, null, -3.690689666666667, -7.437842999999999, null, -3.690689666666667, -3.694009, null, -3.690689666666667, -3.694009, null, -3.690689666666667, -3.700762, null, -3.690689666666667, 2.1875560000000003, null, -3.690689666666667, -70.53298000000002, null, -3.690689666666667, -70.655235, null, -3.690689666666667, -71.537261, null, -3.690689666666667, -71.55009100000002, null, -3.690689666666667, -70.580038, null, -3.690689666666667, -70.580038, null, -3.690689666666667, -70.580038, null, -3.690689666666667, -71.65355699999998, null, -3.690689666666667, -70.61209699999998, null, -3.690689666666667, -71.561363, null], \"mode\": \"lines\", \"opacity\": 0.8, \"type\": \"scattergeo\"}, {\"lat\": [41.796592, 41.796592, 41.796592, 40.965832, 51.889564, 40.934807, 40.934807, 40.934807, 40.934807, 40.934807, 40.934807, 40.934807, 45.609527, 41.134364, 41.134364, 41.134364, 41.134364, 41.134364, 41.134364, 41.134364, 41.134364, 41.134364, 41.134364, 45.461575, 45.461575, 45.461575, 45.461575, 45.461575, 45.461575, 45.461575, 45.461575, 41.101107, 37.470328, 37.470328, 37.470328, 37.470328, 37.470328, 37.11107, 37.11107, 37.11107, 37.11107, 37.521876, 38.183165, 38.183165, 38.183165, 37.479796, 41.08276400000001, 40.580063, 40.580063, 40.580063, 38.139267, 40.461311, 40.461311, 40.461311, 40.461311, 45.476396, 38.844521, 40.875038, 40.784539, 37.471052, 37.471052, 37.471052, 40.742969, 40.742969, 40.742969, 41.796796, 40.968234, 40.968234, 40.968234, 40.968234, 40.968234, 40.968234, 40.968234, 40.968234, 40.968234, 40.968234, 41.104852, 41.104875, 41.088979, 41.088979, 41.088979, 38.186421, 38.186421, 38.186421, 40.950369, 40.467794, 51.496913, 51.496913, 40.800329, 40.800329, 38.210319, 45.480962, 45.647535, 40.933466, 40.933466, 41.088812, 45.481162, 38.174145, 37.476731, 37.476731, 37.476731, 37.476731, 37.476731, 37.47227, 37.47227, 37.47227, 37.47227, 45.408008, 39.289249, 45.398074, 37.478247, 45.39952, 45.39952, 45.39952, 45.494615, 37.406089, 37.479405, 37.520086, 37.520086, 40.874659, 41.098825, 45.400841, 45.400841, 40.969643, 40.969643, 40.969643, 41.08905, 51.50470900000001, 39.67427100000001, 39.179982, 39.105861, 39.105861, 41.066404, 40.662059, 40.911344, 40.911344, 41.125734, 38.439457, 42.79234, 45.46641500000001, 41.0377, 41.12493900000001, 41.135518, 45.399111, 45.495094, 41.097135, 48.873506], \"lon\": [12.252417, 12.252417, 12.252417, 16.925718, 0.260882, 14.148389000000002, 14.148389000000002, 14.148389000000002, 14.148389000000002, 14.148389000000002, 14.148389000000002, 14.148389000000002, 8.962086, 16.763776999999994, 16.763776999999994, 16.763776999999994, 16.763776999999994, 16.763776999999994, 16.763776999999994, 16.763776999999994, 16.763776999999994, 16.763776999999994, 16.763776999999994, 9.278941, 9.278941, 9.278941, 9.278941, 9.278941, 9.278941, 9.278941, 9.278941, 16.863129, 15.066010999999998, 15.066010999999998, 15.066010999999998, 15.066010999999998, 15.066010999999998, 15.228963, 15.228963, 15.228963, 15.228963, 15.114167000000002, 13.306417, 13.306417, 13.306417, 15.00991, 16.946347, 17.838148999999994, 17.838148999999994, 17.838148999999994, 13.357947, 17.299256, 17.299256, 17.299256, 17.299256, 9.171414, 16.646132, 14.348917000000002, 17.237811999999998, 15.047997, 15.047997, 15.047997, 14.480726, 14.480726, 14.480726, 12.255493, 16.925210999999994, 16.925210999999994, 16.925210999999994, 16.925210999999994, 16.925210999999994, 16.925210999999994, 16.925210999999994, 16.925210999999994, 16.925210999999994, 16.925210999999994, 16.879, 16.878792999999998, 16.896012, 16.896012, 16.896012, 13.105273, 13.105273, 13.105273, 14.488415, 16.937425, -0.138891, -0.138891, 16.923194, 16.923194, 15.56237, 9.125853, 8.722964, 14.147998, 14.147998, 16.772388, 9.185977, 13.218592, 15.08307, 15.08307, 15.08307, 15.08307, 15.08307, 15.049392, 15.049392, 15.049392, 15.049392, 9.152614, 9.001683, 9.15139, 15.008284, 9.152304, 9.152304, 9.152304, 9.180442, 14.932192, 15.077139, 15.1103, 15.1103, 14.346328, 16.855183, 9.14981, 9.14981, 16.925984, 16.925984, 16.925984, 16.895966, -0.077419, 16.505205, 16.282737, 17.096785, 17.096785, 16.922381, 14.427816, 14.222588, 14.222588, 16.864846, 15.942819, 13.093038, 9.195626, 17.140141, 16.866017000000006, 16.761703, 9.146343, 9.179435, 16.835465, 2.305781], \"marker\": {\"color\": \"#ffa600\", \"line\": {\"color\": \"rgba(68, 68, 68, 0)\", \"width\": 3}, \"size\": 3}, \"mode\": \"markers\", \"type\": \"scattergeo\"}, {\"lat\": [45.445121772727276], \"lon\": [9.203507000000004], \"marker\": {\"color\": \"#ffa600\", \"line\": {\"color\": \"rgba(68, 68, 68, 0)\", \"width\": 3}, \"size\": 13}, \"mode\": \"markers\", \"type\": \"scattergeo\"}, {\"lat\": [45.445121772727276, 41.796592, null, 45.445121772727276, 41.796592, null, 45.445121772727276, 41.796592, null, 45.445121772727276, 40.965832, null, 45.445121772727276, 51.889564, null, 45.445121772727276, 40.934807, null, 45.445121772727276, 40.934807, null, 45.445121772727276, 40.934807, null, 45.445121772727276, 40.934807, null, 45.445121772727276, 40.934807, null, 45.445121772727276, 40.934807, null, 45.445121772727276, 40.934807, null, 45.445121772727276, 45.609527, null, 45.445121772727276, 41.134364, null, 45.445121772727276, 41.134364, null, 45.445121772727276, 41.134364, null, 45.445121772727276, 41.134364, null, 45.445121772727276, 41.134364, null, 45.445121772727276, 41.134364, null, 45.445121772727276, 41.134364, null, 45.445121772727276, 41.134364, null, 45.445121772727276, 41.134364, null, 45.445121772727276, 41.134364, null, 45.445121772727276, 45.461575, null, 45.445121772727276, 45.461575, null, 45.445121772727276, 45.461575, null, 45.445121772727276, 45.461575, null, 45.445121772727276, 45.461575, null, 45.445121772727276, 45.461575, null, 45.445121772727276, 45.461575, null, 45.445121772727276, 45.461575, null, 45.445121772727276, 41.101107, null, 45.445121772727276, 37.470328, null, 45.445121772727276, 37.470328, null, 45.445121772727276, 37.470328, null, 45.445121772727276, 37.470328, null, 45.445121772727276, 37.470328, null, 45.445121772727276, 37.11107, null, 45.445121772727276, 37.11107, null, 45.445121772727276, 37.11107, null, 45.445121772727276, 37.11107, null, 45.445121772727276, 37.521876, null, 45.445121772727276, 38.183165, null, 45.445121772727276, 38.183165, null, 45.445121772727276, 38.183165, null, 45.445121772727276, 37.479796, null, 45.445121772727276, 41.08276400000001, null, 45.445121772727276, 40.580063, null, 45.445121772727276, 40.580063, null, 45.445121772727276, 40.580063, null, 45.445121772727276, 38.139267, null, 45.445121772727276, 40.461311, null, 45.445121772727276, 40.461311, null, 45.445121772727276, 40.461311, null, 45.445121772727276, 40.461311, null, 45.445121772727276, 45.476396, null, 45.445121772727276, 38.844521, null, 45.445121772727276, 40.875038, null, 45.445121772727276, 40.784539, null, 45.445121772727276, 37.471052, null, 45.445121772727276, 37.471052, null, 45.445121772727276, 37.471052, null, 45.445121772727276, 40.742969, null, 45.445121772727276, 40.742969, null, 45.445121772727276, 40.742969, null, 45.445121772727276, 41.796796, null, 45.445121772727276, 40.968234, null, 45.445121772727276, 40.968234, null, 45.445121772727276, 40.968234, null, 45.445121772727276, 40.968234, null, 45.445121772727276, 40.968234, null, 45.445121772727276, 40.968234, null, 45.445121772727276, 40.968234, null, 45.445121772727276, 40.968234, null, 45.445121772727276, 40.968234, null, 45.445121772727276, 40.968234, null, 45.445121772727276, 41.104852, null, 45.445121772727276, 41.104875, null, 45.445121772727276, 41.088979, null, 45.445121772727276, 41.088979, null, 45.445121772727276, 41.088979, null, 45.445121772727276, 38.186421, null, 45.445121772727276, 38.186421, null, 45.445121772727276, 38.186421, null, 45.445121772727276, 40.950369, null, 45.445121772727276, 40.467794, null, 45.445121772727276, 51.496913, null, 45.445121772727276, 51.496913, null, 45.445121772727276, 40.800329, null, 45.445121772727276, 40.800329, null, 45.445121772727276, 38.210319, null, 45.445121772727276, 45.480962, null, 45.445121772727276, 45.647535, null, 45.445121772727276, 40.933466, null, 45.445121772727276, 40.933466, null, 45.445121772727276, 41.088812, null, 45.445121772727276, 45.481162, null, 45.445121772727276, 38.174145, null, 45.445121772727276, 37.476731, null, 45.445121772727276, 37.476731, null, 45.445121772727276, 37.476731, null, 45.445121772727276, 37.476731, null, 45.445121772727276, 37.476731, null, 45.445121772727276, 37.47227, null, 45.445121772727276, 37.47227, null, 45.445121772727276, 37.47227, null, 45.445121772727276, 37.47227, null, 45.445121772727276, 45.408008, null, 45.445121772727276, 39.289249, null, 45.445121772727276, 45.398074, null, 45.445121772727276, 37.478247, null, 45.445121772727276, 45.39952, null, 45.445121772727276, 45.39952, null, 45.445121772727276, 45.39952, null, 45.445121772727276, 45.494615, null, 45.445121772727276, 37.406089, null, 45.445121772727276, 37.479405, null, 45.445121772727276, 37.520086, null, 45.445121772727276, 37.520086, null, 45.445121772727276, 40.874659, null, 45.445121772727276, 41.098825, null, 45.445121772727276, 45.400841, null, 45.445121772727276, 45.400841, null, 45.445121772727276, 40.969643, null, 45.445121772727276, 40.969643, null, 45.445121772727276, 40.969643, null, 45.445121772727276, 41.08905, null, 45.445121772727276, 51.50470900000001, null, 45.445121772727276, 39.67427100000001, null, 45.445121772727276, 39.179982, null, 45.445121772727276, 39.105861, null, 45.445121772727276, 39.105861, null, 45.445121772727276, 41.066404, null, 45.445121772727276, 40.662059, null, 45.445121772727276, 40.911344, null, 45.445121772727276, 40.911344, null, 45.445121772727276, 41.125734, null, 45.445121772727276, 38.439457, null, 45.445121772727276, 42.79234, null, 45.445121772727276, 45.46641500000001, null, 45.445121772727276, 41.0377, null, 45.445121772727276, 41.12493900000001, null, 45.445121772727276, 41.135518, null, 45.445121772727276, 45.399111, null, 45.445121772727276, 45.495094, null, 45.445121772727276, 41.097135, null, 45.445121772727276, 48.873506, null], \"line\": {\"color\": \"#ffa600\", \"width\": 2}, \"locationmode\": \"USA-states\", \"lon\": [9.203507000000004, 12.252417, null, 9.203507000000004, 12.252417, null, 9.203507000000004, 12.252417, null, 9.203507000000004, 16.925718, null, 9.203507000000004, 0.260882, null, 9.203507000000004, 14.148389000000002, null, 9.203507000000004, 14.148389000000002, null, 9.203507000000004, 14.148389000000002, null, 9.203507000000004, 14.148389000000002, null, 9.203507000000004, 14.148389000000002, null, 9.203507000000004, 14.148389000000002, null, 9.203507000000004, 14.148389000000002, null, 9.203507000000004, 8.962086, null, 9.203507000000004, 16.763776999999994, null, 9.203507000000004, 16.763776999999994, null, 9.203507000000004, 16.763776999999994, null, 9.203507000000004, 16.763776999999994, null, 9.203507000000004, 16.763776999999994, null, 9.203507000000004, 16.763776999999994, null, 9.203507000000004, 16.763776999999994, null, 9.203507000000004, 16.763776999999994, null, 9.203507000000004, 16.763776999999994, null, 9.203507000000004, 16.763776999999994, null, 9.203507000000004, 9.278941, null, 9.203507000000004, 9.278941, null, 9.203507000000004, 9.278941, null, 9.203507000000004, 9.278941, null, 9.203507000000004, 9.278941, null, 9.203507000000004, 9.278941, null, 9.203507000000004, 9.278941, null, 9.203507000000004, 9.278941, null, 9.203507000000004, 16.863129, null, 9.203507000000004, 15.066010999999998, null, 9.203507000000004, 15.066010999999998, null, 9.203507000000004, 15.066010999999998, null, 9.203507000000004, 15.066010999999998, null, 9.203507000000004, 15.066010999999998, null, 9.203507000000004, 15.228963, null, 9.203507000000004, 15.228963, null, 9.203507000000004, 15.228963, null, 9.203507000000004, 15.228963, null, 9.203507000000004, 15.114167000000002, null, 9.203507000000004, 13.306417, null, 9.203507000000004, 13.306417, null, 9.203507000000004, 13.306417, null, 9.203507000000004, 15.00991, null, 9.203507000000004, 16.946347, null, 9.203507000000004, 17.838148999999994, null, 9.203507000000004, 17.838148999999994, null, 9.203507000000004, 17.838148999999994, null, 9.203507000000004, 13.357947, null, 9.203507000000004, 17.299256, null, 9.203507000000004, 17.299256, null, 9.203507000000004, 17.299256, null, 9.203507000000004, 17.299256, null, 9.203507000000004, 9.171414, null, 9.203507000000004, 16.646132, null, 9.203507000000004, 14.348917000000002, null, 9.203507000000004, 17.237811999999998, null, 9.203507000000004, 15.047997, null, 9.203507000000004, 15.047997, null, 9.203507000000004, 15.047997, null, 9.203507000000004, 14.480726, null, 9.203507000000004, 14.480726, null, 9.203507000000004, 14.480726, null, 9.203507000000004, 12.255493, null, 9.203507000000004, 16.925210999999994, null, 9.203507000000004, 16.925210999999994, null, 9.203507000000004, 16.925210999999994, null, 9.203507000000004, 16.925210999999994, null, 9.203507000000004, 16.925210999999994, null, 9.203507000000004, 16.925210999999994, null, 9.203507000000004, 16.925210999999994, null, 9.203507000000004, 16.925210999999994, null, 9.203507000000004, 16.925210999999994, null, 9.203507000000004, 16.925210999999994, null, 9.203507000000004, 16.879, null, 9.203507000000004, 16.878792999999998, null, 9.203507000000004, 16.896012, null, 9.203507000000004, 16.896012, null, 9.203507000000004, 16.896012, null, 9.203507000000004, 13.105273, null, 9.203507000000004, 13.105273, null, 9.203507000000004, 13.105273, null, 9.203507000000004, 14.488415, null, 9.203507000000004, 16.937425, null, 9.203507000000004, -0.138891, null, 9.203507000000004, -0.138891, null, 9.203507000000004, 16.923194, null, 9.203507000000004, 16.923194, null, 9.203507000000004, 15.56237, null, 9.203507000000004, 9.125853, null, 9.203507000000004, 8.722964, null, 9.203507000000004, 14.147998, null, 9.203507000000004, 14.147998, null, 9.203507000000004, 16.772388, null, 9.203507000000004, 9.185977, null, 9.203507000000004, 13.218592, null, 9.203507000000004, 15.08307, null, 9.203507000000004, 15.08307, null, 9.203507000000004, 15.08307, null, 9.203507000000004, 15.08307, null, 9.203507000000004, 15.08307, null, 9.203507000000004, 15.049392, null, 9.203507000000004, 15.049392, null, 9.203507000000004, 15.049392, null, 9.203507000000004, 15.049392, null, 9.203507000000004, 9.152614, null, 9.203507000000004, 9.001683, null, 9.203507000000004, 9.15139, null, 9.203507000000004, 15.008284, null, 9.203507000000004, 9.152304, null, 9.203507000000004, 9.152304, null, 9.203507000000004, 9.152304, null, 9.203507000000004, 9.180442, null, 9.203507000000004, 14.932192, null, 9.203507000000004, 15.077139, null, 9.203507000000004, 15.1103, null, 9.203507000000004, 15.1103, null, 9.203507000000004, 14.346328, null, 9.203507000000004, 16.855183, null, 9.203507000000004, 9.14981, null, 9.203507000000004, 9.14981, null, 9.203507000000004, 16.925984, null, 9.203507000000004, 16.925984, null, 9.203507000000004, 16.925984, null, 9.203507000000004, 16.895966, null, 9.203507000000004, -0.077419, null, 9.203507000000004, 16.505205, null, 9.203507000000004, 16.282737, null, 9.203507000000004, 17.096785, null, 9.203507000000004, 17.096785, null, 9.203507000000004, 16.922381, null, 9.203507000000004, 14.427816, null, 9.203507000000004, 14.222588, null, 9.203507000000004, 14.222588, null, 9.203507000000004, 16.864846, null, 9.203507000000004, 15.942819, null, 9.203507000000004, 13.093038, null, 9.203507000000004, 9.195626, null, 9.203507000000004, 17.140141, null, 9.203507000000004, 16.866017000000006, null, 9.203507000000004, 16.761703, null, 9.203507000000004, 9.146343, null, 9.203507000000004, 9.179435, null, 9.203507000000004, 16.835465, null, 9.203507000000004, 2.305781, null], \"mode\": \"lines\", \"opacity\": 0.8, \"type\": \"scattergeo\"}, {\"lat\": [40.467062, 40.467062, 40.467062, 40.467062, 38.952634, 40.752806, 40.752806, 40.752806, 34.985495, 40.689685, 40.689685, 40.689685, 40.689685, 40.689685, 40.689685, 40.689685, 40.689685, 40.689685, 38.856171, 35.666692, 42.366028, 38.853044, 35.76394600000001, 35.626666, 34.994795, 51.472576, 39.903958, 42.36831, 40.413725, 42.369476, 42.366535, 50.04235, 50.04235, 50.04235, 41.898955, 40.696648, 34.693603, 41.899965, 34.669336, 41.900319, 42.92796, 42.92796, 42.92796, 42.92796, 42.92796, 42.92796, 42.92796, 42.92796, 42.92796, 51.501635, 40.723578, 40.728263, 40.415146, 35.759468, 54.650523, 43.700986, 43.208282, 40.694989, 35.762637, -4.032533, 54.643074, 43.203271, 43.203271, 43.203271, 15.592368, 51.520774, 40.407465, 43.211967, 43.211967, 43.20548400000001, 43.20548400000001, 43.20758, 40.767963, 40.055088, 40.415113, 35.661969, -3.4246550000000004, 40.422156, 40.42217700000001, 40.410007, 54.683098, 54.683098, 54.683098, 54.685275, 54.685275, 54.686888, 54.68541800000001, 54.687433, 54.687985, 54.68360500000001, 40.447927, 43.625769, 43.625769, 42.370838, 42.927096, 42.927096, 42.927096, 42.927096, 40.460897, 43.55502, 43.55502, 43.557695, 43.540357, 43.540357, 43.636937, 43.055151, 40.72078, 40.72078, 43.259248, 43.073496, -3.421935, -3.421935, -3.421935, 40.373617, 40.720699, 40.720699, 43.557155, 38.883667, 39.983031, 39.974258, 40.457537, 40.43999, 35.670214, 35.628126, 39.980935, 39.980935, 39.97938900000001, 39.981059, 39.982573, 40.429947], \"lon\": [-3.571587, -3.571587, -3.571587, -3.571587, -77.447906, -73.977175, -73.977175, -73.977175, 135.758593, -74.179387, -74.179387, -74.179387, -74.179387, -74.179387, -74.179387, -74.179387, -74.179387, -74.179387, -77.04294499999997, 139.75813300000002, -71.062081, -77.04231300000002, 140.384631, 139.74036999999998, 135.78491100000002, -0.45104, 116.383491, -71.021547, -3.692243, -71.020035, -71.020904, 8.562497, 8.562497, 8.562497, 12.473044, -74.177392, 135.53253700000002, 12.456464, 135.50306799999998, 12.447582, -71.437612, -71.437612, -71.437612, -71.437612, -71.437612, -71.437612, -71.437612, -71.437612, -71.437612, -0.160144, -74.036677, -74.03475999999998, -3.695333, 140.386391, 24.933257, -72.289659, -71.526036, -74.173722, 140.383644, 39.602494, 25.280786, -71.534386, -71.534386, -71.534386, 32.549658, -0.090916, -3.69495, -71.545952, -71.545952, -71.535983, -71.535983, -71.536596, -73.98168000000003, 116.609055, -3.694679, 139.75989099999998, 37.065139, -3.691879, -3.692003, -3.693548, 25.281609, 25.281609, 25.281609, 25.287352, 25.287352, 25.290549, 25.28535, 25.289272, 25.270636, 25.282978, -3.582863, -72.51659000000002, -72.51659000000002, -71.019603, -71.43922099999997, -71.43922099999997, -71.43922099999997, -71.43922099999997, 50.053819, -73.653319, -73.653319, -73.651324, -73.658688, -73.658688, -72.405611, -73.805656, -74.032718, -74.032718, -71.579921, -73.76961, 37.077205, 37.077205, 37.077205, 49.843297, -74.0332, -74.0332, -73.65505, 121.539066, 116.307803, 116.316892, 50.056787, 50.033755, 139.761452, 139.742428, 116.305497, 116.305497, 116.307192, 116.302252, 116.304373, -3.664934], \"marker\": {\"color\": \"#ffa600\", \"line\": {\"color\": \"rgba(68, 68, 68, 0)\", \"width\": 3}, \"size\": 3}, \"mode\": \"markers\", \"type\": \"scattergeo\"}, {\"lat\": [40.71238009523809], \"lon\": [-74.09914642857144], \"marker\": {\"color\": \"#ffa600\", \"line\": {\"color\": \"rgba(68, 68, 68, 0)\", \"width\": 3}, \"size\": 13}, \"mode\": \"markers\", \"type\": \"scattergeo\"}, {\"lat\": [40.71238009523809, 40.467062, null, 40.71238009523809, 40.467062, null, 40.71238009523809, 40.467062, null, 40.71238009523809, 40.467062, null, 40.71238009523809, 38.952634, null, 40.71238009523809, 40.752806, null, 40.71238009523809, 40.752806, null, 40.71238009523809, 40.752806, null, 40.71238009523809, 34.985495, null, 40.71238009523809, 40.689685, null, 40.71238009523809, 40.689685, null, 40.71238009523809, 40.689685, null, 40.71238009523809, 40.689685, null, 40.71238009523809, 40.689685, null, 40.71238009523809, 40.689685, null, 40.71238009523809, 40.689685, null, 40.71238009523809, 40.689685, null, 40.71238009523809, 40.689685, null, 40.71238009523809, 38.856171, null, 40.71238009523809, 35.666692, null, 40.71238009523809, 42.366028, null, 40.71238009523809, 38.853044, null, 40.71238009523809, 35.76394600000001, null, 40.71238009523809, 35.626666, null, 40.71238009523809, 34.994795, null, 40.71238009523809, 51.472576, null, 40.71238009523809, 39.903958, null, 40.71238009523809, 42.36831, null, 40.71238009523809, 40.413725, null, 40.71238009523809, 42.369476, null, 40.71238009523809, 42.366535, null, 40.71238009523809, 50.04235, null, 40.71238009523809, 50.04235, null, 40.71238009523809, 50.04235, null, 40.71238009523809, 41.898955, null, 40.71238009523809, 40.696648, null, 40.71238009523809, 34.693603, null, 40.71238009523809, 41.899965, null, 40.71238009523809, 34.669336, null, 40.71238009523809, 41.900319, null, 40.71238009523809, 42.92796, null, 40.71238009523809, 42.92796, null, 40.71238009523809, 42.92796, null, 40.71238009523809, 42.92796, null, 40.71238009523809, 42.92796, null, 40.71238009523809, 42.92796, null, 40.71238009523809, 42.92796, null, 40.71238009523809, 42.92796, null, 40.71238009523809, 42.92796, null, 40.71238009523809, 51.501635, null, 40.71238009523809, 40.723578, null, 40.71238009523809, 40.728263, null, 40.71238009523809, 40.415146, null, 40.71238009523809, 35.759468, null, 40.71238009523809, 54.650523, null, 40.71238009523809, 43.700986, null, 40.71238009523809, 43.208282, null, 40.71238009523809, 40.694989, null, 40.71238009523809, 35.762637, null, 40.71238009523809, -4.032533, null, 40.71238009523809, 54.643074, null, 40.71238009523809, 43.203271, null, 40.71238009523809, 43.203271, null, 40.71238009523809, 43.203271, null, 40.71238009523809, 15.592368, null, 40.71238009523809, 51.520774, null, 40.71238009523809, 40.407465, null, 40.71238009523809, 43.211967, null, 40.71238009523809, 43.211967, null, 40.71238009523809, 43.20548400000001, null, 40.71238009523809, 43.20548400000001, null, 40.71238009523809, 43.20758, null, 40.71238009523809, 40.767963, null, 40.71238009523809, 40.055088, null, 40.71238009523809, 40.415113, null, 40.71238009523809, 35.661969, null, 40.71238009523809, -3.4246550000000004, null, 40.71238009523809, 40.422156, null, 40.71238009523809, 40.42217700000001, null, 40.71238009523809, 40.410007, null, 40.71238009523809, 54.683098, null, 40.71238009523809, 54.683098, null, 40.71238009523809, 54.683098, null, 40.71238009523809, 54.685275, null, 40.71238009523809, 54.685275, null, 40.71238009523809, 54.686888, null, 40.71238009523809, 54.68541800000001, null, 40.71238009523809, 54.687433, null, 40.71238009523809, 54.687985, null, 40.71238009523809, 54.68360500000001, null, 40.71238009523809, 40.447927, null, 40.71238009523809, 43.625769, null, 40.71238009523809, 43.625769, null, 40.71238009523809, 42.370838, null, 40.71238009523809, 42.927096, null, 40.71238009523809, 42.927096, null, 40.71238009523809, 42.927096, null, 40.71238009523809, 42.927096, null, 40.71238009523809, 40.460897, null, 40.71238009523809, 43.55502, null, 40.71238009523809, 43.55502, null, 40.71238009523809, 43.557695, null, 40.71238009523809, 43.540357, null, 40.71238009523809, 43.540357, null, 40.71238009523809, 43.636937, null, 40.71238009523809, 43.055151, null, 40.71238009523809, 40.72078, null, 40.71238009523809, 40.72078, null, 40.71238009523809, 43.259248, null, 40.71238009523809, 43.073496, null, 40.71238009523809, -3.421935, null, 40.71238009523809, -3.421935, null, 40.71238009523809, -3.421935, null, 40.71238009523809, 40.373617, null, 40.71238009523809, 40.720699, null, 40.71238009523809, 40.720699, null, 40.71238009523809, 43.557155, null, 40.71238009523809, 38.883667, null, 40.71238009523809, 39.983031, null, 40.71238009523809, 39.974258, null, 40.71238009523809, 40.457537, null, 40.71238009523809, 40.43999, null, 40.71238009523809, 35.670214, null, 40.71238009523809, 35.628126, null, 40.71238009523809, 39.980935, null, 40.71238009523809, 39.980935, null, 40.71238009523809, 39.97938900000001, null, 40.71238009523809, 39.981059, null, 40.71238009523809, 39.982573, null, 40.71238009523809, 40.429947, null], \"line\": {\"color\": \"#ffa600\", \"width\": 2}, \"locationmode\": \"USA-states\", \"lon\": [-74.09914642857144, -3.571587, null, -74.09914642857144, -3.571587, null, -74.09914642857144, -3.571587, null, -74.09914642857144, -3.571587, null, -74.09914642857144, -77.447906, null, -74.09914642857144, -73.977175, null, -74.09914642857144, -73.977175, null, -74.09914642857144, -73.977175, null, -74.09914642857144, 135.758593, null, -74.09914642857144, -74.179387, null, -74.09914642857144, -74.179387, null, -74.09914642857144, -74.179387, null, -74.09914642857144, -74.179387, null, -74.09914642857144, -74.179387, null, -74.09914642857144, -74.179387, null, -74.09914642857144, -74.179387, null, -74.09914642857144, -74.179387, null, -74.09914642857144, -74.179387, null, -74.09914642857144, -77.04294499999997, null, -74.09914642857144, 139.75813300000002, null, -74.09914642857144, -71.062081, null, -74.09914642857144, -77.04231300000002, null, -74.09914642857144, 140.384631, null, -74.09914642857144, 139.74036999999998, null, -74.09914642857144, 135.78491100000002, null, -74.09914642857144, -0.45104, null, -74.09914642857144, 116.383491, null, -74.09914642857144, -71.021547, null, -74.09914642857144, -3.692243, null, -74.09914642857144, -71.020035, null, -74.09914642857144, -71.020904, null, -74.09914642857144, 8.562497, null, -74.09914642857144, 8.562497, null, -74.09914642857144, 8.562497, null, -74.09914642857144, 12.473044, null, -74.09914642857144, -74.177392, null, -74.09914642857144, 135.53253700000002, null, -74.09914642857144, 12.456464, null, -74.09914642857144, 135.50306799999998, null, -74.09914642857144, 12.447582, null, -74.09914642857144, -71.437612, null, -74.09914642857144, -71.437612, null, -74.09914642857144, -71.437612, null, -74.09914642857144, -71.437612, null, -74.09914642857144, -71.437612, null, -74.09914642857144, -71.437612, null, -74.09914642857144, -71.437612, null, -74.09914642857144, -71.437612, null, -74.09914642857144, -71.437612, null, -74.09914642857144, -0.160144, null, -74.09914642857144, -74.036677, null, -74.09914642857144, -74.03475999999998, null, -74.09914642857144, -3.695333, null, -74.09914642857144, 140.386391, null, -74.09914642857144, 24.933257, null, -74.09914642857144, -72.289659, null, -74.09914642857144, -71.526036, null, -74.09914642857144, -74.173722, null, -74.09914642857144, 140.383644, null, -74.09914642857144, 39.602494, null, -74.09914642857144, 25.280786, null, -74.09914642857144, -71.534386, null, -74.09914642857144, -71.534386, null, -74.09914642857144, -71.534386, null, -74.09914642857144, 32.549658, null, -74.09914642857144, -0.090916, null, -74.09914642857144, -3.69495, null, -74.09914642857144, -71.545952, null, -74.09914642857144, -71.545952, null, -74.09914642857144, -71.535983, null, -74.09914642857144, -71.535983, null, -74.09914642857144, -71.536596, null, -74.09914642857144, -73.98168000000003, null, -74.09914642857144, 116.609055, null, -74.09914642857144, -3.694679, null, -74.09914642857144, 139.75989099999998, null, -74.09914642857144, 37.065139, null, -74.09914642857144, -3.691879, null, -74.09914642857144, -3.692003, null, -74.09914642857144, -3.693548, null, -74.09914642857144, 25.281609, null, -74.09914642857144, 25.281609, null, -74.09914642857144, 25.281609, null, -74.09914642857144, 25.287352, null, -74.09914642857144, 25.287352, null, -74.09914642857144, 25.290549, null, -74.09914642857144, 25.28535, null, -74.09914642857144, 25.289272, null, -74.09914642857144, 25.270636, null, -74.09914642857144, 25.282978, null, -74.09914642857144, -3.582863, null, -74.09914642857144, -72.51659000000002, null, -74.09914642857144, -72.51659000000002, null, -74.09914642857144, -71.019603, null, -74.09914642857144, -71.43922099999997, null, -74.09914642857144, -71.43922099999997, null, -74.09914642857144, -71.43922099999997, null, -74.09914642857144, -71.43922099999997, null, -74.09914642857144, 50.053819, null, -74.09914642857144, -73.653319, null, -74.09914642857144, -73.653319, null, -74.09914642857144, -73.651324, null, -74.09914642857144, -73.658688, null, -74.09914642857144, -73.658688, null, -74.09914642857144, -72.405611, null, -74.09914642857144, -73.805656, null, -74.09914642857144, -74.032718, null, -74.09914642857144, -74.032718, null, -74.09914642857144, -71.579921, null, -74.09914642857144, -73.76961, null, -74.09914642857144, 37.077205, null, -74.09914642857144, 37.077205, null, -74.09914642857144, 37.077205, null, -74.09914642857144, 49.843297, null, -74.09914642857144, -74.0332, null, -74.09914642857144, -74.0332, null, -74.09914642857144, -73.65505, null, -74.09914642857144, 121.539066, null, -74.09914642857144, 116.307803, null, -74.09914642857144, 116.316892, null, -74.09914642857144, 50.056787, null, -74.09914642857144, 50.033755, null, -74.09914642857144, 139.761452, null, -74.09914642857144, 139.742428, null, -74.09914642857144, 116.305497, null, -74.09914642857144, 116.305497, null, -74.09914642857144, 116.307192, null, -74.09914642857144, 116.302252, null, -74.09914642857144, 116.304373, null, -74.09914642857144, -3.664934, null], \"mode\": \"lines\", \"opacity\": 0.8, \"type\": \"scattergeo\"}],                        {\"geo\": {\"countrycolor\": \"rgb(204, 204, 204)\", \"landcolor\": \"rgb(243, 243, 243)\", \"projection\": {\"type\": \"natural earth\"}, \"showland\": true}, \"height\": 700, \"showlegend\": false, \"template\": {\"data\": {\"bar\": [{\"error_x\": {\"color\": \"#2a3f5f\"}, \"error_y\": {\"color\": \"#2a3f5f\"}, \"marker\": {\"line\": {\"color\": \"#E5ECF6\", \"width\": 0.5}}, \"type\": \"bar\"}], \"barpolar\": [{\"marker\": {\"line\": {\"color\": \"#E5ECF6\", \"width\": 0.5}}, \"type\": \"barpolar\"}], \"carpet\": [{\"aaxis\": {\"endlinecolor\": \"#2a3f5f\", \"gridcolor\": \"white\", \"linecolor\": \"white\", \"minorgridcolor\": \"white\", \"startlinecolor\": \"#2a3f5f\"}, \"baxis\": {\"endlinecolor\": \"#2a3f5f\", \"gridcolor\": \"white\", \"linecolor\": \"white\", \"minorgridcolor\": \"white\", \"startlinecolor\": \"#2a3f5f\"}, \"type\": \"carpet\"}], \"choropleth\": [{\"colorbar\": {\"outlinewidth\": 0, \"ticks\": \"\"}, \"type\": \"choropleth\"}], \"contour\": [{\"colorbar\": {\"outlinewidth\": 0, \"ticks\": \"\"}, \"colorscale\": [[0.0, \"#0d0887\"], [0.1111111111111111, \"#46039f\"], [0.2222222222222222, \"#7201a8\"], [0.3333333333333333, \"#9c179e\"], [0.4444444444444444, \"#bd3786\"], [0.5555555555555556, \"#d8576b\"], [0.6666666666666666, \"#ed7953\"], [0.7777777777777778, \"#fb9f3a\"], [0.8888888888888888, \"#fdca26\"], [1.0, \"#f0f921\"]], \"type\": \"contour\"}], \"contourcarpet\": [{\"colorbar\": {\"outlinewidth\": 0, \"ticks\": \"\"}, \"type\": \"contourcarpet\"}], \"heatmap\": [{\"colorbar\": {\"outlinewidth\": 0, \"ticks\": \"\"}, \"colorscale\": [[0.0, \"#0d0887\"], [0.1111111111111111, \"#46039f\"], [0.2222222222222222, \"#7201a8\"], [0.3333333333333333, \"#9c179e\"], [0.4444444444444444, \"#bd3786\"], [0.5555555555555556, \"#d8576b\"], [0.6666666666666666, \"#ed7953\"], [0.7777777777777778, \"#fb9f3a\"], [0.8888888888888888, \"#fdca26\"], [1.0, \"#f0f921\"]], \"type\": \"heatmap\"}], \"heatmapgl\": [{\"colorbar\": {\"outlinewidth\": 0, \"ticks\": \"\"}, \"colorscale\": [[0.0, \"#0d0887\"], [0.1111111111111111, \"#46039f\"], [0.2222222222222222, \"#7201a8\"], [0.3333333333333333, \"#9c179e\"], [0.4444444444444444, \"#bd3786\"], [0.5555555555555556, \"#d8576b\"], [0.6666666666666666, \"#ed7953\"], [0.7777777777777778, \"#fb9f3a\"], [0.8888888888888888, \"#fdca26\"], [1.0, \"#f0f921\"]], \"type\": \"heatmapgl\"}], \"histogram\": [{\"marker\": {\"colorbar\": {\"outlinewidth\": 0, \"ticks\": \"\"}}, \"type\": \"histogram\"}], \"histogram2d\": [{\"colorbar\": {\"outlinewidth\": 0, \"ticks\": \"\"}, \"colorscale\": [[0.0, \"#0d0887\"], [0.1111111111111111, \"#46039f\"], [0.2222222222222222, \"#7201a8\"], [0.3333333333333333, \"#9c179e\"], [0.4444444444444444, \"#bd3786\"], [0.5555555555555556, \"#d8576b\"], [0.6666666666666666, \"#ed7953\"], [0.7777777777777778, \"#fb9f3a\"], [0.8888888888888888, \"#fdca26\"], [1.0, \"#f0f921\"]], \"type\": \"histogram2d\"}], \"histogram2dcontour\": [{\"colorbar\": {\"outlinewidth\": 0, \"ticks\": \"\"}, \"colorscale\": [[0.0, \"#0d0887\"], [0.1111111111111111, \"#46039f\"], [0.2222222222222222, \"#7201a8\"], [0.3333333333333333, \"#9c179e\"], [0.4444444444444444, \"#bd3786\"], [0.5555555555555556, \"#d8576b\"], [0.6666666666666666, \"#ed7953\"], [0.7777777777777778, \"#fb9f3a\"], [0.8888888888888888, \"#fdca26\"], [1.0, \"#f0f921\"]], \"type\": \"histogram2dcontour\"}], \"mesh3d\": [{\"colorbar\": {\"outlinewidth\": 0, \"ticks\": \"\"}, \"type\": \"mesh3d\"}], \"parcoords\": [{\"line\": {\"colorbar\": {\"outlinewidth\": 0, \"ticks\": \"\"}}, \"type\": \"parcoords\"}], \"pie\": [{\"automargin\": true, \"type\": \"pie\"}], \"scatter\": [{\"marker\": {\"colorbar\": {\"outlinewidth\": 0, \"ticks\": \"\"}}, \"type\": \"scatter\"}], \"scatter3d\": [{\"line\": {\"colorbar\": {\"outlinewidth\": 0, \"ticks\": \"\"}}, \"marker\": {\"colorbar\": {\"outlinewidth\": 0, \"ticks\": \"\"}}, \"type\": \"scatter3d\"}], \"scattercarpet\": [{\"marker\": {\"colorbar\": {\"outlinewidth\": 0, \"ticks\": \"\"}}, \"type\": \"scattercarpet\"}], \"scattergeo\": [{\"marker\": {\"colorbar\": {\"outlinewidth\": 0, \"ticks\": \"\"}}, \"type\": \"scattergeo\"}], \"scattergl\": [{\"marker\": {\"colorbar\": {\"outlinewidth\": 0, \"ticks\": \"\"}}, \"type\": \"scattergl\"}], \"scattermapbox\": [{\"marker\": {\"colorbar\": {\"outlinewidth\": 0, \"ticks\": \"\"}}, \"type\": \"scattermapbox\"}], \"scatterpolar\": [{\"marker\": {\"colorbar\": {\"outlinewidth\": 0, \"ticks\": \"\"}}, \"type\": \"scatterpolar\"}], \"scatterpolargl\": [{\"marker\": {\"colorbar\": {\"outlinewidth\": 0, \"ticks\": \"\"}}, \"type\": \"scatterpolargl\"}], \"scatterternary\": [{\"marker\": {\"colorbar\": {\"outlinewidth\": 0, \"ticks\": \"\"}}, \"type\": \"scatterternary\"}], \"surface\": [{\"colorbar\": {\"outlinewidth\": 0, \"ticks\": \"\"}, \"colorscale\": [[0.0, \"#0d0887\"], [0.1111111111111111, \"#46039f\"], [0.2222222222222222, \"#7201a8\"], [0.3333333333333333, \"#9c179e\"], [0.4444444444444444, \"#bd3786\"], [0.5555555555555556, \"#d8576b\"], [0.6666666666666666, \"#ed7953\"], [0.7777777777777778, \"#fb9f3a\"], [0.8888888888888888, \"#fdca26\"], [1.0, \"#f0f921\"]], \"type\": \"surface\"}], \"table\": [{\"cells\": {\"fill\": {\"color\": \"#EBF0F8\"}, \"line\": {\"color\": \"white\"}}, \"header\": {\"fill\": {\"color\": \"#C8D4E3\"}, \"line\": {\"color\": \"white\"}}, \"type\": \"table\"}]}, \"layout\": {\"annotationdefaults\": {\"arrowcolor\": \"#2a3f5f\", \"arrowhead\": 0, \"arrowwidth\": 1}, \"coloraxis\": {\"colorbar\": {\"outlinewidth\": 0, \"ticks\": \"\"}}, \"colorscale\": {\"diverging\": [[0, \"#8e0152\"], [0.1, \"#c51b7d\"], [0.2, \"#de77ae\"], [0.3, \"#f1b6da\"], [0.4, \"#fde0ef\"], [0.5, \"#f7f7f7\"], [0.6, \"#e6f5d0\"], [0.7, \"#b8e186\"], [0.8, \"#7fbc41\"], [0.9, \"#4d9221\"], [1, \"#276419\"]], \"sequential\": [[0.0, \"#0d0887\"], [0.1111111111111111, \"#46039f\"], [0.2222222222222222, \"#7201a8\"], [0.3333333333333333, \"#9c179e\"], [0.4444444444444444, \"#bd3786\"], [0.5555555555555556, \"#d8576b\"], [0.6666666666666666, \"#ed7953\"], [0.7777777777777778, \"#fb9f3a\"], [0.8888888888888888, \"#fdca26\"], [1.0, \"#f0f921\"]], \"sequentialminus\": [[0.0, \"#0d0887\"], [0.1111111111111111, \"#46039f\"], [0.2222222222222222, \"#7201a8\"], [0.3333333333333333, \"#9c179e\"], [0.4444444444444444, \"#bd3786\"], [0.5555555555555556, \"#d8576b\"], [0.6666666666666666, \"#ed7953\"], [0.7777777777777778, \"#fb9f3a\"], [0.8888888888888888, \"#fdca26\"], [1.0, \"#f0f921\"]]}, \"colorway\": [\"#636efa\", \"#EF553B\", \"#00cc96\", \"#ab63fa\", \"#FFA15A\", \"#19d3f3\", \"#FF6692\", \"#B6E880\", \"#FF97FF\", \"#FECB52\"], \"font\": {\"color\": \"#2a3f5f\"}, \"geo\": {\"bgcolor\": \"white\", \"lakecolor\": \"white\", \"landcolor\": \"#E5ECF6\", \"showlakes\": true, \"showland\": true, \"subunitcolor\": \"white\"}, \"hoverlabel\": {\"align\": \"left\"}, \"hovermode\": \"closest\", \"mapbox\": {\"style\": \"light\"}, \"paper_bgcolor\": \"white\", \"plot_bgcolor\": \"#E5ECF6\", \"polar\": {\"angularaxis\": {\"gridcolor\": \"white\", \"linecolor\": \"white\", \"ticks\": \"\"}, \"bgcolor\": \"#E5ECF6\", \"radialaxis\": {\"gridcolor\": \"white\", \"linecolor\": \"white\", \"ticks\": \"\"}}, \"scene\": {\"xaxis\": {\"backgroundcolor\": \"#E5ECF6\", \"gridcolor\": \"white\", \"gridwidth\": 2, \"linecolor\": \"white\", \"showbackground\": true, \"ticks\": \"\", \"zerolinecolor\": \"white\"}, \"yaxis\": {\"backgroundcolor\": \"#E5ECF6\", \"gridcolor\": \"white\", \"gridwidth\": 2, \"linecolor\": \"white\", \"showbackground\": true, \"ticks\": \"\", \"zerolinecolor\": \"white\"}, \"zaxis\": {\"backgroundcolor\": \"#E5ECF6\", \"gridcolor\": \"white\", \"gridwidth\": 2, \"linecolor\": \"white\", \"showbackground\": true, \"ticks\": \"\", \"zerolinecolor\": \"white\"}}, \"shapedefaults\": {\"line\": {\"color\": \"#2a3f5f\"}}, \"ternary\": {\"aaxis\": {\"gridcolor\": \"white\", \"linecolor\": \"white\", \"ticks\": \"\"}, \"baxis\": {\"gridcolor\": \"white\", \"linecolor\": \"white\", \"ticks\": \"\"}, \"bgcolor\": \"#E5ECF6\", \"caxis\": {\"gridcolor\": \"white\", \"linecolor\": \"white\", \"ticks\": \"\"}}, \"title\": {\"x\": 0.05}, \"xaxis\": {\"automargin\": true, \"gridcolor\": \"white\", \"linecolor\": \"white\", \"ticks\": \"\", \"title\": {\"standoff\": 15}, \"zerolinecolor\": \"white\", \"zerolinewidth\": 2}, \"yaxis\": {\"automargin\": true, \"gridcolor\": \"white\", \"linecolor\": \"white\", \"ticks\": \"\", \"title\": {\"standoff\": 15}, \"zerolinecolor\": \"white\", \"zerolinewidth\": 2}}}, \"title\": {\"text\": \"User mobility for high (orange) and low (purple) travel scores\", \"x\": 0.5, \"xanchor\": \"center\", \"y\": 0.85, \"yanchor\": \"top\"}},                        {\"responsive\": true}                    ).then(function(){\n",
       "                            \n",
       "var gd = document.getElementById('c7c3fd8f-280b-405f-bb0f-b4695087995b');\n",
       "var x = new MutationObserver(function (mutations, observer) {{\n",
       "        var display = window.getComputedStyle(gd).display;\n",
       "        if (!display || display === 'none') {{\n",
       "            console.log([gd, 'removed!']);\n",
       "            Plotly.purge(gd);\n",
       "            observer.disconnect();\n",
       "        }}\n",
       "}});\n",
       "\n",
       "// Listen for the removal of the full notebook cells\n",
       "var notebookContainer = gd.closest('#notebook-container');\n",
       "if (notebookContainer) {{\n",
       "    x.observe(notebookContainer, {childList: true});\n",
       "}}\n",
       "\n",
       "// Listen for the clearing of the current output cell\n",
       "var outputEl = gd.closest('.output');\n",
       "if (outputEl) {{\n",
       "    x.observe(outputEl, {childList: true});\n",
       "}}\n",
       "\n",
       "                        })                };                });            </script>        </div>"
      ]
     },
     "metadata": {},
     "output_type": "display_data"
    }
   ],
   "source": [
    "fig = go.Figure()\n",
    "\n",
    "colors = ['#c3528c', '#c3528c', '#c3528c',\n",
    "          '#ffa600', '#ffa600', '#ffa600']\n",
    "\n",
    "users_low = np.array(user_score_df[user_score_df.travel_score_distance<0.3].user_id.sample(3))\n",
    "users_high = np.array(user_score_df[user_score_df.travel_score_distance>0.6].user_id.sample(3))\n",
    "users = np.concatenate((users_low, users_high))\n",
    "\n",
    "for i,u in enumerate(users):\n",
    "    df = home_and_checkins_df[home_and_checkins_df.user_id == u]\n",
    "    \n",
    "    fig.add_trace(go.Scattergeo(\n",
    "        lon = df['longitude'],\n",
    "        lat = df['latitude'],\n",
    "        hoverinfo = None,\n",
    "        mode = 'markers',\n",
    "        marker = dict(\n",
    "            size = 3,\n",
    "            color = colors[i],\n",
    "            line = dict(\n",
    "                width = 3,\n",
    "                color = 'rgba(68, 68, 68, 0)'\n",
    "            )\n",
    "        )))\n",
    "\n",
    "    fig.add_trace(go.Scattergeo(\n",
    "        lon = df.head(1)['home_longitude'],\n",
    "        lat = df.head(1)['home_latitude'],\n",
    "        hoverinfo = None,\n",
    "        mode = 'markers',\n",
    "        marker = dict(\n",
    "            size = 13,\n",
    "            color = colors[i],\n",
    "            line = dict(\n",
    "                width = 3,\n",
    "                color = 'rgba(68, 68, 68, 0)'\n",
    "            )\n",
    "        )))\n",
    "\n",
    "    lons = []\n",
    "    lats = []\n",
    "    lons = np.empty(3 * len(df))\n",
    "    lons[::3] = df['home_longitude']\n",
    "    lons[1::3] = df['longitude']\n",
    "    lons[2::3] = None\n",
    "    lats = np.empty(3 * len(df))\n",
    "    lats[::3] = df['home_latitude']\n",
    "    lats[1::3] = df['latitude']\n",
    "    lats[2::3] = None\n",
    "\n",
    "    fig.add_trace(\n",
    "        go.Scattergeo(\n",
    "            locationmode = 'USA-states',\n",
    "            lon = lons,\n",
    "            lat = lats,\n",
    "            mode = 'lines',\n",
    "            line = dict(width = 2,color = colors[i]),\n",
    "            opacity = 0.8\n",
    "        )\n",
    "    )\n",
    "\n",
    "fig.update_layout(\n",
    "    title={\n",
    "        'text': 'User mobility for high (orange) and low (purple) travel scores',\n",
    "        'y':0.85,\n",
    "        'x':0.5,\n",
    "        'xanchor': 'center',\n",
    "        'yanchor': 'top'},\n",
    "    showlegend = False,\n",
    "    geo = go.layout.Geo(\n",
    "        #scope = 'north america',\n",
    "        projection_type = 'natural earth',\n",
    "        showland = True,\n",
    "        landcolor = 'rgb(243, 243, 243)',\n",
    "        countrycolor = 'rgb(204, 204, 204)',\n",
    "    ),\n",
    "    height=700,\n",
    ")\n",
    "\n",
    "fig.show()"
   ]
  },
  {
   "cell_type": "markdown",
   "metadata": {},
   "source": [
    "We can clearly see that users with a higher travel score tend to have a lot more check-ins abroad, and much further away than none travelers."
   ]
  },
  {
   "cell_type": "markdown",
   "metadata": {},
   "source": [
    "---\n",
    "## Part 4: User scores"
   ]
  },
  {
   "cell_type": "markdown",
   "metadata": {},
   "source": [
    "We create a dataframe with the three user scores:\n",
    "* Social Score\n",
    "* Travel Score (distance)\n",
    "* Travel Score (category)"
   ]
  },
  {
   "cell_type": "code",
   "execution_count": 298,
   "metadata": {
    "scrolled": true
   },
   "outputs": [
    {
     "data": {
      "text/html": [
       "<div>\n",
       "<style scoped>\n",
       "    .dataframe tbody tr th:only-of-type {\n",
       "        vertical-align: middle;\n",
       "    }\n",
       "\n",
       "    .dataframe tbody tr th {\n",
       "        vertical-align: top;\n",
       "    }\n",
       "\n",
       "    .dataframe thead th {\n",
       "        text-align: right;\n",
       "    }\n",
       "</style>\n",
       "<table border=\"1\" class=\"dataframe\">\n",
       "  <thead>\n",
       "    <tr style=\"text-align: right;\">\n",
       "      <th></th>\n",
       "      <th>user_id</th>\n",
       "      <th>social_score</th>\n",
       "      <th>travel_score_distance</th>\n",
       "      <th>travel_score_category</th>\n",
       "    </tr>\n",
       "  </thead>\n",
       "  <tbody>\n",
       "    <tr>\n",
       "      <th>33468</th>\n",
       "      <td>592246</td>\n",
       "      <td>1.703226</td>\n",
       "      <td>0.122984</td>\n",
       "      <td>0.070565</td>\n",
       "    </tr>\n",
       "    <tr>\n",
       "      <th>39901</th>\n",
       "      <td>745588</td>\n",
       "      <td>1.911811</td>\n",
       "      <td>0.251969</td>\n",
       "      <td>0.157480</td>\n",
       "    </tr>\n",
       "    <tr>\n",
       "      <th>52618</th>\n",
       "      <td>1077785</td>\n",
       "      <td>1.917647</td>\n",
       "      <td>0.058824</td>\n",
       "      <td>0.023529</td>\n",
       "    </tr>\n",
       "  </tbody>\n",
       "</table>\n",
       "</div>"
      ],
      "text/plain": [
       "       user_id  social_score  travel_score_distance  travel_score_category\n",
       "33468   592246      1.703226               0.122984               0.070565\n",
       "39901   745588      1.911811               0.251969               0.157480\n",
       "52618  1077785      1.917647               0.058824               0.023529"
      ]
     },
     "execution_count": 298,
     "metadata": {},
     "output_type": "execute_result"
    }
   ],
   "source": [
    "# Create user score dataframe\n",
    "user_score_df = user_social_score_df.copy()\n",
    "\n",
    "# Remove unnecessary columns\n",
    "travel_score_df = travel_df.drop(['number_of_checkins', \n",
    "                                  'number_of_travel_checkins_distance', \n",
    "                                  'number_of_travel_checkins_category'],axis=1)\n",
    "\n",
    "# Merge dataframes to get user score dataframe\n",
    "user_score_df = pd.merge(user_score_df, travel_score_df, on='user_id')\n",
    "\n",
    "# Rename columns\n",
    "user_score_df.columns = ['user_id', 'social_score', 'travel_score_distance', 'travel_score_category']\n",
    "\n",
    "# Visualise dataframe\n",
    "user_score_df.sample(3)"
   ]
  },
  {
   "cell_type": "markdown",
   "metadata": {},
   "source": [
    "We normalise the scores."
   ]
  },
  {
   "cell_type": "code",
   "execution_count": 301,
   "metadata": {},
   "outputs": [
    {
     "data": {
      "text/html": [
       "<div>\n",
       "<style scoped>\n",
       "    .dataframe tbody tr th:only-of-type {\n",
       "        vertical-align: middle;\n",
       "    }\n",
       "\n",
       "    .dataframe tbody tr th {\n",
       "        vertical-align: top;\n",
       "    }\n",
       "\n",
       "    .dataframe thead th {\n",
       "        text-align: right;\n",
       "    }\n",
       "</style>\n",
       "<table border=\"1\" class=\"dataframe\">\n",
       "  <thead>\n",
       "    <tr style=\"text-align: right;\">\n",
       "      <th></th>\n",
       "      <th>user_id</th>\n",
       "      <th>social_score</th>\n",
       "      <th>travel_score_distance</th>\n",
       "      <th>travel_score_category</th>\n",
       "    </tr>\n",
       "  </thead>\n",
       "  <tbody>\n",
       "    <tr>\n",
       "      <th>47404</th>\n",
       "      <td>930957</td>\n",
       "      <td>0.557731</td>\n",
       "      <td>0.045919</td>\n",
       "      <td>0.080561</td>\n",
       "    </tr>\n",
       "    <tr>\n",
       "      <th>28186</th>\n",
       "      <td>479412</td>\n",
       "      <td>0.392500</td>\n",
       "      <td>0.494235</td>\n",
       "      <td>0.228665</td>\n",
       "    </tr>\n",
       "    <tr>\n",
       "      <th>39309</th>\n",
       "      <td>730610</td>\n",
       "      <td>0.406005</td>\n",
       "      <td>0.077396</td>\n",
       "      <td>0.239554</td>\n",
       "    </tr>\n",
       "  </tbody>\n",
       "</table>\n",
       "</div>"
      ],
      "text/plain": [
       "       user_id  social_score  travel_score_distance  travel_score_category\n",
       "47404   930957      0.557731               0.045919               0.080561\n",
       "28186   479412      0.392500               0.494235               0.228665\n",
       "39309   730610      0.406005               0.077396               0.239554"
      ]
     },
     "execution_count": 301,
     "metadata": {},
     "output_type": "execute_result"
    }
   ],
   "source": [
    "# Copy dataframe\n",
    "user_score_norm_df = user_score_df.copy()\n",
    "\n",
    "# Normalise scores\n",
    "user_score_norm_df['social_score'] = (user_score_norm_df.social_score - \\\n",
    "                                      user_score_norm_df.social_score.min()) / \\\n",
    "                                      (user_score_norm_df.social_score.max() - \\\n",
    "                                       user_score_norm_df.social_score.min())\n",
    "\n",
    "user_score_norm_df['travel_score_distance'] = (user_score_norm_df.travel_score_distance - \\\n",
    "                                               user_score_norm_df.travel_score_distance.min()) / \\\n",
    "                                               (user_score_norm_df.travel_score_distance.max() - \\\n",
    "                                                user_score_norm_df.travel_score_distance.min())\n",
    "\n",
    "user_score_norm_df['travel_score_category'] = (user_score_norm_df.travel_score_category - \\\n",
    "                                               user_score_norm_df.travel_score_category.min()) / \\\n",
    "                                                (user_score_norm_df.travel_score_category.max() - \\\n",
    "                                                 user_score_norm_df.travel_score_category.min())\n",
    "\n",
    "user_score_norm_df.sample(3)"
   ]
  },
  {
   "cell_type": "code",
   "execution_count": null,
   "metadata": {},
   "outputs": [],
   "source": [
    "# Normalise the scores \n",
    "user_score_norm_df['display_social'] = user_score_norm_df['country'] + ': ' + \\\n",
    "                                          round(user_score_norm_df['social_score'],4).astype(str)\n",
    "\n",
    "user_score_norm_df['display_travel_distance'] = user_score_norm_df['country'] + ': ' + \\\n",
    "                                                   round(user_score_norm_df['travel_score_distance'],4).astype(str)\n",
    "\n",
    "user_score_norm_df['display_travel_category'] = user_score_norm_df['country'] + ': ' + \\\n",
    "                                                   round(user_score_country_df['travel_score_category'],4).astype(str)"
   ]
  },
  {
   "cell_type": "markdown",
   "metadata": {},
   "source": [
    "We merge with the home location dataframe, groupby the country and calculate the mean of each score per country."
   ]
  },
  {
   "cell_type": "code",
   "execution_count": 303,
   "metadata": {},
   "outputs": [
    {
     "data": {
      "text/html": [
       "<div>\n",
       "<style scoped>\n",
       "    .dataframe tbody tr th:only-of-type {\n",
       "        vertical-align: middle;\n",
       "    }\n",
       "\n",
       "    .dataframe tbody tr th {\n",
       "        vertical-align: top;\n",
       "    }\n",
       "\n",
       "    .dataframe thead th {\n",
       "        text-align: right;\n",
       "    }\n",
       "</style>\n",
       "<table border=\"1\" class=\"dataframe\">\n",
       "  <thead>\n",
       "    <tr style=\"text-align: right;\">\n",
       "      <th></th>\n",
       "      <th>country_code</th>\n",
       "      <th>country</th>\n",
       "      <th>user_id</th>\n",
       "      <th>social_score</th>\n",
       "      <th>travel_score_distance</th>\n",
       "      <th>travel_score_category</th>\n",
       "      <th>display_social</th>\n",
       "      <th>display_travel_distance</th>\n",
       "      <th>display_travel_category</th>\n",
       "    </tr>\n",
       "  </thead>\n",
       "  <tbody>\n",
       "    <tr>\n",
       "      <th>115</th>\n",
       "      <td>SAU</td>\n",
       "      <td>Saudi Arabia</td>\n",
       "      <td>1.000589e+06</td>\n",
       "      <td>0.399812</td>\n",
       "      <td>0.218580</td>\n",
       "      <td>0.121735</td>\n",
       "      <td>Saudi Arabia: 0.3998</td>\n",
       "      <td>Saudi Arabia: 0.2186</td>\n",
       "      <td>Saudi Arabia: 0.1217</td>\n",
       "    </tr>\n",
       "    <tr>\n",
       "      <th>45</th>\n",
       "      <td>FRA</td>\n",
       "      <td>France</td>\n",
       "      <td>7.463984e+05</td>\n",
       "      <td>0.499052</td>\n",
       "      <td>0.213567</td>\n",
       "      <td>0.171448</td>\n",
       "      <td>France: 0.4991</td>\n",
       "      <td>France: 0.2136</td>\n",
       "      <td>France: 0.1714</td>\n",
       "    </tr>\n",
       "    <tr>\n",
       "      <th>110</th>\n",
       "      <td>PYF</td>\n",
       "      <td>French Polynesia</td>\n",
       "      <td>9.976900e+05</td>\n",
       "      <td>0.514540</td>\n",
       "      <td>0.102527</td>\n",
       "      <td>0.061045</td>\n",
       "      <td>French Polynesia: 0.5145</td>\n",
       "      <td>French Polynesia: 0.1025</td>\n",
       "      <td>French Polynesia: 0.061</td>\n",
       "    </tr>\n",
       "  </tbody>\n",
       "</table>\n",
       "</div>"
      ],
      "text/plain": [
       "    country_code           country       user_id  social_score  \\\n",
       "115          SAU      Saudi Arabia  1.000589e+06      0.399812   \n",
       "45           FRA            France  7.463984e+05      0.499052   \n",
       "110          PYF  French Polynesia  9.976900e+05      0.514540   \n",
       "\n",
       "     travel_score_distance  travel_score_category            display_social  \\\n",
       "115               0.218580               0.121735      Saudi Arabia: 0.3998   \n",
       "45                0.213567               0.171448            France: 0.4991   \n",
       "110               0.102527               0.061045  French Polynesia: 0.5145   \n",
       "\n",
       "      display_travel_distance  display_travel_category  \n",
       "115      Saudi Arabia: 0.2186     Saudi Arabia: 0.1217  \n",
       "45             France: 0.2136           France: 0.1714  \n",
       "110  French Polynesia: 0.1025  French Polynesia: 0.061  "
      ]
     },
     "execution_count": 303,
     "metadata": {},
     "output_type": "execute_result"
    }
   ],
   "source": [
    "# Merge dataframes\n",
    "user_score_home_df = pd.merge(user_score_norm_df, home_df, on='user_id')\n",
    "user_score_home_df = user_score_home_df.drop(['home_latitude', 'home_longitude'], axis=1)\n",
    "\n",
    "# Grouby country\n",
    "user_score_country_df = user_score_home_df.groupby(['country_code','country']).mean().reset_index()\n",
    "user_score_country_df.drop('user_id', axis=1)\n",
    "\n",
    "# New columns for plot display\n",
    "user_score_country_df['display_social'] = user_score_country_df['country'] + ': ' + \\\n",
    "                                          round(user_score_country_df['social_score'],4).astype(str)\n",
    "user_score_country_df['display_travel_distance'] = user_score_country_df['country'] + ': ' + \\\n",
    "                                                   round(user_score_country_df['travel_score_distance'],4).astype(str)\n",
    "user_score_country_df['display_travel_category'] = user_score_country_df['country'] + ': ' + \\\n",
    "                                                   round(user_score_country_df['travel_score_category'],4).astype(str)\n",
    "\n",
    "# Visualise the dataframe\n",
    "user_score_country_df.sample(3)"
   ]
  },
  {
   "cell_type": "code",
   "execution_count": 333,
   "metadata": {},
   "outputs": [
    {
     "data": {
      "application/vnd.plotly.v1+json": {
       "config": {
        "plotlyServerURL": "https://plot.ly"
       },
       "data": [
        {
         "colorbar": {
          "title": {
           "text": "Score"
          }
         },
         "colorscale": [
          [
           0,
           "#003f5c"
          ],
          [
           0.05263157894736842,
           "#1e4365"
          ],
          [
           0.10526315789473684,
           "#32466e"
          ],
          [
           0.15789473684210525,
           "#454a76"
          ],
          [
           0.21052631578947367,
           "#574c7d"
          ],
          [
           0.2631578947368421,
           "#684e82"
          ],
          [
           0.3157894736842105,
           "#7a5087"
          ],
          [
           0.3684210526315789,
           "#8d518b"
          ],
          [
           0.42105263157894735,
           "#9f518e"
          ],
          [
           0.47368421052631576,
           "#b25190"
          ],
          [
           0.5263157894736842,
           "#c3528c"
          ],
          [
           0.5789473684210527,
           "#d15782"
          ],
          [
           0.631578947368421,
           "#dc5d78"
          ],
          [
           0.6842105263157895,
           "#e6656e"
          ],
          [
           0.7368421052631579,
           "#ef6e63"
          ],
          [
           0.7894736842105263,
           "#f57858"
          ],
          [
           0.8421052631578947,
           "#fa824b"
          ],
          [
           0.8947368421052632,
           "#fd8e3c"
          ],
          [
           0.9473684210526315,
           "#ff9a29"
          ],
          [
           1,
           "#ffa600"
          ]
         ],
         "hovertemplate": "Score: %{z}<extra></extra>",
         "locations": [
          "ABW",
          "AGO",
          "ALA",
          "AND",
          "ARE",
          "ARG",
          "ARM",
          "AUS",
          "AUT",
          "AZE",
          "BEL",
          "BEN",
          "BFA",
          "BGD",
          "BGR",
          "BHR",
          "BHS",
          "BIH",
          "BLR",
          "BOL",
          "BRA",
          "BRB",
          "BRN",
          "BWA",
          "CAN",
          "CHE",
          "CHL",
          "CHN",
          "CIV",
          "CMR",
          "COD",
          "COL",
          "CRI",
          "CYM",
          "CYP",
          "CZE",
          "DEU",
          "DNK",
          "DOM",
          "ECU",
          "EGY",
          "ESP",
          "EST",
          "FIN",
          "FJI",
          "FRA",
          "GBR",
          "GEO",
          "GGY",
          "GHA",
          "GLP",
          "GRC",
          "GTM",
          "GUF",
          "GUM",
          "HKG",
          "HND",
          "HRV",
          "HTI",
          "HUN",
          "IDN",
          "IND",
          "IRL",
          "IRN",
          "ISL",
          "ISR",
          "ITA",
          "JAM",
          "JOR",
          "JPN",
          "KAZ",
          "KEN",
          "KGZ",
          "KHM",
          "KOR",
          "KWT",
          "LAO",
          "LBN",
          "LKA",
          "LTU",
          "LUX",
          "LVA",
          "MAC",
          "MAR",
          "MDA",
          "MDV",
          "MEX",
          "MKD",
          "MLT",
          "MNE",
          "MOZ",
          "MTQ",
          "MUS",
          "MYS",
          "NGA",
          "NIC",
          "NLD",
          "NOR",
          "NPL",
          "NZL",
          "OMN",
          "PAK",
          "PAN",
          "PER",
          "PHL",
          "POL",
          "PRI",
          "PRT",
          "PRY",
          "PSE",
          "PYF",
          "QAT",
          "ROU",
          "RUS",
          "RWA",
          "SAU",
          "SDN",
          "SGP",
          "SLV",
          "SMR",
          "SRB",
          "SUR",
          "SVK",
          "SVN",
          "SWE",
          "SXM",
          "THA",
          "TKM",
          "TTO",
          "TUN",
          "TUR",
          "TWN",
          "TZA",
          "UGA",
          "UKR",
          "URY",
          "USA",
          "UZB",
          "VAT",
          "VEN",
          "VNM",
          "WSM",
          "ZAF",
          "ZWE"
         ],
         "type": "choropleth",
         "visible": true,
         "z": [
          0.49341571482270896,
          0.42209069512910524,
          0.4807362618289006,
          0.5047977892937437,
          0.41816675289602734,
          0.46187039309305655,
          0.5495130883919835,
          0.4930164222853042,
          0.46877287620474234,
          0.4751369506558438,
          0.5005357709081151,
          0.4368463590681045,
          0.4807677277447143,
          0.41953627986833925,
          0.48059861695938616,
          0.4086676272177082,
          0.6471530766135352,
          0.4943975933815768,
          0.4376292016607867,
          0.4345686921773873,
          0.4536968422083306,
          0.49015243713667994,
          0.4701286139769572,
          0.37445421326051886,
          0.4657511761619996,
          0.46588179852384076,
          0.4564045109658696,
          0.4745134867698498,
          0.4669466865997202,
          0.43434319557510015,
          0.49853638290923336,
          0.4563387842417647,
          0.4622453148383445,
          0.40631787254834556,
          0.5155271475718012,
          0.4721804079328192,
          0.46366045756618035,
          0.44062166600313873,
          0.4488957402178611,
          0.4480332175301806,
          0.43014216101553115,
          0.46240293852396913,
          0.4376211809630724,
          0.4720254238995084,
          0.5316751546397485,
          0.4990520660398889,
          0.46810710815950735,
          0.5624753089514336,
          0.4976496990944913,
          0.3792826032190005,
          0.44532479149319776,
          0.47897927576935556,
          0.4437849844340029,
          0.42534038256602236,
          0.5597275102441835,
          0.48188678127142187,
          0.4296491397643226,
          0.47946076132159343,
          0.2847602449469267,
          0.45739909257366734,
          0.4348093552711463,
          0.4361899374250115,
          0.4684646403786226,
          0.4659920006605843,
          0.46270891188002455,
          0.4832910774738606,
          0.4874197254983911,
          0.45738367632835325,
          0.4543708662608351,
          0.46702916757681007,
          0.4205845104023479,
          0.4326406731526648,
          0.4298146841994497,
          0.45405144244581397,
          0.5199141056668671,
          0.4025130110194618,
          0.450812662596466,
          0.48742556224644007,
          0.4320596235171486,
          0.47168959453259385,
          0.479843755269404,
          0.45187200680548856,
          0.5201056892719754,
          0.5049407367570948,
          0.4683713604982509,
          0.3930498676366878,
          0.4444386188589182,
          0.46082880918720726,
          0.4364357501872911,
          0.47544390915153084,
          0.46381667658276493,
          0.4560755204920266,
          0.45150215541895006,
          0.4396339765058883,
          0.38238473879159773,
          0.464437744908809,
          0.4520858421598174,
          0.37749539471756244,
          0.43855179776334663,
          0.4781255382595604,
          0.3898827759833644,
          0.4002705177784769,
          0.4379322260911538,
          0.44654817710539435,
          0.4339047215648588,
          0.4479587582404821,
          0.4612586826065327,
          0.4766264001247578,
          0.44201218870465675,
          0.525615778064787,
          0.5145400231301207,
          0.40541594464608915,
          0.48736092327609004,
          0.43491909345661817,
          0.5023420932825184,
          0.3998122240462256,
          0.44388047601759956,
          0.47201116142407085,
          0.4450032127555078,
          0.5890471883850829,
          0.47605632423571287,
          0.46378763036590326,
          0.5333422738183031,
          0.49510211385876324,
          0.47046930280990534,
          0.4496906407460977,
          0.4611407691526106,
          0.36417464545059536,
          0.3831756100312208,
          0.4454063295643996,
          0.5165567311222812,
          0.5145404291185035,
          0.40339193042922644,
          0.4969036159335056,
          0.44052524691634654,
          0.43983311070329295,
          0.4725636369661762,
          0.4350041547115848,
          0.4921476397964615,
          0.4146511521694026,
          0.5036228610719105,
          0.5133906068251961,
          0.4219169464100467,
          0.49118444425658186
         ]
        },
        {
         "colorbar": {
          "title": {
           "text": "Score"
          }
         },
         "colorscale": [
          [
           0,
           "#003f5c"
          ],
          [
           0.05263157894736842,
           "#1e4365"
          ],
          [
           0.10526315789473684,
           "#32466e"
          ],
          [
           0.15789473684210525,
           "#454a76"
          ],
          [
           0.21052631578947367,
           "#574c7d"
          ],
          [
           0.2631578947368421,
           "#684e82"
          ],
          [
           0.3157894736842105,
           "#7a5087"
          ],
          [
           0.3684210526315789,
           "#8d518b"
          ],
          [
           0.42105263157894735,
           "#9f518e"
          ],
          [
           0.47368421052631576,
           "#b25190"
          ],
          [
           0.5263157894736842,
           "#c3528c"
          ],
          [
           0.5789473684210527,
           "#d15782"
          ],
          [
           0.631578947368421,
           "#dc5d78"
          ],
          [
           0.6842105263157895,
           "#e6656e"
          ],
          [
           0.7368421052631579,
           "#ef6e63"
          ],
          [
           0.7894736842105263,
           "#f57858"
          ],
          [
           0.8421052631578947,
           "#fa824b"
          ],
          [
           0.8947368421052632,
           "#fd8e3c"
          ],
          [
           0.9473684210526315,
           "#ff9a29"
          ],
          [
           1,
           "#ffa600"
          ]
         ],
         "hovertemplate": "Score: %{z}<extra></extra>",
         "locations": [
          "ABW",
          "AGO",
          "ALA",
          "AND",
          "ARE",
          "ARG",
          "ARM",
          "AUS",
          "AUT",
          "AZE",
          "BEL",
          "BEN",
          "BFA",
          "BGD",
          "BGR",
          "BHR",
          "BHS",
          "BIH",
          "BLR",
          "BOL",
          "BRA",
          "BRB",
          "BRN",
          "BWA",
          "CAN",
          "CHE",
          "CHL",
          "CHN",
          "CIV",
          "CMR",
          "COD",
          "COL",
          "CRI",
          "CYM",
          "CYP",
          "CZE",
          "DEU",
          "DNK",
          "DOM",
          "ECU",
          "EGY",
          "ESP",
          "EST",
          "FIN",
          "FJI",
          "FRA",
          "GBR",
          "GEO",
          "GGY",
          "GHA",
          "GLP",
          "GRC",
          "GTM",
          "GUF",
          "GUM",
          "HKG",
          "HND",
          "HRV",
          "HTI",
          "HUN",
          "IDN",
          "IND",
          "IRL",
          "IRN",
          "ISL",
          "ISR",
          "ITA",
          "JAM",
          "JOR",
          "JPN",
          "KAZ",
          "KEN",
          "KGZ",
          "KHM",
          "KOR",
          "KWT",
          "LAO",
          "LBN",
          "LKA",
          "LTU",
          "LUX",
          "LVA",
          "MAC",
          "MAR",
          "MDA",
          "MDV",
          "MEX",
          "MKD",
          "MLT",
          "MNE",
          "MOZ",
          "MTQ",
          "MUS",
          "MYS",
          "NGA",
          "NIC",
          "NLD",
          "NOR",
          "NPL",
          "NZL",
          "OMN",
          "PAK",
          "PAN",
          "PER",
          "PHL",
          "POL",
          "PRI",
          "PRT",
          "PRY",
          "PSE",
          "PYF",
          "QAT",
          "ROU",
          "RUS",
          "RWA",
          "SAU",
          "SDN",
          "SGP",
          "SLV",
          "SMR",
          "SRB",
          "SUR",
          "SVK",
          "SVN",
          "SWE",
          "SXM",
          "THA",
          "TKM",
          "TTO",
          "TUN",
          "TUR",
          "TWN",
          "TZA",
          "UGA",
          "UKR",
          "URY",
          "USA",
          "UZB",
          "VAT",
          "VEN",
          "VNM",
          "WSM",
          "ZAF",
          "ZWE"
         ],
         "type": "choropleth",
         "visible": false,
         "z": [
          0.06138014886922217,
          0.4340540793114925,
          0.2824192856400777,
          0.1036550323681058,
          0.25631346869475785,
          0.15498131692509093,
          0.15228920909024665,
          0.22586199947546184,
          0.2463922995007267,
          0.1795359119783203,
          0.10224391784575282,
          0.3608781406388903,
          0.09786107861683851,
          0.3967480767606973,
          0.2655046579786704,
          0.20763493872413114,
          0.4329547663816161,
          0.17117187856173005,
          0.15306949870786624,
          0.14712172240976046,
          0.12767006701868044,
          0.47094648636274133,
          0.0367506660400783,
          0.08082141185910283,
          0.17684638576952855,
          0.2205156465941252,
          0.10161287538712585,
          0.2516082863265927,
          0.07294353258448813,
          0.08603678488730301,
          0.6719930715083944,
          0.1408526158272663,
          0.08182186723410781,
          0.30082313142490913,
          0.29081185602567483,
          0.27878731868302814,
          0.22411761153570953,
          0.19919620873018248,
          0.10452734458876307,
          0.14400692085089584,
          0.1448846252329935,
          0.1883066264345717,
          0.17943383235818838,
          0.2186363394120744,
          0.007729262712134129,
          0.2135672825493435,
          0.20155392076164974,
          0.17313359757176067,
          0.0999736075213709,
          0.11714237165887557,
          0.03483547966875976,
          0.15353525961138514,
          0.24540123603352756,
          0.18573866988486554,
          0.12924093505291345,
          0.2674802252729883,
          0.09944607886175148,
          0.15567403343729747,
          0.029792836671708362,
          0.06004336109646899,
          0.14071515544420424,
          0.23579994306408647,
          0.23960809651773834,
          0.12161293027566128,
          0.17598392953563627,
          0.14744400242010722,
          0.1837795839016438,
          0.18127200305905958,
          0.21317924309454786,
          0.147194662628999,
          0.2195925038010805,
          0.1072575641458217,
          0.13992183793330124,
          0.5748072141521653,
          0.13078569745694987,
          0.1136844531555013,
          0.12706049414822243,
          0.14547738387083756,
          0.10301896756472961,
          0.45211014155431145,
          0.31943759145512013,
          0.08213645625907337,
          0.11003771973299571,
          0.15297177691302924,
          0.24786335172879004,
          0.14793835993163637,
          0.12822476887792073,
          0.1471899286815608,
          0.24093704452872766,
          0.07937769934379302,
          0.24450475316299883,
          0.07447357260870226,
          0.13765387506318394,
          0.14438430944608452,
          0.3916207417758273,
          0.11677295595609433,
          0.1026176654099151,
          0.3435166453297914,
          0.19309690152043352,
          0.22051610136563476,
          0.19687850798951326,
          0.1719836108287028,
          0.08396761988815016,
          0.10135086328681388,
          0.11868935161465526,
          0.2698897557281482,
          0.14677510841115612,
          0.1153519064163394,
          0.07543034391306787,
          0.11876336184413944,
          0.10252691853829937,
          0.27285846709423434,
          0.13963696075141394,
          0.15414252096529835,
          0.1438330652412984,
          0.21858028319658865,
          0.26268845083422004,
          0.13179789209166978,
          0.07221886132276663,
          0.1354129565051435,
          0.09976677175416904,
          0.15600301997331179,
          0.2885178044250734,
          0.1675904107839503,
          0.18104669827507375,
          0.6908948872058489,
          0.1191509324850764,
          0.2886005053359027,
          0.10522782339373386,
          0.14018989811091456,
          0.15347556312300845,
          0.2721430224578634,
          0.12479318540992008,
          0.1278253573561387,
          0.1809055446037569,
          0.14499667974045266,
          0.2015362343107208,
          0.19951274556324367,
          0.28227988686484834,
          0.14335046712303054,
          0.20787704281107997,
          0.42361917530047927,
          0.16560475160847515,
          0.024316570365002416
         ]
        },
        {
         "colorbar": {
          "title": {
           "text": "Score"
          }
         },
         "colorscale": [
          [
           0,
           "#003f5c"
          ],
          [
           0.05263157894736842,
           "#1e4365"
          ],
          [
           0.10526315789473684,
           "#32466e"
          ],
          [
           0.15789473684210525,
           "#454a76"
          ],
          [
           0.21052631578947367,
           "#574c7d"
          ],
          [
           0.2631578947368421,
           "#684e82"
          ],
          [
           0.3157894736842105,
           "#7a5087"
          ],
          [
           0.3684210526315789,
           "#8d518b"
          ],
          [
           0.42105263157894735,
           "#9f518e"
          ],
          [
           0.47368421052631576,
           "#b25190"
          ],
          [
           0.5263157894736842,
           "#c3528c"
          ],
          [
           0.5789473684210527,
           "#d15782"
          ],
          [
           0.631578947368421,
           "#dc5d78"
          ],
          [
           0.6842105263157895,
           "#e6656e"
          ],
          [
           0.7368421052631579,
           "#ef6e63"
          ],
          [
           0.7894736842105263,
           "#f57858"
          ],
          [
           0.8421052631578947,
           "#fa824b"
          ],
          [
           0.8947368421052632,
           "#fd8e3c"
          ],
          [
           0.9473684210526315,
           "#ff9a29"
          ],
          [
           1,
           "#ffa600"
          ]
         ],
         "hovertemplate": "Score: %{z}<extra></extra>",
         "locations": [
          "ABW",
          "AGO",
          "ALA",
          "AND",
          "ARE",
          "ARG",
          "ARM",
          "AUS",
          "AUT",
          "AZE",
          "BEL",
          "BEN",
          "BFA",
          "BGD",
          "BGR",
          "BHR",
          "BHS",
          "BIH",
          "BLR",
          "BOL",
          "BRA",
          "BRB",
          "BRN",
          "BWA",
          "CAN",
          "CHE",
          "CHL",
          "CHN",
          "CIV",
          "CMR",
          "COD",
          "COL",
          "CRI",
          "CYM",
          "CYP",
          "CZE",
          "DEU",
          "DNK",
          "DOM",
          "ECU",
          "EGY",
          "ESP",
          "EST",
          "FIN",
          "FJI",
          "FRA",
          "GBR",
          "GEO",
          "GGY",
          "GHA",
          "GLP",
          "GRC",
          "GTM",
          "GUF",
          "GUM",
          "HKG",
          "HND",
          "HRV",
          "HTI",
          "HUN",
          "IDN",
          "IND",
          "IRL",
          "IRN",
          "ISL",
          "ISR",
          "ITA",
          "JAM",
          "JOR",
          "JPN",
          "KAZ",
          "KEN",
          "KGZ",
          "KHM",
          "KOR",
          "KWT",
          "LAO",
          "LBN",
          "LKA",
          "LTU",
          "LUX",
          "LVA",
          "MAC",
          "MAR",
          "MDA",
          "MDV",
          "MEX",
          "MKD",
          "MLT",
          "MNE",
          "MOZ",
          "MTQ",
          "MUS",
          "MYS",
          "NGA",
          "NIC",
          "NLD",
          "NOR",
          "NPL",
          "NZL",
          "OMN",
          "PAK",
          "PAN",
          "PER",
          "PHL",
          "POL",
          "PRI",
          "PRT",
          "PRY",
          "PSE",
          "PYF",
          "QAT",
          "ROU",
          "RUS",
          "RWA",
          "SAU",
          "SDN",
          "SGP",
          "SLV",
          "SMR",
          "SRB",
          "SUR",
          "SVK",
          "SVN",
          "SWE",
          "SXM",
          "THA",
          "TKM",
          "TTO",
          "TUN",
          "TUR",
          "TWN",
          "TZA",
          "UGA",
          "UKR",
          "URY",
          "USA",
          "UZB",
          "VAT",
          "VEN",
          "VNM",
          "WSM",
          "ZAF",
          "ZWE"
         ],
         "type": "choropleth",
         "visible": false,
         "z": [
          0.05506714017349028,
          0.1682046516913993,
          0.316586841447195,
          0.10964144174568864,
          0.17987476330155772,
          0.11293749197798894,
          0.07250622566491978,
          0.15255788485663668,
          0.1548708291178294,
          0.14047114086380422,
          0.12667559286893523,
          0.1794213755896312,
          0.1164104786416735,
          0.19006637694983675,
          0.11106141927915342,
          0.11780837746824727,
          0.2863697975307474,
          0.09805968632400865,
          0.1221388291324684,
          0.10348403916495263,
          0.09728747395751237,
          0.045247418587473595,
          0.034793016463519295,
          0.06273876549588384,
          0.11489653860498056,
          0.2315436169947419,
          0.11074400438151838,
          0.23929670325218583,
          0.08240486845003035,
          0.06374742581165153,
          0.22453551711369316,
          0.11771311713645403,
          0.08874085061498446,
          0.08598118182549473,
          0.0954833643519493,
          0.19995667138797565,
          0.2307114277570451,
          0.20777942763851082,
          0.10513281496695073,
          0.13787758821633442,
          0.10718142578572386,
          0.12639965356548086,
          0.06200676641747081,
          0.17378309993465663,
          0.0862070242628023,
          0.17144771024634997,
          0.20984351865575132,
          0.03553643917524777,
          0.04277485231392046,
          0.11376893773696219,
          0.07062301771301176,
          0.09038229531832205,
          0.14524916504459448,
          0.37975393583160355,
          0.024552038877833828,
          0.2451744169323291,
          0.10114895106697666,
          0.130739305738974,
          0.25312101033763307,
          0.16372649004861461,
          0.09545232304919608,
          0.1976969389675345,
          0.18026816269892418,
          0.10630303679956626,
          0.11677768800034487,
          0.10887226246641026,
          0.1470706837949261,
          0.12428716059036671,
          0.10322891785449444,
          0.36309565436877433,
          0.13171845378900954,
          0.11549872763532777,
          0.0803644978997746,
          0.3418923030567277,
          0.2034914817402873,
          0.08254142563925382,
          0.07467969555872758,
          0.09269655523283614,
          0.2094068263461976,
          0.2147876746648742,
          0.24784147306827164,
          0.0882421118385567,
          0.1395349889783578,
          0.13568948350346743,
          0.19537058243234828,
          0.16785977948718458,
          0.09113391675699353,
          0.06327477378634491,
          0.13218799966747732,
          0.05485796807628044,
          0.20135769076575627,
          0.06622104099931048,
          0.2129162132558046,
          0.08727735303778929,
          0.20667613664887977,
          0.07693103044861244,
          0.16987072973027115,
          0.21036789678822343,
          0.12047165925868147,
          0.11656056154995269,
          0.1332012473021125,
          0.11702561705249175,
          0.10727757245997478,
          0.08950280306456139,
          0.10499842930907136,
          0.21462938436782292,
          0.10109683361273833,
          0.13223559421010442,
          0.051690231618061584,
          0.14375551114095989,
          0.06104541836582456,
          0.22833715488045342,
          0.10818077862696972,
          0.12250682130613515,
          0.0830138215896124,
          0.12173519496578938,
          0.12862017089367028,
          0.13422687743532266,
          0.050546758194004726,
          0.08357219582754724,
          0.07926394263873285,
          0.1451866453904349,
          0.10685984177130078,
          0.05329031940448238,
          0.18604632277955688,
          0.11970698579675954,
          0.10064027386124785,
          0.22317490898729092,
          0.17680948165600616,
          0.1322719082760722,
          0.08405658967286982,
          0.2241988695470513,
          0.11829046166504555,
          0.07448900619751349,
          0.12239264130424116,
          0.077577250519412,
          0.10808285675877294,
          0.09677808292472925,
          0.19071032725504025,
          0.10485924752719933,
          0.10201150574026092,
          0.14121349821066492,
          0.12583094399928588,
          0.05948233584807238
         ]
        }
       ],
       "layout": {
        "geo": {
         "projection": {
          "type": "natural earth"
         }
        },
        "template": {
         "data": {
          "bar": [
           {
            "error_x": {
             "color": "#2a3f5f"
            },
            "error_y": {
             "color": "#2a3f5f"
            },
            "marker": {
             "line": {
              "color": "#E5ECF6",
              "width": 0.5
             }
            },
            "type": "bar"
           }
          ],
          "barpolar": [
           {
            "marker": {
             "line": {
              "color": "#E5ECF6",
              "width": 0.5
             }
            },
            "type": "barpolar"
           }
          ],
          "carpet": [
           {
            "aaxis": {
             "endlinecolor": "#2a3f5f",
             "gridcolor": "white",
             "linecolor": "white",
             "minorgridcolor": "white",
             "startlinecolor": "#2a3f5f"
            },
            "baxis": {
             "endlinecolor": "#2a3f5f",
             "gridcolor": "white",
             "linecolor": "white",
             "minorgridcolor": "white",
             "startlinecolor": "#2a3f5f"
            },
            "type": "carpet"
           }
          ],
          "choropleth": [
           {
            "colorbar": {
             "outlinewidth": 0,
             "ticks": ""
            },
            "type": "choropleth"
           }
          ],
          "contour": [
           {
            "colorbar": {
             "outlinewidth": 0,
             "ticks": ""
            },
            "colorscale": [
             [
              0,
              "#0d0887"
             ],
             [
              0.1111111111111111,
              "#46039f"
             ],
             [
              0.2222222222222222,
              "#7201a8"
             ],
             [
              0.3333333333333333,
              "#9c179e"
             ],
             [
              0.4444444444444444,
              "#bd3786"
             ],
             [
              0.5555555555555556,
              "#d8576b"
             ],
             [
              0.6666666666666666,
              "#ed7953"
             ],
             [
              0.7777777777777778,
              "#fb9f3a"
             ],
             [
              0.8888888888888888,
              "#fdca26"
             ],
             [
              1,
              "#f0f921"
             ]
            ],
            "type": "contour"
           }
          ],
          "contourcarpet": [
           {
            "colorbar": {
             "outlinewidth": 0,
             "ticks": ""
            },
            "type": "contourcarpet"
           }
          ],
          "heatmap": [
           {
            "colorbar": {
             "outlinewidth": 0,
             "ticks": ""
            },
            "colorscale": [
             [
              0,
              "#0d0887"
             ],
             [
              0.1111111111111111,
              "#46039f"
             ],
             [
              0.2222222222222222,
              "#7201a8"
             ],
             [
              0.3333333333333333,
              "#9c179e"
             ],
             [
              0.4444444444444444,
              "#bd3786"
             ],
             [
              0.5555555555555556,
              "#d8576b"
             ],
             [
              0.6666666666666666,
              "#ed7953"
             ],
             [
              0.7777777777777778,
              "#fb9f3a"
             ],
             [
              0.8888888888888888,
              "#fdca26"
             ],
             [
              1,
              "#f0f921"
             ]
            ],
            "type": "heatmap"
           }
          ],
          "heatmapgl": [
           {
            "colorbar": {
             "outlinewidth": 0,
             "ticks": ""
            },
            "colorscale": [
             [
              0,
              "#0d0887"
             ],
             [
              0.1111111111111111,
              "#46039f"
             ],
             [
              0.2222222222222222,
              "#7201a8"
             ],
             [
              0.3333333333333333,
              "#9c179e"
             ],
             [
              0.4444444444444444,
              "#bd3786"
             ],
             [
              0.5555555555555556,
              "#d8576b"
             ],
             [
              0.6666666666666666,
              "#ed7953"
             ],
             [
              0.7777777777777778,
              "#fb9f3a"
             ],
             [
              0.8888888888888888,
              "#fdca26"
             ],
             [
              1,
              "#f0f921"
             ]
            ],
            "type": "heatmapgl"
           }
          ],
          "histogram": [
           {
            "marker": {
             "colorbar": {
              "outlinewidth": 0,
              "ticks": ""
             }
            },
            "type": "histogram"
           }
          ],
          "histogram2d": [
           {
            "colorbar": {
             "outlinewidth": 0,
             "ticks": ""
            },
            "colorscale": [
             [
              0,
              "#0d0887"
             ],
             [
              0.1111111111111111,
              "#46039f"
             ],
             [
              0.2222222222222222,
              "#7201a8"
             ],
             [
              0.3333333333333333,
              "#9c179e"
             ],
             [
              0.4444444444444444,
              "#bd3786"
             ],
             [
              0.5555555555555556,
              "#d8576b"
             ],
             [
              0.6666666666666666,
              "#ed7953"
             ],
             [
              0.7777777777777778,
              "#fb9f3a"
             ],
             [
              0.8888888888888888,
              "#fdca26"
             ],
             [
              1,
              "#f0f921"
             ]
            ],
            "type": "histogram2d"
           }
          ],
          "histogram2dcontour": [
           {
            "colorbar": {
             "outlinewidth": 0,
             "ticks": ""
            },
            "colorscale": [
             [
              0,
              "#0d0887"
             ],
             [
              0.1111111111111111,
              "#46039f"
             ],
             [
              0.2222222222222222,
              "#7201a8"
             ],
             [
              0.3333333333333333,
              "#9c179e"
             ],
             [
              0.4444444444444444,
              "#bd3786"
             ],
             [
              0.5555555555555556,
              "#d8576b"
             ],
             [
              0.6666666666666666,
              "#ed7953"
             ],
             [
              0.7777777777777778,
              "#fb9f3a"
             ],
             [
              0.8888888888888888,
              "#fdca26"
             ],
             [
              1,
              "#f0f921"
             ]
            ],
            "type": "histogram2dcontour"
           }
          ],
          "mesh3d": [
           {
            "colorbar": {
             "outlinewidth": 0,
             "ticks": ""
            },
            "type": "mesh3d"
           }
          ],
          "parcoords": [
           {
            "line": {
             "colorbar": {
              "outlinewidth": 0,
              "ticks": ""
             }
            },
            "type": "parcoords"
           }
          ],
          "pie": [
           {
            "automargin": true,
            "type": "pie"
           }
          ],
          "scatter": [
           {
            "marker": {
             "colorbar": {
              "outlinewidth": 0,
              "ticks": ""
             }
            },
            "type": "scatter"
           }
          ],
          "scatter3d": [
           {
            "line": {
             "colorbar": {
              "outlinewidth": 0,
              "ticks": ""
             }
            },
            "marker": {
             "colorbar": {
              "outlinewidth": 0,
              "ticks": ""
             }
            },
            "type": "scatter3d"
           }
          ],
          "scattercarpet": [
           {
            "marker": {
             "colorbar": {
              "outlinewidth": 0,
              "ticks": ""
             }
            },
            "type": "scattercarpet"
           }
          ],
          "scattergeo": [
           {
            "marker": {
             "colorbar": {
              "outlinewidth": 0,
              "ticks": ""
             }
            },
            "type": "scattergeo"
           }
          ],
          "scattergl": [
           {
            "marker": {
             "colorbar": {
              "outlinewidth": 0,
              "ticks": ""
             }
            },
            "type": "scattergl"
           }
          ],
          "scattermapbox": [
           {
            "marker": {
             "colorbar": {
              "outlinewidth": 0,
              "ticks": ""
             }
            },
            "type": "scattermapbox"
           }
          ],
          "scatterpolar": [
           {
            "marker": {
             "colorbar": {
              "outlinewidth": 0,
              "ticks": ""
             }
            },
            "type": "scatterpolar"
           }
          ],
          "scatterpolargl": [
           {
            "marker": {
             "colorbar": {
              "outlinewidth": 0,
              "ticks": ""
             }
            },
            "type": "scatterpolargl"
           }
          ],
          "scatterternary": [
           {
            "marker": {
             "colorbar": {
              "outlinewidth": 0,
              "ticks": ""
             }
            },
            "type": "scatterternary"
           }
          ],
          "surface": [
           {
            "colorbar": {
             "outlinewidth": 0,
             "ticks": ""
            },
            "colorscale": [
             [
              0,
              "#0d0887"
             ],
             [
              0.1111111111111111,
              "#46039f"
             ],
             [
              0.2222222222222222,
              "#7201a8"
             ],
             [
              0.3333333333333333,
              "#9c179e"
             ],
             [
              0.4444444444444444,
              "#bd3786"
             ],
             [
              0.5555555555555556,
              "#d8576b"
             ],
             [
              0.6666666666666666,
              "#ed7953"
             ],
             [
              0.7777777777777778,
              "#fb9f3a"
             ],
             [
              0.8888888888888888,
              "#fdca26"
             ],
             [
              1,
              "#f0f921"
             ]
            ],
            "type": "surface"
           }
          ],
          "table": [
           {
            "cells": {
             "fill": {
              "color": "#EBF0F8"
             },
             "line": {
              "color": "white"
             }
            },
            "header": {
             "fill": {
              "color": "#C8D4E3"
             },
             "line": {
              "color": "white"
             }
            },
            "type": "table"
           }
          ]
         },
         "layout": {
          "annotationdefaults": {
           "arrowcolor": "#2a3f5f",
           "arrowhead": 0,
           "arrowwidth": 1
          },
          "coloraxis": {
           "colorbar": {
            "outlinewidth": 0,
            "ticks": ""
           }
          },
          "colorscale": {
           "diverging": [
            [
             0,
             "#8e0152"
            ],
            [
             0.1,
             "#c51b7d"
            ],
            [
             0.2,
             "#de77ae"
            ],
            [
             0.3,
             "#f1b6da"
            ],
            [
             0.4,
             "#fde0ef"
            ],
            [
             0.5,
             "#f7f7f7"
            ],
            [
             0.6,
             "#e6f5d0"
            ],
            [
             0.7,
             "#b8e186"
            ],
            [
             0.8,
             "#7fbc41"
            ],
            [
             0.9,
             "#4d9221"
            ],
            [
             1,
             "#276419"
            ]
           ],
           "sequential": [
            [
             0,
             "#0d0887"
            ],
            [
             0.1111111111111111,
             "#46039f"
            ],
            [
             0.2222222222222222,
             "#7201a8"
            ],
            [
             0.3333333333333333,
             "#9c179e"
            ],
            [
             0.4444444444444444,
             "#bd3786"
            ],
            [
             0.5555555555555556,
             "#d8576b"
            ],
            [
             0.6666666666666666,
             "#ed7953"
            ],
            [
             0.7777777777777778,
             "#fb9f3a"
            ],
            [
             0.8888888888888888,
             "#fdca26"
            ],
            [
             1,
             "#f0f921"
            ]
           ],
           "sequentialminus": [
            [
             0,
             "#0d0887"
            ],
            [
             0.1111111111111111,
             "#46039f"
            ],
            [
             0.2222222222222222,
             "#7201a8"
            ],
            [
             0.3333333333333333,
             "#9c179e"
            ],
            [
             0.4444444444444444,
             "#bd3786"
            ],
            [
             0.5555555555555556,
             "#d8576b"
            ],
            [
             0.6666666666666666,
             "#ed7953"
            ],
            [
             0.7777777777777778,
             "#fb9f3a"
            ],
            [
             0.8888888888888888,
             "#fdca26"
            ],
            [
             1,
             "#f0f921"
            ]
           ]
          },
          "colorway": [
           "#636efa",
           "#EF553B",
           "#00cc96",
           "#ab63fa",
           "#FFA15A",
           "#19d3f3",
           "#FF6692",
           "#B6E880",
           "#FF97FF",
           "#FECB52"
          ],
          "font": {
           "color": "#2a3f5f"
          },
          "geo": {
           "bgcolor": "white",
           "lakecolor": "white",
           "landcolor": "#E5ECF6",
           "showlakes": true,
           "showland": true,
           "subunitcolor": "white"
          },
          "hoverlabel": {
           "align": "left"
          },
          "hovermode": "closest",
          "mapbox": {
           "style": "light"
          },
          "paper_bgcolor": "white",
          "plot_bgcolor": "#E5ECF6",
          "polar": {
           "angularaxis": {
            "gridcolor": "white",
            "linecolor": "white",
            "ticks": ""
           },
           "bgcolor": "#E5ECF6",
           "radialaxis": {
            "gridcolor": "white",
            "linecolor": "white",
            "ticks": ""
           }
          },
          "scene": {
           "xaxis": {
            "backgroundcolor": "#E5ECF6",
            "gridcolor": "white",
            "gridwidth": 2,
            "linecolor": "white",
            "showbackground": true,
            "ticks": "",
            "zerolinecolor": "white"
           },
           "yaxis": {
            "backgroundcolor": "#E5ECF6",
            "gridcolor": "white",
            "gridwidth": 2,
            "linecolor": "white",
            "showbackground": true,
            "ticks": "",
            "zerolinecolor": "white"
           },
           "zaxis": {
            "backgroundcolor": "#E5ECF6",
            "gridcolor": "white",
            "gridwidth": 2,
            "linecolor": "white",
            "showbackground": true,
            "ticks": "",
            "zerolinecolor": "white"
           }
          },
          "shapedefaults": {
           "line": {
            "color": "#2a3f5f"
           }
          },
          "ternary": {
           "aaxis": {
            "gridcolor": "white",
            "linecolor": "white",
            "ticks": ""
           },
           "baxis": {
            "gridcolor": "white",
            "linecolor": "white",
            "ticks": ""
           },
           "bgcolor": "#E5ECF6",
           "caxis": {
            "gridcolor": "white",
            "linecolor": "white",
            "ticks": ""
           }
          },
          "title": {
           "x": 0.05
          },
          "xaxis": {
           "automargin": true,
           "gridcolor": "white",
           "linecolor": "white",
           "ticks": "",
           "title": {
            "standoff": 15
           },
           "zerolinecolor": "white",
           "zerolinewidth": 2
          },
          "yaxis": {
           "automargin": true,
           "gridcolor": "white",
           "linecolor": "white",
           "ticks": "",
           "title": {
            "standoff": 15
           },
           "zerolinecolor": "white",
           "zerolinewidth": 2
          }
         }
        },
        "title": {
         "text": "Mean Social Score by Country",
         "x": 0.54,
         "y": 0.87
        },
        "updatemenus": [
         {
          "active": 0,
          "buttons": [
           {
            "args": [
             {
              "visible": [
               true,
               false,
               false
              ]
             },
             {
              "title": "Mean Social Score by Country"
             }
            ],
            "label": "Social Score",
            "method": "update"
           },
           {
            "args": [
             {
              "visible": [
               false,
               true,
               false
              ]
             },
             {
              "title": "Mean Travel Score (distance) by Country"
             }
            ],
            "label": "Travel Score <br>(distance)",
            "method": "update"
           },
           {
            "args": [
             {
              "visible": [
               false,
               false,
               true
              ]
             },
             {
              "title": "Mean Travel Score (category) by Country"
             }
            ],
            "label": "Travel Score <br>(category)",
            "method": "update"
           }
          ]
         }
        ]
       }
      },
      "text/html": [
       "<div>                            <div id=\"1b227c0d-50fc-4ee6-a4e6-ea4e66197405\" class=\"plotly-graph-div\" style=\"height:525px; width:100%;\"></div>            <script type=\"text/javascript\">                require([\"plotly\"], function(Plotly) {                    window.PLOTLYENV=window.PLOTLYENV || {};                                    if (document.getElementById(\"1b227c0d-50fc-4ee6-a4e6-ea4e66197405\")) {                    Plotly.newPlot(                        \"1b227c0d-50fc-4ee6-a4e6-ea4e66197405\",                        [{\"colorbar\": {\"title\": {\"text\": \"Score\"}}, \"colorscale\": [[0.0, \"#003f5c\"], [0.05263157894736842, \"#1e4365\"], [0.10526315789473684, \"#32466e\"], [0.15789473684210525, \"#454a76\"], [0.21052631578947367, \"#574c7d\"], [0.2631578947368421, \"#684e82\"], [0.3157894736842105, \"#7a5087\"], [0.3684210526315789, \"#8d518b\"], [0.42105263157894735, \"#9f518e\"], [0.47368421052631576, \"#b25190\"], [0.5263157894736842, \"#c3528c\"], [0.5789473684210527, \"#d15782\"], [0.631578947368421, \"#dc5d78\"], [0.6842105263157895, \"#e6656e\"], [0.7368421052631579, \"#ef6e63\"], [0.7894736842105263, \"#f57858\"], [0.8421052631578947, \"#fa824b\"], [0.8947368421052632, \"#fd8e3c\"], [0.9473684210526315, \"#ff9a29\"], [1.0, \"#ffa600\"]], \"hovertemplate\": \"Score: %{z}<extra></extra>\", \"locations\": [\"ABW\", \"AGO\", \"ALA\", \"AND\", \"ARE\", \"ARG\", \"ARM\", \"AUS\", \"AUT\", \"AZE\", \"BEL\", \"BEN\", \"BFA\", \"BGD\", \"BGR\", \"BHR\", \"BHS\", \"BIH\", \"BLR\", \"BOL\", \"BRA\", \"BRB\", \"BRN\", \"BWA\", \"CAN\", \"CHE\", \"CHL\", \"CHN\", \"CIV\", \"CMR\", \"COD\", \"COL\", \"CRI\", \"CYM\", \"CYP\", \"CZE\", \"DEU\", \"DNK\", \"DOM\", \"ECU\", \"EGY\", \"ESP\", \"EST\", \"FIN\", \"FJI\", \"FRA\", \"GBR\", \"GEO\", \"GGY\", \"GHA\", \"GLP\", \"GRC\", \"GTM\", \"GUF\", \"GUM\", \"HKG\", \"HND\", \"HRV\", \"HTI\", \"HUN\", \"IDN\", \"IND\", \"IRL\", \"IRN\", \"ISL\", \"ISR\", \"ITA\", \"JAM\", \"JOR\", \"JPN\", \"KAZ\", \"KEN\", \"KGZ\", \"KHM\", \"KOR\", \"KWT\", \"LAO\", \"LBN\", \"LKA\", \"LTU\", \"LUX\", \"LVA\", \"MAC\", \"MAR\", \"MDA\", \"MDV\", \"MEX\", \"MKD\", \"MLT\", \"MNE\", \"MOZ\", \"MTQ\", \"MUS\", \"MYS\", \"NGA\", \"NIC\", \"NLD\", \"NOR\", \"NPL\", \"NZL\", \"OMN\", \"PAK\", \"PAN\", \"PER\", \"PHL\", \"POL\", \"PRI\", \"PRT\", \"PRY\", \"PSE\", \"PYF\", \"QAT\", \"ROU\", \"RUS\", \"RWA\", \"SAU\", \"SDN\", \"SGP\", \"SLV\", \"SMR\", \"SRB\", \"SUR\", \"SVK\", \"SVN\", \"SWE\", \"SXM\", \"THA\", \"TKM\", \"TTO\", \"TUN\", \"TUR\", \"TWN\", \"TZA\", \"UGA\", \"UKR\", \"URY\", \"USA\", \"UZB\", \"VAT\", \"VEN\", \"VNM\", \"WSM\", \"ZAF\", \"ZWE\"], \"type\": \"choropleth\", \"visible\": true, \"z\": [0.49341571482270896, 0.42209069512910524, 0.4807362618289006, 0.5047977892937437, 0.41816675289602734, 0.46187039309305655, 0.5495130883919835, 0.4930164222853042, 0.46877287620474234, 0.4751369506558438, 0.5005357709081151, 0.4368463590681045, 0.4807677277447143, 0.41953627986833925, 0.48059861695938616, 0.4086676272177082, 0.6471530766135352, 0.4943975933815768, 0.4376292016607867, 0.4345686921773873, 0.4536968422083306, 0.49015243713667994, 0.4701286139769572, 0.37445421326051886, 0.4657511761619996, 0.46588179852384076, 0.4564045109658696, 0.4745134867698498, 0.4669466865997202, 0.43434319557510015, 0.49853638290923336, 0.4563387842417647, 0.4622453148383445, 0.40631787254834556, 0.5155271475718012, 0.4721804079328192, 0.46366045756618035, 0.44062166600313873, 0.4488957402178611, 0.4480332175301806, 0.43014216101553115, 0.46240293852396913, 0.4376211809630724, 0.4720254238995084, 0.5316751546397485, 0.4990520660398889, 0.46810710815950735, 0.5624753089514336, 0.4976496990944913, 0.3792826032190005, 0.44532479149319776, 0.47897927576935556, 0.4437849844340029, 0.42534038256602236, 0.5597275102441835, 0.48188678127142187, 0.4296491397643226, 0.47946076132159343, 0.2847602449469267, 0.45739909257366734, 0.4348093552711463, 0.4361899374250115, 0.4684646403786226, 0.4659920006605843, 0.46270891188002455, 0.4832910774738606, 0.4874197254983911, 0.45738367632835325, 0.4543708662608351, 0.46702916757681007, 0.4205845104023479, 0.4326406731526648, 0.4298146841994497, 0.45405144244581397, 0.5199141056668671, 0.4025130110194618, 0.450812662596466, 0.48742556224644007, 0.4320596235171486, 0.47168959453259385, 0.479843755269404, 0.45187200680548856, 0.5201056892719754, 0.5049407367570948, 0.4683713604982509, 0.3930498676366878, 0.4444386188589182, 0.46082880918720726, 0.4364357501872911, 0.47544390915153084, 0.46381667658276493, 0.4560755204920266, 0.45150215541895006, 0.4396339765058883, 0.38238473879159773, 0.464437744908809, 0.4520858421598174, 0.37749539471756244, 0.43855179776334663, 0.4781255382595604, 0.3898827759833644, 0.4002705177784769, 0.4379322260911538, 0.44654817710539435, 0.4339047215648588, 0.4479587582404821, 0.4612586826065327, 0.4766264001247578, 0.44201218870465675, 0.525615778064787, 0.5145400231301207, 0.40541594464608915, 0.48736092327609004, 0.43491909345661817, 0.5023420932825184, 0.3998122240462256, 0.44388047601759956, 0.47201116142407085, 0.4450032127555078, 0.5890471883850829, 0.47605632423571287, 0.46378763036590326, 0.5333422738183031, 0.49510211385876324, 0.47046930280990534, 0.4496906407460977, 0.4611407691526106, 0.36417464545059536, 0.3831756100312208, 0.4454063295643996, 0.5165567311222812, 0.5145404291185035, 0.40339193042922644, 0.4969036159335056, 0.44052524691634654, 0.43983311070329295, 0.4725636369661762, 0.4350041547115848, 0.4921476397964615, 0.4146511521694026, 0.5036228610719105, 0.5133906068251961, 0.4219169464100467, 0.49118444425658186]}, {\"colorbar\": {\"title\": {\"text\": \"Score\"}}, \"colorscale\": [[0.0, \"#003f5c\"], [0.05263157894736842, \"#1e4365\"], [0.10526315789473684, \"#32466e\"], [0.15789473684210525, \"#454a76\"], [0.21052631578947367, \"#574c7d\"], [0.2631578947368421, \"#684e82\"], [0.3157894736842105, \"#7a5087\"], [0.3684210526315789, \"#8d518b\"], [0.42105263157894735, \"#9f518e\"], [0.47368421052631576, \"#b25190\"], [0.5263157894736842, \"#c3528c\"], [0.5789473684210527, \"#d15782\"], [0.631578947368421, \"#dc5d78\"], [0.6842105263157895, \"#e6656e\"], [0.7368421052631579, \"#ef6e63\"], [0.7894736842105263, \"#f57858\"], [0.8421052631578947, \"#fa824b\"], [0.8947368421052632, \"#fd8e3c\"], [0.9473684210526315, \"#ff9a29\"], [1.0, \"#ffa600\"]], \"hovertemplate\": \"Score: %{z}<extra></extra>\", \"locations\": [\"ABW\", \"AGO\", \"ALA\", \"AND\", \"ARE\", \"ARG\", \"ARM\", \"AUS\", \"AUT\", \"AZE\", \"BEL\", \"BEN\", \"BFA\", \"BGD\", \"BGR\", \"BHR\", \"BHS\", \"BIH\", \"BLR\", \"BOL\", \"BRA\", \"BRB\", \"BRN\", \"BWA\", \"CAN\", \"CHE\", \"CHL\", \"CHN\", \"CIV\", \"CMR\", \"COD\", \"COL\", \"CRI\", \"CYM\", \"CYP\", \"CZE\", \"DEU\", \"DNK\", \"DOM\", \"ECU\", \"EGY\", \"ESP\", \"EST\", \"FIN\", \"FJI\", \"FRA\", \"GBR\", \"GEO\", \"GGY\", \"GHA\", \"GLP\", \"GRC\", \"GTM\", \"GUF\", \"GUM\", \"HKG\", \"HND\", \"HRV\", \"HTI\", \"HUN\", \"IDN\", \"IND\", \"IRL\", \"IRN\", \"ISL\", \"ISR\", \"ITA\", \"JAM\", \"JOR\", \"JPN\", \"KAZ\", \"KEN\", \"KGZ\", \"KHM\", \"KOR\", \"KWT\", \"LAO\", \"LBN\", \"LKA\", \"LTU\", \"LUX\", \"LVA\", \"MAC\", \"MAR\", \"MDA\", \"MDV\", \"MEX\", \"MKD\", \"MLT\", \"MNE\", \"MOZ\", \"MTQ\", \"MUS\", \"MYS\", \"NGA\", \"NIC\", \"NLD\", \"NOR\", \"NPL\", \"NZL\", \"OMN\", \"PAK\", \"PAN\", \"PER\", \"PHL\", \"POL\", \"PRI\", \"PRT\", \"PRY\", \"PSE\", \"PYF\", \"QAT\", \"ROU\", \"RUS\", \"RWA\", \"SAU\", \"SDN\", \"SGP\", \"SLV\", \"SMR\", \"SRB\", \"SUR\", \"SVK\", \"SVN\", \"SWE\", \"SXM\", \"THA\", \"TKM\", \"TTO\", \"TUN\", \"TUR\", \"TWN\", \"TZA\", \"UGA\", \"UKR\", \"URY\", \"USA\", \"UZB\", \"VAT\", \"VEN\", \"VNM\", \"WSM\", \"ZAF\", \"ZWE\"], \"type\": \"choropleth\", \"visible\": false, \"z\": [0.06138014886922217, 0.4340540793114925, 0.2824192856400777, 0.1036550323681058, 0.25631346869475785, 0.15498131692509093, 0.15228920909024665, 0.22586199947546184, 0.2463922995007267, 0.1795359119783203, 0.10224391784575282, 0.3608781406388903, 0.09786107861683851, 0.3967480767606973, 0.2655046579786704, 0.20763493872413114, 0.4329547663816161, 0.17117187856173005, 0.15306949870786624, 0.14712172240976046, 0.12767006701868044, 0.47094648636274133, 0.0367506660400783, 0.08082141185910283, 0.17684638576952855, 0.2205156465941252, 0.10161287538712585, 0.2516082863265927, 0.07294353258448813, 0.08603678488730301, 0.6719930715083944, 0.1408526158272663, 0.08182186723410781, 0.30082313142490913, 0.29081185602567483, 0.27878731868302814, 0.22411761153570953, 0.19919620873018248, 0.10452734458876307, 0.14400692085089584, 0.1448846252329935, 0.1883066264345717, 0.17943383235818838, 0.2186363394120744, 0.007729262712134129, 0.2135672825493435, 0.20155392076164974, 0.17313359757176067, 0.0999736075213709, 0.11714237165887557, 0.03483547966875976, 0.15353525961138514, 0.24540123603352756, 0.18573866988486554, 0.12924093505291345, 0.2674802252729883, 0.09944607886175148, 0.15567403343729747, 0.029792836671708362, 0.06004336109646899, 0.14071515544420424, 0.23579994306408647, 0.23960809651773834, 0.12161293027566128, 0.17598392953563627, 0.14744400242010722, 0.1837795839016438, 0.18127200305905958, 0.21317924309454786, 0.147194662628999, 0.2195925038010805, 0.1072575641458217, 0.13992183793330124, 0.5748072141521653, 0.13078569745694987, 0.1136844531555013, 0.12706049414822243, 0.14547738387083756, 0.10301896756472961, 0.45211014155431145, 0.31943759145512013, 0.08213645625907337, 0.11003771973299571, 0.15297177691302924, 0.24786335172879004, 0.14793835993163637, 0.12822476887792073, 0.1471899286815608, 0.24093704452872766, 0.07937769934379302, 0.24450475316299883, 0.07447357260870226, 0.13765387506318394, 0.14438430944608452, 0.3916207417758273, 0.11677295595609433, 0.1026176654099151, 0.3435166453297914, 0.19309690152043352, 0.22051610136563476, 0.19687850798951326, 0.1719836108287028, 0.08396761988815016, 0.10135086328681388, 0.11868935161465526, 0.2698897557281482, 0.14677510841115612, 0.1153519064163394, 0.07543034391306787, 0.11876336184413944, 0.10252691853829937, 0.27285846709423434, 0.13963696075141394, 0.15414252096529835, 0.1438330652412984, 0.21858028319658865, 0.26268845083422004, 0.13179789209166978, 0.07221886132276663, 0.1354129565051435, 0.09976677175416904, 0.15600301997331179, 0.2885178044250734, 0.1675904107839503, 0.18104669827507375, 0.6908948872058489, 0.1191509324850764, 0.2886005053359027, 0.10522782339373386, 0.14018989811091456, 0.15347556312300845, 0.2721430224578634, 0.12479318540992008, 0.1278253573561387, 0.1809055446037569, 0.14499667974045266, 0.2015362343107208, 0.19951274556324367, 0.28227988686484834, 0.14335046712303054, 0.20787704281107997, 0.42361917530047927, 0.16560475160847515, 0.024316570365002416]}, {\"colorbar\": {\"title\": {\"text\": \"Score\"}}, \"colorscale\": [[0.0, \"#003f5c\"], [0.05263157894736842, \"#1e4365\"], [0.10526315789473684, \"#32466e\"], [0.15789473684210525, \"#454a76\"], [0.21052631578947367, \"#574c7d\"], [0.2631578947368421, \"#684e82\"], [0.3157894736842105, \"#7a5087\"], [0.3684210526315789, \"#8d518b\"], [0.42105263157894735, \"#9f518e\"], [0.47368421052631576, \"#b25190\"], [0.5263157894736842, \"#c3528c\"], [0.5789473684210527, \"#d15782\"], [0.631578947368421, \"#dc5d78\"], [0.6842105263157895, \"#e6656e\"], [0.7368421052631579, \"#ef6e63\"], [0.7894736842105263, \"#f57858\"], [0.8421052631578947, \"#fa824b\"], [0.8947368421052632, \"#fd8e3c\"], [0.9473684210526315, \"#ff9a29\"], [1.0, \"#ffa600\"]], \"hovertemplate\": \"Score: %{z}<extra></extra>\", \"locations\": [\"ABW\", \"AGO\", \"ALA\", \"AND\", \"ARE\", \"ARG\", \"ARM\", \"AUS\", \"AUT\", \"AZE\", \"BEL\", \"BEN\", \"BFA\", \"BGD\", \"BGR\", \"BHR\", \"BHS\", \"BIH\", \"BLR\", \"BOL\", \"BRA\", \"BRB\", \"BRN\", \"BWA\", \"CAN\", \"CHE\", \"CHL\", \"CHN\", \"CIV\", \"CMR\", \"COD\", \"COL\", \"CRI\", \"CYM\", \"CYP\", \"CZE\", \"DEU\", \"DNK\", \"DOM\", \"ECU\", \"EGY\", \"ESP\", \"EST\", \"FIN\", \"FJI\", \"FRA\", \"GBR\", \"GEO\", \"GGY\", \"GHA\", \"GLP\", \"GRC\", \"GTM\", \"GUF\", \"GUM\", \"HKG\", \"HND\", \"HRV\", \"HTI\", \"HUN\", \"IDN\", \"IND\", \"IRL\", \"IRN\", \"ISL\", \"ISR\", \"ITA\", \"JAM\", \"JOR\", \"JPN\", \"KAZ\", \"KEN\", \"KGZ\", \"KHM\", \"KOR\", \"KWT\", \"LAO\", \"LBN\", \"LKA\", \"LTU\", \"LUX\", \"LVA\", \"MAC\", \"MAR\", \"MDA\", \"MDV\", \"MEX\", \"MKD\", \"MLT\", \"MNE\", \"MOZ\", \"MTQ\", \"MUS\", \"MYS\", \"NGA\", \"NIC\", \"NLD\", \"NOR\", \"NPL\", \"NZL\", \"OMN\", \"PAK\", \"PAN\", \"PER\", \"PHL\", \"POL\", \"PRI\", \"PRT\", \"PRY\", \"PSE\", \"PYF\", \"QAT\", \"ROU\", \"RUS\", \"RWA\", \"SAU\", \"SDN\", \"SGP\", \"SLV\", \"SMR\", \"SRB\", \"SUR\", \"SVK\", \"SVN\", \"SWE\", \"SXM\", \"THA\", \"TKM\", \"TTO\", \"TUN\", \"TUR\", \"TWN\", \"TZA\", \"UGA\", \"UKR\", \"URY\", \"USA\", \"UZB\", \"VAT\", \"VEN\", \"VNM\", \"WSM\", \"ZAF\", \"ZWE\"], \"type\": \"choropleth\", \"visible\": false, \"z\": [0.05506714017349028, 0.1682046516913993, 0.316586841447195, 0.10964144174568864, 0.17987476330155772, 0.11293749197798894, 0.07250622566491978, 0.15255788485663668, 0.1548708291178294, 0.14047114086380422, 0.12667559286893523, 0.1794213755896312, 0.1164104786416735, 0.19006637694983675, 0.11106141927915342, 0.11780837746824727, 0.2863697975307474, 0.09805968632400865, 0.1221388291324684, 0.10348403916495263, 0.09728747395751237, 0.045247418587473595, 0.034793016463519295, 0.06273876549588384, 0.11489653860498056, 0.2315436169947419, 0.11074400438151838, 0.23929670325218583, 0.08240486845003035, 0.06374742581165153, 0.22453551711369316, 0.11771311713645403, 0.08874085061498446, 0.08598118182549473, 0.0954833643519493, 0.19995667138797565, 0.2307114277570451, 0.20777942763851082, 0.10513281496695073, 0.13787758821633442, 0.10718142578572386, 0.12639965356548086, 0.06200676641747081, 0.17378309993465663, 0.0862070242628023, 0.17144771024634997, 0.20984351865575132, 0.03553643917524777, 0.04277485231392046, 0.11376893773696219, 0.07062301771301176, 0.09038229531832205, 0.14524916504459448, 0.37975393583160355, 0.024552038877833828, 0.2451744169323291, 0.10114895106697666, 0.130739305738974, 0.25312101033763307, 0.16372649004861461, 0.09545232304919608, 0.1976969389675345, 0.18026816269892418, 0.10630303679956626, 0.11677768800034487, 0.10887226246641026, 0.1470706837949261, 0.12428716059036671, 0.10322891785449444, 0.36309565436877433, 0.13171845378900954, 0.11549872763532777, 0.0803644978997746, 0.3418923030567277, 0.2034914817402873, 0.08254142563925382, 0.07467969555872758, 0.09269655523283614, 0.2094068263461976, 0.2147876746648742, 0.24784147306827164, 0.0882421118385567, 0.1395349889783578, 0.13568948350346743, 0.19537058243234828, 0.16785977948718458, 0.09113391675699353, 0.06327477378634491, 0.13218799966747732, 0.05485796807628044, 0.20135769076575627, 0.06622104099931048, 0.2129162132558046, 0.08727735303778929, 0.20667613664887977, 0.07693103044861244, 0.16987072973027115, 0.21036789678822343, 0.12047165925868147, 0.11656056154995269, 0.1332012473021125, 0.11702561705249175, 0.10727757245997478, 0.08950280306456139, 0.10499842930907136, 0.21462938436782292, 0.10109683361273833, 0.13223559421010442, 0.051690231618061584, 0.14375551114095989, 0.06104541836582456, 0.22833715488045342, 0.10818077862696972, 0.12250682130613515, 0.0830138215896124, 0.12173519496578938, 0.12862017089367028, 0.13422687743532266, 0.050546758194004726, 0.08357219582754724, 0.07926394263873285, 0.1451866453904349, 0.10685984177130078, 0.05329031940448238, 0.18604632277955688, 0.11970698579675954, 0.10064027386124785, 0.22317490898729092, 0.17680948165600616, 0.1322719082760722, 0.08405658967286982, 0.2241988695470513, 0.11829046166504555, 0.07448900619751349, 0.12239264130424116, 0.077577250519412, 0.10808285675877294, 0.09677808292472925, 0.19071032725504025, 0.10485924752719933, 0.10201150574026092, 0.14121349821066492, 0.12583094399928588, 0.05948233584807238]}],                        {\"geo\": {\"projection\": {\"type\": \"natural earth\"}}, \"template\": {\"data\": {\"bar\": [{\"error_x\": {\"color\": \"#2a3f5f\"}, \"error_y\": {\"color\": \"#2a3f5f\"}, \"marker\": {\"line\": {\"color\": \"#E5ECF6\", \"width\": 0.5}}, \"type\": \"bar\"}], \"barpolar\": [{\"marker\": {\"line\": {\"color\": \"#E5ECF6\", \"width\": 0.5}}, \"type\": \"barpolar\"}], \"carpet\": [{\"aaxis\": {\"endlinecolor\": \"#2a3f5f\", \"gridcolor\": \"white\", \"linecolor\": \"white\", \"minorgridcolor\": \"white\", \"startlinecolor\": \"#2a3f5f\"}, \"baxis\": {\"endlinecolor\": \"#2a3f5f\", \"gridcolor\": \"white\", \"linecolor\": \"white\", \"minorgridcolor\": \"white\", \"startlinecolor\": \"#2a3f5f\"}, \"type\": \"carpet\"}], \"choropleth\": [{\"colorbar\": {\"outlinewidth\": 0, \"ticks\": \"\"}, \"type\": \"choropleth\"}], \"contour\": [{\"colorbar\": {\"outlinewidth\": 0, \"ticks\": \"\"}, \"colorscale\": [[0.0, \"#0d0887\"], [0.1111111111111111, \"#46039f\"], [0.2222222222222222, \"#7201a8\"], [0.3333333333333333, \"#9c179e\"], [0.4444444444444444, \"#bd3786\"], [0.5555555555555556, \"#d8576b\"], [0.6666666666666666, \"#ed7953\"], [0.7777777777777778, \"#fb9f3a\"], [0.8888888888888888, \"#fdca26\"], [1.0, \"#f0f921\"]], \"type\": \"contour\"}], \"contourcarpet\": [{\"colorbar\": {\"outlinewidth\": 0, \"ticks\": \"\"}, \"type\": \"contourcarpet\"}], \"heatmap\": [{\"colorbar\": {\"outlinewidth\": 0, \"ticks\": \"\"}, \"colorscale\": [[0.0, \"#0d0887\"], [0.1111111111111111, \"#46039f\"], [0.2222222222222222, \"#7201a8\"], [0.3333333333333333, \"#9c179e\"], [0.4444444444444444, \"#bd3786\"], [0.5555555555555556, \"#d8576b\"], [0.6666666666666666, \"#ed7953\"], [0.7777777777777778, \"#fb9f3a\"], [0.8888888888888888, \"#fdca26\"], [1.0, \"#f0f921\"]], \"type\": \"heatmap\"}], \"heatmapgl\": [{\"colorbar\": {\"outlinewidth\": 0, \"ticks\": \"\"}, \"colorscale\": [[0.0, \"#0d0887\"], [0.1111111111111111, \"#46039f\"], [0.2222222222222222, \"#7201a8\"], [0.3333333333333333, \"#9c179e\"], [0.4444444444444444, \"#bd3786\"], [0.5555555555555556, \"#d8576b\"], [0.6666666666666666, \"#ed7953\"], [0.7777777777777778, \"#fb9f3a\"], [0.8888888888888888, \"#fdca26\"], [1.0, \"#f0f921\"]], \"type\": \"heatmapgl\"}], \"histogram\": [{\"marker\": {\"colorbar\": {\"outlinewidth\": 0, \"ticks\": \"\"}}, \"type\": \"histogram\"}], \"histogram2d\": [{\"colorbar\": {\"outlinewidth\": 0, \"ticks\": \"\"}, \"colorscale\": [[0.0, \"#0d0887\"], [0.1111111111111111, \"#46039f\"], [0.2222222222222222, \"#7201a8\"], [0.3333333333333333, \"#9c179e\"], [0.4444444444444444, \"#bd3786\"], [0.5555555555555556, \"#d8576b\"], [0.6666666666666666, \"#ed7953\"], [0.7777777777777778, \"#fb9f3a\"], [0.8888888888888888, \"#fdca26\"], [1.0, \"#f0f921\"]], \"type\": \"histogram2d\"}], \"histogram2dcontour\": [{\"colorbar\": {\"outlinewidth\": 0, \"ticks\": \"\"}, \"colorscale\": [[0.0, \"#0d0887\"], [0.1111111111111111, \"#46039f\"], [0.2222222222222222, \"#7201a8\"], [0.3333333333333333, \"#9c179e\"], [0.4444444444444444, \"#bd3786\"], [0.5555555555555556, \"#d8576b\"], [0.6666666666666666, \"#ed7953\"], [0.7777777777777778, \"#fb9f3a\"], [0.8888888888888888, \"#fdca26\"], [1.0, \"#f0f921\"]], \"type\": \"histogram2dcontour\"}], \"mesh3d\": [{\"colorbar\": {\"outlinewidth\": 0, \"ticks\": \"\"}, \"type\": \"mesh3d\"}], \"parcoords\": [{\"line\": {\"colorbar\": {\"outlinewidth\": 0, \"ticks\": \"\"}}, \"type\": \"parcoords\"}], \"pie\": [{\"automargin\": true, \"type\": \"pie\"}], \"scatter\": [{\"marker\": {\"colorbar\": {\"outlinewidth\": 0, \"ticks\": \"\"}}, \"type\": \"scatter\"}], \"scatter3d\": [{\"line\": {\"colorbar\": {\"outlinewidth\": 0, \"ticks\": \"\"}}, \"marker\": {\"colorbar\": {\"outlinewidth\": 0, \"ticks\": \"\"}}, \"type\": \"scatter3d\"}], \"scattercarpet\": [{\"marker\": {\"colorbar\": {\"outlinewidth\": 0, \"ticks\": \"\"}}, \"type\": \"scattercarpet\"}], \"scattergeo\": [{\"marker\": {\"colorbar\": {\"outlinewidth\": 0, \"ticks\": \"\"}}, \"type\": \"scattergeo\"}], \"scattergl\": [{\"marker\": {\"colorbar\": {\"outlinewidth\": 0, \"ticks\": \"\"}}, \"type\": \"scattergl\"}], \"scattermapbox\": [{\"marker\": {\"colorbar\": {\"outlinewidth\": 0, \"ticks\": \"\"}}, \"type\": \"scattermapbox\"}], \"scatterpolar\": [{\"marker\": {\"colorbar\": {\"outlinewidth\": 0, \"ticks\": \"\"}}, \"type\": \"scatterpolar\"}], \"scatterpolargl\": [{\"marker\": {\"colorbar\": {\"outlinewidth\": 0, \"ticks\": \"\"}}, \"type\": \"scatterpolargl\"}], \"scatterternary\": [{\"marker\": {\"colorbar\": {\"outlinewidth\": 0, \"ticks\": \"\"}}, \"type\": \"scatterternary\"}], \"surface\": [{\"colorbar\": {\"outlinewidth\": 0, \"ticks\": \"\"}, \"colorscale\": [[0.0, \"#0d0887\"], [0.1111111111111111, \"#46039f\"], [0.2222222222222222, \"#7201a8\"], [0.3333333333333333, \"#9c179e\"], [0.4444444444444444, \"#bd3786\"], [0.5555555555555556, \"#d8576b\"], [0.6666666666666666, \"#ed7953\"], [0.7777777777777778, \"#fb9f3a\"], [0.8888888888888888, \"#fdca26\"], [1.0, \"#f0f921\"]], \"type\": \"surface\"}], \"table\": [{\"cells\": {\"fill\": {\"color\": \"#EBF0F8\"}, \"line\": {\"color\": \"white\"}}, \"header\": {\"fill\": {\"color\": \"#C8D4E3\"}, \"line\": {\"color\": \"white\"}}, \"type\": \"table\"}]}, \"layout\": {\"annotationdefaults\": {\"arrowcolor\": \"#2a3f5f\", \"arrowhead\": 0, \"arrowwidth\": 1}, \"coloraxis\": {\"colorbar\": {\"outlinewidth\": 0, \"ticks\": \"\"}}, \"colorscale\": {\"diverging\": [[0, \"#8e0152\"], [0.1, \"#c51b7d\"], [0.2, \"#de77ae\"], [0.3, \"#f1b6da\"], [0.4, \"#fde0ef\"], [0.5, \"#f7f7f7\"], [0.6, \"#e6f5d0\"], [0.7, \"#b8e186\"], [0.8, \"#7fbc41\"], [0.9, \"#4d9221\"], [1, \"#276419\"]], \"sequential\": [[0.0, \"#0d0887\"], [0.1111111111111111, \"#46039f\"], [0.2222222222222222, \"#7201a8\"], [0.3333333333333333, \"#9c179e\"], [0.4444444444444444, \"#bd3786\"], [0.5555555555555556, \"#d8576b\"], [0.6666666666666666, \"#ed7953\"], [0.7777777777777778, \"#fb9f3a\"], [0.8888888888888888, \"#fdca26\"], [1.0, \"#f0f921\"]], \"sequentialminus\": [[0.0, \"#0d0887\"], [0.1111111111111111, \"#46039f\"], [0.2222222222222222, \"#7201a8\"], [0.3333333333333333, \"#9c179e\"], [0.4444444444444444, \"#bd3786\"], [0.5555555555555556, \"#d8576b\"], [0.6666666666666666, \"#ed7953\"], [0.7777777777777778, \"#fb9f3a\"], [0.8888888888888888, \"#fdca26\"], [1.0, \"#f0f921\"]]}, \"colorway\": [\"#636efa\", \"#EF553B\", \"#00cc96\", \"#ab63fa\", \"#FFA15A\", \"#19d3f3\", \"#FF6692\", \"#B6E880\", \"#FF97FF\", \"#FECB52\"], \"font\": {\"color\": \"#2a3f5f\"}, \"geo\": {\"bgcolor\": \"white\", \"lakecolor\": \"white\", \"landcolor\": \"#E5ECF6\", \"showlakes\": true, \"showland\": true, \"subunitcolor\": \"white\"}, \"hoverlabel\": {\"align\": \"left\"}, \"hovermode\": \"closest\", \"mapbox\": {\"style\": \"light\"}, \"paper_bgcolor\": \"white\", \"plot_bgcolor\": \"#E5ECF6\", \"polar\": {\"angularaxis\": {\"gridcolor\": \"white\", \"linecolor\": \"white\", \"ticks\": \"\"}, \"bgcolor\": \"#E5ECF6\", \"radialaxis\": {\"gridcolor\": \"white\", \"linecolor\": \"white\", \"ticks\": \"\"}}, \"scene\": {\"xaxis\": {\"backgroundcolor\": \"#E5ECF6\", \"gridcolor\": \"white\", \"gridwidth\": 2, \"linecolor\": \"white\", \"showbackground\": true, \"ticks\": \"\", \"zerolinecolor\": \"white\"}, \"yaxis\": {\"backgroundcolor\": \"#E5ECF6\", \"gridcolor\": \"white\", \"gridwidth\": 2, \"linecolor\": \"white\", \"showbackground\": true, \"ticks\": \"\", \"zerolinecolor\": \"white\"}, \"zaxis\": {\"backgroundcolor\": \"#E5ECF6\", \"gridcolor\": \"white\", \"gridwidth\": 2, \"linecolor\": \"white\", \"showbackground\": true, \"ticks\": \"\", \"zerolinecolor\": \"white\"}}, \"shapedefaults\": {\"line\": {\"color\": \"#2a3f5f\"}}, \"ternary\": {\"aaxis\": {\"gridcolor\": \"white\", \"linecolor\": \"white\", \"ticks\": \"\"}, \"baxis\": {\"gridcolor\": \"white\", \"linecolor\": \"white\", \"ticks\": \"\"}, \"bgcolor\": \"#E5ECF6\", \"caxis\": {\"gridcolor\": \"white\", \"linecolor\": \"white\", \"ticks\": \"\"}}, \"title\": {\"x\": 0.05}, \"xaxis\": {\"automargin\": true, \"gridcolor\": \"white\", \"linecolor\": \"white\", \"ticks\": \"\", \"title\": {\"standoff\": 15}, \"zerolinecolor\": \"white\", \"zerolinewidth\": 2}, \"yaxis\": {\"automargin\": true, \"gridcolor\": \"white\", \"linecolor\": \"white\", \"ticks\": \"\", \"title\": {\"standoff\": 15}, \"zerolinecolor\": \"white\", \"zerolinewidth\": 2}}}, \"title\": {\"text\": \"Mean Social Score by Country\", \"x\": 0.54, \"y\": 0.87}, \"updatemenus\": [{\"active\": 0, \"buttons\": [{\"args\": [{\"visible\": [true, false, false]}, {\"title\": \"Mean Social Score by Country\"}], \"label\": \"Social Score\", \"method\": \"update\"}, {\"args\": [{\"visible\": [false, true, false]}, {\"title\": \"Mean Travel Score (distance) by Country\"}], \"label\": \"Travel Score <br>(distance)\", \"method\": \"update\"}, {\"args\": [{\"visible\": [false, false, true]}, {\"title\": \"Mean Travel Score (category) by Country\"}], \"label\": \"Travel Score <br>(category)\", \"method\": \"update\"}]}]},                        {\"responsive\": true}                    ).then(function(){\n",
       "                            \n",
       "var gd = document.getElementById('1b227c0d-50fc-4ee6-a4e6-ea4e66197405');\n",
       "var x = new MutationObserver(function (mutations, observer) {{\n",
       "        var display = window.getComputedStyle(gd).display;\n",
       "        if (!display || display === 'none') {{\n",
       "            console.log([gd, 'removed!']);\n",
       "            Plotly.purge(gd);\n",
       "            observer.disconnect();\n",
       "        }}\n",
       "}});\n",
       "\n",
       "// Listen for the removal of the full notebook cells\n",
       "var notebookContainer = gd.closest('#notebook-container');\n",
       "if (notebookContainer) {{\n",
       "    x.observe(notebookContainer, {childList: true});\n",
       "}}\n",
       "\n",
       "// Listen for the clearing of the current output cell\n",
       "var outputEl = gd.closest('.output');\n",
       "if (outputEl) {{\n",
       "    x.observe(outputEl, {childList: true});\n",
       "}}\n",
       "\n",
       "                        })                };                });            </script>        </div>"
      ]
     },
     "metadata": {},
     "output_type": "display_data"
    }
   ],
   "source": [
    "# Data\n",
    "cols_dd = [\"social_score\", \"travel_score_distance\", \"travel_score_category\"]\n",
    "# we need to add this to select which trace \n",
    "# is going to be visible\n",
    "visible = np.array(cols_dd)\n",
    "\n",
    "cscale = ['#003f5c','#1e4365','#32466e','#454a76','#574c7d','#684e82','#7a5087',\n",
    "          '#8d518b','#9f518e','#b25190','#c3528c','#d15782','#dc5d78','#e6656e',\n",
    "          '#ef6e63','#f57858','#fa824b','#fd8e3c','#ff9a29','#ffa600']\n",
    "# define traces and buttons at once\n",
    "traces = []\n",
    "buttons = []\n",
    "for value in cols_dd:\n",
    "    if value == 'social_score':\n",
    "        title = 'Mean Social Score by Country'\n",
    "        b = 'Social Score'\n",
    "    elif value == 'travel_score_distance':\n",
    "        title = 'Mean Travel Score (distance) by Country'\n",
    "        b = 'Travel Score <br>(distance)'\n",
    "    elif value == 'travel_score_category':\n",
    "        title = 'Mean Travel Score (category) by Country'\n",
    "        b = 'Travel Score <br>(category)'\n",
    "    traces.append(go.Choropleth(\n",
    "        locations=user_score_country_df['country_code'], # Spatial coordinates\n",
    "        z=user_score_country_df[value].astype(float), # Data to be color-coded\n",
    "        colorscale = cscale,\n",
    "        colorbar_title='Score',\n",
    "        visible= True if value==cols_dd[0] else False))\n",
    "\n",
    "    buttons.append(dict(label=b,\n",
    "                        method=\"update\",\n",
    "                        args=[{\"visible\":list(visible==value)},\n",
    "                              {\"title\":f\"{title}\"}]))\n",
    "\n",
    "updatemenus = [{\"active\":0,\n",
    "                \"buttons\":buttons,\n",
    "               }]\n",
    "\n",
    "\n",
    "# Show figure\n",
    "fig = go.Figure(data=traces,\n",
    "                layout=dict(updatemenus=updatemenus))\n",
    "\n",
    "fig.update_geos(projection_type=\"natural earth\")\n",
    "\n",
    "fig.update_traces(hovertemplate = 'Score: %{z}<extra></extra>')\n",
    "\n",
    "# This is in order to get the first title displayed correctly\n",
    "first_title = 'Mean Social Score by Country'\n",
    "fig.update_layout(title=f\"{first_title}\",title_x=0.54,title_y=0.87)\n",
    "fig.show()"
   ]
  },
  {
   "cell_type": "markdown",
   "metadata": {},
   "source": [
    "---\n",
    "## Part 5: Cosine Similarity\n"
   ]
  },
  {
   "cell_type": "code",
   "execution_count": 355,
   "metadata": {},
   "outputs": [],
   "source": [
    "# Copy dataframes\n",
    "df_checkins_cleaned = checkin_df.copy()\n",
    "df_friendships_cleaned = friendship_df.copy()\n",
    "df_venues_cleaned = venue_df.copy()"
   ]
  },
  {
   "cell_type": "markdown",
   "metadata": {},
   "source": [
    "First we want to compute the evolution of a user's friendships: $\\frac{n_{friends}(after) - n_{friends}(before)}{n_{friends}(before)}$"
   ]
  },
  {
   "cell_type": "code",
   "execution_count": 356,
   "metadata": {},
   "outputs": [
    {
     "data": {
      "text/html": [
       "<div>\n",
       "<style scoped>\n",
       "    .dataframe tbody tr th:only-of-type {\n",
       "        vertical-align: middle;\n",
       "    }\n",
       "\n",
       "    .dataframe tbody tr th {\n",
       "        vertical-align: top;\n",
       "    }\n",
       "\n",
       "    .dataframe thead th {\n",
       "        text-align: right;\n",
       "    }\n",
       "</style>\n",
       "<table border=\"1\" class=\"dataframe\">\n",
       "  <thead>\n",
       "    <tr style=\"text-align: right;\">\n",
       "      <th></th>\n",
       "      <th>user_id</th>\n",
       "      <th>num_friends_before</th>\n",
       "      <th>num_friends_after</th>\n",
       "      <th>num_friends_gained</th>\n",
       "      <th>friends_evolution</th>\n",
       "    </tr>\n",
       "  </thead>\n",
       "  <tbody>\n",
       "    <tr>\n",
       "      <th>48735</th>\n",
       "      <td>845263</td>\n",
       "      <td>6</td>\n",
       "      <td>16</td>\n",
       "      <td>10</td>\n",
       "      <td>1.666667</td>\n",
       "    </tr>\n",
       "    <tr>\n",
       "      <th>66484</th>\n",
       "      <td>1468684</td>\n",
       "      <td>1</td>\n",
       "      <td>3</td>\n",
       "      <td>2</td>\n",
       "      <td>2.000000</td>\n",
       "    </tr>\n",
       "    <tr>\n",
       "      <th>46583</th>\n",
       "      <td>796027</td>\n",
       "      <td>1</td>\n",
       "      <td>5</td>\n",
       "      <td>4</td>\n",
       "      <td>4.000000</td>\n",
       "    </tr>\n",
       "  </tbody>\n",
       "</table>\n",
       "</div>"
      ],
      "text/plain": [
       "       user_id  num_friends_before  num_friends_after  num_friends_gained  \\\n",
       "48735   845263                   6                 16                  10   \n",
       "66484  1468684                   1                  3                   2   \n",
       "46583   796027                   1                  5                   4   \n",
       "\n",
       "       friends_evolution  \n",
       "48735           1.666667  \n",
       "66484           2.000000  \n",
       "46583           4.000000  "
      ]
     },
     "execution_count": 356,
     "metadata": {},
     "output_type": "execute_result"
    }
   ],
   "source": [
    "# Compute friendship evolution\n",
    "df_friendships_cleaned['friends_evolution'] = (df_friendships_cleaned['num_friends_after'] - \\\n",
    "                                               df_friendships_cleaned['num_friends_before']) / \\\n",
    "                                                df_friendships_cleaned['num_friends_before']\n",
    "\n",
    "# Visualise dataframe\n",
    "df_friendships_cleaned.sample(3)"
   ]
  },
  {
   "cell_type": "markdown",
   "metadata": {},
   "source": [
    "We can now merge the checkins dataframe with the venues dataframe, group by the level 1 category and calculate the scaled frequency at which each user visits each venue within a level 1 category. After this we split the data into training (80%) and testing (20%) sets."
   ]
  },
  {
   "cell_type": "code",
   "execution_count": 357,
   "metadata": {},
   "outputs": [],
   "source": [
    "# Merge dataframes\n",
    "df_merged = df_checkins_cleaned.merge(df_venues_cleaned, how='left', on='venue_id')\n",
    "df_merged = df_merged[df_merged.user_id.isin(df_friendships_cleaned.user_id)]\n",
    "\n",
    "# Groupby level 1 category\n",
    "df_final = df_merged.groupby(['user_id', 'level_1_category']).size().reset_index(name='frequency')\n",
    "\n",
    "# Get checkins in category\n",
    "nbr_checkins = df_merged.groupby('user_id').size().reset_index(name='number_of_checkins')\n",
    "\n",
    "# Create scaled frequency dataframe\n",
    "df_final = df_final.merge(nbr_checkins, on='user_id', how='left')\n",
    "df_final['adj_frequency'] = df_final['frequency'] / df_final['number_of_checkins'] * 1.0\n",
    "df_final = df_final.pivot(index='user_id', columns='level_1_category', values='adj_frequency').fillna(0)\n",
    "df_final.head()\n",
    "\n",
    "# Split data\n",
    "train, test = train_test_split(df_final, train_size=0.8)"
   ]
  },
  {
   "cell_type": "code",
   "execution_count": 358,
   "metadata": {
    "scrolled": true
   },
   "outputs": [
    {
     "data": {
      "text/html": [
       "<div>\n",
       "<style scoped>\n",
       "    .dataframe tbody tr th:only-of-type {\n",
       "        vertical-align: middle;\n",
       "    }\n",
       "\n",
       "    .dataframe tbody tr th {\n",
       "        vertical-align: top;\n",
       "    }\n",
       "\n",
       "    .dataframe thead th {\n",
       "        text-align: right;\n",
       "    }\n",
       "</style>\n",
       "<table border=\"1\" class=\"dataframe\">\n",
       "  <thead>\n",
       "    <tr style=\"text-align: right;\">\n",
       "      <th>level_1_category</th>\n",
       "      <th>Adult Boutique</th>\n",
       "      <th>Afghan Restaurant</th>\n",
       "      <th>African Restaurant</th>\n",
       "      <th>Airport</th>\n",
       "      <th>American Restaurant</th>\n",
       "      <th>Animal Shelter</th>\n",
       "      <th>Antique Shop</th>\n",
       "      <th>Aquarium</th>\n",
       "      <th>Arcade</th>\n",
       "      <th>Art Gallery</th>\n",
       "      <th>...</th>\n",
       "      <th>Video Game Store</th>\n",
       "      <th>Video Store</th>\n",
       "      <th>Vineyard</th>\n",
       "      <th>Volcano</th>\n",
       "      <th>Voting Booth</th>\n",
       "      <th>Water Park</th>\n",
       "      <th>Well</th>\n",
       "      <th>Winery</th>\n",
       "      <th>Wings Joint</th>\n",
       "      <th>Zoo</th>\n",
       "    </tr>\n",
       "    <tr>\n",
       "      <th>user_id</th>\n",
       "      <th></th>\n",
       "      <th></th>\n",
       "      <th></th>\n",
       "      <th></th>\n",
       "      <th></th>\n",
       "      <th></th>\n",
       "      <th></th>\n",
       "      <th></th>\n",
       "      <th></th>\n",
       "      <th></th>\n",
       "      <th></th>\n",
       "      <th></th>\n",
       "      <th></th>\n",
       "      <th></th>\n",
       "      <th></th>\n",
       "      <th></th>\n",
       "      <th></th>\n",
       "      <th></th>\n",
       "      <th></th>\n",
       "      <th></th>\n",
       "      <th></th>\n",
       "    </tr>\n",
       "  </thead>\n",
       "  <tbody>\n",
       "    <tr>\n",
       "      <th>571710</th>\n",
       "      <td>0.0</td>\n",
       "      <td>0.0</td>\n",
       "      <td>0.0</td>\n",
       "      <td>0.018182</td>\n",
       "      <td>0.00000</td>\n",
       "      <td>0.0</td>\n",
       "      <td>0.0</td>\n",
       "      <td>0.0</td>\n",
       "      <td>0.009091</td>\n",
       "      <td>0.0</td>\n",
       "      <td>...</td>\n",
       "      <td>0.0</td>\n",
       "      <td>0.0</td>\n",
       "      <td>0.0</td>\n",
       "      <td>0.0</td>\n",
       "      <td>0.0</td>\n",
       "      <td>0.0</td>\n",
       "      <td>0.0</td>\n",
       "      <td>0.0</td>\n",
       "      <td>0.0</td>\n",
       "      <td>0.0</td>\n",
       "    </tr>\n",
       "    <tr>\n",
       "      <th>448666</th>\n",
       "      <td>0.0</td>\n",
       "      <td>0.0</td>\n",
       "      <td>0.0</td>\n",
       "      <td>0.007874</td>\n",
       "      <td>0.00000</td>\n",
       "      <td>0.0</td>\n",
       "      <td>0.0</td>\n",
       "      <td>0.0</td>\n",
       "      <td>0.007874</td>\n",
       "      <td>0.0</td>\n",
       "      <td>...</td>\n",
       "      <td>0.0</td>\n",
       "      <td>0.0</td>\n",
       "      <td>0.0</td>\n",
       "      <td>0.0</td>\n",
       "      <td>0.0</td>\n",
       "      <td>0.0</td>\n",
       "      <td>0.0</td>\n",
       "      <td>0.0</td>\n",
       "      <td>0.0</td>\n",
       "      <td>0.0</td>\n",
       "    </tr>\n",
       "    <tr>\n",
       "      <th>241748</th>\n",
       "      <td>0.0</td>\n",
       "      <td>0.0</td>\n",
       "      <td>0.0</td>\n",
       "      <td>0.004525</td>\n",
       "      <td>0.00905</td>\n",
       "      <td>0.0</td>\n",
       "      <td>0.0</td>\n",
       "      <td>0.0</td>\n",
       "      <td>0.000000</td>\n",
       "      <td>0.0</td>\n",
       "      <td>...</td>\n",
       "      <td>0.0</td>\n",
       "      <td>0.0</td>\n",
       "      <td>0.0</td>\n",
       "      <td>0.0</td>\n",
       "      <td>0.0</td>\n",
       "      <td>0.0</td>\n",
       "      <td>0.0</td>\n",
       "      <td>0.0</td>\n",
       "      <td>0.0</td>\n",
       "      <td>0.0</td>\n",
       "    </tr>\n",
       "  </tbody>\n",
       "</table>\n",
       "<p>3 rows × 269 columns</p>\n",
       "</div>"
      ],
      "text/plain": [
       "level_1_category  Adult Boutique  Afghan Restaurant  African Restaurant  \\\n",
       "user_id                                                                   \n",
       "571710                       0.0                0.0                 0.0   \n",
       "448666                       0.0                0.0                 0.0   \n",
       "241748                       0.0                0.0                 0.0   \n",
       "\n",
       "level_1_category   Airport  American Restaurant  Animal Shelter  Antique Shop  \\\n",
       "user_id                                                                         \n",
       "571710            0.018182              0.00000             0.0           0.0   \n",
       "448666            0.007874              0.00000             0.0           0.0   \n",
       "241748            0.004525              0.00905             0.0           0.0   \n",
       "\n",
       "level_1_category  Aquarium    Arcade  Art Gallery  ...  Video Game Store  \\\n",
       "user_id                                            ...                     \n",
       "571710                 0.0  0.009091          0.0  ...               0.0   \n",
       "448666                 0.0  0.007874          0.0  ...               0.0   \n",
       "241748                 0.0  0.000000          0.0  ...               0.0   \n",
       "\n",
       "level_1_category  Video Store  Vineyard  Volcano  Voting Booth  Water Park  \\\n",
       "user_id                                                                      \n",
       "571710                    0.0       0.0      0.0           0.0         0.0   \n",
       "448666                    0.0       0.0      0.0           0.0         0.0   \n",
       "241748                    0.0       0.0      0.0           0.0         0.0   \n",
       "\n",
       "level_1_category  Well  Winery  Wings Joint  Zoo  \n",
       "user_id                                           \n",
       "571710             0.0     0.0          0.0  0.0  \n",
       "448666             0.0     0.0          0.0  0.0  \n",
       "241748             0.0     0.0          0.0  0.0  \n",
       "\n",
       "[3 rows x 269 columns]"
      ]
     },
     "execution_count": 358,
     "metadata": {},
     "output_type": "execute_result"
    }
   ],
   "source": [
    "# Visualise dataframe\n",
    "df_final.sample(3)"
   ]
  },
  {
   "cell_type": "markdown",
   "metadata": {},
   "source": [
    "We want to find 5 users in the training set that are the most similar to a particular user in the testing set according to the check-ins they have made."
   ]
  },
  {
   "cell_type": "code",
   "execution_count": 379,
   "metadata": {},
   "outputs": [],
   "source": [
    "# Get scores from cosine similarity\n",
    "sim_scores = cosine_similarity(test, train)\n",
    "\n",
    "# Sort similarity scores\n",
    "sorted_sim = np.argsort(sim_scores, axis=1)\n",
    "sorted_sim = sorted_sim[:, -6:-1]"
   ]
  },
  {
   "cell_type": "markdown",
   "metadata": {},
   "source": [
    "We get the 5 similar user's id value."
   ]
  },
  {
   "cell_type": "code",
   "execution_count": 380,
   "metadata": {},
   "outputs": [],
   "source": [
    "user_IDs = train.index.values\n",
    "venue_IDs = list(train.columns.values)\n",
    "\n",
    "top_n_idx = []\n",
    "top_n_userIDs = []\n",
    "top_n_scores = []\n",
    "top_n_new_friendships = []\n",
    "\n",
    "for i in range(len(sorted_sim)):\n",
    "    top_n_idx.append(sorted_sim[i])\n",
    "    top_n_userIDs.append(user_IDs.take(sorted_sim[i])) #Inefficient\n",
    "    top_n_scores.append(sim_scores[i].take(sorted_sim[i]))\n",
    "\n",
    "top_n_idx = np.array(top_n_idx)\n",
    "top_n_userIDs = np.array(top_n_userIDs)\n",
    "top_n_scores = np.array(top_n_scores)"
   ]
  },
  {
   "cell_type": "markdown",
   "metadata": {},
   "source": [
    "We create a datframe with the sorted 5 most similar user's to each individual user."
   ]
  },
  {
   "cell_type": "code",
   "execution_count": 382,
   "metadata": {},
   "outputs": [
    {
     "data": {
      "text/html": [
       "<div>\n",
       "<style scoped>\n",
       "    .dataframe tbody tr th:only-of-type {\n",
       "        vertical-align: middle;\n",
       "    }\n",
       "\n",
       "    .dataframe tbody tr th {\n",
       "        vertical-align: top;\n",
       "    }\n",
       "\n",
       "    .dataframe thead th {\n",
       "        text-align: right;\n",
       "    }\n",
       "</style>\n",
       "<table border=\"1\" class=\"dataframe\">\n",
       "  <thead>\n",
       "    <tr style=\"text-align: right;\">\n",
       "      <th></th>\n",
       "      <th>most_similar</th>\n",
       "      <th>second</th>\n",
       "      <th>third</th>\n",
       "      <th>fourth</th>\n",
       "      <th>fifth</th>\n",
       "    </tr>\n",
       "    <tr>\n",
       "      <th>user_id</th>\n",
       "      <th></th>\n",
       "      <th></th>\n",
       "      <th></th>\n",
       "      <th></th>\n",
       "      <th></th>\n",
       "    </tr>\n",
       "  </thead>\n",
       "  <tbody>\n",
       "    <tr>\n",
       "      <th>535083</th>\n",
       "      <td>794798</td>\n",
       "      <td>46617</td>\n",
       "      <td>1266912</td>\n",
       "      <td>748640</td>\n",
       "      <td>56236</td>\n",
       "    </tr>\n",
       "    <tr>\n",
       "      <th>716325</th>\n",
       "      <td>629383</td>\n",
       "      <td>674218</td>\n",
       "      <td>969094</td>\n",
       "      <td>615081</td>\n",
       "      <td>927561</td>\n",
       "    </tr>\n",
       "    <tr>\n",
       "      <th>74928</th>\n",
       "      <td>30212</td>\n",
       "      <td>317474</td>\n",
       "      <td>789918</td>\n",
       "      <td>333758</td>\n",
       "      <td>97186</td>\n",
       "    </tr>\n",
       "  </tbody>\n",
       "</table>\n",
       "</div>"
      ],
      "text/plain": [
       "         most_similar  second    third  fourth   fifth\n",
       "user_id                                               \n",
       "535083         794798   46617  1266912  748640   56236\n",
       "716325         629383  674218   969094  615081  927561\n",
       "74928           30212  317474   789918  333758   97186"
      ]
     },
     "execution_count": 382,
     "metadata": {},
     "output_type": "execute_result"
    }
   ],
   "source": [
    "# Create and format dataframe\n",
    "orted_df_with_user_ids = pd.DataFrame(top_n_userIDs)\n",
    "sorted_df_with_user_ids.index = test.index\n",
    "sorted_df_with_user_ids.columns = ['most_similar', 'second', 'third', 'fourth', 'fifth']\n",
    "\n",
    "# Visualise dataframe\n",
    "sorted_df_with_user_ids.sample(3)"
   ]
  },
  {
   "cell_type": "markdown",
   "metadata": {},
   "source": [
    "We determine how the number of friends of these users changed over the data collection period."
   ]
  },
  {
   "cell_type": "code",
   "execution_count": 390,
   "metadata": {},
   "outputs": [
    {
     "data": {
      "text/html": [
       "<div>\n",
       "<style scoped>\n",
       "    .dataframe tbody tr th:only-of-type {\n",
       "        vertical-align: middle;\n",
       "    }\n",
       "\n",
       "    .dataframe tbody tr th {\n",
       "        vertical-align: top;\n",
       "    }\n",
       "\n",
       "    .dataframe thead th {\n",
       "        text-align: right;\n",
       "    }\n",
       "</style>\n",
       "<table border=\"1\" class=\"dataframe\">\n",
       "  <thead>\n",
       "    <tr style=\"text-align: right;\">\n",
       "      <th></th>\n",
       "      <th>most_similar</th>\n",
       "      <th>second</th>\n",
       "      <th>third</th>\n",
       "      <th>fourth</th>\n",
       "      <th>fifth</th>\n",
       "    </tr>\n",
       "    <tr>\n",
       "      <th>user_id</th>\n",
       "      <th></th>\n",
       "      <th></th>\n",
       "      <th></th>\n",
       "      <th></th>\n",
       "      <th></th>\n",
       "    </tr>\n",
       "  </thead>\n",
       "  <tbody>\n",
       "    <tr>\n",
       "      <th>31667</th>\n",
       "      <td>2.0</td>\n",
       "      <td>0.000000</td>\n",
       "      <td>0.333333</td>\n",
       "      <td>2.0</td>\n",
       "      <td>0.000000</td>\n",
       "    </tr>\n",
       "    <tr>\n",
       "      <th>659250</th>\n",
       "      <td>4.0</td>\n",
       "      <td>-0.250000</td>\n",
       "      <td>1.000000</td>\n",
       "      <td>5.0</td>\n",
       "      <td>13.000000</td>\n",
       "    </tr>\n",
       "    <tr>\n",
       "      <th>453620</th>\n",
       "      <td>21.0</td>\n",
       "      <td>0.052632</td>\n",
       "      <td>1.000000</td>\n",
       "      <td>0.0</td>\n",
       "      <td>5.666667</td>\n",
       "    </tr>\n",
       "  </tbody>\n",
       "</table>\n",
       "</div>"
      ],
      "text/plain": [
       "         most_similar    second     third  fourth      fifth\n",
       "user_id                                                     \n",
       "31667             2.0  0.000000  0.333333     2.0   0.000000\n",
       "659250            4.0 -0.250000  1.000000     5.0  13.000000\n",
       "453620           21.0  0.052632  1.000000     0.0   5.666667"
      ]
     },
     "execution_count": 390,
     "metadata": {},
     "output_type": "execute_result"
    }
   ],
   "source": [
    "# Replace user id values by the friendship evolution value.\n",
    "sorted_new = sorted_df_with_user_ids.copy()\n",
    "\n",
    "sorted_new = sorted_new.merge(df_friendships_cleaned, left_on='most_similar', \n",
    "                                     right_on='user_id', how='left')[['most_similar','second',\n",
    "                                                                      'third','fourth','fifth',\n",
    "                                                                      'friends_evolution']]\n",
    "sorted_new['most_similar'] = sorted_new['friends_evolution']\n",
    "sorted_new = sorted_new.drop(columns='friends_evolution')\n",
    "sorted_new.index = sorted_df_with_user_ids.index\n",
    "\n",
    "sorted_new = sorted_new.merge(df_friendships_cleaned, left_on='second',\n",
    "                                     right_on='user_id', how='left')[['most_similar','second',\n",
    "                                                                      'third','fourth','fifth',\n",
    "                                                                      'friends_evolution']]\n",
    "sorted_new['second'] = sorted_new['friends_evolution']\n",
    "sorted_new = sorted_new.drop(columns='friends_evolution')\n",
    "sorted_new.index = sorted_df_with_user_ids.index\n",
    "\n",
    "sorted_new = sorted_new.merge(df_friendships_cleaned, left_on='third', \n",
    "                                     right_on='user_id', how='left')[['most_similar','second',\n",
    "                                                                      'third','fourth','fifth',\n",
    "                                                                      'friends_evolution']]\n",
    "sorted_new['third'] = sorted_new['friends_evolution']\n",
    "sorted_new = sorted_new.drop(columns='friends_evolution')\n",
    "sorted_new.index = sorted_df_with_user_ids.index\n",
    "\n",
    "sorted_new = sorted_new.merge(df_friendships_cleaned, left_on='fourth', \n",
    "                                     right_on='user_id', how='left')[['most_similar','second',\n",
    "                                                                      'third','fourth','fifth',\n",
    "                                                                      'friends_evolution']]\n",
    "sorted_new['fourth'] = sorted_new['friends_evolution']\n",
    "sorted_new = sorted_new.drop(columns='friends_evolution')\n",
    "sorted_new.index = sorted_df_with_user_ids.index\n",
    "\n",
    "sorted_new = sorted_new.merge(df_friendships_cleaned, left_on='fifth', \n",
    "                                     right_on='user_id', how='left')[['most_similar','second',\n",
    "                                                                      'third','fourth','fifth',\n",
    "                                                                      'friends_evolution']]\n",
    "sorted_new['fifth'] = sorted_new['friends_evolution']\n",
    "sorted_new = sorted_new.drop(columns='friends_evolution')\n",
    "sorted_new.index = sorted_df_with_user_ids.index\n",
    "\n",
    "sorted_new.sample(3)"
   ]
  },
  {
   "cell_type": "markdown",
   "metadata": {},
   "source": [
    "We compute the estimated variation of the number of friends of the users in the test set."
   ]
  },
  {
   "cell_type": "code",
   "execution_count": 391,
   "metadata": {
    "scrolled": true
   },
   "outputs": [
    {
     "data": {
      "text/html": [
       "<div>\n",
       "<style scoped>\n",
       "    .dataframe tbody tr th:only-of-type {\n",
       "        vertical-align: middle;\n",
       "    }\n",
       "\n",
       "    .dataframe tbody tr th {\n",
       "        vertical-align: top;\n",
       "    }\n",
       "\n",
       "    .dataframe thead th {\n",
       "        text-align: right;\n",
       "    }\n",
       "</style>\n",
       "<table border=\"1\" class=\"dataframe\">\n",
       "  <thead>\n",
       "    <tr style=\"text-align: right;\">\n",
       "      <th></th>\n",
       "      <th>most_similar</th>\n",
       "      <th>second</th>\n",
       "      <th>third</th>\n",
       "      <th>fourth</th>\n",
       "      <th>fifth</th>\n",
       "      <th>predicted_friends_evolution</th>\n",
       "    </tr>\n",
       "    <tr>\n",
       "      <th>user_id</th>\n",
       "      <th></th>\n",
       "      <th></th>\n",
       "      <th></th>\n",
       "      <th></th>\n",
       "      <th></th>\n",
       "      <th></th>\n",
       "    </tr>\n",
       "  </thead>\n",
       "  <tbody>\n",
       "    <tr>\n",
       "      <th>407168</th>\n",
       "      <td>0.000000</td>\n",
       "      <td>3.000</td>\n",
       "      <td>0.000000</td>\n",
       "      <td>0.666667</td>\n",
       "      <td>0.5</td>\n",
       "      <td>0.833333</td>\n",
       "    </tr>\n",
       "    <tr>\n",
       "      <th>627336</th>\n",
       "      <td>-0.333333</td>\n",
       "      <td>0.000</td>\n",
       "      <td>-0.666667</td>\n",
       "      <td>0.857143</td>\n",
       "      <td>0.0</td>\n",
       "      <td>-0.202765</td>\n",
       "    </tr>\n",
       "    <tr>\n",
       "      <th>687315</th>\n",
       "      <td>-0.166667</td>\n",
       "      <td>2.000</td>\n",
       "      <td>1.000000</td>\n",
       "      <td>2.000000</td>\n",
       "      <td>5.0</td>\n",
       "      <td>0.849462</td>\n",
       "    </tr>\n",
       "    <tr>\n",
       "      <th>404468</th>\n",
       "      <td>0.000000</td>\n",
       "      <td>23.000</td>\n",
       "      <td>-0.500000</td>\n",
       "      <td>2.000000</td>\n",
       "      <td>-0.1</td>\n",
       "      <td>5.996774</td>\n",
       "    </tr>\n",
       "    <tr>\n",
       "      <th>731096</th>\n",
       "      <td>7.000000</td>\n",
       "      <td>-0.125</td>\n",
       "      <td>0.000000</td>\n",
       "      <td>2.000000</td>\n",
       "      <td>0.0</td>\n",
       "      <td>3.709677</td>\n",
       "    </tr>\n",
       "  </tbody>\n",
       "</table>\n",
       "</div>"
      ],
      "text/plain": [
       "         most_similar  second     third    fourth  fifth  \\\n",
       "user_id                                                    \n",
       "407168       0.000000   3.000  0.000000  0.666667    0.5   \n",
       "627336      -0.333333   0.000 -0.666667  0.857143    0.0   \n",
       "687315      -0.166667   2.000  1.000000  2.000000    5.0   \n",
       "404468       0.000000  23.000 -0.500000  2.000000   -0.1   \n",
       "731096       7.000000  -0.125  0.000000  2.000000    0.0   \n",
       "\n",
       "         predicted_friends_evolution  \n",
       "user_id                               \n",
       "407168                      0.833333  \n",
       "627336                     -0.202765  \n",
       "687315                      0.849462  \n",
       "404468                      5.996774  \n",
       "731096                      3.709677  "
      ]
     },
     "execution_count": 391,
     "metadata": {},
     "output_type": "execute_result"
    }
   ],
   "source": [
    "# Predict evolution\n",
    "sorted_new['predicted_friends_evolution'] = ((16*sorted_new['most_similar'] + \\\n",
    "                                              8*sorted_new['second'] + \\\n",
    "                                              4*sorted_new['third'] + \\\n",
    "                                              2*sorted_new['fourth'] + \\\n",
    "                                              1*sorted_new['fifth']) / 31)\n",
    "\n",
    "# Visualise dataframe\n",
    "sorted_new.head()"
   ]
  },
  {
   "cell_type": "markdown",
   "metadata": {},
   "source": [
    "We merge with the friendship dataframe and convert the evolution in to the number of friends gained."
   ]
  },
  {
   "cell_type": "code",
   "execution_count": 392,
   "metadata": {},
   "outputs": [
    {
     "data": {
      "text/html": [
       "<div>\n",
       "<style scoped>\n",
       "    .dataframe tbody tr th:only-of-type {\n",
       "        vertical-align: middle;\n",
       "    }\n",
       "\n",
       "    .dataframe tbody tr th {\n",
       "        vertical-align: top;\n",
       "    }\n",
       "\n",
       "    .dataframe thead th {\n",
       "        text-align: right;\n",
       "    }\n",
       "</style>\n",
       "<table border=\"1\" class=\"dataframe\">\n",
       "  <thead>\n",
       "    <tr style=\"text-align: right;\">\n",
       "      <th></th>\n",
       "      <th>user_id</th>\n",
       "      <th>most_similar</th>\n",
       "      <th>second</th>\n",
       "      <th>third</th>\n",
       "      <th>fourth</th>\n",
       "      <th>fifth</th>\n",
       "      <th>predicted_friends_evolution</th>\n",
       "      <th>num_friends_before</th>\n",
       "      <th>num_friends_after</th>\n",
       "      <th>num_friends_gained</th>\n",
       "      <th>friends_evolution</th>\n",
       "      <th>predicted_friends_gained</th>\n",
       "    </tr>\n",
       "  </thead>\n",
       "  <tbody>\n",
       "    <tr>\n",
       "      <th>10372</th>\n",
       "      <td>461846</td>\n",
       "      <td>1.000000</td>\n",
       "      <td>0.0</td>\n",
       "      <td>0.000000</td>\n",
       "      <td>0.6</td>\n",
       "      <td>-0.272727</td>\n",
       "      <td>0.546041</td>\n",
       "      <td>15</td>\n",
       "      <td>22</td>\n",
       "      <td>7</td>\n",
       "      <td>0.466667</td>\n",
       "      <td>9.0</td>\n",
       "    </tr>\n",
       "    <tr>\n",
       "      <th>9284</th>\n",
       "      <td>315374</td>\n",
       "      <td>0.714286</td>\n",
       "      <td>1.0</td>\n",
       "      <td>0.666667</td>\n",
       "      <td>2.0</td>\n",
       "      <td>1.666667</td>\n",
       "      <td>0.895545</td>\n",
       "      <td>6</td>\n",
       "      <td>7</td>\n",
       "      <td>1</td>\n",
       "      <td>0.166667</td>\n",
       "      <td>6.0</td>\n",
       "    </tr>\n",
       "    <tr>\n",
       "      <th>9277</th>\n",
       "      <td>1098407</td>\n",
       "      <td>2.000000</td>\n",
       "      <td>0.0</td>\n",
       "      <td>0.000000</td>\n",
       "      <td>0.0</td>\n",
       "      <td>-0.888889</td>\n",
       "      <td>1.003584</td>\n",
       "      <td>2</td>\n",
       "      <td>2</td>\n",
       "      <td>0</td>\n",
       "      <td>0.000000</td>\n",
       "      <td>3.0</td>\n",
       "    </tr>\n",
       "  </tbody>\n",
       "</table>\n",
       "</div>"
      ],
      "text/plain": [
       "       user_id  most_similar  second     third  fourth     fifth  \\\n",
       "10372   461846      1.000000     0.0  0.000000     0.6 -0.272727   \n",
       "9284    315374      0.714286     1.0  0.666667     2.0  1.666667   \n",
       "9277   1098407      2.000000     0.0  0.000000     0.0 -0.888889   \n",
       "\n",
       "       predicted_friends_evolution  num_friends_before  num_friends_after  \\\n",
       "10372                     0.546041                  15                 22   \n",
       "9284                      0.895545                   6                  7   \n",
       "9277                      1.003584                   2                  2   \n",
       "\n",
       "       num_friends_gained  friends_evolution  predicted_friends_gained  \n",
       "10372                   7           0.466667                       9.0  \n",
       "9284                    1           0.166667                       6.0  \n",
       "9277                    0           0.000000                       3.0  "
      ]
     },
     "execution_count": 392,
     "metadata": {},
     "output_type": "execute_result"
    }
   ],
   "source": [
    "# Merge dataframes\n",
    "sorted_new = sorted_new.merge(df_friendships_cleaned, on='user_id')\n",
    "\n",
    "# Compute friend gain\n",
    "sorted_new['predicted_friends_gained'] = np.round(sorted_new.predicted_friends_evolution * \\\n",
    "                                                  (1+sorted_new.num_friends_before))\n",
    "\n",
    "# Visualise dataframe\n",
    "sorted_new.sample(3)"
   ]
  },
  {
   "cell_type": "markdown",
   "metadata": {},
   "source": [
    "We plot the histogram of residuals."
   ]
  },
  {
   "cell_type": "code",
   "execution_count": 550,
   "metadata": {
    "scrolled": false
   },
   "outputs": [
    {
     "data": {
      "text/plain": [
       "0.4222503160556258"
      ]
     },
     "execution_count": 550,
     "metadata": {},
     "output_type": "execute_result"
    },
    {
     "data": {
      "image/png": "[encoded data removed]",
      "text/plain": [
       "<Figure size 640x480 with 1 Axes>"
      ]
     },
     "metadata": {},
     "output_type": "display_data"
    }
   ],
   "source": [
    "colors = ['#003f5c', '#003f5c', '#35476f', '#5b4d7e', '#805089', \n",
    "          '#a7518f', '#cb5486', '#e36271', '#f4755a', '#fd8c3e', \n",
    "          '#ffa600', '#fd8c3e', '#f4755a', '#e36271', '#cb5486', \n",
    "          '#a7518f', '#805089', '#5b4d7e', '#35476f', '#003f5c', '#003f5c']\n",
    "\n",
    "residual = sorted_new.predicted_friends_evolution - sorted_new.friends_evolution\n",
    "N, bins, patches = plt.hist(residual, bins=np.linspace(-10.5, 10.5, 22), density=True)\n",
    "\n",
    "for i in range(len(patches)):\n",
    "    patches[i].set_color(colors[i])\n",
    "\n",
    "plt.title('Residual of predicted each user friendship gain \\n(Cosine Similarity)', y=1.05)\n",
    "plt.xlabel(\"Residual\")\n",
    "plt.ylabel(\"Probability\")\n",
    "\n",
    "len(residual[(residual > 1) | (residual < -1)]) / len(residual)"
   ]
  },
  {
   "cell_type": "markdown",
   "metadata": {},
   "source": [
    "---\n",
    "## Part 6: Regression models\n"
   ]
  },
  {
   "cell_type": "code",
   "execution_count": 430,
   "metadata": {},
   "outputs": [],
   "source": [
    "friendship_df['variation'] = (friendship_df.num_friends_after-friendship_df.num_friends_before)/ \\\n",
    "                                friendship_df.num_friends_before"
   ]
  },
  {
   "cell_type": "code",
   "execution_count": 431,
   "metadata": {},
   "outputs": [
    {
     "data": {
      "text/html": [
       "<div>\n",
       "<style scoped>\n",
       "    .dataframe tbody tr th:only-of-type {\n",
       "        vertical-align: middle;\n",
       "    }\n",
       "\n",
       "    .dataframe tbody tr th {\n",
       "        vertical-align: top;\n",
       "    }\n",
       "\n",
       "    .dataframe thead th {\n",
       "        text-align: right;\n",
       "    }\n",
       "</style>\n",
       "<table border=\"1\" class=\"dataframe\">\n",
       "  <thead>\n",
       "    <tr style=\"text-align: right;\">\n",
       "      <th></th>\n",
       "      <th>user_id</th>\n",
       "      <th>num_friends_before</th>\n",
       "      <th>num_friends_after</th>\n",
       "      <th>num_friends_gained</th>\n",
       "      <th>variation</th>\n",
       "    </tr>\n",
       "  </thead>\n",
       "  <tbody>\n",
       "    <tr>\n",
       "      <th>37430</th>\n",
       "      <td>595806</td>\n",
       "      <td>5</td>\n",
       "      <td>4</td>\n",
       "      <td>-1</td>\n",
       "      <td>-0.200000</td>\n",
       "    </tr>\n",
       "    <tr>\n",
       "      <th>61111</th>\n",
       "      <td>1209911</td>\n",
       "      <td>1</td>\n",
       "      <td>3</td>\n",
       "      <td>2</td>\n",
       "      <td>2.000000</td>\n",
       "    </tr>\n",
       "    <tr>\n",
       "      <th>9587</th>\n",
       "      <td>116078</td>\n",
       "      <td>36</td>\n",
       "      <td>42</td>\n",
       "      <td>6</td>\n",
       "      <td>0.166667</td>\n",
       "    </tr>\n",
       "  </tbody>\n",
       "</table>\n",
       "</div>"
      ],
      "text/plain": [
       "       user_id  num_friends_before  num_friends_after  num_friends_gained  \\\n",
       "37430   595806                   5                  4                  -1   \n",
       "61111  1209911                   1                  3                   2   \n",
       "9587    116078                  36                 42                   6   \n",
       "\n",
       "       variation  \n",
       "37430  -0.200000  \n",
       "61111   2.000000  \n",
       "9587    0.166667  "
      ]
     },
     "execution_count": 431,
     "metadata": {},
     "output_type": "execute_result"
    }
   ],
   "source": [
    "friendship_df.sample(3)"
   ]
  },
  {
   "cell_type": "code",
   "execution_count": 432,
   "metadata": {},
   "outputs": [
    {
     "data": {
      "text/html": [
       "<div>\n",
       "<style scoped>\n",
       "    .dataframe tbody tr th:only-of-type {\n",
       "        vertical-align: middle;\n",
       "    }\n",
       "\n",
       "    .dataframe tbody tr th {\n",
       "        vertical-align: top;\n",
       "    }\n",
       "\n",
       "    .dataframe thead th {\n",
       "        text-align: right;\n",
       "    }\n",
       "</style>\n",
       "<table border=\"1\" class=\"dataframe\">\n",
       "  <thead>\n",
       "    <tr style=\"text-align: right;\">\n",
       "      <th></th>\n",
       "      <th>user_id</th>\n",
       "      <th>social_score</th>\n",
       "      <th>travel_score_distance</th>\n",
       "      <th>travel_score_category</th>\n",
       "    </tr>\n",
       "  </thead>\n",
       "  <tbody>\n",
       "    <tr>\n",
       "      <th>45669</th>\n",
       "      <td>886008</td>\n",
       "      <td>0.521205</td>\n",
       "      <td>0.166486</td>\n",
       "      <td>0.278368</td>\n",
       "    </tr>\n",
       "    <tr>\n",
       "      <th>8581</th>\n",
       "      <td>115340</td>\n",
       "      <td>0.597514</td>\n",
       "      <td>0.028520</td>\n",
       "      <td>0.011787</td>\n",
       "    </tr>\n",
       "    <tr>\n",
       "      <th>53714</th>\n",
       "      <td>1108988</td>\n",
       "      <td>0.559653</td>\n",
       "      <td>0.203866</td>\n",
       "      <td>0.086127</td>\n",
       "    </tr>\n",
       "  </tbody>\n",
       "</table>\n",
       "</div>"
      ],
      "text/plain": [
       "       user_id  social_score  travel_score_distance  travel_score_category\n",
       "45669   886008      0.521205               0.166486               0.278368\n",
       "8581    115340      0.597514               0.028520               0.011787\n",
       "53714  1108988      0.559653               0.203866               0.086127"
      ]
     },
     "execution_count": 432,
     "metadata": {},
     "output_type": "execute_result"
    }
   ],
   "source": [
    "user_score_df['social_score'] = (user_score_df.social_score-user_score_df.social_score.min())/ \\\n",
    "                                (user_score_df.social_score.max()-user_score_df.social_score.min())\n",
    "\n",
    "user_score_df['travel_score_distance'] = (user_score_df.travel_score_distance-user_score_df.travel_score_distance.min())/ \\\n",
    "                                       (user_score_df.travel_score_distance.max()-user_score_df.travel_score_distance.min())\n",
    "\n",
    "user_score_df['travel_score_category'] = (user_score_df.travel_score_category-user_score_df.travel_score_category.min())/ \\\n",
    "                                       (user_score_df.travel_score_category.max()-user_score_df.travel_score_category.min())\n",
    "\n",
    "user_score_df.sample(3)"
   ]
  },
  {
   "cell_type": "code",
   "execution_count": 433,
   "metadata": {},
   "outputs": [
    {
     "data": {
      "text/html": [
       "<div>\n",
       "<style scoped>\n",
       "    .dataframe tbody tr th:only-of-type {\n",
       "        vertical-align: middle;\n",
       "    }\n",
       "\n",
       "    .dataframe tbody tr th {\n",
       "        vertical-align: top;\n",
       "    }\n",
       "\n",
       "    .dataframe thead th {\n",
       "        text-align: right;\n",
       "    }\n",
       "</style>\n",
       "<table border=\"1\" class=\"dataframe\">\n",
       "  <thead>\n",
       "    <tr style=\"text-align: right;\">\n",
       "      <th></th>\n",
       "      <th>user_id</th>\n",
       "      <th>num_friends_before</th>\n",
       "      <th>num_friends_after</th>\n",
       "      <th>num_friends_gained</th>\n",
       "      <th>variation</th>\n",
       "      <th>social_score</th>\n",
       "      <th>travel_score_distance</th>\n",
       "      <th>travel_score_category</th>\n",
       "    </tr>\n",
       "  </thead>\n",
       "  <tbody>\n",
       "    <tr>\n",
       "      <th>36459</th>\n",
       "      <td>757926</td>\n",
       "      <td>25</td>\n",
       "      <td>27</td>\n",
       "      <td>2</td>\n",
       "      <td>0.08</td>\n",
       "      <td>0.456737</td>\n",
       "      <td>0.209477</td>\n",
       "      <td>0.216066</td>\n",
       "    </tr>\n",
       "    <tr>\n",
       "      <th>27744</th>\n",
       "      <td>524041</td>\n",
       "      <td>1</td>\n",
       "      <td>13</td>\n",
       "      <td>12</td>\n",
       "      <td>12.00</td>\n",
       "      <td>0.528602</td>\n",
       "      <td>0.083805</td>\n",
       "      <td>0.044059</td>\n",
       "    </tr>\n",
       "    <tr>\n",
       "      <th>30665</th>\n",
       "      <td>594903</td>\n",
       "      <td>1</td>\n",
       "      <td>1</td>\n",
       "      <td>0</td>\n",
       "      <td>0.00</td>\n",
       "      <td>0.371924</td>\n",
       "      <td>0.551647</td>\n",
       "      <td>0.076900</td>\n",
       "    </tr>\n",
       "  </tbody>\n",
       "</table>\n",
       "</div>"
      ],
      "text/plain": [
       "       user_id  num_friends_before  num_friends_after  num_friends_gained  \\\n",
       "36459   757926                  25                 27                   2   \n",
       "27744   524041                   1                 13                  12   \n",
       "30665   594903                   1                  1                   0   \n",
       "\n",
       "       variation  social_score  travel_score_distance  travel_score_category  \n",
       "36459       0.08      0.456737               0.209477               0.216066  \n",
       "27744      12.00      0.528602               0.083805               0.044059  \n",
       "30665       0.00      0.371924               0.551647               0.076900  "
      ]
     },
     "execution_count": 433,
     "metadata": {},
     "output_type": "execute_result"
    }
   ],
   "source": [
    "merged_df = pd.merge(friendship_df, user_score_df, on='user_id')\n",
    "\n",
    "merged_df.sample(3)"
   ]
  },
  {
   "cell_type": "code",
   "execution_count": 440,
   "metadata": {},
   "outputs": [],
   "source": [
    "train_df, test_df = train_test_split(merged_df, train_size=0.8)\n",
    "\n",
    "features = ['social_score','travel_score_distance','travel_score_category']\n",
    "features = ['travel_score_distance','travel_score_category']\n",
    "label = 'variation'\n",
    "\n",
    "X_train = train_df[features]\n",
    "y_train = train_df[label]\n",
    "X_test = test_df[features]\n",
    "y_test = test_df[label]\n",
    "\n",
    "lin_reg = LinearRegression()\n",
    "lin_reg.fit(X_train, y_train)\n",
    "\n",
    "predicted_variation = lin_reg.predict(X_test)\n",
    "\n",
    "model_df = test_df.copy()\n",
    "model_df['predicted_gain'] = (1+predicted_variation)*model_df.num_friends_before\n",
    "model_df['residual'] = model_df.predicted_gain-model_df.num_friends_gained"
   ]
  },
  {
   "cell_type": "code",
   "execution_count": 543,
   "metadata": {},
   "outputs": [
    {
     "data": {
      "image/png": "[encoded data removed]",
      "text/plain": [
       "<Figure size 640x480 with 1 Axes>"
      ]
     },
     "metadata": {},
     "output_type": "display_data"
    }
   ],
   "source": [
    "N, bins, patches = plt.hist(model_df.residual, bins=np.linspace(-10.5, 10.5, 22), density=True)\n",
    "\n",
    "for i in range(len(patches)):\n",
    "    patches[i].set_color(colors[i])\n",
    "    \n",
    "plt.title('Residual of predicted each user friendship gain\\n(Regression Model)', y=1.05)\n",
    "plt.xlabel(\"Residual\")\n",
    "plt.ylabel(\"Probability\")\n"
   ]
  },
  {
   "cell_type": "code",
   "execution_count": 551,
   "metadata": {},
   "outputs": [
    {
     "data": {
      "text/plain": [
       "0.6525208241999123"
      ]
     },
     "execution_count": 551,
     "metadata": {},
     "output_type": "execute_result"
    }
   ],
   "source": [
    "len(model_df.residual[(model_df.residual > 1) | (model_df.residual < -1)]) / len(model_df.residual)"
   ]
  },
  {
   "cell_type": "markdown",
   "metadata": {},
   "source": [
    "---"
   ]
  }
 ],
 "metadata": {
  "kernelspec": {
   "display_name": "Python 3",
   "language": "python",
   "name": "python3"
  },
  "language_info": {
   "codemirror_mode": {
    "name": "ipython",
    "version": 3
   },
   "file_extension": ".py",
   "mimetype": "text/x-python",
   "name": "python",
   "nbconvert_exporter": "python",
   "pygments_lexer": "ipython3",
   "version": "3.9.0"
  },
  "pycharm": {
   "stem_cell": {
    "cell_type": "raw",
    "metadata": {
     "collapsed": false
    },
    "source": []
   }
  }
 },
 "nbformat": 4,
 "nbformat_minor": 4
}
